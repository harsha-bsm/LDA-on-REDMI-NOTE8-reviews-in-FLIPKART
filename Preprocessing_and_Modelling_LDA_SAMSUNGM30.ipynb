{
  "nbformat": 4,
  "nbformat_minor": 0,
  "metadata": {
    "colab": {
      "name": "Preprocessing and Modelling LDA SAMSUNGM30.ipynb",
      "provenance": [],
      "toc_visible": true,
      "authorship_tag": "ABX9TyPOBC7KIJWf/L2IsY8Uy6hU",
      "include_colab_link": true
    },
    "kernelspec": {
      "name": "python3",
      "display_name": "Python 3"
    }
  },
  "cells": [
    {
      "cell_type": "markdown",
      "metadata": {
        "id": "view-in-github",
        "colab_type": "text"
      },
      "source": [
        "<a href=\"https://colab.research.google.com/github/harsha-bsm/Topic-Modelling-using-LDA-and-NMF-on-SamsungM30s-reviewsflipkart/blob/master/Preprocessing_and_Modelling_LDA_SAMSUNGM30.ipynb\" target=\"_parent\"><img src=\"https://colab.research.google.com/assets/colab-badge.svg\" alt=\"Open In Colab\"/></a>"
      ]
    },
    {
      "cell_type": "code",
      "metadata": {
        "id": "SKILHH8iQvAX",
        "colab_type": "code",
        "colab": {}
      },
      "source": [
        "import re\n",
        "import numpy as np\n",
        "import pandas as pd"
      ],
      "execution_count": 1,
      "outputs": []
    },
    {
      "cell_type": "code",
      "metadata": {
        "id": "JKxaHbb_RD91",
        "colab_type": "code",
        "colab": {}
      },
      "source": [
        "data=pd.read_csv(\"samsungdata.csv\")\n",
        "dataoriginal=pd.read_csv(\"samsungdata.csv\")"
      ],
      "execution_count": 136,
      "outputs": []
    },
    {
      "cell_type": "code",
      "metadata": {
        "id": "ekk77JUsRIHZ",
        "colab_type": "code",
        "colab": {
          "base_uri": "https://localhost:8080/",
          "height": 288
        },
        "outputId": "513e565e-601e-43c6-e703-f783340e172f"
      },
      "source": [
        "data.head()"
      ],
      "execution_count": 137,
      "outputs": [
        {
          "output_type": "execute_result",
          "data": {
            "text/html": [
              "<div>\n",
              "<style scoped>\n",
              "    .dataframe tbody tr th:only-of-type {\n",
              "        vertical-align: middle;\n",
              "    }\n",
              "\n",
              "    .dataframe tbody tr th {\n",
              "        vertical-align: top;\n",
              "    }\n",
              "\n",
              "    .dataframe thead th {\n",
              "        text-align: right;\n",
              "    }\n",
              "</style>\n",
              "<table border=\"1\" class=\"dataframe\">\n",
              "  <thead>\n",
              "    <tr style=\"text-align: right;\">\n",
              "      <th></th>\n",
              "      <th>Unnamed: 0</th>\n",
              "      <th>Model</th>\n",
              "      <th>rating</th>\n",
              "      <th>user</th>\n",
              "      <th>time_of_review</th>\n",
              "      <th>review</th>\n",
              "      <th>title</th>\n",
              "      <th>user_address</th>\n",
              "      <th>user_type</th>\n",
              "    </tr>\n",
              "  </thead>\n",
              "  <tbody>\n",
              "    <tr>\n",
              "      <th>0</th>\n",
              "      <td>0</td>\n",
              "      <td>Samsung Galaxy M30s Blue 128 Gb Reviews: Lates...</td>\n",
              "      <td>5</td>\n",
              "      <td>Aryan  Patil</td>\n",
              "      <td>2months ago</td>\n",
              "      <td>Bokeh mode is very excellent than any other ha...</td>\n",
              "      <td>Wonderful</td>\n",
              "      <td>Latur District</td>\n",
              "      <td>Certified Buyer</td>\n",
              "    </tr>\n",
              "    <tr>\n",
              "      <th>1</th>\n",
              "      <td>1</td>\n",
              "      <td>Samsung Galaxy M30s Blue 128 Gb Reviews: Lates...</td>\n",
              "      <td>5</td>\n",
              "      <td>Flipkart Customer</td>\n",
              "      <td>5months ago</td>\n",
              "      <td>Just awsome product the picture quality is goo...</td>\n",
              "      <td>Great product</td>\n",
              "      <td>North Twenty Four Parganas District</td>\n",
              "      <td>Certified Buyer</td>\n",
              "    </tr>\n",
              "    <tr>\n",
              "      <th>2</th>\n",
              "      <td>2</td>\n",
              "      <td>Samsung Galaxy M30s Blue 128 Gb Reviews: Lates...</td>\n",
              "      <td>4</td>\n",
              "      <td>Suresh Kumar</td>\n",
              "      <td>5months ago</td>\n",
              "      <td>Samsung galaxy m30s is most useful.But Samsung...</td>\n",
              "      <td>Nice product</td>\n",
              "      <td>New Delhi</td>\n",
              "      <td>Certified Buyer</td>\n",
              "    </tr>\n",
              "    <tr>\n",
              "      <th>3</th>\n",
              "      <td>3</td>\n",
              "      <td>Samsung Galaxy M30s Blue 128 Gb Reviews: Lates...</td>\n",
              "      <td>1</td>\n",
              "      <td>Rohit Purba</td>\n",
              "      <td>6months ago</td>\n",
              "      <td>Not worth for me. i buy for my samsung tv this...</td>\n",
              "      <td>Utterly Disappointed</td>\n",
              "      <td>Rajpura</td>\n",
              "      <td>Certified Buyer</td>\n",
              "    </tr>\n",
              "    <tr>\n",
              "      <th>4</th>\n",
              "      <td>4</td>\n",
              "      <td>Samsung Galaxy M30s Blue 128 Gb Reviews: Lates...</td>\n",
              "      <td>5</td>\n",
              "      <td>Flipkart Customer</td>\n",
              "      <td>5months ago</td>\n",
              "      <td>BSOLUTELY BEST PHONE, GO FOR THIS PHONELET ME ...</td>\n",
              "      <td>Highly recommended</td>\n",
              "      <td>Muzaffarpur</td>\n",
              "      <td>Certified Buyer</td>\n",
              "    </tr>\n",
              "  </tbody>\n",
              "</table>\n",
              "</div>"
            ],
            "text/plain": [
              "   Unnamed: 0  ...        user_type\n",
              "0           0  ...  Certified Buyer\n",
              "1           1  ...  Certified Buyer\n",
              "2           2  ...  Certified Buyer\n",
              "3           3  ...  Certified Buyer\n",
              "4           4  ...  Certified Buyer\n",
              "\n",
              "[5 rows x 9 columns]"
            ]
          },
          "metadata": {
            "tags": []
          },
          "execution_count": 137
        }
      ]
    },
    {
      "cell_type": "code",
      "metadata": {
        "id": "sG6MbHUhwYKB",
        "colab_type": "code",
        "colab": {
          "base_uri": "https://localhost:8080/",
          "height": 33
        },
        "outputId": "01f6ad03-68e4-4ddb-af4a-ae08a451a5ea"
      },
      "source": [
        "pip install emot "
      ],
      "execution_count": 138,
      "outputs": [
        {
          "output_type": "stream",
          "text": [
            "Requirement already satisfied: emot in /usr/local/lib/python3.6/dist-packages (2.1)\n"
          ],
          "name": "stdout"
        }
      ]
    },
    {
      "cell_type": "code",
      "metadata": {
        "id": "Tmly-l1OeLL-",
        "colab_type": "code",
        "colab": {}
      },
      "source": [
        "####### Apply emoticons and emojis\n",
        "\n",
        "from emot.emo_unicode import UNICODE_EMO, EMOTICONS # contains english text of emojis and emoticons in dict format \n",
        "def convert_emojis(review):\n",
        "  for x in review:\n",
        "    if x in UNICODE_EMO.keys():\n",
        "      review=review.replace(x,\"\")\n",
        "  return review"
      ],
      "execution_count": 139,
      "outputs": []
    },
    {
      "cell_type": "code",
      "metadata": {
        "id": "Wo1mbD4XSbID",
        "colab_type": "code",
        "colab": {}
      },
      "source": [
        "#converting all basic contracted foms  \n",
        "def decontracted(phrase):\n",
        "    # specific\n",
        "    phrase = re.sub(r\"won't\", \"will not\", phrase)\n",
        "    phrase = re.sub(r\"can\\'t\", \"can not\", phrase)\n",
        "\n",
        "    # general\n",
        "    phrase = re.sub(r\"n\\'t\", \" not\", phrase)\n",
        "    phrase = re.sub(r\"\\'re\", \" are\", phrase)\n",
        "    phrase = re.sub(r\"\\'s\", \" is\", phrase)\n",
        "    phrase = re.sub(r\"\\'d\", \" would\", phrase)\n",
        "    phrase = re.sub(r\"\\'ll\", \" will\", phrase)\n",
        "    phrase = re.sub(r\"\\'t\", \" not\", phrase)\n",
        "    phrase = re.sub(r\"\\'ve\", \" have\", phrase)\n",
        "    phrase = re.sub(r\"\\'m\", \" am\", phrase)\n",
        "    return phrase"
      ],
      "execution_count": 140,
      "outputs": []
    },
    {
      "cell_type": "code",
      "metadata": {
        "id": "9h47xg15Y5cQ",
        "colab_type": "code",
        "colab": {}
      },
      "source": [
        "#removing special characters and tabs ,spaces,new lines etc..\n",
        "def removecharacters(review):\n",
        "  review= re.sub('[^A-Za-z0-9]+',' ',review)  #anything exept numbers and alphabets, replace them with space\n",
        "  review=re.sub(r\"\\n\",\" \",review)  #new lines into space\n",
        "  review=re.sub(r\"\\t\",\" \",review)  #tabs into space\n",
        "  review=re.sub(r\"\\v\",\" \",review)  #vertical tab into space\n",
        "  review=re.sub(r\"\\s\",\" \",review)   #all extra spaces into single space\n",
        "  return review  \n"
      ],
      "execution_count": 141,
      "outputs": []
    },
    {
      "cell_type": "code",
      "metadata": {
        "id": "KqOCmax8PTwB",
        "colab_type": "code",
        "colab": {}
      },
      "source": [
        "# https://gist.github.com/sebleier/554280\n",
        "# we are removing the words from the stop words list: 'no', 'nor', 'not'\n",
        "# <br /><br /> ==> after the above steps, we are getting \"br br\"\n",
        "# we are including them into stop words list\n",
        "# instead of <br /> if we have <br/> these tags would have revmoved in the 1st step\n",
        "# ignore words like won't, haven't etc.. We have already taken care of them\n",
        "\n",
        "stopword= set(['br', 'the', 'i', 'me', 'my', 'myself', 'we', 'our', 'ours', 'ourselves', 'you', \"you're\", \"you've\",\\\n",
        "            \"you'll\", \"you'd\", 'your', 'yours', 'yourself', 'yourselves', 'he', 'him', 'his', 'himself', \\\n",
        "            'she', \"she's\", 'her', 'hers', 'herself', 'it', \"it's\", 'its', 'itself', 'they', 'them', 'their',\\\n",
        "            'theirs', 'themselves', 'what', 'which', 'who', 'whom', 'this', 'that', \"that'll\", 'these', 'those', \\\n",
        "            'am', 'is', 'are', 'was', 'were', 'be', 'been', 'being', 'have', 'has', 'had', 'having', 'do', 'does', \\\n",
        "            'did', 'doing', 'a', 'an', 'the', 'and', 'but', 'if', 'or', 'because', 'as', 'until', 'while', 'of', \\\n",
        "            'at', 'by', 'for', 'with', 'about', 'against', 'between', 'into', 'through', 'during', 'before', 'after',\\\n",
        "            'above', 'below', 'to', 'from', 'up', 'down', 'in', 'out', 'on', 'off', 'over', 'under', 'again', 'further',\\\n",
        "            'then', 'once', 'here', 'there', 'when', 'where', 'why', 'how', 'all', 'any', 'both', 'each', 'few', 'more',\\\n",
        "            'most', 'other', 'some', 'such', 'only', 'own', 'same', 'so', 'than', 'too', 'very', \\\n",
        "            's', 't', 'can', 'will', 'just', 'don', \"don't\", 'should', \"should've\", 'now', 'd', 'll', 'm', 'o', 're', \\\n",
        "            've', 'y', 'ain', 'aren', \"aren't\", 'couldn', \"couldn't\", 'didn', \"didn't\", 'doesn', \"doesn't\", 'hadn',\\\n",
        "            \"hadn't\", 'hasn', \"hasn't\", 'haven', \"haven't\", 'isn', \"isn't\", 'ma', 'mightn', \"mightn't\", 'mustn',\\\n",
        "            \"mustn't\", 'needn', \"needn't\", 'shan', \"shan't\", 'shouldn', \"shouldn't\", 'wasn', \"wasn't\", 'weren', \"weren't\", \\\n",
        "            'won', \"won't\", 'wouldn', \"wouldn't\",\"not\",\"phone\",\"product\",\"mobile\",\"np\"])"
      ],
      "execution_count": 142,
      "outputs": []
    },
    {
      "cell_type": "code",
      "metadata": {
        "id": "dvdqs46FPVHt",
        "colab_type": "code",
        "colab": {}
      },
      "source": [
        "from nltk.corpus import stopwords\n",
        "import nltk"
      ],
      "execution_count": 143,
      "outputs": []
    },
    {
      "cell_type": "code",
      "metadata": {
        "id": "Eq00AK2cbPEL",
        "colab_type": "code",
        "colab": {}
      },
      "source": [
        ""
      ],
      "execution_count": 143,
      "outputs": []
    },
    {
      "cell_type": "code",
      "metadata": {
        "id": "bKJvsyw6biTI",
        "colab_type": "code",
        "colab": {}
      },
      "source": [
        "def removestopwords(review):\n",
        "  return \" \".join([word for word in review.split(\" \") if not word in stopword])\n"
      ],
      "execution_count": 144,
      "outputs": []
    },
    {
      "cell_type": "code",
      "metadata": {
        "id": "TPvMpNFqyyQ3",
        "colab_type": "code",
        "colab": {}
      },
      "source": [
        "data[\"review\"]=data[\"review\"].apply(lambda x:convert_emojis(x))\n",
        "data[\"review\"]=data[\"review\"].apply(lambda x:x.lower()) \n",
        "data[\"review\"]=data[\"review\"].apply(lambda x:decontracted(x))\n",
        "data[\"review\"]=data[\"review\"].apply(lambda x:removecharacters(x))\n",
        "data[\"review\"]=pd.DataFrame(data[\"review\"].apply(lambda x:removestopwords(x)))"
      ],
      "execution_count": 145,
      "outputs": []
    },
    {
      "cell_type": "code",
      "metadata": {
        "id": "nauyKC-nZur6",
        "colab_type": "code",
        "colab": {
          "base_uri": "https://localhost:8080/",
          "height": 212
        },
        "outputId": "b7e7e912-13de-454d-e494-44237094b09f"
      },
      "source": [
        "data[\"review\"]"
      ],
      "execution_count": 146,
      "outputs": [
        {
          "output_type": "execute_result",
          "data": {
            "text/plain": [
              "0      bokeh mode excellent handset budget battery ca...\n",
              "1      awsome picture quality good battery backup aws...\n",
              "2      samsung galaxy m30s useful samsung improve sel...\n",
              "3      worth buy samsung tv live cast smartthins app ...\n",
              "4      bsolutely best go phonelet clear features1 cam...\n",
              "                             ...                        \n",
              "293                                                 okay\n",
              "294                           super style good look nice\n",
              "295                                                 good\n",
              "296                                                 good\n",
              "297                                                 good\n",
              "Name: review, Length: 298, dtype: object"
            ]
          },
          "metadata": {
            "tags": []
          },
          "execution_count": 146
        }
      ]
    },
    {
      "cell_type": "code",
      "metadata": {
        "id": "0rfMa8w3VjJ_",
        "colab_type": "code",
        "colab": {}
      },
      "source": [
        "data[\"review\"].to_csv(\"samsung_preprocessed.csv\")"
      ],
      "execution_count": 147,
      "outputs": []
    },
    {
      "cell_type": "code",
      "metadata": {
        "id": "1bhn9-ETgvLb",
        "colab_type": "code",
        "colab": {}
      },
      "source": [
        "from sklearn.feature_extraction.text import TfidfTransformer\n",
        "from sklearn.feature_extraction.text import TfidfVectorizer\n",
        "from sklearn.feature_extraction.text import CountVectorizer\n",
        "from gensim.models import ldamodel\n",
        "import gensim.corpora\n",
        "from sklearn.decomposition import LatentDirichletAllocation"
      ],
      "execution_count": 148,
      "outputs": []
    },
    {
      "cell_type": "code",
      "metadata": {
        "id": "kd3CmQ9Ng0lG",
        "colab_type": "code",
        "colab": {}
      },
      "source": [
        "#https://scikit-learn.org/stable/auto_examples/applications/plot_topics_extraction_with_nmf_lda.html#sphx-glr-auto-examples-applications-plot-topics-extraction-with-nmf-lda-py\n",
        "def print_top_words(model, feature_names, n_top_words):\n",
        "  topics_cluster=[]\n",
        "  for topic_idx, topic in enumerate(model.components_):\n",
        "      message = \"Topic #%d: \" % topic_idx\n",
        "      message += \",\".join([feature_names[i] for i in topic.argsort()[:-n_top_words - 1:-1]])\n",
        "      topics_cluster.append([feature_names[i] for i in topic.argsort()[:-n_top_words - 1:-1]])\n",
        "  return topics_cluster\n",
        "  "
      ],
      "execution_count": 149,
      "outputs": []
    },
    {
      "cell_type": "markdown",
      "metadata": {
        "id": "MC42q3qFC20J",
        "colab_type": "text"
      },
      "source": [
        "### BOW and LDA "
      ]
    },
    {
      "cell_type": "code",
      "metadata": {
        "id": "vafbxMu-OY_n",
        "colab_type": "code",
        "colab": {}
      },
      "source": [
        "bow=CountVectorizer(ngram_range=(1,2))\n",
        "bow_review=bow.fit_transform(data[\"review\"])\n",
        "df_bow=pd.DataFrame(bow_review.toarray(),columns=bow.get_feature_names())\n",
        "lda = LatentDirichletAllocation(n_components=4,random_state=0)\n",
        "lda.fit_transform(df_bow)\n",
        "topics=print_top_words(lda,bow.get_feature_names(),5)"
      ],
      "execution_count": 153,
      "outputs": []
    },
    {
      "cell_type": "code",
      "metadata": {
        "id": "D40w2qGb5roz",
        "colab_type": "code",
        "colab": {
          "base_uri": "https://localhost:8080/",
          "height": 131
        },
        "outputId": "dd0df55e-700d-4013-fa47-fd4c81d153c2"
      },
      "source": [
        "lda.fit_transform(df_bow)"
      ],
      "execution_count": 154,
      "outputs": [
        {
          "output_type": "execute_result",
          "data": {
            "text/plain": [
              "array([[0.00484783, 0.9853934 , 0.00488656, 0.00487221],\n",
              "       [0.00665282, 0.98002853, 0.00663327, 0.00668537],\n",
              "       [0.00554561, 0.00562724, 0.00556941, 0.98325775],\n",
              "       ...,\n",
              "       [0.12634234, 0.12995352, 0.12660252, 0.61710162],\n",
              "       [0.12634234, 0.12995352, 0.12660252, 0.61710162],\n",
              "       [0.12634234, 0.12995352, 0.12660252, 0.61710162]])"
            ]
          },
          "metadata": {
            "tags": []
          },
          "execution_count": 154
        }
      ]
    },
    {
      "cell_type": "code",
      "metadata": {
        "id": "mzOztcR7_Wbw",
        "colab_type": "code",
        "colab": {
          "base_uri": "https://localhost:8080/",
          "height": 391
        },
        "outputId": "6044cc1d-9e19-4c13-dcf5-2ee7fe15a61d"
      },
      "source": [
        "topic=[\"topic_\"+str(i) for i  in range(0,lda.n_components)]\n",
        "df_doc_topic=pd.DataFrame(lda.fit_transform(df_bow),columns=topic)\n",
        "dominant_topic = np.argmax(df_doc_topic.values, axis=1)\n",
        "df_doc_topic[\"dominant_topic\"] = dominant_topic\n",
        "df_doc_topic[\"review\"]=dataoriginal[\"review\"]\n",
        "df_doc_topic[\"dominant_topic_keywords\"]=[topics[i]  for i in dominant_topic]\n",
        "df_doc_topic"
      ],
      "execution_count": 155,
      "outputs": [
        {
          "output_type": "execute_result",
          "data": {
            "text/html": [
              "<div>\n",
              "<style scoped>\n",
              "    .dataframe tbody tr th:only-of-type {\n",
              "        vertical-align: middle;\n",
              "    }\n",
              "\n",
              "    .dataframe tbody tr th {\n",
              "        vertical-align: top;\n",
              "    }\n",
              "\n",
              "    .dataframe thead th {\n",
              "        text-align: right;\n",
              "    }\n",
              "</style>\n",
              "<table border=\"1\" class=\"dataframe\">\n",
              "  <thead>\n",
              "    <tr style=\"text-align: right;\">\n",
              "      <th></th>\n",
              "      <th>topic_0</th>\n",
              "      <th>topic_1</th>\n",
              "      <th>topic_2</th>\n",
              "      <th>topic_3</th>\n",
              "      <th>dominant_topic</th>\n",
              "      <th>review</th>\n",
              "      <th>dominant_topic_keywords</th>\n",
              "    </tr>\n",
              "  </thead>\n",
              "  <tbody>\n",
              "    <tr>\n",
              "      <th>0</th>\n",
              "      <td>0.004848</td>\n",
              "      <td>0.985393</td>\n",
              "      <td>0.004887</td>\n",
              "      <td>0.004872</td>\n",
              "      <td>1</td>\n",
              "      <td>Bokeh mode is very excellent than any other ha...</td>\n",
              "      <td>[good, battery, nice, camera, super]</td>\n",
              "    </tr>\n",
              "    <tr>\n",
              "      <th>1</th>\n",
              "      <td>0.006653</td>\n",
              "      <td>0.980029</td>\n",
              "      <td>0.006633</td>\n",
              "      <td>0.006685</td>\n",
              "      <td>1</td>\n",
              "      <td>Just awsome product the picture quality is goo...</td>\n",
              "      <td>[good, battery, nice, camera, super]</td>\n",
              "    </tr>\n",
              "    <tr>\n",
              "      <th>2</th>\n",
              "      <td>0.005546</td>\n",
              "      <td>0.005627</td>\n",
              "      <td>0.005569</td>\n",
              "      <td>0.983258</td>\n",
              "      <td>3</td>\n",
              "      <td>Samsung galaxy m30s is most useful.But Samsung...</td>\n",
              "      <td>[good, nice, camera, samsung, superb]</td>\n",
              "    </tr>\n",
              "    <tr>\n",
              "      <th>3</th>\n",
              "      <td>0.003935</td>\n",
              "      <td>0.003962</td>\n",
              "      <td>0.003962</td>\n",
              "      <td>0.988141</td>\n",
              "      <td>3</td>\n",
              "      <td>Not worth for me. i buy for my samsung tv this...</td>\n",
              "      <td>[good, nice, camera, samsung, superb]</td>\n",
              "    </tr>\n",
              "    <tr>\n",
              "      <th>4</th>\n",
              "      <td>0.005984</td>\n",
              "      <td>0.005866</td>\n",
              "      <td>0.005780</td>\n",
              "      <td>0.982370</td>\n",
              "      <td>3</td>\n",
              "      <td>BSOLUTELY BEST PHONE, GO FOR THIS PHONELET ME ...</td>\n",
              "      <td>[good, nice, camera, samsung, superb]</td>\n",
              "    </tr>\n",
              "    <tr>\n",
              "      <th>...</th>\n",
              "      <td>...</td>\n",
              "      <td>...</td>\n",
              "      <td>...</td>\n",
              "      <td>...</td>\n",
              "      <td>...</td>\n",
              "      <td>...</td>\n",
              "      <td>...</td>\n",
              "    </tr>\n",
              "    <tr>\n",
              "      <th>293</th>\n",
              "      <td>0.125072</td>\n",
              "      <td>0.125068</td>\n",
              "      <td>0.624801</td>\n",
              "      <td>0.125059</td>\n",
              "      <td>2</td>\n",
              "      <td>okay</td>\n",
              "      <td>[best, good, camera, range, battery]</td>\n",
              "    </tr>\n",
              "    <tr>\n",
              "      <th>294</th>\n",
              "      <td>0.025247</td>\n",
              "      <td>0.923319</td>\n",
              "      <td>0.025080</td>\n",
              "      <td>0.026353</td>\n",
              "      <td>1</td>\n",
              "      <td>Super style and good look nice product</td>\n",
              "      <td>[good, battery, nice, camera, super]</td>\n",
              "    </tr>\n",
              "    <tr>\n",
              "      <th>295</th>\n",
              "      <td>0.126342</td>\n",
              "      <td>0.129954</td>\n",
              "      <td>0.126603</td>\n",
              "      <td>0.617102</td>\n",
              "      <td>3</td>\n",
              "      <td>good</td>\n",
              "      <td>[good, nice, camera, samsung, superb]</td>\n",
              "    </tr>\n",
              "    <tr>\n",
              "      <th>296</th>\n",
              "      <td>0.126342</td>\n",
              "      <td>0.129954</td>\n",
              "      <td>0.126603</td>\n",
              "      <td>0.617102</td>\n",
              "      <td>3</td>\n",
              "      <td>good</td>\n",
              "      <td>[good, nice, camera, samsung, superb]</td>\n",
              "    </tr>\n",
              "    <tr>\n",
              "      <th>297</th>\n",
              "      <td>0.126342</td>\n",
              "      <td>0.129954</td>\n",
              "      <td>0.126603</td>\n",
              "      <td>0.617102</td>\n",
              "      <td>3</td>\n",
              "      <td>Good Product</td>\n",
              "      <td>[good, nice, camera, samsung, superb]</td>\n",
              "    </tr>\n",
              "  </tbody>\n",
              "</table>\n",
              "<p>298 rows × 7 columns</p>\n",
              "</div>"
            ],
            "text/plain": [
              "      topic_0  ...                dominant_topic_keywords\n",
              "0    0.004848  ...   [good, battery, nice, camera, super]\n",
              "1    0.006653  ...   [good, battery, nice, camera, super]\n",
              "2    0.005546  ...  [good, nice, camera, samsung, superb]\n",
              "3    0.003935  ...  [good, nice, camera, samsung, superb]\n",
              "4    0.005984  ...  [good, nice, camera, samsung, superb]\n",
              "..        ...  ...                                    ...\n",
              "293  0.125072  ...   [best, good, camera, range, battery]\n",
              "294  0.025247  ...   [good, battery, nice, camera, super]\n",
              "295  0.126342  ...  [good, nice, camera, samsung, superb]\n",
              "296  0.126342  ...  [good, nice, camera, samsung, superb]\n",
              "297  0.126342  ...  [good, nice, camera, samsung, superb]\n",
              "\n",
              "[298 rows x 7 columns]"
            ]
          },
          "metadata": {
            "tags": []
          },
          "execution_count": 155
        }
      ]
    },
    {
      "cell_type": "code",
      "metadata": {
        "id": "hPhAZdxYJLaM",
        "colab_type": "code",
        "colab": {}
      },
      "source": [
        ""
      ],
      "execution_count": 19,
      "outputs": []
    },
    {
      "cell_type": "markdown",
      "metadata": {
        "id": "r2NFr5TOIBos",
        "colab_type": "text"
      },
      "source": [
        "#### LDA on topics obtained"
      ]
    },
    {
      "cell_type": "code",
      "metadata": {
        "id": "JYE7_ILB4NSz",
        "colab_type": "code",
        "colab": {
          "base_uri": "https://localhost:8080/",
          "height": 82
        },
        "outputId": "87c3e4f6-c3a5-40c5-edc9-bb63e44c6f89"
      },
      "source": [
        "arr=np.array(print_top_words(lda,bow.get_feature_names(),5)).reshape(1,-1)[0]\n",
        "bow=CountVectorizer(ngram_range=(1,2))\n",
        "bow_review=bow.fit_transform(arr)\n",
        "df_bow=pd.DataFrame(bow_review.toarray(),columns=bow.get_feature_names())\n",
        "lda = LatentDirichletAllocation(n_components=4,random_state=0)\n",
        "lda.fit_transform(df_bow)\n",
        "print_top_words(lda,bow.get_feature_names(),4)\n"
      ],
      "execution_count": 20,
      "outputs": [
        {
          "output_type": "execute_result",
          "data": {
            "text/plain": [
              "[['buy', 'online', 'performance', 'buy online'],\n",
              " ['good', 'best', 'nice', 'xcellent'],\n",
              " ['battery', 'camera', 'samsung', 'wesome'],\n",
              " ['thanks', 'price', 'hangs', 'awsome']]"
            ]
          },
          "metadata": {
            "tags": []
          },
          "execution_count": 20
        }
      ]
    },
    {
      "cell_type": "markdown",
      "metadata": {
        "id": "JiEX5nqf0HW3",
        "colab_type": "text"
      },
      "source": [
        "### TFIDF AND LDA"
      ]
    },
    {
      "cell_type": "code",
      "metadata": {
        "id": "kkhT7HKLhj_X",
        "colab_type": "code",
        "colab": {
          "base_uri": "https://localhost:8080/",
          "height": 1000
        },
        "outputId": "478e4cda-da24-4b21-e4f8-1f988c5f216d"
      },
      "source": [
        "tfidf=TfidfVectorizer(ngram_range=(1,2))\n",
        "tfidf_words=tfidf.fit_transform(data[\"review\"])\n",
        "words=tfidf.get_feature_names()\n",
        "df_bow=pd.DataFrame(tfidf_words.toarray(),columns=words)\n",
        "lda = LatentDirichletAllocation(n_components=10,random_state=0)\n",
        "lda.fit_transform(tfidf_words)\n",
        "print_top_words(lda,words,8)"
      ],
      "execution_count": 21,
      "outputs": [
        {
          "output_type": "execute_result",
          "data": {
            "text/plain": [
              "[['money',\n",
              "  'value money',\n",
              "  'value',\n",
              "  'okay',\n",
              "  'super nice',\n",
              "  'flipkart',\n",
              "  'wesome value',\n",
              "  'things good'],\n",
              " ['good',\n",
              "  'nice',\n",
              "  'superb',\n",
              "  'battery',\n",
              "  'battery backup',\n",
              "  'camera',\n",
              "  'backup',\n",
              "  'backup good'],\n",
              " ['xcellent',\n",
              "  'awsm',\n",
              "  'waysome',\n",
              "  'utstanding',\n",
              "  'nice awsm',\n",
              "  'easy',\n",
              "  'smooth easy',\n",
              "  'battery'],\n",
              " ['loved',\n",
              "  'rattan',\n",
              "  'worth money',\n",
              "  'worth',\n",
              "  'money',\n",
              "  'camera battery',\n",
              "  'good one',\n",
              "  'nice cell'],\n",
              " ['love',\n",
              "  'thanks',\n",
              "  'nice',\n",
              "  'display',\n",
              "  'excellent',\n",
              "  'super',\n",
              "  'xcellent',\n",
              "  'flipkart'],\n",
              " ['wesome', 'bad', 'comments', 'camara', 'poor', 'use', 'expected', 'thank'],\n",
              " ['super',\n",
              "  'smartphone',\n",
              "  'superrrrbbbbb',\n",
              "  'sm',\n",
              "  'buy',\n",
              "  'flipkart',\n",
              "  'nice products',\n",
              "  'xcellent smartphone'],\n",
              " ['ok', 'price', 'suprrrrrrrrr', 'wsm', 'best', 'set', 'like', 'good price'],\n",
              " ['camera',\n",
              "  'fantastic',\n",
              "  'goods',\n",
              "  'fresh',\n",
              "  'ear',\n",
              "  'good',\n",
              "  'wesome',\n",
              "  'super camera'],\n",
              " ['best',\n",
              "  'awesome',\n",
              "  'good',\n",
              "  'samsung',\n",
              "  'good samsung',\n",
              "  'great',\n",
              "  'worst',\n",
              "  'normal']]"
            ]
          },
          "metadata": {
            "tags": []
          },
          "execution_count": 21
        }
      ]
    },
    {
      "cell_type": "markdown",
      "metadata": {
        "id": "ZvMDlD8_H4S_",
        "colab_type": "text"
      },
      "source": [
        "##### LDA on topics obtained "
      ]
    },
    {
      "cell_type": "code",
      "metadata": {
        "id": "wBKhgISNxoCh",
        "colab_type": "code",
        "colab": {
          "base_uri": "https://localhost:8080/",
          "height": 82
        },
        "outputId": "9fa3cc45-8a2d-42f6-ed69-e9a477bb8001"
      },
      "source": [
        "arr=np.array(print_top_words(lda,words,5)).reshape(1,-1)[0]\n",
        "tfidf=TfidfVectorizer(ngram_range=(1,1))\n",
        "tfidf_words=tfidf.fit_transform(arr)\n",
        "words=tfidf.get_feature_names()\n",
        "df_tfidf=pd.DataFrame(tfidf_words.toarray(),columns=words)\n",
        "lda = LatentDirichletAllocation(n_components=4,random_state=0)\n",
        "lda.fit_transform(df_tfidf)\n",
        "print_top_words(lda,words,4)\n"
      ],
      "execution_count": 22,
      "outputs": [
        {
          "output_type": "execute_result",
          "data": {
            "text/plain": [
              "[['nice', 'love', 'buy', 'camera'],\n",
              " ['money', 'best', 'value', 'rattan'],\n",
              " ['good', 'super', 'samsung', 'nice'],\n",
              " ['worth', 'awsm', 'excellent', 'superrrrbbbbb']]"
            ]
          },
          "metadata": {
            "tags": []
          },
          "execution_count": 22
        }
      ]
    },
    {
      "cell_type": "markdown",
      "metadata": {
        "id": "x_KYRl-oFxDO",
        "colab_type": "text"
      },
      "source": [
        "### NMF - TFIDF"
      ]
    },
    {
      "cell_type": "code",
      "metadata": {
        "id": "NPuBcCqNx82w",
        "colab_type": "code",
        "colab": {}
      },
      "source": [
        "from sklearn.decomposition import NMF, LatentDirichletAllocation"
      ],
      "execution_count": 23,
      "outputs": []
    },
    {
      "cell_type": "code",
      "metadata": {
        "id": "c2FCLKMZF_Le",
        "colab_type": "code",
        "colab": {}
      },
      "source": [
        "tfidf=TfidfVectorizer(ngram_range=(1,1))\n",
        "tfidf_words=tfidf.fit_transform(data[\"review\"])\n",
        "words=tfidf.get_feature_names()\n",
        "df_lda=pd.DataFrame(tfidf_words.toarray(),columns=words)\n"
      ],
      "execution_count": 24,
      "outputs": []
    },
    {
      "cell_type": "code",
      "metadata": {
        "id": "k_jjxrIQD-z_",
        "colab_type": "code",
        "colab": {
          "base_uri": "https://localhost:8080/",
          "height": 180
        },
        "outputId": "67bfce25-a390-45c1-e38d-3b7e0a194866"
      },
      "source": [
        "nmf = NMF(n_components=10, random_state=1,\n",
        "          beta_loss='kullback-leibler', solver='mu', max_iter=1000, alpha=.1,\n",
        "          l1_ratio=.5).fit(tfidf_words)\n",
        "\n",
        "print_top_words(nmf,words,6)"
      ],
      "execution_count": 25,
      "outputs": [
        {
          "output_type": "execute_result",
          "data": {
            "text/plain": [
              "[['good', 'one', 'normal', 'choic', 'isplay', 'choice'],\n",
              " ['nice', 'awsm', 'phones', 'samsang', 'cell', 'osm'],\n",
              " ['super', 'quality', 'camera', 'also', 'performance', 'love'],\n",
              " ['wesome', 'outstanding', 'perfomance', 'loving', 'slow', 'gaming'],\n",
              " ['best', 'samsung', 'price', 'loved', 'range', 'buy'],\n",
              " ['battery', 'camera', 'display', 'backup', 'poor', 'back'],\n",
              " ['superb', 'expected', 'great', 'got', 'galaxy', 'tq'],\n",
              " ['xcellent', 'flipkart', 'smartphone', 'love', 'excellent', 'thanks'],\n",
              " ['money', 'awesome', 'value', 'much', 'worth', 'delivery'],\n",
              " ['bad', 'ok', 'thank', 'worst', 'working', 'hangs']]"
            ]
          },
          "metadata": {
            "tags": []
          },
          "execution_count": 25
        }
      ]
    },
    {
      "cell_type": "markdown",
      "metadata": {
        "id": "sqYiKWUbIe6y",
        "colab_type": "text"
      },
      "source": [
        "#### NMF on topics obtained"
      ]
    },
    {
      "cell_type": "code",
      "metadata": {
        "id": "Q6W3YWG_HF_W",
        "colab_type": "code",
        "colab": {}
      },
      "source": [
        "arr=np.array(print_top_words(nmf,words,5)).reshape(1,-1)[0]"
      ],
      "execution_count": 26,
      "outputs": []
    },
    {
      "cell_type": "code",
      "metadata": {
        "id": "VNjKgVluG5p4",
        "colab_type": "code",
        "colab": {
          "base_uri": "https://localhost:8080/",
          "height": 98
        },
        "outputId": "ede93450-bd03-4bfc-f765-7c69ac047f5d"
      },
      "source": [
        "tfidf=TfidfVectorizer(ngram_range=(1,2))\n",
        "tfidf_words=tfidf.fit_transform(arr)\n",
        "words=tfidf.get_feature_names()\n",
        "df_lda=pd.DataFrame(tfidf_words.toarray(),columns=words)\n",
        "nmf = NMF(n_components=5, random_state=1,\n",
        "          beta_loss='kullback-leibler', solver='mu', max_iter=1000, alpha=.1,\n",
        "          l1_ratio=.5).fit(tfidf_words)\n",
        "\n",
        "print_top_words(nmf,words,4)"
      ],
      "execution_count": 27,
      "outputs": [
        {
          "output_type": "execute_result",
          "data": {
            "text/plain": [
              "[['camera', 'also', 'wesome', 'one'],\n",
              " ['quality', 'poor', 'worst', 'working'],\n",
              " ['xcellent', 'smartphone', 'cell', 'choic'],\n",
              " ['flipkart', 'awesome', 'backup', 'normal'],\n",
              " ['loving', 'money', 'awsm', 'worth']]"
            ]
          },
          "metadata": {
            "tags": []
          },
          "execution_count": 27
        }
      ]
    },
    {
      "cell_type": "markdown",
      "metadata": {
        "id": "MmR-p9FlF1vT",
        "colab_type": "text"
      },
      "source": [
        "### NMF - BOW"
      ]
    },
    {
      "cell_type": "code",
      "metadata": {
        "id": "JKNZWSVLE8Id",
        "colab_type": "code",
        "colab": {
          "base_uri": "https://localhost:8080/",
          "height": 82
        },
        "outputId": "0bb63a17-6d47-4655-ce08-88081b675ac5"
      },
      "source": [
        "bow=CountVectorizer(ngram_range=(1,1))\n",
        "bow_review=bow.fit_transform(data[\"review\"])\n",
        "df_bow=pd.DataFrame(bow_review.toarray(),columns=bow.get_feature_names())\n",
        "bow_words=bow.get_feature_names()\n",
        "nmf = NMF(n_components=4, random_state=1,\n",
        "          beta_loss='kullback-leibler', solver='mu', max_iter=1000, alpha=.1,\n",
        "          l1_ratio=.5).fit(bow_review)\n",
        "\n",
        "print_top_words(nmf,bow_words,4)"
      ],
      "execution_count": 120,
      "outputs": [
        {
          "output_type": "execute_result",
          "data": {
            "text/plain": [
              "[['phone', 'battery', 'best', 'camera'],\n",
              " ['good', 'camera', 'samsung', 'price'],\n",
              " ['product', 'samsung', 'wesome', 'buy'],\n",
              " ['nice', 'mobile', 'phone', 'worst']]"
            ]
          },
          "metadata": {
            "tags": []
          },
          "execution_count": 120
        }
      ]
    },
    {
      "cell_type": "code",
      "metadata": {
        "id": "-aaADZT6S4mj",
        "colab_type": "code",
        "colab": {
          "base_uri": "https://localhost:8080/",
          "height": 391
        },
        "outputId": "cfdb2f4b-58a2-45d8-9cc1-6fa4df9f5cd6"
      },
      "source": [
        "topics=print_top_words(nmf,bow_words,5)\n",
        "topic=[\"topic_\"+str(i) for i  in range(0,nmf.n_components)]\n",
        "df_doc_topic=pd.DataFrame(np.round(nmf.transform(df_bow),2),columns=topic)\n",
        "dominant_topic = np.argmax(df_doc_topic.values, axis=1)\n",
        "df_doc_topic[\"dominant_topic\"] = dominant_topic\n",
        "df_doc_topic[\"review\"]=dataoriginal[\"review\"]\n",
        "df_doc_topic[\"dominant_topic_keywords\"]=[topics[i]  for i in dominant_topic]\n",
        "df_doc_topic"
      ],
      "execution_count": 124,
      "outputs": [
        {
          "output_type": "execute_result",
          "data": {
            "text/html": [
              "<div>\n",
              "<style scoped>\n",
              "    .dataframe tbody tr th:only-of-type {\n",
              "        vertical-align: middle;\n",
              "    }\n",
              "\n",
              "    .dataframe tbody tr th {\n",
              "        vertical-align: top;\n",
              "    }\n",
              "\n",
              "    .dataframe thead th {\n",
              "        text-align: right;\n",
              "    }\n",
              "</style>\n",
              "<table border=\"1\" class=\"dataframe\">\n",
              "  <thead>\n",
              "    <tr style=\"text-align: right;\">\n",
              "      <th></th>\n",
              "      <th>topic_0</th>\n",
              "      <th>topic_1</th>\n",
              "      <th>topic_2</th>\n",
              "      <th>topic_3</th>\n",
              "      <th>dominant_topic</th>\n",
              "      <th>review</th>\n",
              "      <th>dominant_topic_keywords</th>\n",
              "    </tr>\n",
              "  </thead>\n",
              "  <tbody>\n",
              "    <tr>\n",
              "      <th>0</th>\n",
              "      <td>0.92</td>\n",
              "      <td>0.07</td>\n",
              "      <td>0.00</td>\n",
              "      <td>0.00</td>\n",
              "      <td>0</td>\n",
              "      <td>Bokeh mode is very excellent than any other ha...</td>\n",
              "      <td>[phone, battery, best, camera, display]</td>\n",
              "    </tr>\n",
              "    <tr>\n",
              "      <th>1</th>\n",
              "      <td>0.28</td>\n",
              "      <td>0.07</td>\n",
              "      <td>0.87</td>\n",
              "      <td>0.00</td>\n",
              "      <td>2</td>\n",
              "      <td>Just awsome product the picture quality is goo...</td>\n",
              "      <td>[product, samsung, wesome, buy, flipkart]</td>\n",
              "    </tr>\n",
              "    <tr>\n",
              "      <th>2</th>\n",
              "      <td>0.71</td>\n",
              "      <td>0.40</td>\n",
              "      <td>0.00</td>\n",
              "      <td>0.00</td>\n",
              "      <td>0</td>\n",
              "      <td>Samsung galaxy m30s is most useful.But Samsung...</td>\n",
              "      <td>[phone, battery, best, camera, display]</td>\n",
              "    </tr>\n",
              "    <tr>\n",
              "      <th>3</th>\n",
              "      <td>0.00</td>\n",
              "      <td>0.00</td>\n",
              "      <td>2.05</td>\n",
              "      <td>0.01</td>\n",
              "      <td>2</td>\n",
              "      <td>Not worth for me. i buy for my samsung tv this...</td>\n",
              "      <td>[product, samsung, wesome, buy, flipkart]</td>\n",
              "    </tr>\n",
              "    <tr>\n",
              "      <th>4</th>\n",
              "      <td>0.88</td>\n",
              "      <td>0.00</td>\n",
              "      <td>0.00</td>\n",
              "      <td>0.00</td>\n",
              "      <td>0</td>\n",
              "      <td>BSOLUTELY BEST PHONE, GO FOR THIS PHONELET ME ...</td>\n",
              "      <td>[phone, battery, best, camera, display]</td>\n",
              "    </tr>\n",
              "    <tr>\n",
              "      <th>...</th>\n",
              "      <td>...</td>\n",
              "      <td>...</td>\n",
              "      <td>...</td>\n",
              "      <td>...</td>\n",
              "      <td>...</td>\n",
              "      <td>...</td>\n",
              "      <td>...</td>\n",
              "    </tr>\n",
              "    <tr>\n",
              "      <th>293</th>\n",
              "      <td>0.04</td>\n",
              "      <td>0.00</td>\n",
              "      <td>0.00</td>\n",
              "      <td>0.00</td>\n",
              "      <td>0</td>\n",
              "      <td>okay</td>\n",
              "      <td>[phone, battery, best, camera, display]</td>\n",
              "    </tr>\n",
              "    <tr>\n",
              "      <th>294</th>\n",
              "      <td>0.04</td>\n",
              "      <td>0.07</td>\n",
              "      <td>0.06</td>\n",
              "      <td>0.26</td>\n",
              "      <td>3</td>\n",
              "      <td>Super style and good look nice product</td>\n",
              "      <td>[nice, mobile, phone, worst, delivery]</td>\n",
              "    </tr>\n",
              "    <tr>\n",
              "      <th>295</th>\n",
              "      <td>0.00</td>\n",
              "      <td>0.07</td>\n",
              "      <td>0.00</td>\n",
              "      <td>0.00</td>\n",
              "      <td>1</td>\n",
              "      <td>good</td>\n",
              "      <td>[good, camera, samsung, price, performance]</td>\n",
              "    </tr>\n",
              "    <tr>\n",
              "      <th>296</th>\n",
              "      <td>0.00</td>\n",
              "      <td>0.07</td>\n",
              "      <td>0.00</td>\n",
              "      <td>0.00</td>\n",
              "      <td>1</td>\n",
              "      <td>good</td>\n",
              "      <td>[good, camera, samsung, price, performance]</td>\n",
              "    </tr>\n",
              "    <tr>\n",
              "      <th>297</th>\n",
              "      <td>0.00</td>\n",
              "      <td>0.08</td>\n",
              "      <td>0.06</td>\n",
              "      <td>0.00</td>\n",
              "      <td>1</td>\n",
              "      <td>Good Product</td>\n",
              "      <td>[good, camera, samsung, price, performance]</td>\n",
              "    </tr>\n",
              "  </tbody>\n",
              "</table>\n",
              "<p>298 rows × 7 columns</p>\n",
              "</div>"
            ],
            "text/plain": [
              "     topic_0  ...                      dominant_topic_keywords\n",
              "0       0.92  ...      [phone, battery, best, camera, display]\n",
              "1       0.28  ...    [product, samsung, wesome, buy, flipkart]\n",
              "2       0.71  ...      [phone, battery, best, camera, display]\n",
              "3       0.00  ...    [product, samsung, wesome, buy, flipkart]\n",
              "4       0.88  ...      [phone, battery, best, camera, display]\n",
              "..       ...  ...                                          ...\n",
              "293     0.04  ...      [phone, battery, best, camera, display]\n",
              "294     0.04  ...       [nice, mobile, phone, worst, delivery]\n",
              "295     0.00  ...  [good, camera, samsung, price, performance]\n",
              "296     0.00  ...  [good, camera, samsung, price, performance]\n",
              "297     0.00  ...  [good, camera, samsung, price, performance]\n",
              "\n",
              "[298 rows x 7 columns]"
            ]
          },
          "metadata": {
            "tags": []
          },
          "execution_count": 124
        }
      ]
    },
    {
      "cell_type": "code",
      "metadata": {
        "id": "J9n-G4yaI9EM",
        "colab_type": "code",
        "colab": {
          "base_uri": "https://localhost:8080/",
          "height": 33
        },
        "outputId": "3e261ae2-657a-4fb1-bb7f-f06eded964f3"
      },
      "source": [
        "np.round(nmf.transform(bow_review),2).shape"
      ],
      "execution_count": 78,
      "outputs": [
        {
          "output_type": "execute_result",
          "data": {
            "text/plain": [
              "(298, 10)"
            ]
          },
          "metadata": {
            "tags": []
          },
          "execution_count": 78
        }
      ]
    },
    {
      "cell_type": "code",
      "metadata": {
        "id": "kfeBwC_gOixa",
        "colab_type": "code",
        "colab": {
          "base_uri": "https://localhost:8080/",
          "height": 33
        },
        "outputId": "f300fb9f-67c1-431f-ea4f-26612fc34917"
      },
      "source": [
        "bow_review.shape"
      ],
      "execution_count": 80,
      "outputs": [
        {
          "output_type": "execute_result",
          "data": {
            "text/plain": [
              "(298, 234)"
            ]
          },
          "metadata": {
            "tags": []
          },
          "execution_count": 80
        }
      ]
    },
    {
      "cell_type": "code",
      "metadata": {
        "id": "k460_isFM6Ez",
        "colab_type": "code",
        "colab": {
          "base_uri": "https://localhost:8080/",
          "height": 33
        },
        "outputId": "ae2c31ec-5154-41e1-d0c3-8a27bd2df004"
      },
      "source": [
        "nmf.components_.shape"
      ],
      "execution_count": 79,
      "outputs": [
        {
          "output_type": "execute_result",
          "data": {
            "text/plain": [
              "(10, 234)"
            ]
          },
          "metadata": {
            "tags": []
          },
          "execution_count": 79
        }
      ]
    },
    {
      "cell_type": "code",
      "metadata": {
        "id": "RfOgn0dNH9TG",
        "colab_type": "code",
        "colab": {}
      },
      "source": [
        "topics=print_top_words(nmf,bow_words,)\n",
        "topic=[\"topic_\"+str(i) for i  in range(0,nmf.n_components)]\n",
        "df_doc_topic=pd.DataFrame(np.round(nmf.transform(df_bow),2),columns=topic)\n",
        "dominant_topic = np.argmax(df_doc_topic.values, axis=1)\n",
        "df_doc_topic[\"dominant_topic\"] = dominant_topic\n",
        "df_doc_topic[\"review\"]=dataoriginal[\"review\"]\n",
        "df_doc_topic[\"dominant_topic_keywords\"]=[topics[i]  for i in dominant_topic]"
      ],
      "execution_count": 85,
      "outputs": []
    },
    {
      "cell_type": "markdown",
      "metadata": {
        "id": "DAML-k3wJndV",
        "colab_type": "text"
      },
      "source": [
        "#### NMF on topics obtained ------------------------------------------"
      ]
    },
    {
      "cell_type": "code",
      "metadata": {
        "id": "hye7Md1gI1so",
        "colab_type": "code",
        "colab": {
          "base_uri": "https://localhost:8080/",
          "height": 66
        },
        "outputId": "4e0d02ab-7aea-475e-b5f0-43fdba52b84d"
      },
      "source": [
        "### extrating topics\n",
        "arr=np.array(print_top_words(nmf,bow.get_feature_names(),5)).reshape(1,-1)[0]\n",
        "bow=CountVectorizer(ngram_range=(1,1))\n",
        "bow_review=bow.fit_transform(arr)\n",
        "df_bow=pd.DataFrame(bow_review.toarray(),columns=bow.get_feature_names())\n",
        "nmf = NMF(n_components=3, random_state=1,\n",
        "          beta_loss='kullback-leibler', solver='mu', max_iter=1000, alpha=.1,\n",
        "          l1_ratio=.5).fit(bow_review)\n",
        "bow_words=bow.get_feature_names()\n",
        "print_top_words(nmf,bow_words,4)"
      ],
      "execution_count": 119,
      "outputs": [
        {
          "output_type": "execute_result",
          "data": {
            "text/plain": [
              "[['battery', 'flipkart', 'also', 'power'],\n",
              " ['camera', '12', '2020', 'quality'],\n",
              " ['buy', '3rd', 'better', 'competition']]"
            ]
          },
          "metadata": {
            "tags": []
          },
          "execution_count": 119
        }
      ]
    },
    {
      "cell_type": "code",
      "metadata": {
        "id": "pELL4VpTRdj4",
        "colab_type": "code",
        "colab": {
          "base_uri": "https://localhost:8080/",
          "height": 622
        },
        "outputId": "f3b66dc2-24c4-4eda-ed5e-12a2a87cacd7"
      },
      "source": [
        "topics=print_top_words(nmf,bow_words,4)\n",
        "topic=[\"topic_\"+str(i) for i  in range(0,nmf.n_components)]\n",
        "df_doc_topic=pd.DataFrame(np.round(nmf.transform(df_bow),2),columns=topic)\n",
        "dominant_topic = np.argmax(df_doc_topic.values, axis=1)\n",
        "df_doc_topic[\"dominant_topic\"] = dominant_topic\n",
        "df_doc_topic[\"review\"]=dataoriginal[\"review\"]\n",
        "df_doc_topic[\"dominant_topic_keywords\"]=[topics[i]  for i in dominant_topic]\n",
        "df_doc_topic#[[\"review\",\"dominant_topic_keywords\",\"dominant_topic\"]]"
      ],
      "execution_count": 95,
      "outputs": [
        {
          "output_type": "execute_result",
          "data": {
            "text/html": [
              "<div>\n",
              "<style scoped>\n",
              "    .dataframe tbody tr th:only-of-type {\n",
              "        vertical-align: middle;\n",
              "    }\n",
              "\n",
              "    .dataframe tbody tr th {\n",
              "        vertical-align: top;\n",
              "    }\n",
              "\n",
              "    .dataframe thead th {\n",
              "        text-align: right;\n",
              "    }\n",
              "</style>\n",
              "<table border=\"1\" class=\"dataframe\">\n",
              "  <thead>\n",
              "    <tr style=\"text-align: right;\">\n",
              "      <th></th>\n",
              "      <th>topic_0</th>\n",
              "      <th>topic_1</th>\n",
              "      <th>topic_2</th>\n",
              "      <th>dominant_topic</th>\n",
              "      <th>review</th>\n",
              "      <th>dominant_topic_keywords</th>\n",
              "    </tr>\n",
              "  </thead>\n",
              "  <tbody>\n",
              "    <tr>\n",
              "      <th>0</th>\n",
              "      <td>0.00</td>\n",
              "      <td>0.28</td>\n",
              "      <td>0.00</td>\n",
              "      <td>1</td>\n",
              "      <td>Bokeh mode is very excellent than any other ha...</td>\n",
              "      <td>[xcellent, value, quality, performance]</td>\n",
              "    </tr>\n",
              "    <tr>\n",
              "      <th>1</th>\n",
              "      <td>0.00</td>\n",
              "      <td>0.00</td>\n",
              "      <td>0.25</td>\n",
              "      <td>2</td>\n",
              "      <td>Just awsome product the picture quality is goo...</td>\n",
              "      <td>[experience, backup, use, budget]</td>\n",
              "    </tr>\n",
              "    <tr>\n",
              "      <th>2</th>\n",
              "      <td>0.00</td>\n",
              "      <td>0.00</td>\n",
              "      <td>0.25</td>\n",
              "      <td>2</td>\n",
              "      <td>Samsung galaxy m30s is most useful.But Samsung...</td>\n",
              "      <td>[experience, backup, use, budget]</td>\n",
              "    </tr>\n",
              "    <tr>\n",
              "      <th>3</th>\n",
              "      <td>0.28</td>\n",
              "      <td>0.00</td>\n",
              "      <td>0.00</td>\n",
              "      <td>0</td>\n",
              "      <td>Not worth for me. i buy for my samsung tv this...</td>\n",
              "      <td>[love, hand, battery, superb]</td>\n",
              "    </tr>\n",
              "    <tr>\n",
              "      <th>4</th>\n",
              "      <td>0.28</td>\n",
              "      <td>0.00</td>\n",
              "      <td>0.00</td>\n",
              "      <td>0</td>\n",
              "      <td>BSOLUTELY BEST PHONE, GO FOR THIS PHONELET ME ...</td>\n",
              "      <td>[love, hand, battery, superb]</td>\n",
              "    </tr>\n",
              "    <tr>\n",
              "      <th>5</th>\n",
              "      <td>0.00</td>\n",
              "      <td>0.00</td>\n",
              "      <td>0.25</td>\n",
              "      <td>2</td>\n",
              "      <td>I have realized that this phone is full packag...</td>\n",
              "      <td>[experience, backup, use, budget]</td>\n",
              "    </tr>\n",
              "    <tr>\n",
              "      <th>6</th>\n",
              "      <td>0.28</td>\n",
              "      <td>0.00</td>\n",
              "      <td>0.00</td>\n",
              "      <td>0</td>\n",
              "      <td>one of the good phone in this price range , th...</td>\n",
              "      <td>[love, hand, battery, superb]</td>\n",
              "    </tr>\n",
              "    <tr>\n",
              "      <th>7</th>\n",
              "      <td>0.00</td>\n",
              "      <td>0.00</td>\n",
              "      <td>0.25</td>\n",
              "      <td>2</td>\n",
              "      <td>Nice mobile and it comes good battery back up....</td>\n",
              "      <td>[experience, backup, use, budget]</td>\n",
              "    </tr>\n",
              "    <tr>\n",
              "      <th>8</th>\n",
              "      <td>0.00</td>\n",
              "      <td>0.00</td>\n",
              "      <td>0.25</td>\n",
              "      <td>2</td>\n",
              "      <td>Been using this phone for more than 4 months n...</td>\n",
              "      <td>[experience, backup, use, budget]</td>\n",
              "    </tr>\n",
              "    <tr>\n",
              "      <th>9</th>\n",
              "      <td>0.00</td>\n",
              "      <td>0.28</td>\n",
              "      <td>0.00</td>\n",
              "      <td>1</td>\n",
              "      <td>This phone is works excellent so far after (6 ...</td>\n",
              "      <td>[xcellent, value, quality, performance]</td>\n",
              "    </tr>\n",
              "    <tr>\n",
              "      <th>10</th>\n",
              "      <td>0.00</td>\n",
              "      <td>0.28</td>\n",
              "      <td>0.00</td>\n",
              "      <td>1</td>\n",
              "      <td>super camera</td>\n",
              "      <td>[xcellent, value, quality, performance]</td>\n",
              "    </tr>\n",
              "    <tr>\n",
              "      <th>11</th>\n",
              "      <td>0.28</td>\n",
              "      <td>0.00</td>\n",
              "      <td>0.00</td>\n",
              "      <td>0</td>\n",
              "      <td>superb battery backup 👌</td>\n",
              "      <td>[love, hand, battery, superb]</td>\n",
              "    </tr>\n",
              "    <tr>\n",
              "      <th>12</th>\n",
              "      <td>0.00</td>\n",
              "      <td>0.28</td>\n",
              "      <td>0.00</td>\n",
              "      <td>1</td>\n",
              "      <td>the phone awesome....</td>\n",
              "      <td>[xcellent, value, quality, performance]</td>\n",
              "    </tr>\n",
              "    <tr>\n",
              "      <th>13</th>\n",
              "      <td>0.00</td>\n",
              "      <td>0.00</td>\n",
              "      <td>0.25</td>\n",
              "      <td>2</td>\n",
              "      <td>Nice mobile</td>\n",
              "      <td>[experience, backup, use, budget]</td>\n",
              "    </tr>\n",
              "    <tr>\n",
              "      <th>14</th>\n",
              "      <td>0.28</td>\n",
              "      <td>0.00</td>\n",
              "      <td>0.00</td>\n",
              "      <td>0</td>\n",
              "      <td>very good camera and display</td>\n",
              "      <td>[love, hand, battery, superb]</td>\n",
              "    </tr>\n",
              "    <tr>\n",
              "      <th>15</th>\n",
              "      <td>0.00</td>\n",
              "      <td>0.28</td>\n",
              "      <td>0.00</td>\n",
              "      <td>1</td>\n",
              "      <td>very nice set</td>\n",
              "      <td>[xcellent, value, quality, performance]</td>\n",
              "    </tr>\n",
              "    <tr>\n",
              "      <th>16</th>\n",
              "      <td>0.00</td>\n",
              "      <td>0.28</td>\n",
              "      <td>0.00</td>\n",
              "      <td>1</td>\n",
              "      <td>Best Mobile Best Camera and Battry is so power...</td>\n",
              "      <td>[xcellent, value, quality, performance]</td>\n",
              "    </tr>\n",
              "    <tr>\n",
              "      <th>17</th>\n",
              "      <td>0.28</td>\n",
              "      <td>0.00</td>\n",
              "      <td>0.00</td>\n",
              "      <td>0</td>\n",
              "      <td>really good product... satisfied...thank you.....</td>\n",
              "      <td>[love, hand, battery, superb]</td>\n",
              "    </tr>\n",
              "    <tr>\n",
              "      <th>18</th>\n",
              "      <td>0.00</td>\n",
              "      <td>0.00</td>\n",
              "      <td>0.25</td>\n",
              "      <td>2</td>\n",
              "      <td>super</td>\n",
              "      <td>[experience, backup, use, budget]</td>\n",
              "    </tr>\n",
              "    <tr>\n",
              "      <th>19</th>\n",
              "      <td>0.00</td>\n",
              "      <td>0.00</td>\n",
              "      <td>0.25</td>\n",
              "      <td>2</td>\n",
              "      <td>not bad</td>\n",
              "      <td>[experience, backup, use, budget]</td>\n",
              "    </tr>\n",
              "  </tbody>\n",
              "</table>\n",
              "</div>"
            ],
            "text/plain": [
              "    topic_0  ...                  dominant_topic_keywords\n",
              "0      0.00  ...  [xcellent, value, quality, performance]\n",
              "1      0.00  ...        [experience, backup, use, budget]\n",
              "2      0.00  ...        [experience, backup, use, budget]\n",
              "3      0.28  ...            [love, hand, battery, superb]\n",
              "4      0.28  ...            [love, hand, battery, superb]\n",
              "5      0.00  ...        [experience, backup, use, budget]\n",
              "6      0.28  ...            [love, hand, battery, superb]\n",
              "7      0.00  ...        [experience, backup, use, budget]\n",
              "8      0.00  ...        [experience, backup, use, budget]\n",
              "9      0.00  ...  [xcellent, value, quality, performance]\n",
              "10     0.00  ...  [xcellent, value, quality, performance]\n",
              "11     0.28  ...            [love, hand, battery, superb]\n",
              "12     0.00  ...  [xcellent, value, quality, performance]\n",
              "13     0.00  ...        [experience, backup, use, budget]\n",
              "14     0.28  ...            [love, hand, battery, superb]\n",
              "15     0.00  ...  [xcellent, value, quality, performance]\n",
              "16     0.00  ...  [xcellent, value, quality, performance]\n",
              "17     0.28  ...            [love, hand, battery, superb]\n",
              "18     0.00  ...        [experience, backup, use, budget]\n",
              "19     0.00  ...        [experience, backup, use, budget]\n",
              "\n",
              "[20 rows x 6 columns]"
            ]
          },
          "metadata": {
            "tags": []
          },
          "execution_count": 95
        }
      ]
    },
    {
      "cell_type": "markdown",
      "metadata": {
        "id": "OB0HXHKTg3Xs",
        "colab_type": "text"
      },
      "source": [
        "## POS TAGGING taking only nouns"
      ]
    },
    {
      "cell_type": "code",
      "metadata": {
        "id": "YN_uJnfPKGJl",
        "colab_type": "code",
        "colab": {
          "base_uri": "https://localhost:8080/",
          "height": 98
        },
        "outputId": "7ffc8e5b-a944-40f6-cc1a-26789a3e8c79"
      },
      "source": [
        "  import nltk\n",
        "  nltk.download('averaged_perceptron_tagger')"
      ],
      "execution_count": 125,
      "outputs": [
        {
          "output_type": "stream",
          "text": [
            "[nltk_data] Downloading package averaged_perceptron_tagger to\n",
            "[nltk_data]     /root/nltk_data...\n",
            "[nltk_data]   Package averaged_perceptron_tagger is already up-to-\n",
            "[nltk_data]       date!\n"
          ],
          "name": "stdout"
        },
        {
          "output_type": "execute_result",
          "data": {
            "text/plain": [
              "True"
            ]
          },
          "metadata": {
            "tags": []
          },
          "execution_count": 125
        }
      ]
    },
    {
      "cell_type": "code",
      "metadata": {
        "id": "6NQkYJpdiwfN",
        "colab_type": "code",
        "colab": {}
      },
      "source": [
        "def only_nouns(review):\n",
        "  lis= \" \".join([each.strip(\" \") for each,pos in nltk.pos_tag(review.split()) if pos==\"NN\"])\n",
        "  return lis\n",
        "  \n"
      ],
      "execution_count": 126,
      "outputs": []
    },
    {
      "cell_type": "code",
      "metadata": {
        "id": "RK-VJRYSkTD2",
        "colab_type": "code",
        "colab": {}
      },
      "source": [
        "data[\"review\"]=data[\"review\"].apply(lambda x:only_nouns(x))"
      ],
      "execution_count": 156,
      "outputs": []
    },
    {
      "cell_type": "markdown",
      "metadata": {
        "id": "L1ufpHGDu18a",
        "colab_type": "text"
      },
      "source": [
        "### LDA BOW ---  (topipc extraction/keyword extraction)"
      ]
    },
    {
      "cell_type": "code",
      "metadata": {
        "id": "djb99Zy4oMIp",
        "colab_type": "code",
        "colab": {
          "base_uri": "https://localhost:8080/",
          "height": 1000
        },
        "outputId": "b2bbb8ed-e93c-4fb0-f542-b9151705de0e"
      },
      "source": [
        "bow=CountVectorizer(ngram_range=(1,1))\n",
        "bow_review=bow.fit_transform(data[\"review\"])\n",
        "df_bow=pd.DataFrame(bow_review.toarray(),columns=bow.get_feature_names())\n",
        "lda = LatentDirichletAllocation(n_components=10,random_state=0)\n",
        "lda.fit_transform(df_bow)\n",
        "print_top_words(lda,bow.get_feature_names(),20)"
      ],
      "execution_count": 190,
      "outputs": [
        {
          "output_type": "execute_result",
          "data": {
            "text/plain": [
              "[['price',\n",
              "  'battery',\n",
              "  'quality',\n",
              "  'range',\n",
              "  'bit',\n",
              "  'buy',\n",
              "  'mark',\n",
              "  'camera',\n",
              "  'performance',\n",
              "  'power',\n",
              "  'network',\n",
              "  'experience',\n",
              "  'button',\n",
              "  'voice',\n",
              "  'finger',\n",
              "  'print',\n",
              "  'lagsnetwork',\n",
              "  'month',\n",
              "  'amazingperformance',\n",
              "  'none'],\n",
              " ['battery',\n",
              "  'camera',\n",
              "  'backup',\n",
              "  'performance',\n",
              "  'budget',\n",
              "  'smartphone',\n",
              "  'handset',\n",
              "  'hand',\n",
              "  'range',\n",
              "  'experience',\n",
              "  'gaming',\n",
              "  'display',\n",
              "  'samsung',\n",
              "  'good',\n",
              "  'bokeh',\n",
              "  'features1',\n",
              "  'phonelet',\n",
              "  'charger3',\n",
              "  'dispay',\n",
              "  'phon'],\n",
              " ['superb',\n",
              "  'samsung',\n",
              "  'flipkart',\n",
              "  'delivery',\n",
              "  'm30s',\n",
              "  'super',\n",
              "  'galaxy',\n",
              "  'backup',\n",
              "  'camara',\n",
              "  'selfie',\n",
              "  'bugdet',\n",
              "  'mar',\n",
              "  'gui',\n",
              "  'priceworthy',\n",
              "  'beatty',\n",
              "  'oshawa',\n",
              "  'service',\n",
              "  'effort',\n",
              "  'thks',\n",
              "  'device'],\n",
              " ['battery',\n",
              "  'wesome',\n",
              "  'display',\n",
              "  'camera',\n",
              "  'life',\n",
              "  'mah',\n",
              "  'money',\n",
              "  'isplay',\n",
              "  'hand',\n",
              "  'love',\n",
              "  'glass',\n",
              "  'use',\n",
              "  'package',\n",
              "  'rupee',\n",
              "  'ram',\n",
              "  'drain',\n",
              "  'work',\n",
              "  'day',\n",
              "  'management',\n",
              "  'feel'],\n",
              " ['super',\n",
              "  'use',\n",
              "  'xcellent',\n",
              "  'performance',\n",
              "  'experience',\n",
              "  'cost',\n",
              "  'display',\n",
              "  'thing',\n",
              "  'backup',\n",
              "  'play',\n",
              "  'screen',\n",
              "  'hr',\n",
              "  'hdr',\n",
              "  'pubg',\n",
              "  'perfomancecamera',\n",
              "  'gzb',\n",
              "  'bettery',\n",
              "  'term',\n",
              "  'touch',\n",
              "  'apple'],\n",
              " ['online',\n",
              "  'buy',\n",
              "  'call',\n",
              "  'function',\n",
              "  'time',\n",
              "  'purchase',\n",
              "  'company',\n",
              "  'samsung',\n",
              "  'person',\n",
              "  'date',\n",
              "  'mode',\n",
              "  'picture',\n",
              "  'worthless',\n",
              "  'tv',\n",
              "  'recommend',\n",
              "  'cast',\n",
              "  'stabilization',\n",
              "  'night',\n",
              "  'video',\n",
              "  'plz'],\n",
              " ['nice',\n",
              "  'box',\n",
              "  'thank',\n",
              "  'excellent',\n",
              "  'team',\n",
              "  'condition',\n",
              "  'dust',\n",
              "  'response',\n",
              "  'head',\n",
              "  'miss',\n",
              "  'wsm',\n",
              "  'rattan',\n",
              "  'good',\n",
              "  'osm',\n",
              "  'money',\n",
              "  'camera',\n",
              "  'battery',\n",
              "  'filipcart',\n",
              "  'charge',\n",
              "  'superrrrbbbbb'],\n",
              " ['money',\n",
              "  'value',\n",
              "  'delivery',\n",
              "  'osm',\n",
              "  'ear',\n",
              "  'time',\n",
              "  'model',\n",
              "  'nicebut',\n",
              "  'flipcardmobile',\n",
              "  'guard',\n",
              "  'length',\n",
              "  'thakarthu',\n",
              "  'butter',\n",
              "  'prublam',\n",
              "  'screen',\n",
              "  'glass',\n",
              "  'perfomance',\n",
              "  'worth',\n",
              "  'good',\n",
              "  'mah'],\n",
              " ['display',\n",
              "  'battery',\n",
              "  'camera',\n",
              "  'problem',\n",
              "  'ok',\n",
              "  'price',\n",
              "  'good',\n",
              "  'range',\n",
              "  'front',\n",
              "  'look',\n",
              "  'excellent',\n",
              "  'network',\n",
              "  'life',\n",
              "  'competition',\n",
              "  'pls',\n",
              "  'request',\n",
              "  'sir',\n",
              "  'hang',\n",
              "  'processor',\n",
              "  'body'],\n",
              " ['camera',\n",
              "  'quality',\n",
              "  'performance',\n",
              "  'battery',\n",
              "  'awesome',\n",
              "  'love',\n",
              "  'life',\n",
              "  'model',\n",
              "  'samsung',\n",
              "  'perfomance',\n",
              "  'power',\n",
              "  'get',\n",
              "  'ofcourse',\n",
              "  'privacy',\n",
              "  'inactivity',\n",
              "  'switch',\n",
              "  'issue',\n",
              "  'point',\n",
              "  'level',\n",
              "  'satisfy']]"
            ]
          },
          "metadata": {
            "tags": []
          },
          "execution_count": 190
        }
      ]
    },
    {
      "cell_type": "code",
      "metadata": {
        "id": "FbevquzzXrIZ",
        "colab_type": "code",
        "colab": {
          "base_uri": "https://localhost:8080/",
          "height": 570
        },
        "outputId": "5a50ffbd-2533-47b1-f3c0-3c3b17cd2146"
      },
      "source": [
        "topics=print_top_words(lda,bow.get_feature_names(),6)\n",
        "topic=[\"topic_\"+str(i) for i  in range(0,lda.n_components)]\n",
        "df_doc_topic=pd.DataFrame(lda.fit_transform(df_bow),columns=topic)\n",
        "dominant_topic = np.argmax(df_doc_topic.values, axis=1)\n",
        "df_doc_topic[\"dominant_topic\"] = dominant_topic\n",
        "df_doc_topic[\"review\"]=dataoriginal[\"review\"]\n",
        "df_doc_topic[\"dominant_topic_keywords\"]=[topics[i]  for i in dominant_topic]\n",
        "df_doc_topic"
      ],
      "execution_count": 191,
      "outputs": [
        {
          "output_type": "execute_result",
          "data": {
            "text/html": [
              "<div>\n",
              "<style scoped>\n",
              "    .dataframe tbody tr th:only-of-type {\n",
              "        vertical-align: middle;\n",
              "    }\n",
              "\n",
              "    .dataframe tbody tr th {\n",
              "        vertical-align: top;\n",
              "    }\n",
              "\n",
              "    .dataframe thead th {\n",
              "        text-align: right;\n",
              "    }\n",
              "</style>\n",
              "<table border=\"1\" class=\"dataframe\">\n",
              "  <thead>\n",
              "    <tr style=\"text-align: right;\">\n",
              "      <th></th>\n",
              "      <th>topic_0</th>\n",
              "      <th>topic_1</th>\n",
              "      <th>topic_2</th>\n",
              "      <th>topic_3</th>\n",
              "      <th>topic_4</th>\n",
              "      <th>topic_5</th>\n",
              "      <th>topic_6</th>\n",
              "      <th>topic_7</th>\n",
              "      <th>topic_8</th>\n",
              "      <th>topic_9</th>\n",
              "      <th>dominant_topic</th>\n",
              "      <th>review</th>\n",
              "      <th>dominant_topic_keywords</th>\n",
              "    </tr>\n",
              "  </thead>\n",
              "  <tbody>\n",
              "    <tr>\n",
              "      <th>0</th>\n",
              "      <td>0.006667</td>\n",
              "      <td>0.939996</td>\n",
              "      <td>0.006667</td>\n",
              "      <td>0.006667</td>\n",
              "      <td>0.006667</td>\n",
              "      <td>0.006667</td>\n",
              "      <td>0.006667</td>\n",
              "      <td>0.006667</td>\n",
              "      <td>0.006668</td>\n",
              "      <td>0.006668</td>\n",
              "      <td>1</td>\n",
              "      <td>Bokeh mode is very excellent than any other ha...</td>\n",
              "      <td>[battery, camera, backup, performance, budget,...</td>\n",
              "    </tr>\n",
              "    <tr>\n",
              "      <th>1</th>\n",
              "      <td>0.909989</td>\n",
              "      <td>0.010004</td>\n",
              "      <td>0.010001</td>\n",
              "      <td>0.010001</td>\n",
              "      <td>0.010001</td>\n",
              "      <td>0.010001</td>\n",
              "      <td>0.010000</td>\n",
              "      <td>0.010000</td>\n",
              "      <td>0.010001</td>\n",
              "      <td>0.010002</td>\n",
              "      <td>0</td>\n",
              "      <td>Just awsome product the picture quality is goo...</td>\n",
              "      <td>[price, battery, quality, range, bit, buy]</td>\n",
              "    </tr>\n",
              "    <tr>\n",
              "      <th>2</th>\n",
              "      <td>0.008334</td>\n",
              "      <td>0.008336</td>\n",
              "      <td>0.924983</td>\n",
              "      <td>0.008335</td>\n",
              "      <td>0.008335</td>\n",
              "      <td>0.008334</td>\n",
              "      <td>0.008333</td>\n",
              "      <td>0.008333</td>\n",
              "      <td>0.008337</td>\n",
              "      <td>0.008339</td>\n",
              "      <td>2</td>\n",
              "      <td>Samsung galaxy m30s is most useful.But Samsung...</td>\n",
              "      <td>[superb, samsung, flipkart, delivery, m30s, su...</td>\n",
              "    </tr>\n",
              "    <tr>\n",
              "      <th>3</th>\n",
              "      <td>0.007143</td>\n",
              "      <td>0.007143</td>\n",
              "      <td>0.007144</td>\n",
              "      <td>0.007143</td>\n",
              "      <td>0.007143</td>\n",
              "      <td>0.935712</td>\n",
              "      <td>0.007143</td>\n",
              "      <td>0.007143</td>\n",
              "      <td>0.007143</td>\n",
              "      <td>0.007143</td>\n",
              "      <td>5</td>\n",
              "      <td>Not worth for me. i buy for my samsung tv this...</td>\n",
              "      <td>[online, buy, call, function, time, purchase]</td>\n",
              "    </tr>\n",
              "    <tr>\n",
              "      <th>4</th>\n",
              "      <td>0.008334</td>\n",
              "      <td>0.924997</td>\n",
              "      <td>0.008333</td>\n",
              "      <td>0.008335</td>\n",
              "      <td>0.008333</td>\n",
              "      <td>0.008333</td>\n",
              "      <td>0.008333</td>\n",
              "      <td>0.008333</td>\n",
              "      <td>0.008334</td>\n",
              "      <td>0.008334</td>\n",
              "      <td>1</td>\n",
              "      <td>BSOLUTELY BEST PHONE, GO FOR THIS PHONELET ME ...</td>\n",
              "      <td>[battery, camera, backup, performance, budget,...</td>\n",
              "    </tr>\n",
              "    <tr>\n",
              "      <th>...</th>\n",
              "      <td>...</td>\n",
              "      <td>...</td>\n",
              "      <td>...</td>\n",
              "      <td>...</td>\n",
              "      <td>...</td>\n",
              "      <td>...</td>\n",
              "      <td>...</td>\n",
              "      <td>...</td>\n",
              "      <td>...</td>\n",
              "      <td>...</td>\n",
              "      <td>...</td>\n",
              "      <td>...</td>\n",
              "      <td>...</td>\n",
              "    </tr>\n",
              "    <tr>\n",
              "      <th>293</th>\n",
              "      <td>0.050000</td>\n",
              "      <td>0.050000</td>\n",
              "      <td>0.050000</td>\n",
              "      <td>0.050000</td>\n",
              "      <td>0.550000</td>\n",
              "      <td>0.050000</td>\n",
              "      <td>0.050000</td>\n",
              "      <td>0.050000</td>\n",
              "      <td>0.050000</td>\n",
              "      <td>0.050000</td>\n",
              "      <td>4</td>\n",
              "      <td>okay</td>\n",
              "      <td>[super, use, xcellent, performance, experience...</td>\n",
              "    </tr>\n",
              "    <tr>\n",
              "      <th>294</th>\n",
              "      <td>0.033333</td>\n",
              "      <td>0.033337</td>\n",
              "      <td>0.033333</td>\n",
              "      <td>0.033333</td>\n",
              "      <td>0.033333</td>\n",
              "      <td>0.033333</td>\n",
              "      <td>0.033333</td>\n",
              "      <td>0.033333</td>\n",
              "      <td>0.699996</td>\n",
              "      <td>0.033333</td>\n",
              "      <td>8</td>\n",
              "      <td>Super style and good look nice product</td>\n",
              "      <td>[display, battery, camera, problem, ok, price]</td>\n",
              "    </tr>\n",
              "    <tr>\n",
              "      <th>295</th>\n",
              "      <td>0.100000</td>\n",
              "      <td>0.100000</td>\n",
              "      <td>0.100000</td>\n",
              "      <td>0.100000</td>\n",
              "      <td>0.100000</td>\n",
              "      <td>0.100000</td>\n",
              "      <td>0.100000</td>\n",
              "      <td>0.100000</td>\n",
              "      <td>0.100000</td>\n",
              "      <td>0.100000</td>\n",
              "      <td>0</td>\n",
              "      <td>good</td>\n",
              "      <td>[price, battery, quality, range, bit, buy]</td>\n",
              "    </tr>\n",
              "    <tr>\n",
              "      <th>296</th>\n",
              "      <td>0.100000</td>\n",
              "      <td>0.100000</td>\n",
              "      <td>0.100000</td>\n",
              "      <td>0.100000</td>\n",
              "      <td>0.100000</td>\n",
              "      <td>0.100000</td>\n",
              "      <td>0.100000</td>\n",
              "      <td>0.100000</td>\n",
              "      <td>0.100000</td>\n",
              "      <td>0.100000</td>\n",
              "      <td>0</td>\n",
              "      <td>good</td>\n",
              "      <td>[price, battery, quality, range, bit, buy]</td>\n",
              "    </tr>\n",
              "    <tr>\n",
              "      <th>297</th>\n",
              "      <td>0.100000</td>\n",
              "      <td>0.100000</td>\n",
              "      <td>0.100000</td>\n",
              "      <td>0.100000</td>\n",
              "      <td>0.100000</td>\n",
              "      <td>0.100000</td>\n",
              "      <td>0.100000</td>\n",
              "      <td>0.100000</td>\n",
              "      <td>0.100000</td>\n",
              "      <td>0.100000</td>\n",
              "      <td>0</td>\n",
              "      <td>Good Product</td>\n",
              "      <td>[price, battery, quality, range, bit, buy]</td>\n",
              "    </tr>\n",
              "  </tbody>\n",
              "</table>\n",
              "<p>298 rows × 13 columns</p>\n",
              "</div>"
            ],
            "text/plain": [
              "      topic_0  ...                            dominant_topic_keywords\n",
              "0    0.006667  ...  [battery, camera, backup, performance, budget,...\n",
              "1    0.909989  ...         [price, battery, quality, range, bit, buy]\n",
              "2    0.008334  ...  [superb, samsung, flipkart, delivery, m30s, su...\n",
              "3    0.007143  ...      [online, buy, call, function, time, purchase]\n",
              "4    0.008334  ...  [battery, camera, backup, performance, budget,...\n",
              "..        ...  ...                                                ...\n",
              "293  0.050000  ...  [super, use, xcellent, performance, experience...\n",
              "294  0.033333  ...     [display, battery, camera, problem, ok, price]\n",
              "295  0.100000  ...         [price, battery, quality, range, bit, buy]\n",
              "296  0.100000  ...         [price, battery, quality, range, bit, buy]\n",
              "297  0.100000  ...         [price, battery, quality, range, bit, buy]\n",
              "\n",
              "[298 rows x 13 columns]"
            ]
          },
          "metadata": {
            "tags": []
          },
          "execution_count": 191
        }
      ]
    },
    {
      "cell_type": "code",
      "metadata": {
        "id": "bCD0kZ9tZHws",
        "colab_type": "code",
        "colab": {
          "base_uri": "https://localhost:8080/",
          "height": 382
        },
        "outputId": "516b9f12-5adc-4afe-d54e-18ce699352bb"
      },
      "source": [
        "modelcomponents=lda.components_/(np.sum(lda.components_,axis=1)).reshape(-1,1)\n",
        "pd.DataFrame(modelcomponents,index=topic,columns=bow.get_feature_names())"
      ],
      "execution_count": 192,
      "outputs": [
        {
          "output_type": "execute_result",
          "data": {
            "text/html": [
              "<div>\n",
              "<style scoped>\n",
              "    .dataframe tbody tr th:only-of-type {\n",
              "        vertical-align: middle;\n",
              "    }\n",
              "\n",
              "    .dataframe tbody tr th {\n",
              "        vertical-align: top;\n",
              "    }\n",
              "\n",
              "    .dataframe thead th {\n",
              "        text-align: right;\n",
              "    }\n",
              "</style>\n",
              "<table border=\"1\" class=\"dataframe\">\n",
              "  <thead>\n",
              "    <tr style=\"text-align: right;\">\n",
              "      <th></th>\n",
              "      <th>ability</th>\n",
              "      <th>amazing</th>\n",
              "      <th>amazingperformance</th>\n",
              "      <th>amoled4</th>\n",
              "      <th>android</th>\n",
              "      <th>anything</th>\n",
              "      <th>apple</th>\n",
              "      <th>awesome</th>\n",
              "      <th>awsm</th>\n",
              "      <th>awsome</th>\n",
              "      <th>backup</th>\n",
              "      <th>battery</th>\n",
              "      <th>battry</th>\n",
              "      <th>beast</th>\n",
              "      <th>beatty</th>\n",
              "      <th>bettery</th>\n",
              "      <th>bit</th>\n",
              "      <th>body</th>\n",
              "      <th>bokeh</th>\n",
              "      <th>box</th>\n",
              "      <th>bro</th>\n",
              "      <th>budget</th>\n",
              "      <th>bugdet</th>\n",
              "      <th>butter</th>\n",
              "      <th>button</th>\n",
              "      <th>buy</th>\n",
              "      <th>call</th>\n",
              "      <th>cam</th>\n",
              "      <th>camara</th>\n",
              "      <th>camera</th>\n",
              "      <th>capture</th>\n",
              "      <th>cast</th>\n",
              "      <th>cell</th>\n",
              "      <th>chalta</th>\n",
              "      <th>charge</th>\n",
              "      <th>charger</th>\n",
              "      <th>charger3</th>\n",
              "      <th>choic</th>\n",
              "      <th>choice</th>\n",
              "      <th>coin</th>\n",
              "      <th>...</th>\n",
              "      <th>sm</th>\n",
              "      <th>smart</th>\n",
              "      <th>smartphone</th>\n",
              "      <th>software</th>\n",
              "      <th>sooooooperb</th>\n",
              "      <th>speaker</th>\n",
              "      <th>stabilization</th>\n",
              "      <th>state</th>\n",
              "      <th>style</th>\n",
              "      <th>super</th>\n",
              "      <th>superb</th>\n",
              "      <th>superrrrbbbbb</th>\n",
              "      <th>suprrrrrrrrr</th>\n",
              "      <th>switch</th>\n",
              "      <th>task</th>\n",
              "      <th>team</th>\n",
              "      <th>term</th>\n",
              "      <th>thakarthu</th>\n",
              "      <th>thank</th>\n",
              "      <th>thing</th>\n",
              "      <th>thks</th>\n",
              "      <th>till</th>\n",
              "      <th>time</th>\n",
              "      <th>touch</th>\n",
              "      <th>tq</th>\n",
              "      <th>tunney</th>\n",
              "      <th>tv</th>\n",
              "      <th>use</th>\n",
              "      <th>value</th>\n",
              "      <th>verall</th>\n",
              "      <th>video</th>\n",
              "      <th>voice</th>\n",
              "      <th>waysome</th>\n",
              "      <th>wesome</th>\n",
              "      <th>wid</th>\n",
              "      <th>work</th>\n",
              "      <th>worth</th>\n",
              "      <th>worthless</th>\n",
              "      <th>wsm</th>\n",
              "      <th>xcellent</th>\n",
              "    </tr>\n",
              "  </thead>\n",
              "  <tbody>\n",
              "    <tr>\n",
              "      <th>topic_0</th>\n",
              "      <td>0.013302</td>\n",
              "      <td>0.001209</td>\n",
              "      <td>0.013302</td>\n",
              "      <td>0.001209</td>\n",
              "      <td>0.001209</td>\n",
              "      <td>0.001209</td>\n",
              "      <td>0.001209</td>\n",
              "      <td>0.001209</td>\n",
              "      <td>0.013302</td>\n",
              "      <td>0.013302</td>\n",
              "      <td>0.013302</td>\n",
              "      <td>0.040337</td>\n",
              "      <td>0.001209</td>\n",
              "      <td>0.001209</td>\n",
              "      <td>0.001209</td>\n",
              "      <td>0.001209</td>\n",
              "      <td>0.025395</td>\n",
              "      <td>0.001209</td>\n",
              "      <td>0.001209</td>\n",
              "      <td>0.001209</td>\n",
              "      <td>0.001209</td>\n",
              "      <td>0.001209</td>\n",
              "      <td>0.001209</td>\n",
              "      <td>0.001209</td>\n",
              "      <td>0.013302</td>\n",
              "      <td>0.025395</td>\n",
              "      <td>0.001209</td>\n",
              "      <td>0.001209</td>\n",
              "      <td>0.001209</td>\n",
              "      <td>0.025393</td>\n",
              "      <td>0.001209</td>\n",
              "      <td>0.001209</td>\n",
              "      <td>0.001209</td>\n",
              "      <td>0.001209</td>\n",
              "      <td>0.001209</td>\n",
              "      <td>0.001209</td>\n",
              "      <td>0.001209</td>\n",
              "      <td>0.001209</td>\n",
              "      <td>0.001209</td>\n",
              "      <td>0.001209</td>\n",
              "      <td>...</td>\n",
              "      <td>0.013302</td>\n",
              "      <td>0.001209</td>\n",
              "      <td>0.001209</td>\n",
              "      <td>0.001209</td>\n",
              "      <td>0.001209</td>\n",
              "      <td>0.001209</td>\n",
              "      <td>0.001209</td>\n",
              "      <td>0.001209</td>\n",
              "      <td>0.001209</td>\n",
              "      <td>0.001209</td>\n",
              "      <td>0.001209</td>\n",
              "      <td>0.001209</td>\n",
              "      <td>0.001209</td>\n",
              "      <td>0.001209</td>\n",
              "      <td>0.001209</td>\n",
              "      <td>0.013302</td>\n",
              "      <td>0.001209</td>\n",
              "      <td>0.001209</td>\n",
              "      <td>0.001209</td>\n",
              "      <td>0.001209</td>\n",
              "      <td>0.001209</td>\n",
              "      <td>0.001209</td>\n",
              "      <td>0.001209</td>\n",
              "      <td>0.001209</td>\n",
              "      <td>0.001209</td>\n",
              "      <td>0.001209</td>\n",
              "      <td>0.001209</td>\n",
              "      <td>0.013301</td>\n",
              "      <td>0.001209</td>\n",
              "      <td>0.001209</td>\n",
              "      <td>0.001209</td>\n",
              "      <td>0.013302</td>\n",
              "      <td>0.001209</td>\n",
              "      <td>0.001209</td>\n",
              "      <td>0.001209</td>\n",
              "      <td>0.001209</td>\n",
              "      <td>0.001209</td>\n",
              "      <td>0.001209</td>\n",
              "      <td>0.001209</td>\n",
              "      <td>0.001209</td>\n",
              "    </tr>\n",
              "    <tr>\n",
              "      <th>topic_1</th>\n",
              "      <td>0.000853</td>\n",
              "      <td>0.009385</td>\n",
              "      <td>0.000853</td>\n",
              "      <td>0.009385</td>\n",
              "      <td>0.000853</td>\n",
              "      <td>0.009385</td>\n",
              "      <td>0.000853</td>\n",
              "      <td>0.000853</td>\n",
              "      <td>0.000853</td>\n",
              "      <td>0.000853</td>\n",
              "      <td>0.051221</td>\n",
              "      <td>0.133712</td>\n",
              "      <td>0.009385</td>\n",
              "      <td>0.009385</td>\n",
              "      <td>0.000853</td>\n",
              "      <td>0.000853</td>\n",
              "      <td>0.000853</td>\n",
              "      <td>0.000853</td>\n",
              "      <td>0.009385</td>\n",
              "      <td>0.000853</td>\n",
              "      <td>0.000853</td>\n",
              "      <td>0.026450</td>\n",
              "      <td>0.000853</td>\n",
              "      <td>0.000853</td>\n",
              "      <td>0.000853</td>\n",
              "      <td>0.000853</td>\n",
              "      <td>0.000853</td>\n",
              "      <td>0.000853</td>\n",
              "      <td>0.000853</td>\n",
              "      <td>0.071924</td>\n",
              "      <td>0.000853</td>\n",
              "      <td>0.000853</td>\n",
              "      <td>0.000853</td>\n",
              "      <td>0.009385</td>\n",
              "      <td>0.009385</td>\n",
              "      <td>0.000853</td>\n",
              "      <td>0.009385</td>\n",
              "      <td>0.009385</td>\n",
              "      <td>0.000853</td>\n",
              "      <td>0.000853</td>\n",
              "      <td>...</td>\n",
              "      <td>0.000853</td>\n",
              "      <td>0.000853</td>\n",
              "      <td>0.026450</td>\n",
              "      <td>0.000853</td>\n",
              "      <td>0.000853</td>\n",
              "      <td>0.000853</td>\n",
              "      <td>0.000853</td>\n",
              "      <td>0.000853</td>\n",
              "      <td>0.000853</td>\n",
              "      <td>0.000853</td>\n",
              "      <td>0.000853</td>\n",
              "      <td>0.009385</td>\n",
              "      <td>0.000853</td>\n",
              "      <td>0.000853</td>\n",
              "      <td>0.000853</td>\n",
              "      <td>0.000853</td>\n",
              "      <td>0.000853</td>\n",
              "      <td>0.000853</td>\n",
              "      <td>0.000853</td>\n",
              "      <td>0.009385</td>\n",
              "      <td>0.000853</td>\n",
              "      <td>0.009385</td>\n",
              "      <td>0.000853</td>\n",
              "      <td>0.000853</td>\n",
              "      <td>0.000853</td>\n",
              "      <td>0.009385</td>\n",
              "      <td>0.000853</td>\n",
              "      <td>0.000853</td>\n",
              "      <td>0.000853</td>\n",
              "      <td>0.009385</td>\n",
              "      <td>0.000853</td>\n",
              "      <td>0.000853</td>\n",
              "      <td>0.000853</td>\n",
              "      <td>0.000853</td>\n",
              "      <td>0.000853</td>\n",
              "      <td>0.000853</td>\n",
              "      <td>0.000853</td>\n",
              "      <td>0.000853</td>\n",
              "      <td>0.000853</td>\n",
              "      <td>0.000853</td>\n",
              "    </tr>\n",
              "    <tr>\n",
              "      <th>topic_2</th>\n",
              "      <td>0.001379</td>\n",
              "      <td>0.001379</td>\n",
              "      <td>0.001379</td>\n",
              "      <td>0.001379</td>\n",
              "      <td>0.001379</td>\n",
              "      <td>0.001379</td>\n",
              "      <td>0.001379</td>\n",
              "      <td>0.001379</td>\n",
              "      <td>0.001379</td>\n",
              "      <td>0.001379</td>\n",
              "      <td>0.016506</td>\n",
              "      <td>0.001379</td>\n",
              "      <td>0.001379</td>\n",
              "      <td>0.001379</td>\n",
              "      <td>0.015173</td>\n",
              "      <td>0.001379</td>\n",
              "      <td>0.001379</td>\n",
              "      <td>0.001379</td>\n",
              "      <td>0.001379</td>\n",
              "      <td>0.001379</td>\n",
              "      <td>0.015173</td>\n",
              "      <td>0.001379</td>\n",
              "      <td>0.015173</td>\n",
              "      <td>0.001379</td>\n",
              "      <td>0.001379</td>\n",
              "      <td>0.001379</td>\n",
              "      <td>0.001379</td>\n",
              "      <td>0.001379</td>\n",
              "      <td>0.015173</td>\n",
              "      <td>0.015172</td>\n",
              "      <td>0.001379</td>\n",
              "      <td>0.001379</td>\n",
              "      <td>0.001379</td>\n",
              "      <td>0.001379</td>\n",
              "      <td>0.001379</td>\n",
              "      <td>0.001379</td>\n",
              "      <td>0.001379</td>\n",
              "      <td>0.001379</td>\n",
              "      <td>0.001379</td>\n",
              "      <td>0.001379</td>\n",
              "      <td>...</td>\n",
              "      <td>0.001379</td>\n",
              "      <td>0.001379</td>\n",
              "      <td>0.001379</td>\n",
              "      <td>0.001379</td>\n",
              "      <td>0.001379</td>\n",
              "      <td>0.001379</td>\n",
              "      <td>0.001379</td>\n",
              "      <td>0.001380</td>\n",
              "      <td>0.001379</td>\n",
              "      <td>0.028967</td>\n",
              "      <td>0.125522</td>\n",
              "      <td>0.001379</td>\n",
              "      <td>0.001379</td>\n",
              "      <td>0.001379</td>\n",
              "      <td>0.001379</td>\n",
              "      <td>0.001379</td>\n",
              "      <td>0.001379</td>\n",
              "      <td>0.001379</td>\n",
              "      <td>0.001379</td>\n",
              "      <td>0.001379</td>\n",
              "      <td>0.015173</td>\n",
              "      <td>0.001379</td>\n",
              "      <td>0.001379</td>\n",
              "      <td>0.001379</td>\n",
              "      <td>0.001382</td>\n",
              "      <td>0.001379</td>\n",
              "      <td>0.001379</td>\n",
              "      <td>0.001379</td>\n",
              "      <td>0.001379</td>\n",
              "      <td>0.001379</td>\n",
              "      <td>0.001379</td>\n",
              "      <td>0.001379</td>\n",
              "      <td>0.001379</td>\n",
              "      <td>0.001379</td>\n",
              "      <td>0.001379</td>\n",
              "      <td>0.001379</td>\n",
              "      <td>0.001379</td>\n",
              "      <td>0.001379</td>\n",
              "      <td>0.001379</td>\n",
              "      <td>0.001379</td>\n",
              "    </tr>\n",
              "    <tr>\n",
              "      <th>topic_3</th>\n",
              "      <td>0.001113</td>\n",
              "      <td>0.001113</td>\n",
              "      <td>0.001113</td>\n",
              "      <td>0.001113</td>\n",
              "      <td>0.001113</td>\n",
              "      <td>0.001113</td>\n",
              "      <td>0.001113</td>\n",
              "      <td>0.001113</td>\n",
              "      <td>0.001113</td>\n",
              "      <td>0.001113</td>\n",
              "      <td>0.001113</td>\n",
              "      <td>0.092947</td>\n",
              "      <td>0.001113</td>\n",
              "      <td>0.001113</td>\n",
              "      <td>0.001113</td>\n",
              "      <td>0.001113</td>\n",
              "      <td>0.001113</td>\n",
              "      <td>0.001113</td>\n",
              "      <td>0.001113</td>\n",
              "      <td>0.001113</td>\n",
              "      <td>0.001113</td>\n",
              "      <td>0.001113</td>\n",
              "      <td>0.001113</td>\n",
              "      <td>0.001113</td>\n",
              "      <td>0.001113</td>\n",
              "      <td>0.001113</td>\n",
              "      <td>0.001113</td>\n",
              "      <td>0.001113</td>\n",
              "      <td>0.001113</td>\n",
              "      <td>0.035566</td>\n",
              "      <td>0.012247</td>\n",
              "      <td>0.001113</td>\n",
              "      <td>0.012247</td>\n",
              "      <td>0.001113</td>\n",
              "      <td>0.001113</td>\n",
              "      <td>0.001113</td>\n",
              "      <td>0.001113</td>\n",
              "      <td>0.001113</td>\n",
              "      <td>0.001113</td>\n",
              "      <td>0.001113</td>\n",
              "      <td>...</td>\n",
              "      <td>0.001113</td>\n",
              "      <td>0.012247</td>\n",
              "      <td>0.001113</td>\n",
              "      <td>0.012247</td>\n",
              "      <td>0.001113</td>\n",
              "      <td>0.001113</td>\n",
              "      <td>0.001113</td>\n",
              "      <td>0.001113</td>\n",
              "      <td>0.001113</td>\n",
              "      <td>0.001113</td>\n",
              "      <td>0.001113</td>\n",
              "      <td>0.001113</td>\n",
              "      <td>0.001113</td>\n",
              "      <td>0.001113</td>\n",
              "      <td>0.001113</td>\n",
              "      <td>0.001113</td>\n",
              "      <td>0.001113</td>\n",
              "      <td>0.001113</td>\n",
              "      <td>0.001113</td>\n",
              "      <td>0.012247</td>\n",
              "      <td>0.001113</td>\n",
              "      <td>0.001113</td>\n",
              "      <td>0.012247</td>\n",
              "      <td>0.001113</td>\n",
              "      <td>0.001113</td>\n",
              "      <td>0.001113</td>\n",
              "      <td>0.001113</td>\n",
              "      <td>0.012247</td>\n",
              "      <td>0.001113</td>\n",
              "      <td>0.001113</td>\n",
              "      <td>0.001113</td>\n",
              "      <td>0.001113</td>\n",
              "      <td>0.001113</td>\n",
              "      <td>0.090184</td>\n",
              "      <td>0.001113</td>\n",
              "      <td>0.012247</td>\n",
              "      <td>0.012245</td>\n",
              "      <td>0.001113</td>\n",
              "      <td>0.001113</td>\n",
              "      <td>0.001113</td>\n",
              "    </tr>\n",
              "    <tr>\n",
              "      <th>topic_4</th>\n",
              "      <td>0.001420</td>\n",
              "      <td>0.001420</td>\n",
              "      <td>0.001420</td>\n",
              "      <td>0.001420</td>\n",
              "      <td>0.001420</td>\n",
              "      <td>0.001420</td>\n",
              "      <td>0.015625</td>\n",
              "      <td>0.001420</td>\n",
              "      <td>0.001420</td>\n",
              "      <td>0.001420</td>\n",
              "      <td>0.015625</td>\n",
              "      <td>0.001420</td>\n",
              "      <td>0.001420</td>\n",
              "      <td>0.001420</td>\n",
              "      <td>0.001420</td>\n",
              "      <td>0.015625</td>\n",
              "      <td>0.001420</td>\n",
              "      <td>0.001420</td>\n",
              "      <td>0.001420</td>\n",
              "      <td>0.001420</td>\n",
              "      <td>0.001420</td>\n",
              "      <td>0.015625</td>\n",
              "      <td>0.001420</td>\n",
              "      <td>0.001420</td>\n",
              "      <td>0.001420</td>\n",
              "      <td>0.001420</td>\n",
              "      <td>0.001420</td>\n",
              "      <td>0.015625</td>\n",
              "      <td>0.001420</td>\n",
              "      <td>0.001421</td>\n",
              "      <td>0.001420</td>\n",
              "      <td>0.001420</td>\n",
              "      <td>0.001420</td>\n",
              "      <td>0.001420</td>\n",
              "      <td>0.001420</td>\n",
              "      <td>0.001420</td>\n",
              "      <td>0.001420</td>\n",
              "      <td>0.001420</td>\n",
              "      <td>0.001420</td>\n",
              "      <td>0.001420</td>\n",
              "      <td>...</td>\n",
              "      <td>0.001420</td>\n",
              "      <td>0.001420</td>\n",
              "      <td>0.015625</td>\n",
              "      <td>0.001420</td>\n",
              "      <td>0.015625</td>\n",
              "      <td>0.015625</td>\n",
              "      <td>0.001420</td>\n",
              "      <td>0.001420</td>\n",
              "      <td>0.001420</td>\n",
              "      <td>0.086648</td>\n",
              "      <td>0.001420</td>\n",
              "      <td>0.001420</td>\n",
              "      <td>0.001420</td>\n",
              "      <td>0.001420</td>\n",
              "      <td>0.001420</td>\n",
              "      <td>0.001420</td>\n",
              "      <td>0.015625</td>\n",
              "      <td>0.001420</td>\n",
              "      <td>0.001420</td>\n",
              "      <td>0.015625</td>\n",
              "      <td>0.001420</td>\n",
              "      <td>0.001420</td>\n",
              "      <td>0.001420</td>\n",
              "      <td>0.015625</td>\n",
              "      <td>0.001420</td>\n",
              "      <td>0.001420</td>\n",
              "      <td>0.001420</td>\n",
              "      <td>0.058240</td>\n",
              "      <td>0.001420</td>\n",
              "      <td>0.001420</td>\n",
              "      <td>0.001420</td>\n",
              "      <td>0.001420</td>\n",
              "      <td>0.001420</td>\n",
              "      <td>0.001420</td>\n",
              "      <td>0.001420</td>\n",
              "      <td>0.001420</td>\n",
              "      <td>0.001420</td>\n",
              "      <td>0.001420</td>\n",
              "      <td>0.001420</td>\n",
              "      <td>0.044034</td>\n",
              "    </tr>\n",
              "    <tr>\n",
              "      <th>topic_5</th>\n",
              "      <td>0.001656</td>\n",
              "      <td>0.001656</td>\n",
              "      <td>0.001656</td>\n",
              "      <td>0.001656</td>\n",
              "      <td>0.018212</td>\n",
              "      <td>0.001656</td>\n",
              "      <td>0.001656</td>\n",
              "      <td>0.001656</td>\n",
              "      <td>0.001656</td>\n",
              "      <td>0.001656</td>\n",
              "      <td>0.001656</td>\n",
              "      <td>0.001656</td>\n",
              "      <td>0.001656</td>\n",
              "      <td>0.001656</td>\n",
              "      <td>0.001656</td>\n",
              "      <td>0.001656</td>\n",
              "      <td>0.001656</td>\n",
              "      <td>0.001656</td>\n",
              "      <td>0.001656</td>\n",
              "      <td>0.001656</td>\n",
              "      <td>0.001656</td>\n",
              "      <td>0.001656</td>\n",
              "      <td>0.001656</td>\n",
              "      <td>0.001656</td>\n",
              "      <td>0.001656</td>\n",
              "      <td>0.034768</td>\n",
              "      <td>0.034768</td>\n",
              "      <td>0.001656</td>\n",
              "      <td>0.001656</td>\n",
              "      <td>0.001656</td>\n",
              "      <td>0.001656</td>\n",
              "      <td>0.018212</td>\n",
              "      <td>0.001656</td>\n",
              "      <td>0.001656</td>\n",
              "      <td>0.001656</td>\n",
              "      <td>0.001656</td>\n",
              "      <td>0.001656</td>\n",
              "      <td>0.001656</td>\n",
              "      <td>0.001656</td>\n",
              "      <td>0.018212</td>\n",
              "      <td>...</td>\n",
              "      <td>0.001656</td>\n",
              "      <td>0.001656</td>\n",
              "      <td>0.001656</td>\n",
              "      <td>0.001656</td>\n",
              "      <td>0.001656</td>\n",
              "      <td>0.001656</td>\n",
              "      <td>0.018212</td>\n",
              "      <td>0.001656</td>\n",
              "      <td>0.001656</td>\n",
              "      <td>0.018211</td>\n",
              "      <td>0.001656</td>\n",
              "      <td>0.001656</td>\n",
              "      <td>0.018212</td>\n",
              "      <td>0.001656</td>\n",
              "      <td>0.018212</td>\n",
              "      <td>0.001656</td>\n",
              "      <td>0.001656</td>\n",
              "      <td>0.001656</td>\n",
              "      <td>0.001656</td>\n",
              "      <td>0.001656</td>\n",
              "      <td>0.001656</td>\n",
              "      <td>0.001656</td>\n",
              "      <td>0.034768</td>\n",
              "      <td>0.001656</td>\n",
              "      <td>0.001656</td>\n",
              "      <td>0.001656</td>\n",
              "      <td>0.018212</td>\n",
              "      <td>0.001656</td>\n",
              "      <td>0.001656</td>\n",
              "      <td>0.001656</td>\n",
              "      <td>0.018212</td>\n",
              "      <td>0.001656</td>\n",
              "      <td>0.001656</td>\n",
              "      <td>0.001656</td>\n",
              "      <td>0.001656</td>\n",
              "      <td>0.001656</td>\n",
              "      <td>0.001656</td>\n",
              "      <td>0.018212</td>\n",
              "      <td>0.001656</td>\n",
              "      <td>0.001656</td>\n",
              "    </tr>\n",
              "    <tr>\n",
              "      <th>topic_6</th>\n",
              "      <td>0.002358</td>\n",
              "      <td>0.002358</td>\n",
              "      <td>0.002358</td>\n",
              "      <td>0.002358</td>\n",
              "      <td>0.002358</td>\n",
              "      <td>0.002358</td>\n",
              "      <td>0.002358</td>\n",
              "      <td>0.002358</td>\n",
              "      <td>0.002358</td>\n",
              "      <td>0.002358</td>\n",
              "      <td>0.002358</td>\n",
              "      <td>0.002359</td>\n",
              "      <td>0.002358</td>\n",
              "      <td>0.002358</td>\n",
              "      <td>0.002358</td>\n",
              "      <td>0.002358</td>\n",
              "      <td>0.002358</td>\n",
              "      <td>0.002358</td>\n",
              "      <td>0.002358</td>\n",
              "      <td>0.049528</td>\n",
              "      <td>0.002358</td>\n",
              "      <td>0.002358</td>\n",
              "      <td>0.002358</td>\n",
              "      <td>0.002358</td>\n",
              "      <td>0.002358</td>\n",
              "      <td>0.002358</td>\n",
              "      <td>0.002358</td>\n",
              "      <td>0.002358</td>\n",
              "      <td>0.002358</td>\n",
              "      <td>0.002359</td>\n",
              "      <td>0.002358</td>\n",
              "      <td>0.002358</td>\n",
              "      <td>0.002358</td>\n",
              "      <td>0.002358</td>\n",
              "      <td>0.002358</td>\n",
              "      <td>0.002358</td>\n",
              "      <td>0.002358</td>\n",
              "      <td>0.002358</td>\n",
              "      <td>0.002358</td>\n",
              "      <td>0.002358</td>\n",
              "      <td>...</td>\n",
              "      <td>0.002358</td>\n",
              "      <td>0.002358</td>\n",
              "      <td>0.002358</td>\n",
              "      <td>0.002358</td>\n",
              "      <td>0.002358</td>\n",
              "      <td>0.002358</td>\n",
              "      <td>0.002358</td>\n",
              "      <td>0.002358</td>\n",
              "      <td>0.002358</td>\n",
              "      <td>0.002358</td>\n",
              "      <td>0.002358</td>\n",
              "      <td>0.002358</td>\n",
              "      <td>0.002358</td>\n",
              "      <td>0.002358</td>\n",
              "      <td>0.002358</td>\n",
              "      <td>0.025944</td>\n",
              "      <td>0.002358</td>\n",
              "      <td>0.002358</td>\n",
              "      <td>0.049528</td>\n",
              "      <td>0.002358</td>\n",
              "      <td>0.002358</td>\n",
              "      <td>0.002358</td>\n",
              "      <td>0.002358</td>\n",
              "      <td>0.002358</td>\n",
              "      <td>0.002358</td>\n",
              "      <td>0.002358</td>\n",
              "      <td>0.002358</td>\n",
              "      <td>0.002358</td>\n",
              "      <td>0.002358</td>\n",
              "      <td>0.002358</td>\n",
              "      <td>0.002358</td>\n",
              "      <td>0.002358</td>\n",
              "      <td>0.002358</td>\n",
              "      <td>0.002358</td>\n",
              "      <td>0.002358</td>\n",
              "      <td>0.002358</td>\n",
              "      <td>0.002358</td>\n",
              "      <td>0.002358</td>\n",
              "      <td>0.025943</td>\n",
              "      <td>0.002358</td>\n",
              "    </tr>\n",
              "    <tr>\n",
              "      <th>topic_7</th>\n",
              "      <td>0.001807</td>\n",
              "      <td>0.001807</td>\n",
              "      <td>0.001807</td>\n",
              "      <td>0.001807</td>\n",
              "      <td>0.001807</td>\n",
              "      <td>0.001807</td>\n",
              "      <td>0.001807</td>\n",
              "      <td>0.001807</td>\n",
              "      <td>0.001807</td>\n",
              "      <td>0.001807</td>\n",
              "      <td>0.001807</td>\n",
              "      <td>0.001808</td>\n",
              "      <td>0.001807</td>\n",
              "      <td>0.001807</td>\n",
              "      <td>0.001807</td>\n",
              "      <td>0.001807</td>\n",
              "      <td>0.001807</td>\n",
              "      <td>0.001807</td>\n",
              "      <td>0.001807</td>\n",
              "      <td>0.001807</td>\n",
              "      <td>0.001807</td>\n",
              "      <td>0.001807</td>\n",
              "      <td>0.001807</td>\n",
              "      <td>0.019882</td>\n",
              "      <td>0.001807</td>\n",
              "      <td>0.001807</td>\n",
              "      <td>0.001807</td>\n",
              "      <td>0.001807</td>\n",
              "      <td>0.001807</td>\n",
              "      <td>0.001808</td>\n",
              "      <td>0.001807</td>\n",
              "      <td>0.001807</td>\n",
              "      <td>0.001807</td>\n",
              "      <td>0.001807</td>\n",
              "      <td>0.001807</td>\n",
              "      <td>0.001807</td>\n",
              "      <td>0.001807</td>\n",
              "      <td>0.001807</td>\n",
              "      <td>0.001807</td>\n",
              "      <td>0.001807</td>\n",
              "      <td>...</td>\n",
              "      <td>0.001807</td>\n",
              "      <td>0.001807</td>\n",
              "      <td>0.001807</td>\n",
              "      <td>0.001807</td>\n",
              "      <td>0.001807</td>\n",
              "      <td>0.001807</td>\n",
              "      <td>0.001807</td>\n",
              "      <td>0.001807</td>\n",
              "      <td>0.001807</td>\n",
              "      <td>0.001807</td>\n",
              "      <td>0.001807</td>\n",
              "      <td>0.001807</td>\n",
              "      <td>0.001807</td>\n",
              "      <td>0.001807</td>\n",
              "      <td>0.001807</td>\n",
              "      <td>0.001807</td>\n",
              "      <td>0.001807</td>\n",
              "      <td>0.019882</td>\n",
              "      <td>0.001807</td>\n",
              "      <td>0.001807</td>\n",
              "      <td>0.001807</td>\n",
              "      <td>0.001807</td>\n",
              "      <td>0.019882</td>\n",
              "      <td>0.001807</td>\n",
              "      <td>0.001807</td>\n",
              "      <td>0.001807</td>\n",
              "      <td>0.001807</td>\n",
              "      <td>0.001807</td>\n",
              "      <td>0.110255</td>\n",
              "      <td>0.001807</td>\n",
              "      <td>0.001807</td>\n",
              "      <td>0.001807</td>\n",
              "      <td>0.001807</td>\n",
              "      <td>0.001807</td>\n",
              "      <td>0.001807</td>\n",
              "      <td>0.001807</td>\n",
              "      <td>0.001811</td>\n",
              "      <td>0.001807</td>\n",
              "      <td>0.001807</td>\n",
              "      <td>0.001807</td>\n",
              "    </tr>\n",
              "    <tr>\n",
              "      <th>topic_8</th>\n",
              "      <td>0.001506</td>\n",
              "      <td>0.001506</td>\n",
              "      <td>0.001506</td>\n",
              "      <td>0.001506</td>\n",
              "      <td>0.001506</td>\n",
              "      <td>0.001506</td>\n",
              "      <td>0.001506</td>\n",
              "      <td>0.001506</td>\n",
              "      <td>0.001506</td>\n",
              "      <td>0.001506</td>\n",
              "      <td>0.001506</td>\n",
              "      <td>0.046688</td>\n",
              "      <td>0.001506</td>\n",
              "      <td>0.001506</td>\n",
              "      <td>0.001506</td>\n",
              "      <td>0.001506</td>\n",
              "      <td>0.001506</td>\n",
              "      <td>0.016566</td>\n",
              "      <td>0.001506</td>\n",
              "      <td>0.001506</td>\n",
              "      <td>0.001506</td>\n",
              "      <td>0.001506</td>\n",
              "      <td>0.001506</td>\n",
              "      <td>0.001506</td>\n",
              "      <td>0.001506</td>\n",
              "      <td>0.016566</td>\n",
              "      <td>0.001506</td>\n",
              "      <td>0.001506</td>\n",
              "      <td>0.001506</td>\n",
              "      <td>0.046687</td>\n",
              "      <td>0.001506</td>\n",
              "      <td>0.001506</td>\n",
              "      <td>0.001506</td>\n",
              "      <td>0.001506</td>\n",
              "      <td>0.001506</td>\n",
              "      <td>0.016566</td>\n",
              "      <td>0.001506</td>\n",
              "      <td>0.001506</td>\n",
              "      <td>0.016566</td>\n",
              "      <td>0.001506</td>\n",
              "      <td>...</td>\n",
              "      <td>0.001506</td>\n",
              "      <td>0.001506</td>\n",
              "      <td>0.001506</td>\n",
              "      <td>0.001506</td>\n",
              "      <td>0.001506</td>\n",
              "      <td>0.001506</td>\n",
              "      <td>0.001506</td>\n",
              "      <td>0.001506</td>\n",
              "      <td>0.016566</td>\n",
              "      <td>0.001506</td>\n",
              "      <td>0.001506</td>\n",
              "      <td>0.001506</td>\n",
              "      <td>0.001506</td>\n",
              "      <td>0.001506</td>\n",
              "      <td>0.001506</td>\n",
              "      <td>0.001506</td>\n",
              "      <td>0.001506</td>\n",
              "      <td>0.001506</td>\n",
              "      <td>0.001506</td>\n",
              "      <td>0.001506</td>\n",
              "      <td>0.001506</td>\n",
              "      <td>0.001506</td>\n",
              "      <td>0.001506</td>\n",
              "      <td>0.001506</td>\n",
              "      <td>0.016564</td>\n",
              "      <td>0.001506</td>\n",
              "      <td>0.001506</td>\n",
              "      <td>0.001506</td>\n",
              "      <td>0.001506</td>\n",
              "      <td>0.001506</td>\n",
              "      <td>0.001506</td>\n",
              "      <td>0.001506</td>\n",
              "      <td>0.016566</td>\n",
              "      <td>0.001506</td>\n",
              "      <td>0.001506</td>\n",
              "      <td>0.001506</td>\n",
              "      <td>0.001506</td>\n",
              "      <td>0.001506</td>\n",
              "      <td>0.001506</td>\n",
              "      <td>0.001506</td>\n",
              "    </tr>\n",
              "    <tr>\n",
              "      <th>topic_9</th>\n",
              "      <td>0.000991</td>\n",
              "      <td>0.000991</td>\n",
              "      <td>0.000991</td>\n",
              "      <td>0.000991</td>\n",
              "      <td>0.000991</td>\n",
              "      <td>0.000991</td>\n",
              "      <td>0.000991</td>\n",
              "      <td>0.040650</td>\n",
              "      <td>0.000991</td>\n",
              "      <td>0.000991</td>\n",
              "      <td>0.010906</td>\n",
              "      <td>0.050014</td>\n",
              "      <td>0.000991</td>\n",
              "      <td>0.000991</td>\n",
              "      <td>0.000991</td>\n",
              "      <td>0.000991</td>\n",
              "      <td>0.000991</td>\n",
              "      <td>0.000991</td>\n",
              "      <td>0.000991</td>\n",
              "      <td>0.000991</td>\n",
              "      <td>0.000991</td>\n",
              "      <td>0.000991</td>\n",
              "      <td>0.000991</td>\n",
              "      <td>0.000991</td>\n",
              "      <td>0.010906</td>\n",
              "      <td>0.000991</td>\n",
              "      <td>0.000991</td>\n",
              "      <td>0.000991</td>\n",
              "      <td>0.010906</td>\n",
              "      <td>0.135591</td>\n",
              "      <td>0.000991</td>\n",
              "      <td>0.000991</td>\n",
              "      <td>0.000991</td>\n",
              "      <td>0.000991</td>\n",
              "      <td>0.000991</td>\n",
              "      <td>0.000991</td>\n",
              "      <td>0.000991</td>\n",
              "      <td>0.000991</td>\n",
              "      <td>0.000991</td>\n",
              "      <td>0.000991</td>\n",
              "      <td>...</td>\n",
              "      <td>0.000991</td>\n",
              "      <td>0.000991</td>\n",
              "      <td>0.000991</td>\n",
              "      <td>0.000991</td>\n",
              "      <td>0.000991</td>\n",
              "      <td>0.000991</td>\n",
              "      <td>0.000991</td>\n",
              "      <td>0.010906</td>\n",
              "      <td>0.000991</td>\n",
              "      <td>0.000992</td>\n",
              "      <td>0.000992</td>\n",
              "      <td>0.000991</td>\n",
              "      <td>0.000991</td>\n",
              "      <td>0.010906</td>\n",
              "      <td>0.000991</td>\n",
              "      <td>0.000991</td>\n",
              "      <td>0.000991</td>\n",
              "      <td>0.000991</td>\n",
              "      <td>0.000991</td>\n",
              "      <td>0.000991</td>\n",
              "      <td>0.000991</td>\n",
              "      <td>0.000991</td>\n",
              "      <td>0.000991</td>\n",
              "      <td>0.000991</td>\n",
              "      <td>0.000991</td>\n",
              "      <td>0.000991</td>\n",
              "      <td>0.000991</td>\n",
              "      <td>0.000991</td>\n",
              "      <td>0.000991</td>\n",
              "      <td>0.000991</td>\n",
              "      <td>0.000991</td>\n",
              "      <td>0.010906</td>\n",
              "      <td>0.000991</td>\n",
              "      <td>0.000992</td>\n",
              "      <td>0.010906</td>\n",
              "      <td>0.000991</td>\n",
              "      <td>0.000991</td>\n",
              "      <td>0.000991</td>\n",
              "      <td>0.000991</td>\n",
              "      <td>0.000991</td>\n",
              "    </tr>\n",
              "  </tbody>\n",
              "</table>\n",
              "<p>10 rows × 234 columns</p>\n",
              "</div>"
            ],
            "text/plain": [
              "          ability   amazing  amazingperformance  ...  worthless       wsm  xcellent\n",
              "topic_0  0.013302  0.001209            0.013302  ...   0.001209  0.001209  0.001209\n",
              "topic_1  0.000853  0.009385            0.000853  ...   0.000853  0.000853  0.000853\n",
              "topic_2  0.001379  0.001379            0.001379  ...   0.001379  0.001379  0.001379\n",
              "topic_3  0.001113  0.001113            0.001113  ...   0.001113  0.001113  0.001113\n",
              "topic_4  0.001420  0.001420            0.001420  ...   0.001420  0.001420  0.044034\n",
              "topic_5  0.001656  0.001656            0.001656  ...   0.018212  0.001656  0.001656\n",
              "topic_6  0.002358  0.002358            0.002358  ...   0.002358  0.025943  0.002358\n",
              "topic_7  0.001807  0.001807            0.001807  ...   0.001807  0.001807  0.001807\n",
              "topic_8  0.001506  0.001506            0.001506  ...   0.001506  0.001506  0.001506\n",
              "topic_9  0.000991  0.000991            0.000991  ...   0.000991  0.000991  0.000991\n",
              "\n",
              "[10 rows x 234 columns]"
            ]
          },
          "metadata": {
            "tags": []
          },
          "execution_count": 192
        }
      ]
    },
    {
      "cell_type": "markdown",
      "metadata": {
        "id": "QCpLSwPPKN7i",
        "colab_type": "text"
      },
      "source": [
        "#### (LDA again - on topics obtained) "
      ]
    },
    {
      "cell_type": "code",
      "metadata": {
        "id": "b4dihwiuKymO",
        "colab_type": "code",
        "colab": {
          "base_uri": "https://localhost:8080/",
          "height": 82
        },
        "outputId": "682650d1-e0de-477e-e196-fa219fe148c3"
      },
      "source": [
        "arr=np.array(print_top_words(lda,bow.get_feature_names(),5)).reshape(1,-1)[0]\n",
        "bow=CountVectorizer(ngram_range=(1,2))\n",
        "bow_review=bow.fit_transform(arr)\n",
        "df_bow=pd.DataFrame(bow_review.toarray(),columns=bow.get_feature_names())\n",
        "lda = LatentDirichletAllocation(n_components=4,random_state=0)\n",
        "lda.fit_transform(df_bow)\n",
        "print_top_words(lda,bow.get_feature_names(),4)\n"
      ],
      "execution_count": 193,
      "outputs": [
        {
          "output_type": "execute_result",
          "data": {
            "text/plain": [
              "[['battery', 'camera', 'delivery', 'online'],\n",
              " ['performance', 'excellent', 'problem', 'osm'],\n",
              " ['bit', 'nice', 'thank', 'value'],\n",
              " ['quality', 'display', 'box', 'backup']]"
            ]
          },
          "metadata": {
            "tags": []
          },
          "execution_count": 193
        }
      ]
    },
    {
      "cell_type": "code",
      "metadata": {
        "id": "5NUoK9EveRxg",
        "colab_type": "code",
        "colab": {
          "base_uri": "https://localhost:8080/",
          "height": 1000
        },
        "outputId": "665b0c62-22ad-456f-b751-5bdb3f26617d"
      },
      "source": [
        "topics=print_top_words(lda,bow.get_feature_names(),4)\n",
        "topic=[\"topic_\"+str(i) for i  in range(0,lda.n_components)]\n",
        "df_doc_topic=pd.DataFrame(lda.fit_transform(df_bow),columns=topic)\n",
        "dominant_topic = np.argmax(df_doc_topic.values, axis=1)\n",
        "df_doc_topic[\"dominant_topic\"] = dominant_topic\n",
        "df_doc_topic[\"review\"]=dataoriginal[\"review\"]\n",
        "df_doc_topic[\"dominant_topic_keywords\"]=[topics[i]  for i in dominant_topic]\n",
        "df_doc_topic"
      ],
      "execution_count": 194,
      "outputs": [
        {
          "output_type": "execute_result",
          "data": {
            "text/html": [
              "<div>\n",
              "<style scoped>\n",
              "    .dataframe tbody tr th:only-of-type {\n",
              "        vertical-align: middle;\n",
              "    }\n",
              "\n",
              "    .dataframe tbody tr th {\n",
              "        vertical-align: top;\n",
              "    }\n",
              "\n",
              "    .dataframe thead th {\n",
              "        text-align: right;\n",
              "    }\n",
              "</style>\n",
              "<table border=\"1\" class=\"dataframe\">\n",
              "  <thead>\n",
              "    <tr style=\"text-align: right;\">\n",
              "      <th></th>\n",
              "      <th>topic_0</th>\n",
              "      <th>topic_1</th>\n",
              "      <th>topic_2</th>\n",
              "      <th>topic_3</th>\n",
              "      <th>dominant_topic</th>\n",
              "      <th>review</th>\n",
              "      <th>dominant_topic_keywords</th>\n",
              "    </tr>\n",
              "  </thead>\n",
              "  <tbody>\n",
              "    <tr>\n",
              "      <th>0</th>\n",
              "      <td>0.125119</td>\n",
              "      <td>0.125211</td>\n",
              "      <td>0.624471</td>\n",
              "      <td>0.125199</td>\n",
              "      <td>2</td>\n",
              "      <td>Bokeh mode is very excellent than any other ha...</td>\n",
              "      <td>[bit, nice, thank, value]</td>\n",
              "    </tr>\n",
              "    <tr>\n",
              "      <th>1</th>\n",
              "      <td>0.624862</td>\n",
              "      <td>0.125050</td>\n",
              "      <td>0.125040</td>\n",
              "      <td>0.125047</td>\n",
              "      <td>0</td>\n",
              "      <td>Just awsome product the picture quality is goo...</td>\n",
              "      <td>[battery, camera, delivery, online]</td>\n",
              "    </tr>\n",
              "    <tr>\n",
              "      <th>2</th>\n",
              "      <td>0.125046</td>\n",
              "      <td>0.125081</td>\n",
              "      <td>0.125065</td>\n",
              "      <td>0.624809</td>\n",
              "      <td>3</td>\n",
              "      <td>Samsung galaxy m30s is most useful.But Samsung...</td>\n",
              "      <td>[quality, display, box, backup]</td>\n",
              "    </tr>\n",
              "    <tr>\n",
              "      <th>3</th>\n",
              "      <td>0.125102</td>\n",
              "      <td>0.125181</td>\n",
              "      <td>0.125146</td>\n",
              "      <td>0.624572</td>\n",
              "      <td>3</td>\n",
              "      <td>Not worth for me. i buy for my samsung tv this...</td>\n",
              "      <td>[quality, display, box, backup]</td>\n",
              "    </tr>\n",
              "    <tr>\n",
              "      <th>4</th>\n",
              "      <td>0.125119</td>\n",
              "      <td>0.125211</td>\n",
              "      <td>0.624471</td>\n",
              "      <td>0.125199</td>\n",
              "      <td>2</td>\n",
              "      <td>BSOLUTELY BEST PHONE, GO FOR THIS PHONELET ME ...</td>\n",
              "      <td>[bit, nice, thank, value]</td>\n",
              "    </tr>\n",
              "    <tr>\n",
              "      <th>5</th>\n",
              "      <td>0.624862</td>\n",
              "      <td>0.125050</td>\n",
              "      <td>0.125040</td>\n",
              "      <td>0.125047</td>\n",
              "      <td>0</td>\n",
              "      <td>I have realized that this phone is full packag...</td>\n",
              "      <td>[battery, camera, delivery, online]</td>\n",
              "    </tr>\n",
              "    <tr>\n",
              "      <th>6</th>\n",
              "      <td>0.624826</td>\n",
              "      <td>0.125063</td>\n",
              "      <td>0.125051</td>\n",
              "      <td>0.125060</td>\n",
              "      <td>0</td>\n",
              "      <td>one of the good phone in this price range , th...</td>\n",
              "      <td>[battery, camera, delivery, online]</td>\n",
              "    </tr>\n",
              "    <tr>\n",
              "      <th>7</th>\n",
              "      <td>0.125102</td>\n",
              "      <td>0.125181</td>\n",
              "      <td>0.125146</td>\n",
              "      <td>0.624572</td>\n",
              "      <td>3</td>\n",
              "      <td>Nice mobile and it comes good battery back up....</td>\n",
              "      <td>[quality, display, box, backup]</td>\n",
              "    </tr>\n",
              "    <tr>\n",
              "      <th>8</th>\n",
              "      <td>0.125028</td>\n",
              "      <td>0.624887</td>\n",
              "      <td>0.125039</td>\n",
              "      <td>0.125046</td>\n",
              "      <td>1</td>\n",
              "      <td>Been using this phone for more than 4 months n...</td>\n",
              "      <td>[performance, excellent, problem, osm]</td>\n",
              "    </tr>\n",
              "    <tr>\n",
              "      <th>9</th>\n",
              "      <td>0.125119</td>\n",
              "      <td>0.125211</td>\n",
              "      <td>0.624471</td>\n",
              "      <td>0.125199</td>\n",
              "      <td>2</td>\n",
              "      <td>This phone is works excellent so far after (6 ...</td>\n",
              "      <td>[bit, nice, thank, value]</td>\n",
              "    </tr>\n",
              "    <tr>\n",
              "      <th>10</th>\n",
              "      <td>0.125102</td>\n",
              "      <td>0.125181</td>\n",
              "      <td>0.125146</td>\n",
              "      <td>0.624572</td>\n",
              "      <td>3</td>\n",
              "      <td>super camera</td>\n",
              "      <td>[quality, display, box, backup]</td>\n",
              "    </tr>\n",
              "    <tr>\n",
              "      <th>11</th>\n",
              "      <td>0.125102</td>\n",
              "      <td>0.125181</td>\n",
              "      <td>0.125146</td>\n",
              "      <td>0.624572</td>\n",
              "      <td>3</td>\n",
              "      <td>superb battery backup 👌</td>\n",
              "      <td>[quality, display, box, backup]</td>\n",
              "    </tr>\n",
              "    <tr>\n",
              "      <th>12</th>\n",
              "      <td>0.624161</td>\n",
              "      <td>0.125305</td>\n",
              "      <td>0.125246</td>\n",
              "      <td>0.125288</td>\n",
              "      <td>0</td>\n",
              "      <td>the phone awesome....</td>\n",
              "      <td>[battery, camera, delivery, online]</td>\n",
              "    </tr>\n",
              "    <tr>\n",
              "      <th>13</th>\n",
              "      <td>0.624628</td>\n",
              "      <td>0.125135</td>\n",
              "      <td>0.125109</td>\n",
              "      <td>0.125127</td>\n",
              "      <td>0</td>\n",
              "      <td>Nice mobile</td>\n",
              "      <td>[battery, camera, delivery, online]</td>\n",
              "    </tr>\n",
              "    <tr>\n",
              "      <th>14</th>\n",
              "      <td>0.624161</td>\n",
              "      <td>0.125305</td>\n",
              "      <td>0.125246</td>\n",
              "      <td>0.125288</td>\n",
              "      <td>0</td>\n",
              "      <td>very good camera and display</td>\n",
              "      <td>[battery, camera, delivery, online]</td>\n",
              "    </tr>\n",
              "    <tr>\n",
              "      <th>15</th>\n",
              "      <td>0.624862</td>\n",
              "      <td>0.125050</td>\n",
              "      <td>0.125040</td>\n",
              "      <td>0.125047</td>\n",
              "      <td>0</td>\n",
              "      <td>very nice set</td>\n",
              "      <td>[battery, camera, delivery, online]</td>\n",
              "    </tr>\n",
              "    <tr>\n",
              "      <th>16</th>\n",
              "      <td>0.125119</td>\n",
              "      <td>0.125211</td>\n",
              "      <td>0.624471</td>\n",
              "      <td>0.125199</td>\n",
              "      <td>2</td>\n",
              "      <td>Best Mobile Best Camera and Battry is so power...</td>\n",
              "      <td>[bit, nice, thank, value]</td>\n",
              "    </tr>\n",
              "    <tr>\n",
              "      <th>17</th>\n",
              "      <td>0.125046</td>\n",
              "      <td>0.125081</td>\n",
              "      <td>0.125065</td>\n",
              "      <td>0.624809</td>\n",
              "      <td>3</td>\n",
              "      <td>really good product... satisfied...thank you.....</td>\n",
              "      <td>[quality, display, box, backup]</td>\n",
              "    </tr>\n",
              "    <tr>\n",
              "      <th>18</th>\n",
              "      <td>0.624826</td>\n",
              "      <td>0.125063</td>\n",
              "      <td>0.125051</td>\n",
              "      <td>0.125060</td>\n",
              "      <td>0</td>\n",
              "      <td>super</td>\n",
              "      <td>[battery, camera, delivery, online]</td>\n",
              "    </tr>\n",
              "    <tr>\n",
              "      <th>19</th>\n",
              "      <td>0.624161</td>\n",
              "      <td>0.125305</td>\n",
              "      <td>0.125246</td>\n",
              "      <td>0.125288</td>\n",
              "      <td>0</td>\n",
              "      <td>not bad</td>\n",
              "      <td>[battery, camera, delivery, online]</td>\n",
              "    </tr>\n",
              "    <tr>\n",
              "      <th>20</th>\n",
              "      <td>0.624161</td>\n",
              "      <td>0.125305</td>\n",
              "      <td>0.125246</td>\n",
              "      <td>0.125288</td>\n",
              "      <td>0</td>\n",
              "      <td>Very nice camera and battery  backup all over ...</td>\n",
              "      <td>[battery, camera, delivery, online]</td>\n",
              "    </tr>\n",
              "    <tr>\n",
              "      <th>21</th>\n",
              "      <td>0.125119</td>\n",
              "      <td>0.125211</td>\n",
              "      <td>0.624471</td>\n",
              "      <td>0.125199</td>\n",
              "      <td>2</td>\n",
              "      <td>Superb</td>\n",
              "      <td>[bit, nice, thank, value]</td>\n",
              "    </tr>\n",
              "    <tr>\n",
              "      <th>22</th>\n",
              "      <td>0.624161</td>\n",
              "      <td>0.125305</td>\n",
              "      <td>0.125246</td>\n",
              "      <td>0.125288</td>\n",
              "      <td>0</td>\n",
              "      <td>very good product!!!  Thnks flipkart 😇😇</td>\n",
              "      <td>[battery, camera, delivery, online]</td>\n",
              "    </tr>\n",
              "    <tr>\n",
              "      <th>23</th>\n",
              "      <td>0.125028</td>\n",
              "      <td>0.624887</td>\n",
              "      <td>0.125039</td>\n",
              "      <td>0.125046</td>\n",
              "      <td>1</td>\n",
              "      <td>It's awesome Product</td>\n",
              "      <td>[performance, excellent, problem, osm]</td>\n",
              "    </tr>\n",
              "    <tr>\n",
              "      <th>24</th>\n",
              "      <td>0.125119</td>\n",
              "      <td>0.125211</td>\n",
              "      <td>0.624471</td>\n",
              "      <td>0.125199</td>\n",
              "      <td>2</td>\n",
              "      <td>Head phone miss</td>\n",
              "      <td>[bit, nice, thank, value]</td>\n",
              "    </tr>\n",
              "    <tr>\n",
              "      <th>25</th>\n",
              "      <td>0.624161</td>\n",
              "      <td>0.125305</td>\n",
              "      <td>0.125246</td>\n",
              "      <td>0.125288</td>\n",
              "      <td>0</td>\n",
              "      <td>Camara is awesome</td>\n",
              "      <td>[battery, camera, delivery, online]</td>\n",
              "    </tr>\n",
              "    <tr>\n",
              "      <th>26</th>\n",
              "      <td>0.624161</td>\n",
              "      <td>0.125305</td>\n",
              "      <td>0.125246</td>\n",
              "      <td>0.125288</td>\n",
              "      <td>0</td>\n",
              "      <td>nice m</td>\n",
              "      <td>[battery, camera, delivery, online]</td>\n",
              "    </tr>\n",
              "    <tr>\n",
              "      <th>27</th>\n",
              "      <td>0.125119</td>\n",
              "      <td>0.125211</td>\n",
              "      <td>0.624471</td>\n",
              "      <td>0.125199</td>\n",
              "      <td>2</td>\n",
              "      <td>Good</td>\n",
              "      <td>[bit, nice, thank, value]</td>\n",
              "    </tr>\n",
              "    <tr>\n",
              "      <th>28</th>\n",
              "      <td>0.125119</td>\n",
              "      <td>0.125211</td>\n",
              "      <td>0.624471</td>\n",
              "      <td>0.125199</td>\n",
              "      <td>2</td>\n",
              "      <td>excellent perform</td>\n",
              "      <td>[bit, nice, thank, value]</td>\n",
              "    </tr>\n",
              "    <tr>\n",
              "      <th>29</th>\n",
              "      <td>0.125096</td>\n",
              "      <td>0.624606</td>\n",
              "      <td>0.125138</td>\n",
              "      <td>0.125161</td>\n",
              "      <td>1</td>\n",
              "      <td>Best Mobile !</td>\n",
              "      <td>[performance, excellent, problem, osm]</td>\n",
              "    </tr>\n",
              "    <tr>\n",
              "      <th>30</th>\n",
              "      <td>0.125119</td>\n",
              "      <td>0.125211</td>\n",
              "      <td>0.624471</td>\n",
              "      <td>0.125199</td>\n",
              "      <td>2</td>\n",
              "      <td>very nice samsung m30s</td>\n",
              "      <td>[bit, nice, thank, value]</td>\n",
              "    </tr>\n",
              "    <tr>\n",
              "      <th>31</th>\n",
              "      <td>0.125102</td>\n",
              "      <td>0.125181</td>\n",
              "      <td>0.125146</td>\n",
              "      <td>0.624572</td>\n",
              "      <td>3</td>\n",
              "      <td>tanks flipkart</td>\n",
              "      <td>[quality, display, box, backup]</td>\n",
              "    </tr>\n",
              "    <tr>\n",
              "      <th>32</th>\n",
              "      <td>0.125119</td>\n",
              "      <td>0.125211</td>\n",
              "      <td>0.624471</td>\n",
              "      <td>0.125199</td>\n",
              "      <td>2</td>\n",
              "      <td>Performance is just..osm..n camera though..👌👌😍</td>\n",
              "      <td>[bit, nice, thank, value]</td>\n",
              "    </tr>\n",
              "    <tr>\n",
              "      <th>33</th>\n",
              "      <td>0.125096</td>\n",
              "      <td>0.624606</td>\n",
              "      <td>0.125138</td>\n",
              "      <td>0.125161</td>\n",
              "      <td>1</td>\n",
              "      <td>nice mobile</td>\n",
              "      <td>[performance, excellent, problem, osm]</td>\n",
              "    </tr>\n",
              "    <tr>\n",
              "      <th>34</th>\n",
              "      <td>0.125096</td>\n",
              "      <td>0.624606</td>\n",
              "      <td>0.125138</td>\n",
              "      <td>0.125161</td>\n",
              "      <td>1</td>\n",
              "      <td>nice phone</td>\n",
              "      <td>[performance, excellent, problem, osm]</td>\n",
              "    </tr>\n",
              "    <tr>\n",
              "      <th>35</th>\n",
              "      <td>0.125119</td>\n",
              "      <td>0.125211</td>\n",
              "      <td>0.624471</td>\n",
              "      <td>0.125199</td>\n",
              "      <td>2</td>\n",
              "      <td>nice product but speaker is not in correct pla...</td>\n",
              "      <td>[bit, nice, thank, value]</td>\n",
              "    </tr>\n",
              "    <tr>\n",
              "      <th>36</th>\n",
              "      <td>0.125119</td>\n",
              "      <td>0.125211</td>\n",
              "      <td>0.624471</td>\n",
              "      <td>0.125199</td>\n",
              "      <td>2</td>\n",
              "      <td>Gzb mobile hIt have owesome display and good b...</td>\n",
              "      <td>[bit, nice, thank, value]</td>\n",
              "    </tr>\n",
              "    <tr>\n",
              "      <th>37</th>\n",
              "      <td>0.624628</td>\n",
              "      <td>0.125135</td>\n",
              "      <td>0.125109</td>\n",
              "      <td>0.125127</td>\n",
              "      <td>0</td>\n",
              "      <td>very nice mobile</td>\n",
              "      <td>[battery, camera, delivery, online]</td>\n",
              "    </tr>\n",
              "    <tr>\n",
              "      <th>38</th>\n",
              "      <td>0.125096</td>\n",
              "      <td>0.624606</td>\n",
              "      <td>0.125138</td>\n",
              "      <td>0.125161</td>\n",
              "      <td>1</td>\n",
              "      <td>osm nice phone</td>\n",
              "      <td>[performance, excellent, problem, osm]</td>\n",
              "    </tr>\n",
              "    <tr>\n",
              "      <th>39</th>\n",
              "      <td>0.624161</td>\n",
              "      <td>0.125305</td>\n",
              "      <td>0.125246</td>\n",
              "      <td>0.125288</td>\n",
              "      <td>0</td>\n",
              "      <td>top 1</td>\n",
              "      <td>[battery, camera, delivery, online]</td>\n",
              "    </tr>\n",
              "    <tr>\n",
              "      <th>40</th>\n",
              "      <td>0.125046</td>\n",
              "      <td>0.125081</td>\n",
              "      <td>0.125065</td>\n",
              "      <td>0.624809</td>\n",
              "      <td>3</td>\n",
              "      <td>xcellent  Value of money</td>\n",
              "      <td>[quality, display, box, backup]</td>\n",
              "    </tr>\n",
              "    <tr>\n",
              "      <th>41</th>\n",
              "      <td>0.624862</td>\n",
              "      <td>0.125050</td>\n",
              "      <td>0.125040</td>\n",
              "      <td>0.125047</td>\n",
              "      <td>0</td>\n",
              "      <td>nice</td>\n",
              "      <td>[battery, camera, delivery, online]</td>\n",
              "    </tr>\n",
              "    <tr>\n",
              "      <th>42</th>\n",
              "      <td>0.624826</td>\n",
              "      <td>0.125063</td>\n",
              "      <td>0.125051</td>\n",
              "      <td>0.125060</td>\n",
              "      <td>0</td>\n",
              "      <td>Good one nice product</td>\n",
              "      <td>[battery, camera, delivery, online]</td>\n",
              "    </tr>\n",
              "    <tr>\n",
              "      <th>43</th>\n",
              "      <td>0.125096</td>\n",
              "      <td>0.624606</td>\n",
              "      <td>0.125138</td>\n",
              "      <td>0.125161</td>\n",
              "      <td>1</td>\n",
              "      <td>its very smooth and easy</td>\n",
              "      <td>[performance, excellent, problem, osm]</td>\n",
              "    </tr>\n",
              "    <tr>\n",
              "      <th>44</th>\n",
              "      <td>0.624161</td>\n",
              "      <td>0.125305</td>\n",
              "      <td>0.125246</td>\n",
              "      <td>0.125288</td>\n",
              "      <td>0</td>\n",
              "      <td>K Super nice. 👍</td>\n",
              "      <td>[battery, camera, delivery, online]</td>\n",
              "    </tr>\n",
              "    <tr>\n",
              "      <th>45</th>\n",
              "      <td>0.624826</td>\n",
              "      <td>0.125063</td>\n",
              "      <td>0.125051</td>\n",
              "      <td>0.125060</td>\n",
              "      <td>0</td>\n",
              "      <td>it has hang problem,although display is very n...</td>\n",
              "      <td>[battery, camera, delivery, online]</td>\n",
              "    </tr>\n",
              "    <tr>\n",
              "      <th>46</th>\n",
              "      <td>0.125046</td>\n",
              "      <td>0.125081</td>\n",
              "      <td>0.125065</td>\n",
              "      <td>0.624809</td>\n",
              "      <td>3</td>\n",
              "      <td>Good phone</td>\n",
              "      <td>[quality, display, box, backup]</td>\n",
              "    </tr>\n",
              "    <tr>\n",
              "      <th>47</th>\n",
              "      <td>0.125028</td>\n",
              "      <td>0.624887</td>\n",
              "      <td>0.125039</td>\n",
              "      <td>0.125046</td>\n",
              "      <td>1</td>\n",
              "      <td>Super</td>\n",
              "      <td>[performance, excellent, problem, osm]</td>\n",
              "    </tr>\n",
              "    <tr>\n",
              "      <th>48</th>\n",
              "      <td>0.624862</td>\n",
              "      <td>0.125050</td>\n",
              "      <td>0.125040</td>\n",
              "      <td>0.125047</td>\n",
              "      <td>0</td>\n",
              "      <td>I have facing problems with charging issues wi...</td>\n",
              "      <td>[battery, camera, delivery, online]</td>\n",
              "    </tr>\n",
              "    <tr>\n",
              "      <th>49</th>\n",
              "      <td>0.624161</td>\n",
              "      <td>0.125305</td>\n",
              "      <td>0.125246</td>\n",
              "      <td>0.125288</td>\n",
              "      <td>0</td>\n",
              "      <td>thakarthu</td>\n",
              "      <td>[battery, camera, delivery, online]</td>\n",
              "    </tr>\n",
              "  </tbody>\n",
              "</table>\n",
              "</div>"
            ],
            "text/plain": [
              "     topic_0  ...                 dominant_topic_keywords\n",
              "0   0.125119  ...               [bit, nice, thank, value]\n",
              "1   0.624862  ...     [battery, camera, delivery, online]\n",
              "2   0.125046  ...         [quality, display, box, backup]\n",
              "3   0.125102  ...         [quality, display, box, backup]\n",
              "4   0.125119  ...               [bit, nice, thank, value]\n",
              "5   0.624862  ...     [battery, camera, delivery, online]\n",
              "6   0.624826  ...     [battery, camera, delivery, online]\n",
              "7   0.125102  ...         [quality, display, box, backup]\n",
              "8   0.125028  ...  [performance, excellent, problem, osm]\n",
              "9   0.125119  ...               [bit, nice, thank, value]\n",
              "10  0.125102  ...         [quality, display, box, backup]\n",
              "11  0.125102  ...         [quality, display, box, backup]\n",
              "12  0.624161  ...     [battery, camera, delivery, online]\n",
              "13  0.624628  ...     [battery, camera, delivery, online]\n",
              "14  0.624161  ...     [battery, camera, delivery, online]\n",
              "15  0.624862  ...     [battery, camera, delivery, online]\n",
              "16  0.125119  ...               [bit, nice, thank, value]\n",
              "17  0.125046  ...         [quality, display, box, backup]\n",
              "18  0.624826  ...     [battery, camera, delivery, online]\n",
              "19  0.624161  ...     [battery, camera, delivery, online]\n",
              "20  0.624161  ...     [battery, camera, delivery, online]\n",
              "21  0.125119  ...               [bit, nice, thank, value]\n",
              "22  0.624161  ...     [battery, camera, delivery, online]\n",
              "23  0.125028  ...  [performance, excellent, problem, osm]\n",
              "24  0.125119  ...               [bit, nice, thank, value]\n",
              "25  0.624161  ...     [battery, camera, delivery, online]\n",
              "26  0.624161  ...     [battery, camera, delivery, online]\n",
              "27  0.125119  ...               [bit, nice, thank, value]\n",
              "28  0.125119  ...               [bit, nice, thank, value]\n",
              "29  0.125096  ...  [performance, excellent, problem, osm]\n",
              "30  0.125119  ...               [bit, nice, thank, value]\n",
              "31  0.125102  ...         [quality, display, box, backup]\n",
              "32  0.125119  ...               [bit, nice, thank, value]\n",
              "33  0.125096  ...  [performance, excellent, problem, osm]\n",
              "34  0.125096  ...  [performance, excellent, problem, osm]\n",
              "35  0.125119  ...               [bit, nice, thank, value]\n",
              "36  0.125119  ...               [bit, nice, thank, value]\n",
              "37  0.624628  ...     [battery, camera, delivery, online]\n",
              "38  0.125096  ...  [performance, excellent, problem, osm]\n",
              "39  0.624161  ...     [battery, camera, delivery, online]\n",
              "40  0.125046  ...         [quality, display, box, backup]\n",
              "41  0.624862  ...     [battery, camera, delivery, online]\n",
              "42  0.624826  ...     [battery, camera, delivery, online]\n",
              "43  0.125096  ...  [performance, excellent, problem, osm]\n",
              "44  0.624161  ...     [battery, camera, delivery, online]\n",
              "45  0.624826  ...     [battery, camera, delivery, online]\n",
              "46  0.125046  ...         [quality, display, box, backup]\n",
              "47  0.125028  ...  [performance, excellent, problem, osm]\n",
              "48  0.624862  ...     [battery, camera, delivery, online]\n",
              "49  0.624161  ...     [battery, camera, delivery, online]\n",
              "\n",
              "[50 rows x 7 columns]"
            ]
          },
          "metadata": {
            "tags": []
          },
          "execution_count": 194
        }
      ]
    },
    {
      "cell_type": "markdown",
      "metadata": {
        "id": "ID0gJZw2vJ78",
        "colab_type": "text"
      },
      "source": [
        "### LDA TFIDF"
      ]
    },
    {
      "cell_type": "code",
      "metadata": {
        "id": "0WEDJTe3u-80",
        "colab_type": "code",
        "colab": {
          "base_uri": "https://localhost:8080/",
          "height": 147
        },
        "outputId": "a6da9e59-99e2-4255-b3ac-f7b5fb6a78e3"
      },
      "source": [
        "tfidf=TfidfVectorizer(ngram_range=(1,1))\n",
        "tfidf_words=tfidf.fit_transform(data[\"review\"])\n",
        "words=tfidf.get_feature_names()\n",
        "df_bow=pd.DataFrame(tfidf_words.toarray(),columns=words)\n",
        "lda = LatentDirichletAllocation(n_components=8,random_state=0)\n",
        "lda.fit_transform(tfidf_words)\n",
        "print_top_words(lda,words,4)"
      ],
      "execution_count": 36,
      "outputs": [
        {
          "output_type": "execute_result",
          "data": {
            "text/plain": [
              "[['awesome', 'excellent', 'isplay', 'sm'],\n",
              " ['camera', 'super', 'quality', 'm30s'],\n",
              " ['superb', 'samsung', 'delivery', 'love'],\n",
              " ['battery', 'price', 'wesome', 'backup'],\n",
              " ['ok', 'smartphone', 'use', 'purchase'],\n",
              " ['money', 'value', 'call', 'delivery'],\n",
              " ['nice', 'experience', 'function', 'thank'],\n",
              " ['ear', 'perfomance', 'android', 'butter']]"
            ]
          },
          "metadata": {
            "tags": []
          },
          "execution_count": 36
        }
      ]
    },
    {
      "cell_type": "markdown",
      "metadata": {
        "id": "LT3bbvSkLCgj",
        "colab_type": "text"
      },
      "source": [
        "#### (LDA again - on topics obtained) "
      ]
    },
    {
      "cell_type": "code",
      "metadata": {
        "id": "psRb-b8lvmKk",
        "colab_type": "code",
        "colab": {
          "base_uri": "https://localhost:8080/",
          "height": 82
        },
        "outputId": "236d3b4d-0963-40b8-9c81-2493255a0325"
      },
      "source": [
        "arr=np.array(print_top_words(lda,words,5)).reshape(1,-1)[0]\n",
        "tfidf=TfidfVectorizer(ngram_range=(1,1))\n",
        "tfidf_words=tfidf.fit_transform(arr)\n",
        "words=tfidf.get_feature_names()\n",
        "df_tfidf=pd.DataFrame(tfidf_words.toarray(),columns=words)\n",
        "lda = LatentDirichletAllocation(n_components=4,random_state=0)\n",
        "lda.fit_transform(df_tfidf)\n",
        "print_top_words(lda,words,4)\n"
      ],
      "execution_count": 37,
      "outputs": [
        {
          "output_type": "execute_result",
          "data": {
            "text/plain": [
              "[['super', 'ear', 'glass', 'butter'],\n",
              " ['delivery', 'm30s', 'use', 'rattan'],\n",
              " ['camera', 'display', 'isplay', 'wesome'],\n",
              " ['experience', 'ok', 'thank', 'mi']]"
            ]
          },
          "metadata": {
            "tags": []
          },
          "execution_count": 37
        }
      ]
    },
    {
      "cell_type": "markdown",
      "metadata": {
        "id": "jMnA35MaMEWR",
        "colab_type": "text"
      },
      "source": [
        ""
      ]
    },
    {
      "cell_type": "markdown",
      "metadata": {
        "id": "U9D2nNB2vm1W",
        "colab_type": "text"
      },
      "source": [
        "### NMF BOW (better results)"
      ]
    },
    {
      "cell_type": "code",
      "metadata": {
        "id": "lMYWmPzHlYVe",
        "colab_type": "code",
        "colab": {}
      },
      "source": [
        "bow=CountVectorizer(ngram_range=(1,1))\n",
        "bow_review=bow.fit_transform(data[\"review\"])\n"
      ],
      "execution_count": 128,
      "outputs": []
    },
    {
      "cell_type": "code",
      "metadata": {
        "id": "rmQt2f7fvWUs",
        "colab_type": "code",
        "colab": {
          "base_uri": "https://localhost:8080/",
          "height": 98
        },
        "outputId": "fd005fe5-7bf2-465f-9edd-3b890d2498a2"
      },
      "source": [
        "bow=CountVectorizer(ngram_range=(1,1))\n",
        "bow_review=bow.fit_transform(data[\"review\"])\n",
        "\n",
        "nmf = NMF(n_components=5, random_state=1,\n",
        "          beta_loss='kullback-leibler', solver='mu', max_iter=1000, alpha=.1,\n",
        "          l1_ratio=.5).fit(bow_review)\n",
        "bow_words=bow.get_feature_names()\n",
        "print_top_words(nmf,bow_words,5)"
      ],
      "execution_count": 133,
      "outputs": [
        {
          "output_type": "execute_result",
          "data": {
            "text/plain": [
              "[['phone', 'superb', 'use', 'range', 'battery'],\n",
              " ['product', 'delivery', 'buy', 'function', 'team'],\n",
              " ['battery', 'display', 'camera', 'price', 'performance'],\n",
              " ['mobile', 'samsung', 'super', 'performance', 'flipkart'],\n",
              " ['camera', 'quality', 'money', 'wesome', 'value']]"
            ]
          },
          "metadata": {
            "tags": []
          },
          "execution_count": 133
        }
      ]
    },
    {
      "cell_type": "code",
      "metadata": {
        "id": "iRDJTqy7UTbF",
        "colab_type": "code",
        "colab": {
          "base_uri": "https://localhost:8080/",
          "height": 391
        },
        "outputId": "e9208fad-fb83-48d7-a11b-6f0edecb9aae"
      },
      "source": [
        "topics=print_top_words(nmf,bow_words,5)\n",
        "topic=[\"topic_\"+str(i) for i  in range(0,nmf.n_components)]\n",
        "df_doc_topic=pd.DataFrame(np.round(nmf.transform(bow_review),2),columns=topic)\n",
        "dominant_topic = np.argmax(df_doc_topic.values, axis=1)\n",
        "df_doc_topic[\"dominant_topic\"] = dominant_topic\n",
        "df_doc_topic[\"review\"]=dataoriginal[\"review\"]\n",
        "df_doc_topic[\"dominant_topic_keywords\"]=[topics[i]  for i in dominant_topic]\n",
        "df_doc_topic"
      ],
      "execution_count": 134,
      "outputs": [
        {
          "output_type": "execute_result",
          "data": {
            "text/html": [
              "<div>\n",
              "<style scoped>\n",
              "    .dataframe tbody tr th:only-of-type {\n",
              "        vertical-align: middle;\n",
              "    }\n",
              "\n",
              "    .dataframe tbody tr th {\n",
              "        vertical-align: top;\n",
              "    }\n",
              "\n",
              "    .dataframe thead th {\n",
              "        text-align: right;\n",
              "    }\n",
              "</style>\n",
              "<table border=\"1\" class=\"dataframe\">\n",
              "  <thead>\n",
              "    <tr style=\"text-align: right;\">\n",
              "      <th></th>\n",
              "      <th>topic_0</th>\n",
              "      <th>topic_1</th>\n",
              "      <th>topic_2</th>\n",
              "      <th>topic_3</th>\n",
              "      <th>topic_4</th>\n",
              "      <th>dominant_topic</th>\n",
              "      <th>review</th>\n",
              "      <th>dominant_topic_keywords</th>\n",
              "    </tr>\n",
              "  </thead>\n",
              "  <tbody>\n",
              "    <tr>\n",
              "      <th>0</th>\n",
              "      <td>0.00</td>\n",
              "      <td>0.00</td>\n",
              "      <td>1.14</td>\n",
              "      <td>0.00</td>\n",
              "      <td>0.0</td>\n",
              "      <td>2</td>\n",
              "      <td>Bokeh mode is very excellent than any other ha...</td>\n",
              "      <td>[battery, display, camera, price, performance]</td>\n",
              "    </tr>\n",
              "    <tr>\n",
              "      <th>1</th>\n",
              "      <td>0.21</td>\n",
              "      <td>0.57</td>\n",
              "      <td>0.10</td>\n",
              "      <td>0.00</td>\n",
              "      <td>0.3</td>\n",
              "      <td>1</td>\n",
              "      <td>Just awsome product the picture quality is goo...</td>\n",
              "      <td>[product, delivery, buy, function, team]</td>\n",
              "    </tr>\n",
              "    <tr>\n",
              "      <th>2</th>\n",
              "      <td>0.18</td>\n",
              "      <td>0.00</td>\n",
              "      <td>0.17</td>\n",
              "      <td>0.70</td>\n",
              "      <td>0.0</td>\n",
              "      <td>3</td>\n",
              "      <td>Samsung galaxy m30s is most useful.But Samsung...</td>\n",
              "      <td>[mobile, samsung, super, performance, flipkart]</td>\n",
              "    </tr>\n",
              "    <tr>\n",
              "      <th>3</th>\n",
              "      <td>0.00</td>\n",
              "      <td>1.52</td>\n",
              "      <td>0.00</td>\n",
              "      <td>0.23</td>\n",
              "      <td>0.0</td>\n",
              "      <td>1</td>\n",
              "      <td>Not worth for me. i buy for my samsung tv this...</td>\n",
              "      <td>[product, delivery, buy, function, team]</td>\n",
              "    </tr>\n",
              "    <tr>\n",
              "      <th>4</th>\n",
              "      <td>0.09</td>\n",
              "      <td>0.00</td>\n",
              "      <td>0.90</td>\n",
              "      <td>0.00</td>\n",
              "      <td>0.0</td>\n",
              "      <td>2</td>\n",
              "      <td>BSOLUTELY BEST PHONE, GO FOR THIS PHONELET ME ...</td>\n",
              "      <td>[battery, display, camera, price, performance]</td>\n",
              "    </tr>\n",
              "    <tr>\n",
              "      <th>...</th>\n",
              "      <td>...</td>\n",
              "      <td>...</td>\n",
              "      <td>...</td>\n",
              "      <td>...</td>\n",
              "      <td>...</td>\n",
              "      <td>...</td>\n",
              "      <td>...</td>\n",
              "      <td>...</td>\n",
              "    </tr>\n",
              "    <tr>\n",
              "      <th>293</th>\n",
              "      <td>0.00</td>\n",
              "      <td>0.00</td>\n",
              "      <td>0.00</td>\n",
              "      <td>0.00</td>\n",
              "      <td>0.0</td>\n",
              "      <td>0</td>\n",
              "      <td>okay</td>\n",
              "      <td>[phone, superb, use, range, battery]</td>\n",
              "    </tr>\n",
              "    <tr>\n",
              "      <th>294</th>\n",
              "      <td>0.00</td>\n",
              "      <td>0.34</td>\n",
              "      <td>0.00</td>\n",
              "      <td>0.00</td>\n",
              "      <td>0.0</td>\n",
              "      <td>1</td>\n",
              "      <td>Super style and good look nice product</td>\n",
              "      <td>[product, delivery, buy, function, team]</td>\n",
              "    </tr>\n",
              "    <tr>\n",
              "      <th>295</th>\n",
              "      <td>0.00</td>\n",
              "      <td>0.00</td>\n",
              "      <td>0.00</td>\n",
              "      <td>0.00</td>\n",
              "      <td>0.0</td>\n",
              "      <td>0</td>\n",
              "      <td>good</td>\n",
              "      <td>[phone, superb, use, range, battery]</td>\n",
              "    </tr>\n",
              "    <tr>\n",
              "      <th>296</th>\n",
              "      <td>0.00</td>\n",
              "      <td>0.00</td>\n",
              "      <td>0.00</td>\n",
              "      <td>0.00</td>\n",
              "      <td>0.0</td>\n",
              "      <td>0</td>\n",
              "      <td>good</td>\n",
              "      <td>[phone, superb, use, range, battery]</td>\n",
              "    </tr>\n",
              "    <tr>\n",
              "      <th>297</th>\n",
              "      <td>0.00</td>\n",
              "      <td>0.11</td>\n",
              "      <td>0.00</td>\n",
              "      <td>0.00</td>\n",
              "      <td>0.0</td>\n",
              "      <td>1</td>\n",
              "      <td>Good Product</td>\n",
              "      <td>[product, delivery, buy, function, team]</td>\n",
              "    </tr>\n",
              "  </tbody>\n",
              "</table>\n",
              "<p>298 rows × 8 columns</p>\n",
              "</div>"
            ],
            "text/plain": [
              "     topic_0  ...                          dominant_topic_keywords\n",
              "0       0.00  ...   [battery, display, camera, price, performance]\n",
              "1       0.21  ...         [product, delivery, buy, function, team]\n",
              "2       0.18  ...  [mobile, samsung, super, performance, flipkart]\n",
              "3       0.00  ...         [product, delivery, buy, function, team]\n",
              "4       0.09  ...   [battery, display, camera, price, performance]\n",
              "..       ...  ...                                              ...\n",
              "293     0.00  ...             [phone, superb, use, range, battery]\n",
              "294     0.00  ...         [product, delivery, buy, function, team]\n",
              "295     0.00  ...             [phone, superb, use, range, battery]\n",
              "296     0.00  ...             [phone, superb, use, range, battery]\n",
              "297     0.00  ...         [product, delivery, buy, function, team]\n",
              "\n",
              "[298 rows x 8 columns]"
            ]
          },
          "metadata": {
            "tags": []
          },
          "execution_count": 134
        }
      ]
    },
    {
      "cell_type": "markdown",
      "metadata": {
        "id": "WbBLipcTMMeh",
        "colab_type": "text"
      },
      "source": [
        "#### (NMF again - on topics obtained) "
      ]
    },
    {
      "cell_type": "code",
      "metadata": {
        "id": "K9bvs1dpMVxa",
        "colab_type": "code",
        "colab": {
          "base_uri": "https://localhost:8080/",
          "height": 98
        },
        "outputId": "4cdd24a8-583a-458e-9ddb-4e0e10cb15ec"
      },
      "source": [
        "arr=np.array(print_top_words(nmf,bow.get_feature_names(),5)).reshape(1,-1)[0]\n",
        "bow=CountVectorizer(ngram_range=(1,1))\n",
        "bow_review=bow.fit_transform(arr)\n",
        "df_bow=pd.DataFrame(bow_review.toarray(),columns=bow.get_feature_names())\n",
        "nmf = NMF(n_components=5, random_state=1,\n",
        "          beta_loss='kullback-leibler', solver='mu', max_iter=1000, alpha=.1,\n",
        "          l1_ratio=.5).fit(bow_review)\n",
        "bow_words=bow.get_feature_names()\n",
        "print_top_words(nmf,bow_words,4)"
      ],
      "execution_count": 132,
      "outputs": [
        {
          "output_type": "execute_result",
          "data": {
            "text/plain": [
              "[['camera', 'cost', 'delivery', 'mark'],\n",
              " ['life', 'voice', 'wesome', 'backup'],\n",
              " ['performance', 'awesome', 'quality', 'ok'],\n",
              " ['battery', 'buy', 'flipkart', 'display'],\n",
              " ['xcellent', 'price', 'awsm', 'box']]"
            ]
          },
          "metadata": {
            "tags": []
          },
          "execution_count": 132
        }
      ]
    },
    {
      "cell_type": "code",
      "metadata": {
        "id": "qnOQ64XMMTH3",
        "colab_type": "code",
        "colab": {}
      },
      "source": [
        ""
      ],
      "execution_count": 40,
      "outputs": []
    },
    {
      "cell_type": "markdown",
      "metadata": {
        "id": "_s55Tj91v5rp",
        "colab_type": "text"
      },
      "source": [
        "### NMF TFIDF"
      ]
    },
    {
      "cell_type": "code",
      "metadata": {
        "id": "-uENT8juPLeF",
        "colab_type": "code",
        "colab": {}
      },
      "source": [
        "tfidf=TfidfVectorizer(ngram_range=(1,1))\n",
        "tfidf_words=tfidf.fit_transform(data[\"review\"])\n",
        "words=tfidf.get_feature_names()"
      ],
      "execution_count": 50,
      "outputs": []
    },
    {
      "cell_type": "code",
      "metadata": {
        "id": "7nkJuoz8vt9p",
        "colab_type": "code",
        "colab": {
          "base_uri": "https://localhost:8080/",
          "height": 180
        },
        "outputId": "e46e1a3d-3279-4fbb-a622-c6ccce4539cf"
      },
      "source": [
        "nmf = NMF(n_components=10, random_state=1,\n",
        "          beta_loss='kullback-leibler', solver='mu', max_iter=1000, alpha=.1,\n",
        "          l1_ratio=.5).fit(tfidf_words)\n",
        "print_top_words(nmf,words,4)"
      ],
      "execution_count": 51,
      "outputs": [
        {
          "output_type": "execute_result",
          "data": {
            "text/plain": [
              "[['battery', 'backup', 'camera', 'performance'],\n",
              " ['camera', 'quality', 'experience', 'light'],\n",
              " ['wesome', 'life', 'model', 'battery'],\n",
              " ['price', 'range', 'segment', 'mid'],\n",
              " ['super', 'flipkart', 'purchase', 'use'],\n",
              " ['superb', 'delivery', 'condition', 'galaxy'],\n",
              " ['money', 'value', 'time', 'delivery'],\n",
              " ['samsung', 'love', 'm30s', 'performance'],\n",
              " ['display', 'ok', 'xcellent', 'smartphone'],\n",
              " ['nice', 'awesome', 'osm', 'mi']]"
            ]
          },
          "metadata": {
            "tags": []
          },
          "execution_count": 51
        }
      ]
    },
    {
      "cell_type": "code",
      "metadata": {
        "id": "Yh1kISh6GnWb",
        "colab_type": "code",
        "colab": {
          "base_uri": "https://localhost:8080/",
          "height": 272
        },
        "outputId": "f91fa0a9-1a1f-46a2-89eb-f5a7bcb69e50"
      },
      "source": [
        "topics=[\"topic_\"+str(i) for i  in range(0,nmf.n_components)]\n",
        "df_doc_topic=pd.DataFrame(nmf.fit_transform(df_bow),columns=topic)\n",
        "dominant_topic = np.argmax(df_doc_topic.values, axis=1)\n",
        "df_doc_topic[\"dominant_topic\"] = dominant_topic\n",
        "df_doc_topic[\"review\"]=dataoriginal[\"review\"]\n",
        "df_doc_topic[\"dominant_topic_keywords\"]=[topics[i]  for i in dominant_topic]\n",
        "df_doc_topic.head()"
      ],
      "execution_count": 53,
      "outputs": [
        {
          "output_type": "execute_result",
          "data": {
            "text/html": [
              "<div>\n",
              "<style scoped>\n",
              "    .dataframe tbody tr th:only-of-type {\n",
              "        vertical-align: middle;\n",
              "    }\n",
              "\n",
              "    .dataframe tbody tr th {\n",
              "        vertical-align: top;\n",
              "    }\n",
              "\n",
              "    .dataframe thead th {\n",
              "        text-align: right;\n",
              "    }\n",
              "</style>\n",
              "<table border=\"1\" class=\"dataframe\">\n",
              "  <thead>\n",
              "    <tr style=\"text-align: right;\">\n",
              "      <th></th>\n",
              "      <th>topic_0</th>\n",
              "      <th>topic_1</th>\n",
              "      <th>topic_2</th>\n",
              "      <th>topic_3</th>\n",
              "      <th>topic_4</th>\n",
              "      <th>topic_5</th>\n",
              "      <th>topic_6</th>\n",
              "      <th>topic_7</th>\n",
              "      <th>topic_8</th>\n",
              "      <th>topic_9</th>\n",
              "      <th>dominant_topic</th>\n",
              "      <th>review</th>\n",
              "      <th>dominant_topic_keywords</th>\n",
              "    </tr>\n",
              "  </thead>\n",
              "  <tbody>\n",
              "    <tr>\n",
              "      <th>0</th>\n",
              "      <td>0.0</td>\n",
              "      <td>0.000000</td>\n",
              "      <td>0.0</td>\n",
              "      <td>0.000000</td>\n",
              "      <td>0.599101</td>\n",
              "      <td>0.0</td>\n",
              "      <td>0.000000</td>\n",
              "      <td>0.0</td>\n",
              "      <td>0.000000</td>\n",
              "      <td>0.0</td>\n",
              "      <td>4</td>\n",
              "      <td>Bokeh mode is very excellent than any other ha...</td>\n",
              "      <td>topic_4</td>\n",
              "    </tr>\n",
              "    <tr>\n",
              "      <th>1</th>\n",
              "      <td>0.0</td>\n",
              "      <td>0.761225</td>\n",
              "      <td>0.0</td>\n",
              "      <td>0.000000</td>\n",
              "      <td>0.000000</td>\n",
              "      <td>0.0</td>\n",
              "      <td>0.000000</td>\n",
              "      <td>0.0</td>\n",
              "      <td>0.000000</td>\n",
              "      <td>0.0</td>\n",
              "      <td>1</td>\n",
              "      <td>Just awsome product the picture quality is goo...</td>\n",
              "      <td>topic_1</td>\n",
              "    </tr>\n",
              "    <tr>\n",
              "      <th>2</th>\n",
              "      <td>0.0</td>\n",
              "      <td>0.000000</td>\n",
              "      <td>0.0</td>\n",
              "      <td>0.763039</td>\n",
              "      <td>0.000000</td>\n",
              "      <td>0.0</td>\n",
              "      <td>0.000000</td>\n",
              "      <td>0.0</td>\n",
              "      <td>0.000000</td>\n",
              "      <td>0.0</td>\n",
              "      <td>3</td>\n",
              "      <td>Samsung galaxy m30s is most useful.But Samsung...</td>\n",
              "      <td>topic_3</td>\n",
              "    </tr>\n",
              "    <tr>\n",
              "      <th>3</th>\n",
              "      <td>0.0</td>\n",
              "      <td>0.000000</td>\n",
              "      <td>0.0</td>\n",
              "      <td>0.000000</td>\n",
              "      <td>0.000000</td>\n",
              "      <td>0.0</td>\n",
              "      <td>0.000000</td>\n",
              "      <td>0.0</td>\n",
              "      <td>0.382495</td>\n",
              "      <td>0.0</td>\n",
              "      <td>8</td>\n",
              "      <td>Not worth for me. i buy for my samsung tv this...</td>\n",
              "      <td>topic_8</td>\n",
              "    </tr>\n",
              "    <tr>\n",
              "      <th>4</th>\n",
              "      <td>0.0</td>\n",
              "      <td>0.000000</td>\n",
              "      <td>0.0</td>\n",
              "      <td>0.000000</td>\n",
              "      <td>0.000000</td>\n",
              "      <td>0.0</td>\n",
              "      <td>0.329293</td>\n",
              "      <td>0.0</td>\n",
              "      <td>0.000000</td>\n",
              "      <td>0.0</td>\n",
              "      <td>6</td>\n",
              "      <td>BSOLUTELY BEST PHONE, GO FOR THIS PHONELET ME ...</td>\n",
              "      <td>topic_6</td>\n",
              "    </tr>\n",
              "  </tbody>\n",
              "</table>\n",
              "</div>"
            ],
            "text/plain": [
              "   topic_0  ...  dominant_topic_keywords\n",
              "0      0.0  ...                  topic_4\n",
              "1      0.0  ...                  topic_1\n",
              "2      0.0  ...                  topic_3\n",
              "3      0.0  ...                  topic_8\n",
              "4      0.0  ...                  topic_6\n",
              "\n",
              "[5 rows x 13 columns]"
            ]
          },
          "metadata": {
            "tags": []
          },
          "execution_count": 53
        }
      ]
    },
    {
      "cell_type": "markdown",
      "metadata": {
        "id": "Mu-X1MkoNi-B",
        "colab_type": "text"
      },
      "source": [
        "#### (NMF again - on topics obtained) ---------------------------------------------------"
      ]
    },
    {
      "cell_type": "code",
      "metadata": {
        "id": "W2jRTx3_NzV-",
        "colab_type": "code",
        "colab": {
          "base_uri": "https://localhost:8080/",
          "height": 82
        },
        "outputId": "05c2716e-6ea8-4ebb-e7fa-dd7629f832c5"
      },
      "source": [
        "arr=np.array(print_top_words(nmf,words,5)).reshape(1,-1)[0]\n",
        "tfidf=TfidfVectorizer(ngram_range=(1,1))\n",
        "tfidf_words=tfidf.fit_transform(arr)\n",
        "words=tfidf.get_feature_names()\n",
        "df_lda=pd.DataFrame(tfidf_words.toarray(),columns=words)\n",
        "nmf = NMF(n_components=4, random_state=1,\n",
        "          beta_loss='kullback-leibler', solver='mu', max_iter=1000, alpha=.1,\n",
        "          l1_ratio=.5).fit(tfidf_words)\n",
        "\n",
        "print_top_words(nmf,words,4)"
      ],
      "execution_count": 43,
      "outputs": [
        {
          "output_type": "execute_result",
          "data": {
            "text/plain": [
              "[['camera', 'model', 'money', 'smartphone'],\n",
              " ['performance', 'm30s', 'time', 'nice'],\n",
              " ['delivery', 'keybad', 'galaxy', 'ok'],\n",
              " ['battery', 'xcellent', 'quality', 'backup']]"
            ]
          },
          "metadata": {
            "tags": []
          },
          "execution_count": 43
        }
      ]
    },
    {
      "cell_type": "markdown",
      "metadata": {
        "id": "DPe-gB9JwLUZ",
        "colab_type": "text"
      },
      "source": [
        "## POS TAG NOUNS and ADJECTIVES"
      ]
    },
    {
      "cell_type": "code",
      "metadata": {
        "id": "VB2KrjmGv9C3",
        "colab_type": "code",
        "colab": {}
      },
      "source": [
        "data=pd.read_csv(\"samsungdata.csv\")\n",
        "data[\"review\"]=data[\"review\"].apply(lambda x:convert_emojis(x))\n",
        "data[\"review\"]=data[\"review\"].apply(lambda x:x.lower()) \n",
        "data[\"review\"]=data[\"review\"].apply(lambda x:decontracted(x))\n",
        "data[\"review\"]=data[\"review\"].apply(lambda x:removecharacters(x))\n",
        "data[\"review\"]=pd.DataFrame(data[\"review\"].apply(lambda x:removestopwords(x)))"
      ],
      "execution_count": 82,
      "outputs": []
    },
    {
      "cell_type": "code",
      "metadata": {
        "id": "1dAClSWPwevJ",
        "colab_type": "code",
        "colab": {}
      },
      "source": [
        "def only_nouns_adjectives(review):\n",
        "  lis= \" \".join([each.strip(\" \") for each,pos in nltk.pos_tag(review.split()) if (pos==\"NN\" or pos==\"JJ\")])\n",
        "  return lis\n",
        "data[\"title\"]=data[\"title\"].apply(lambda x:only_nouns_adjectives(x))\n"
      ],
      "execution_count": 83,
      "outputs": []
    },
    {
      "cell_type": "markdown",
      "metadata": {
        "id": "_zmFiFI3w95p",
        "colab_type": "text"
      },
      "source": [
        "### LDA BOW"
      ]
    },
    {
      "cell_type": "code",
      "metadata": {
        "id": "ZUZx-kaWwzjx",
        "colab_type": "code",
        "colab": {
          "base_uri": "https://localhost:8080/",
          "height": 180
        },
        "outputId": "297ad391-c620-4a62-c623-ddfdc7e7648c"
      },
      "source": [
        "bow=CountVectorizer(ngram_range=(1,1))\n",
        "bow_review=bow.fit_transform(data[\"review\"])\n",
        "df_bow=pd.DataFrame(bow_review.toarray(),columns=bow.get_feature_names())\n",
        "lda = LatentDirichletAllocation(n_components=10,random_state=0)\n",
        "lda.fit_transform(df_bow)\n",
        "print_top_words(lda,bow.get_feature_names(),4)"
      ],
      "execution_count": null,
      "outputs": [
        {
          "output_type": "execute_result",
          "data": {
            "text/plain": [
              "[['flipkart', 'best', 'value', 'worst'],\n",
              " ['super', 'awsome', 'quality', 'fine'],\n",
              " ['hours', 'display', 'battery', 'great'],\n",
              " ['best', 'camera', 'good', 'bad'],\n",
              " ['hangs', 'no', 'thanks', 'flipkart'],\n",
              " ['poor', 'excellent', 'good', 'box'],\n",
              " ['superb', 'samsung', 'buy', 'smartphone'],\n",
              " ['good', 'battery', 'camera', 'performance'],\n",
              " ['xcellent', 'awesome', 'money', 'worth'],\n",
              " ['nice', 'best', 'wesome', 'samsung']]"
            ]
          },
          "metadata": {
            "tags": []
          },
          "execution_count": 189
        }
      ]
    },
    {
      "cell_type": "markdown",
      "metadata": {
        "id": "dSLNV5tzTm2P",
        "colab_type": "text"
      },
      "source": [
        "#### LDA again"
      ]
    },
    {
      "cell_type": "code",
      "metadata": {
        "id": "IQYzTEbCTn0D",
        "colab_type": "code",
        "colab": {
          "base_uri": "https://localhost:8080/",
          "height": 98
        },
        "outputId": "d4eb098b-6dad-48c1-aeaa-155dd0c1d01b"
      },
      "source": [
        "arr=np.array(print_top_words(lda,bow.get_feature_names(),5)).reshape(1,-1)[0]\n",
        "bow=CountVectorizer(ngram_range=(1,1))\n",
        "bow_review=bow.fit_transform(arr)\n",
        "df_bow=pd.DataFrame(bow_review.toarray(),columns=bow.get_feature_names())\n",
        "lda = LatentDirichletAllocation(n_components=5,random_state=0)\n",
        "lda.fit_transform(df_bow)\n",
        "print_top_words(lda,bow.get_feature_names(),4)\n"
      ],
      "execution_count": null,
      "outputs": [
        {
          "output_type": "execute_result",
          "data": {
            "text/plain": [
              "[['fine', 'best', 'superb', 'hangs'],\n",
              " ['worth', 'battery', 'price', 'smartphone'],\n",
              " ['money', 'camera', 'good', 'poor'],\n",
              " ['hours', 'buy', 'xcellent', 'price'],\n",
              " ['great', 'box', 'samsung', 'flipkart']]"
            ]
          },
          "metadata": {
            "tags": []
          },
          "execution_count": 191
        }
      ]
    },
    {
      "cell_type": "markdown",
      "metadata": {
        "id": "zFJaIZAm106c",
        "colab_type": "text"
      },
      "source": [
        "### LDA TFIDF"
      ]
    },
    {
      "cell_type": "code",
      "metadata": {
        "id": "8KMmKsXhxAj1",
        "colab_type": "code",
        "colab": {
          "base_uri": "https://localhost:8080/",
          "height": 180
        },
        "outputId": "e532702b-184e-4bfc-f9d9-8b105998100c"
      },
      "source": [
        "\n",
        "tfidf=TfidfVectorizer(ngram_range=(1,1))\n",
        "tfidf_words=tfidf.fit_transform(data[\"review\"])\n",
        "words=tfidf.get_feature_names()\n",
        "df_bow=pd.DataFrame(tfidf_words.toarray(),columns=words)\n",
        "lda = LatentDirichletAllocation(n_components=10,random_state=0)\n",
        "lda.fit_transform(tfidf_words)\n",
        "print_top_words(lda,words,5)"
      ],
      "execution_count": null,
      "outputs": [
        {
          "output_type": "execute_result",
          "data": {
            "text/plain": [
              "[['display', 'performance', 'best', 'battery', 'nicc'],\n",
              " ['super', 'awesome', 'flipkart', 'value', 'money'],\n",
              " ['thanks', 'suprrrrrrrrr', 'cell', 'tanks', 'perform'],\n",
              " ['bad', 'awsm', 'great', 'loving', 'prublam'],\n",
              " ['no', 'hangs', 'smooth', 'frequently', 'lovely'],\n",
              " ['exellent', 'sm', 'nice', 'isplay', 'life'],\n",
              " ['xcellent', 'superb', 'love', 'smartphone', 'flipkart'],\n",
              " ['good', 'camera', 'price', 'quality', 'nice'],\n",
              " ['backup', 'battery', 'camara', 'worth', 'loved'],\n",
              " ['nice', 'wesome', 'best', 'samsung', 'ok']]"
            ]
          },
          "metadata": {
            "tags": []
          },
          "execution_count": 192
        }
      ]
    },
    {
      "cell_type": "markdown",
      "metadata": {
        "id": "QBvwxdtOUA48",
        "colab_type": "text"
      },
      "source": [
        "#### LDA again"
      ]
    },
    {
      "cell_type": "code",
      "metadata": {
        "id": "O7xWHxHFUEa-",
        "colab_type": "code",
        "colab": {
          "base_uri": "https://localhost:8080/",
          "height": 82
        },
        "outputId": "b4ed8241-3f4a-4548-c4db-849e5ad7b286"
      },
      "source": [
        "arr=np.array(print_top_words(lda,words,5)).reshape(1,-1)[0]\n",
        "tfidf=TfidfVectorizer(ngram_range=(1,1))\n",
        "tfidf_words=tfidf.fit_transform(arr)\n",
        "words=tfidf.get_feature_names()\n",
        "df_tfidf=pd.DataFrame(tfidf_words.toarray(),columns=words)\n",
        "lda = LatentDirichletAllocation(n_components=4,random_state=0)\n",
        "lda.fit_transform(df_tfidf)\n",
        "print_top_words(lda,words,4)\n"
      ],
      "execution_count": null,
      "outputs": [
        {
          "output_type": "execute_result",
          "data": {
            "text/plain": [
              "[['flipkart', 'backup', 'tanks', 'loving'],\n",
              " ['suprrrrrrrrr', 'xcellent', 'sm', 'bad'],\n",
              " ['battery', 'worth', 'love', 'frequently'],\n",
              " ['nice', 'best', 'value', 'money']]"
            ]
          },
          "metadata": {
            "tags": []
          },
          "execution_count": 193
        }
      ]
    },
    {
      "cell_type": "markdown",
      "metadata": {
        "id": "f13i6Ciw2OYo",
        "colab_type": "text"
      },
      "source": [
        "### NMF BOW"
      ]
    },
    {
      "cell_type": "code",
      "metadata": {
        "id": "ZQ4TNhKN2DjX",
        "colab_type": "code",
        "colab": {
          "base_uri": "https://localhost:8080/",
          "height": 180
        },
        "outputId": "0cf23e7c-6db0-4993-dc60-fcdea97783de"
      },
      "source": [
        "bow=CountVectorizer(ngram_range=(1,1))\n",
        "bow_review=bow.fit_transform(data[\"review\"])\n",
        "\n",
        "nmf = NMF(n_components=10, random_state=1,\n",
        "          beta_loss='kullback-leibler', solver='mu', max_iter=1000, alpha=.1,\n",
        "          l1_ratio=.5).fit(bow_review)\n",
        "bow_words=bow.get_feature_names()\n",
        "print_top_words(nmf,bow_words,4)"
      ],
      "execution_count": null,
      "outputs": [
        {
          "output_type": "execute_result",
          "data": {
            "text/plain": [
              "[['good', 'battery', 'camera', 'display'],\n",
              " ['super', 'superb', 'great', 'display'],\n",
              " ['samsung', 'buy', 'm30s', 'loved'],\n",
              " ['nice', 'delivery', 'thanks', 'awsm'],\n",
              " ['quality', 'camera', 'hangs', 'using'],\n",
              " ['best', 'price', 'range', 'camera'],\n",
              " ['wesome', 'battery', 'money', 'xcellent'],\n",
              " ['performance', 'excellent', 'no', 'display'],\n",
              " ['use', 'ok', 'best', 'awsome'],\n",
              " ['flipkart', 'thank', 'love', 'worst']]"
            ]
          },
          "metadata": {
            "tags": []
          },
          "execution_count": 195
        }
      ]
    },
    {
      "cell_type": "markdown",
      "metadata": {
        "id": "ZxeskKGpUqDr",
        "colab_type": "text"
      },
      "source": [
        "#### NMF again"
      ]
    },
    {
      "cell_type": "code",
      "metadata": {
        "id": "0p6ft3bVUtjz",
        "colab_type": "code",
        "colab": {
          "base_uri": "https://localhost:8080/",
          "height": 98
        },
        "outputId": "d8d8f406-95df-431b-eadb-464183d29094"
      },
      "source": [
        "arr=np.array(print_top_words(nmf,bow.get_feature_names(),5)).reshape(1,-1)[0]\n",
        "bow=CountVectorizer(ngram_range=(1,1))\n",
        "bow_review=bow.fit_transform(arr)\n",
        "df_bow=pd.DataFrame(bow_review.toarray(),columns=bow.get_feature_names())\n",
        "nmf = NMF(n_components=5, random_state=1,\n",
        "          beta_loss='kullback-leibler', solver='mu', max_iter=1000, alpha=.1,\n",
        "          l1_ratio=.5).fit(bow_review)\n",
        "bow_words=bow.get_feature_names()\n",
        "print_top_words(nmf,bow_words,4)"
      ],
      "execution_count": null,
      "outputs": [
        {
          "output_type": "execute_result",
          "data": {
            "text/plain": [
              "[['display', 'hours', 'buy', 'worst'],\n",
              " ['battery', 'great', 'money', 'good'],\n",
              " ['camera', 'xcellent', 'online', 'backup'],\n",
              " ['best', 'quality', 'budget', 'hangs'],\n",
              " ['performance', 'love', 'samsung', 'better']]"
            ]
          },
          "metadata": {
            "tags": []
          },
          "execution_count": 196
        }
      ]
    },
    {
      "cell_type": "markdown",
      "metadata": {
        "id": "F7EHQ72V2aww",
        "colab_type": "text"
      },
      "source": [
        "### NMF TFIDF"
      ]
    },
    {
      "cell_type": "code",
      "metadata": {
        "id": "W7jvxYqdU7WM",
        "colab_type": "code",
        "colab": {}
      },
      "source": [
        "tfidf=TfidfVectorizer(ngram_range=(1,1))\n",
        "tfidf_words=tfidf.fit_transform(data[\"review\"])\n",
        "words=tfidf.get_feature_names()"
      ],
      "execution_count": 85,
      "outputs": []
    },
    {
      "cell_type": "code",
      "metadata": {
        "id": "LqLU-3Oo2VC0",
        "colab_type": "code",
        "colab": {
          "base_uri": "https://localhost:8080/",
          "height": 180
        },
        "outputId": "77c0ea0b-d1bd-40f0-a0e7-a4de2c8295ab"
      },
      "source": [
        "nmf = NMF(n_components=10, random_state=1,\n",
        "          beta_loss='kullback-leibler', solver='mu', max_iter=1000, alpha=.1,\n",
        "          l1_ratio=.5).fit(tfidf_words)\n",
        "print_top_words(nmf,words,6)"
      ],
      "execution_count": 86,
      "outputs": [
        {
          "output_type": "execute_result",
          "data": {
            "text/plain": [
              "[['good', 'one', 'normal', 'choic', 'isplay', 'choice'],\n",
              " ['nice', 'awsm', 'phones', 'samsang', 'cell', 'osm'],\n",
              " ['super', 'quality', 'camera', 'also', 'performance', 'love'],\n",
              " ['wesome', 'outstanding', 'perfomance', 'loving', 'slow', 'gaming'],\n",
              " ['best', 'samsung', 'price', 'loved', 'range', 'buy'],\n",
              " ['battery', 'camera', 'display', 'backup', 'poor', 'back'],\n",
              " ['superb', 'expected', 'great', 'got', 'galaxy', 'tq'],\n",
              " ['xcellent', 'flipkart', 'smartphone', 'love', 'excellent', 'thanks'],\n",
              " ['money', 'awesome', 'value', 'much', 'worth', 'delivery'],\n",
              " ['bad', 'ok', 'thank', 'worst', 'working', 'hangs']]"
            ]
          },
          "metadata": {
            "tags": []
          },
          "execution_count": 86
        }
      ]
    },
    {
      "cell_type": "markdown",
      "metadata": {
        "id": "QdOBKFeOVHMf",
        "colab_type": "text"
      },
      "source": [
        "#### NMF again -------------"
      ]
    },
    {
      "cell_type": "code",
      "metadata": {
        "id": "taDT0PgAVCGT",
        "colab_type": "code",
        "colab": {
          "base_uri": "https://localhost:8080/",
          "height": 82
        },
        "outputId": "f79fefea-4000-4c4b-a161-9d7f26e0b58c"
      },
      "source": [
        "arr=np.array(print_top_words(nmf,words,5)).reshape(1,-1)[0]\n",
        "tfidf=TfidfVectorizer(ngram_range=(1,1))\n",
        "tfidf_words=tfidf.fit_transform(arr)\n",
        "words=tfidf.get_feature_names()\n",
        "df_lda=pd.DataFrame(tfidf_words.toarray(),columns=words)\n",
        "nmf = NMF(n_components=4, random_state=1,\n",
        "          beta_loss='kullback-leibler', solver='mu', max_iter=1000, alpha=.1,\n",
        "          l1_ratio=.5).fit(tfidf_words)\n",
        "\n",
        "print_top_words(nmf,words,4)"
      ],
      "execution_count": 88,
      "outputs": [
        {
          "output_type": "execute_result",
          "data": {
            "text/plain": [
              "[['xcellent', 'expected', 'loved', 'bad'],\n",
              " ['loving', 'great', 'samsung', 'price'],\n",
              " ['excellent', 'samsang', 'bad', 'camera'],\n",
              " ['awsm', 'superb', 'slow', 'nice']]"
            ]
          },
          "metadata": {
            "tags": []
          },
          "execution_count": 88
        }
      ]
    },
    {
      "cell_type": "code",
      "metadata": {
        "id": "u9aG82QNOwQE",
        "colab_type": "code",
        "colab": {
          "base_uri": "https://localhost:8080/",
          "height": 1000
        },
        "outputId": "4e9c2f1c-2ca3-46cf-8109-8ed68ca92083"
      },
      "source": [
        "topics=print_top_words(nmf,bow_words,4)\n",
        "topic=[\"topic_\"+str(i) for i  in range(0,nmf.n_components)]\n",
        "df_doc_topic=pd.DataFrame(nmf.fit_transform(df_bow),columns=topic)\n",
        "dominant_topic = np.argmax(df_doc_topic.values, axis=1)\n",
        "df_doc_topic[\"dominant_topic\"] = dominant_topic\n",
        "df_doc_topic[\"review\"]=dataoriginal[\"review\"]\n",
        "df_doc_topic[\"dominant_topic_keywords\"]=[topics[i]  for i in dominant_topic]\n",
        "df_doc_topic"
      ],
      "execution_count": 89,
      "outputs": [
        {
          "output_type": "execute_result",
          "data": {
            "text/html": [
              "<div>\n",
              "<style scoped>\n",
              "    .dataframe tbody tr th:only-of-type {\n",
              "        vertical-align: middle;\n",
              "    }\n",
              "\n",
              "    .dataframe tbody tr th {\n",
              "        vertical-align: top;\n",
              "    }\n",
              "\n",
              "    .dataframe thead th {\n",
              "        text-align: right;\n",
              "    }\n",
              "</style>\n",
              "<table border=\"1\" class=\"dataframe\">\n",
              "  <thead>\n",
              "    <tr style=\"text-align: right;\">\n",
              "      <th></th>\n",
              "      <th>topic_0</th>\n",
              "      <th>topic_1</th>\n",
              "      <th>topic_2</th>\n",
              "      <th>topic_3</th>\n",
              "      <th>dominant_topic</th>\n",
              "      <th>review</th>\n",
              "      <th>dominant_topic_keywords</th>\n",
              "    </tr>\n",
              "  </thead>\n",
              "  <tbody>\n",
              "    <tr>\n",
              "      <th>0</th>\n",
              "      <td>0.000000</td>\n",
              "      <td>0.453485</td>\n",
              "      <td>0.000000</td>\n",
              "      <td>0.000000</td>\n",
              "      <td>1</td>\n",
              "      <td>Bokeh mode is very excellent than any other ha...</td>\n",
              "      <td>[delivery, buy, great, excellent]</td>\n",
              "    </tr>\n",
              "    <tr>\n",
              "      <th>1</th>\n",
              "      <td>0.000000</td>\n",
              "      <td>0.453485</td>\n",
              "      <td>0.000000</td>\n",
              "      <td>0.000000</td>\n",
              "      <td>1</td>\n",
              "      <td>Just awsome product the picture quality is goo...</td>\n",
              "      <td>[delivery, buy, great, excellent]</td>\n",
              "    </tr>\n",
              "    <tr>\n",
              "      <th>2</th>\n",
              "      <td>0.385215</td>\n",
              "      <td>0.000000</td>\n",
              "      <td>0.000000</td>\n",
              "      <td>0.000000</td>\n",
              "      <td>0</td>\n",
              "      <td>Samsung galaxy m30s is most useful.But Samsung...</td>\n",
              "      <td>[loved, battery, camera, awsome]</td>\n",
              "    </tr>\n",
              "    <tr>\n",
              "      <th>3</th>\n",
              "      <td>0.000000</td>\n",
              "      <td>0.000000</td>\n",
              "      <td>0.357684</td>\n",
              "      <td>0.000000</td>\n",
              "      <td>2</td>\n",
              "      <td>Not worth for me. i buy for my samsung tv this...</td>\n",
              "      <td>[bad, good, awsome, backup]</td>\n",
              "    </tr>\n",
              "    <tr>\n",
              "      <th>4</th>\n",
              "      <td>0.000000</td>\n",
              "      <td>0.000000</td>\n",
              "      <td>0.000000</td>\n",
              "      <td>0.357258</td>\n",
              "      <td>3</td>\n",
              "      <td>BSOLUTELY BEST PHONE, GO FOR THIS PHONELET ME ...</td>\n",
              "      <td>[awsm, look, hangs, display]</td>\n",
              "    </tr>\n",
              "    <tr>\n",
              "      <th>5</th>\n",
              "      <td>0.000000</td>\n",
              "      <td>0.000000</td>\n",
              "      <td>0.000000</td>\n",
              "      <td>0.357258</td>\n",
              "      <td>3</td>\n",
              "      <td>I have realized that this phone is full packag...</td>\n",
              "      <td>[awsm, look, hangs, display]</td>\n",
              "    </tr>\n",
              "    <tr>\n",
              "      <th>6</th>\n",
              "      <td>0.000000</td>\n",
              "      <td>0.453485</td>\n",
              "      <td>0.000000</td>\n",
              "      <td>0.000000</td>\n",
              "      <td>1</td>\n",
              "      <td>one of the good phone in this price range , th...</td>\n",
              "      <td>[delivery, buy, great, excellent]</td>\n",
              "    </tr>\n",
              "    <tr>\n",
              "      <th>7</th>\n",
              "      <td>0.000000</td>\n",
              "      <td>0.000000</td>\n",
              "      <td>0.357684</td>\n",
              "      <td>0.000000</td>\n",
              "      <td>2</td>\n",
              "      <td>Nice mobile and it comes good battery back up....</td>\n",
              "      <td>[bad, good, awsome, backup]</td>\n",
              "    </tr>\n",
              "    <tr>\n",
              "      <th>8</th>\n",
              "      <td>0.000000</td>\n",
              "      <td>0.000000</td>\n",
              "      <td>0.357684</td>\n",
              "      <td>0.000000</td>\n",
              "      <td>2</td>\n",
              "      <td>Been using this phone for more than 4 months n...</td>\n",
              "      <td>[bad, good, awsome, backup]</td>\n",
              "    </tr>\n",
              "    <tr>\n",
              "      <th>9</th>\n",
              "      <td>0.000000</td>\n",
              "      <td>0.000000</td>\n",
              "      <td>0.357684</td>\n",
              "      <td>0.000000</td>\n",
              "      <td>2</td>\n",
              "      <td>This phone is works excellent so far after (6 ...</td>\n",
              "      <td>[bad, good, awsome, backup]</td>\n",
              "    </tr>\n",
              "    <tr>\n",
              "      <th>10</th>\n",
              "      <td>0.000000</td>\n",
              "      <td>0.000000</td>\n",
              "      <td>0.357684</td>\n",
              "      <td>0.000000</td>\n",
              "      <td>2</td>\n",
              "      <td>super camera</td>\n",
              "      <td>[bad, good, awsome, backup]</td>\n",
              "    </tr>\n",
              "    <tr>\n",
              "      <th>11</th>\n",
              "      <td>0.000000</td>\n",
              "      <td>0.000000</td>\n",
              "      <td>0.000000</td>\n",
              "      <td>0.357258</td>\n",
              "      <td>3</td>\n",
              "      <td>superb battery backup 👌</td>\n",
              "      <td>[awsm, look, hangs, display]</td>\n",
              "    </tr>\n",
              "    <tr>\n",
              "      <th>12</th>\n",
              "      <td>0.000000</td>\n",
              "      <td>0.000000</td>\n",
              "      <td>0.000000</td>\n",
              "      <td>0.357258</td>\n",
              "      <td>3</td>\n",
              "      <td>the phone awesome....</td>\n",
              "      <td>[awsm, look, hangs, display]</td>\n",
              "    </tr>\n",
              "    <tr>\n",
              "      <th>13</th>\n",
              "      <td>0.000000</td>\n",
              "      <td>0.000000</td>\n",
              "      <td>0.357684</td>\n",
              "      <td>0.000000</td>\n",
              "      <td>2</td>\n",
              "      <td>Nice mobile</td>\n",
              "      <td>[bad, good, awsome, backup]</td>\n",
              "    </tr>\n",
              "    <tr>\n",
              "      <th>14</th>\n",
              "      <td>0.385215</td>\n",
              "      <td>0.000000</td>\n",
              "      <td>0.000000</td>\n",
              "      <td>0.000000</td>\n",
              "      <td>0</td>\n",
              "      <td>very good camera and display</td>\n",
              "      <td>[loved, battery, camera, awsome]</td>\n",
              "    </tr>\n",
              "    <tr>\n",
              "      <th>15</th>\n",
              "      <td>0.385215</td>\n",
              "      <td>0.000000</td>\n",
              "      <td>0.000000</td>\n",
              "      <td>0.000000</td>\n",
              "      <td>0</td>\n",
              "      <td>very nice set</td>\n",
              "      <td>[loved, battery, camera, awsome]</td>\n",
              "    </tr>\n",
              "    <tr>\n",
              "      <th>16</th>\n",
              "      <td>0.000000</td>\n",
              "      <td>0.453485</td>\n",
              "      <td>0.000000</td>\n",
              "      <td>0.000000</td>\n",
              "      <td>1</td>\n",
              "      <td>Best Mobile Best Camera and Battry is so power...</td>\n",
              "      <td>[delivery, buy, great, excellent]</td>\n",
              "    </tr>\n",
              "    <tr>\n",
              "      <th>17</th>\n",
              "      <td>0.000000</td>\n",
              "      <td>0.000000</td>\n",
              "      <td>0.000000</td>\n",
              "      <td>0.357258</td>\n",
              "      <td>3</td>\n",
              "      <td>really good product... satisfied...thank you.....</td>\n",
              "      <td>[awsm, look, hangs, display]</td>\n",
              "    </tr>\n",
              "    <tr>\n",
              "      <th>18</th>\n",
              "      <td>0.000000</td>\n",
              "      <td>0.000000</td>\n",
              "      <td>0.357684</td>\n",
              "      <td>0.000000</td>\n",
              "      <td>2</td>\n",
              "      <td>super</td>\n",
              "      <td>[bad, good, awsome, backup]</td>\n",
              "    </tr>\n",
              "    <tr>\n",
              "      <th>19</th>\n",
              "      <td>0.000000</td>\n",
              "      <td>0.000000</td>\n",
              "      <td>0.000000</td>\n",
              "      <td>0.357258</td>\n",
              "      <td>3</td>\n",
              "      <td>not bad</td>\n",
              "      <td>[awsm, look, hangs, display]</td>\n",
              "    </tr>\n",
              "    <tr>\n",
              "      <th>20</th>\n",
              "      <td>0.000000</td>\n",
              "      <td>0.000000</td>\n",
              "      <td>0.000000</td>\n",
              "      <td>0.357258</td>\n",
              "      <td>3</td>\n",
              "      <td>Very nice camera and battery  backup all over ...</td>\n",
              "      <td>[awsm, look, hangs, display]</td>\n",
              "    </tr>\n",
              "    <tr>\n",
              "      <th>21</th>\n",
              "      <td>0.385215</td>\n",
              "      <td>0.000000</td>\n",
              "      <td>0.000000</td>\n",
              "      <td>0.000000</td>\n",
              "      <td>0</td>\n",
              "      <td>Superb</td>\n",
              "      <td>[loved, battery, camera, awsome]</td>\n",
              "    </tr>\n",
              "    <tr>\n",
              "      <th>22</th>\n",
              "      <td>0.000000</td>\n",
              "      <td>0.000000</td>\n",
              "      <td>0.000000</td>\n",
              "      <td>0.357258</td>\n",
              "      <td>3</td>\n",
              "      <td>very good product!!!  Thnks flipkart 😇😇</td>\n",
              "      <td>[awsm, look, hangs, display]</td>\n",
              "    </tr>\n",
              "    <tr>\n",
              "      <th>23</th>\n",
              "      <td>0.385215</td>\n",
              "      <td>0.000000</td>\n",
              "      <td>0.000000</td>\n",
              "      <td>0.000000</td>\n",
              "      <td>0</td>\n",
              "      <td>It's awesome Product</td>\n",
              "      <td>[loved, battery, camera, awsome]</td>\n",
              "    </tr>\n",
              "    <tr>\n",
              "      <th>24</th>\n",
              "      <td>0.385215</td>\n",
              "      <td>0.000000</td>\n",
              "      <td>0.000000</td>\n",
              "      <td>0.000000</td>\n",
              "      <td>0</td>\n",
              "      <td>Head phone miss</td>\n",
              "      <td>[loved, battery, camera, awsome]</td>\n",
              "    </tr>\n",
              "    <tr>\n",
              "      <th>25</th>\n",
              "      <td>0.000000</td>\n",
              "      <td>0.000000</td>\n",
              "      <td>0.000000</td>\n",
              "      <td>0.357258</td>\n",
              "      <td>3</td>\n",
              "      <td>Camara is awesome</td>\n",
              "      <td>[awsm, look, hangs, display]</td>\n",
              "    </tr>\n",
              "    <tr>\n",
              "      <th>26</th>\n",
              "      <td>0.000000</td>\n",
              "      <td>0.000000</td>\n",
              "      <td>0.000000</td>\n",
              "      <td>0.357258</td>\n",
              "      <td>3</td>\n",
              "      <td>nice m</td>\n",
              "      <td>[awsm, look, hangs, display]</td>\n",
              "    </tr>\n",
              "    <tr>\n",
              "      <th>27</th>\n",
              "      <td>0.000000</td>\n",
              "      <td>0.000000</td>\n",
              "      <td>0.357684</td>\n",
              "      <td>0.000000</td>\n",
              "      <td>2</td>\n",
              "      <td>Good</td>\n",
              "      <td>[bad, good, awsome, backup]</td>\n",
              "    </tr>\n",
              "    <tr>\n",
              "      <th>28</th>\n",
              "      <td>0.385215</td>\n",
              "      <td>0.000000</td>\n",
              "      <td>0.000000</td>\n",
              "      <td>0.000000</td>\n",
              "      <td>0</td>\n",
              "      <td>excellent perform</td>\n",
              "      <td>[loved, battery, camera, awsome]</td>\n",
              "    </tr>\n",
              "    <tr>\n",
              "      <th>29</th>\n",
              "      <td>0.000000</td>\n",
              "      <td>0.453485</td>\n",
              "      <td>0.000000</td>\n",
              "      <td>0.000000</td>\n",
              "      <td>1</td>\n",
              "      <td>Best Mobile !</td>\n",
              "      <td>[delivery, buy, great, excellent]</td>\n",
              "    </tr>\n",
              "    <tr>\n",
              "      <th>30</th>\n",
              "      <td>0.000000</td>\n",
              "      <td>0.000000</td>\n",
              "      <td>0.000000</td>\n",
              "      <td>0.357258</td>\n",
              "      <td>3</td>\n",
              "      <td>very nice samsung m30s</td>\n",
              "      <td>[awsm, look, hangs, display]</td>\n",
              "    </tr>\n",
              "    <tr>\n",
              "      <th>31</th>\n",
              "      <td>0.000000</td>\n",
              "      <td>0.453485</td>\n",
              "      <td>0.000000</td>\n",
              "      <td>0.000000</td>\n",
              "      <td>1</td>\n",
              "      <td>tanks flipkart</td>\n",
              "      <td>[delivery, buy, great, excellent]</td>\n",
              "    </tr>\n",
              "    <tr>\n",
              "      <th>32</th>\n",
              "      <td>0.000000</td>\n",
              "      <td>0.000000</td>\n",
              "      <td>0.000000</td>\n",
              "      <td>0.357258</td>\n",
              "      <td>3</td>\n",
              "      <td>Performance is just..osm..n camera though..👌👌😍</td>\n",
              "      <td>[awsm, look, hangs, display]</td>\n",
              "    </tr>\n",
              "    <tr>\n",
              "      <th>33</th>\n",
              "      <td>0.000000</td>\n",
              "      <td>0.000000</td>\n",
              "      <td>0.357684</td>\n",
              "      <td>0.000000</td>\n",
              "      <td>2</td>\n",
              "      <td>nice mobile</td>\n",
              "      <td>[bad, good, awsome, backup]</td>\n",
              "    </tr>\n",
              "    <tr>\n",
              "      <th>34</th>\n",
              "      <td>0.000000</td>\n",
              "      <td>0.000000</td>\n",
              "      <td>0.000000</td>\n",
              "      <td>0.357258</td>\n",
              "      <td>3</td>\n",
              "      <td>nice phone</td>\n",
              "      <td>[awsm, look, hangs, display]</td>\n",
              "    </tr>\n",
              "    <tr>\n",
              "      <th>35</th>\n",
              "      <td>0.000000</td>\n",
              "      <td>0.000000</td>\n",
              "      <td>0.000000</td>\n",
              "      <td>0.357258</td>\n",
              "      <td>3</td>\n",
              "      <td>nice product but speaker is not in correct pla...</td>\n",
              "      <td>[awsm, look, hangs, display]</td>\n",
              "    </tr>\n",
              "    <tr>\n",
              "      <th>36</th>\n",
              "      <td>0.000000</td>\n",
              "      <td>0.453485</td>\n",
              "      <td>0.000000</td>\n",
              "      <td>0.000000</td>\n",
              "      <td>1</td>\n",
              "      <td>Gzb mobile hIt have owesome display and good b...</td>\n",
              "      <td>[delivery, buy, great, excellent]</td>\n",
              "    </tr>\n",
              "    <tr>\n",
              "      <th>37</th>\n",
              "      <td>0.000000</td>\n",
              "      <td>0.000000</td>\n",
              "      <td>0.357684</td>\n",
              "      <td>0.000000</td>\n",
              "      <td>2</td>\n",
              "      <td>very nice mobile</td>\n",
              "      <td>[bad, good, awsome, backup]</td>\n",
              "    </tr>\n",
              "    <tr>\n",
              "      <th>38</th>\n",
              "      <td>0.000000</td>\n",
              "      <td>0.000000</td>\n",
              "      <td>0.357684</td>\n",
              "      <td>0.000000</td>\n",
              "      <td>2</td>\n",
              "      <td>osm nice phone</td>\n",
              "      <td>[bad, good, awsome, backup]</td>\n",
              "    </tr>\n",
              "    <tr>\n",
              "      <th>39</th>\n",
              "      <td>0.000000</td>\n",
              "      <td>0.000000</td>\n",
              "      <td>0.000000</td>\n",
              "      <td>0.357258</td>\n",
              "      <td>3</td>\n",
              "      <td>top 1</td>\n",
              "      <td>[awsm, look, hangs, display]</td>\n",
              "    </tr>\n",
              "    <tr>\n",
              "      <th>40</th>\n",
              "      <td>0.000000</td>\n",
              "      <td>0.000000</td>\n",
              "      <td>0.000000</td>\n",
              "      <td>0.357258</td>\n",
              "      <td>3</td>\n",
              "      <td>xcellent  Value of money</td>\n",
              "      <td>[awsm, look, hangs, display]</td>\n",
              "    </tr>\n",
              "    <tr>\n",
              "      <th>41</th>\n",
              "      <td>0.000000</td>\n",
              "      <td>0.000000</td>\n",
              "      <td>0.000000</td>\n",
              "      <td>0.357258</td>\n",
              "      <td>3</td>\n",
              "      <td>nice</td>\n",
              "      <td>[awsm, look, hangs, display]</td>\n",
              "    </tr>\n",
              "    <tr>\n",
              "      <th>42</th>\n",
              "      <td>0.385215</td>\n",
              "      <td>0.000000</td>\n",
              "      <td>0.000000</td>\n",
              "      <td>0.000000</td>\n",
              "      <td>0</td>\n",
              "      <td>Good one nice product</td>\n",
              "      <td>[loved, battery, camera, awsome]</td>\n",
              "    </tr>\n",
              "    <tr>\n",
              "      <th>43</th>\n",
              "      <td>0.000000</td>\n",
              "      <td>0.000000</td>\n",
              "      <td>0.000000</td>\n",
              "      <td>0.357258</td>\n",
              "      <td>3</td>\n",
              "      <td>its very smooth and easy</td>\n",
              "      <td>[awsm, look, hangs, display]</td>\n",
              "    </tr>\n",
              "    <tr>\n",
              "      <th>44</th>\n",
              "      <td>0.385215</td>\n",
              "      <td>0.000000</td>\n",
              "      <td>0.000000</td>\n",
              "      <td>0.000000</td>\n",
              "      <td>0</td>\n",
              "      <td>K Super nice. 👍</td>\n",
              "      <td>[loved, battery, camera, awsome]</td>\n",
              "    </tr>\n",
              "    <tr>\n",
              "      <th>45</th>\n",
              "      <td>0.385215</td>\n",
              "      <td>0.000000</td>\n",
              "      <td>0.000000</td>\n",
              "      <td>0.000000</td>\n",
              "      <td>0</td>\n",
              "      <td>it has hang problem,although display is very n...</td>\n",
              "      <td>[loved, battery, camera, awsome]</td>\n",
              "    </tr>\n",
              "    <tr>\n",
              "      <th>46</th>\n",
              "      <td>0.000000</td>\n",
              "      <td>0.000000</td>\n",
              "      <td>0.357684</td>\n",
              "      <td>0.000000</td>\n",
              "      <td>2</td>\n",
              "      <td>Good phone</td>\n",
              "      <td>[bad, good, awsome, backup]</td>\n",
              "    </tr>\n",
              "    <tr>\n",
              "      <th>47</th>\n",
              "      <td>0.000000</td>\n",
              "      <td>0.000000</td>\n",
              "      <td>0.000000</td>\n",
              "      <td>0.357258</td>\n",
              "      <td>3</td>\n",
              "      <td>Super</td>\n",
              "      <td>[awsm, look, hangs, display]</td>\n",
              "    </tr>\n",
              "    <tr>\n",
              "      <th>48</th>\n",
              "      <td>0.000000</td>\n",
              "      <td>0.000000</td>\n",
              "      <td>0.000000</td>\n",
              "      <td>0.357258</td>\n",
              "      <td>3</td>\n",
              "      <td>I have facing problems with charging issues wi...</td>\n",
              "      <td>[awsm, look, hangs, display]</td>\n",
              "    </tr>\n",
              "    <tr>\n",
              "      <th>49</th>\n",
              "      <td>0.000000</td>\n",
              "      <td>0.000000</td>\n",
              "      <td>0.000000</td>\n",
              "      <td>0.357258</td>\n",
              "      <td>3</td>\n",
              "      <td>thakarthu</td>\n",
              "      <td>[awsm, look, hangs, display]</td>\n",
              "    </tr>\n",
              "  </tbody>\n",
              "</table>\n",
              "</div>"
            ],
            "text/plain": [
              "     topic_0  ...            dominant_topic_keywords\n",
              "0   0.000000  ...  [delivery, buy, great, excellent]\n",
              "1   0.000000  ...  [delivery, buy, great, excellent]\n",
              "2   0.385215  ...   [loved, battery, camera, awsome]\n",
              "3   0.000000  ...        [bad, good, awsome, backup]\n",
              "4   0.000000  ...       [awsm, look, hangs, display]\n",
              "5   0.000000  ...       [awsm, look, hangs, display]\n",
              "6   0.000000  ...  [delivery, buy, great, excellent]\n",
              "7   0.000000  ...        [bad, good, awsome, backup]\n",
              "8   0.000000  ...        [bad, good, awsome, backup]\n",
              "9   0.000000  ...        [bad, good, awsome, backup]\n",
              "10  0.000000  ...        [bad, good, awsome, backup]\n",
              "11  0.000000  ...       [awsm, look, hangs, display]\n",
              "12  0.000000  ...       [awsm, look, hangs, display]\n",
              "13  0.000000  ...        [bad, good, awsome, backup]\n",
              "14  0.385215  ...   [loved, battery, camera, awsome]\n",
              "15  0.385215  ...   [loved, battery, camera, awsome]\n",
              "16  0.000000  ...  [delivery, buy, great, excellent]\n",
              "17  0.000000  ...       [awsm, look, hangs, display]\n",
              "18  0.000000  ...        [bad, good, awsome, backup]\n",
              "19  0.000000  ...       [awsm, look, hangs, display]\n",
              "20  0.000000  ...       [awsm, look, hangs, display]\n",
              "21  0.385215  ...   [loved, battery, camera, awsome]\n",
              "22  0.000000  ...       [awsm, look, hangs, display]\n",
              "23  0.385215  ...   [loved, battery, camera, awsome]\n",
              "24  0.385215  ...   [loved, battery, camera, awsome]\n",
              "25  0.000000  ...       [awsm, look, hangs, display]\n",
              "26  0.000000  ...       [awsm, look, hangs, display]\n",
              "27  0.000000  ...        [bad, good, awsome, backup]\n",
              "28  0.385215  ...   [loved, battery, camera, awsome]\n",
              "29  0.000000  ...  [delivery, buy, great, excellent]\n",
              "30  0.000000  ...       [awsm, look, hangs, display]\n",
              "31  0.000000  ...  [delivery, buy, great, excellent]\n",
              "32  0.000000  ...       [awsm, look, hangs, display]\n",
              "33  0.000000  ...        [bad, good, awsome, backup]\n",
              "34  0.000000  ...       [awsm, look, hangs, display]\n",
              "35  0.000000  ...       [awsm, look, hangs, display]\n",
              "36  0.000000  ...  [delivery, buy, great, excellent]\n",
              "37  0.000000  ...        [bad, good, awsome, backup]\n",
              "38  0.000000  ...        [bad, good, awsome, backup]\n",
              "39  0.000000  ...       [awsm, look, hangs, display]\n",
              "40  0.000000  ...       [awsm, look, hangs, display]\n",
              "41  0.000000  ...       [awsm, look, hangs, display]\n",
              "42  0.385215  ...   [loved, battery, camera, awsome]\n",
              "43  0.000000  ...       [awsm, look, hangs, display]\n",
              "44  0.385215  ...   [loved, battery, camera, awsome]\n",
              "45  0.385215  ...   [loved, battery, camera, awsome]\n",
              "46  0.000000  ...        [bad, good, awsome, backup]\n",
              "47  0.000000  ...       [awsm, look, hangs, display]\n",
              "48  0.000000  ...       [awsm, look, hangs, display]\n",
              "49  0.000000  ...       [awsm, look, hangs, display]\n",
              "\n",
              "[50 rows x 7 columns]"
            ]
          },
          "metadata": {
            "tags": []
          },
          "execution_count": 89
        }
      ]
    },
    {
      "cell_type": "markdown",
      "metadata": {
        "id": "4p8fypaOU_4w",
        "colab_type": "text"
      },
      "source": [
        "# Sentence Tokenisation"
      ]
    },
    {
      "cell_type": "code",
      "metadata": {
        "id": "jPSzlnDr2kEx",
        "colab_type": "code",
        "colab": {
          "base_uri": "https://localhost:8080/",
          "height": 66
        },
        "outputId": "67dd7261-bff6-4e4c-ffc5-89f71390bd5c"
      },
      "source": [
        "from nltk.tokenize import sent_tokenize\n",
        "import nltk\n",
        "nltk.download('punkt')"
      ],
      "execution_count": 90,
      "outputs": [
        {
          "output_type": "stream",
          "text": [
            "[nltk_data] Downloading package punkt to /root/nltk_data...\n",
            "[nltk_data]   Unzipping tokenizers/punkt.zip.\n"
          ],
          "name": "stdout"
        },
        {
          "output_type": "execute_result",
          "data": {
            "text/plain": [
              "True"
            ]
          },
          "metadata": {
            "tags": []
          },
          "execution_count": 90
        }
      ]
    },
    {
      "cell_type": "code",
      "metadata": {
        "id": "kcHkke80VDyw",
        "colab_type": "code",
        "colab": {}
      },
      "source": [
        "review=pd.read_csv(\"samsungdata.csv\")[\"review\"].values"
      ],
      "execution_count": 91,
      "outputs": []
    },
    {
      "cell_type": "code",
      "metadata": {
        "id": "STcqNOpbVQUr",
        "colab_type": "code",
        "colab": {}
      },
      "source": [
        ""
      ],
      "execution_count": 91,
      "outputs": []
    },
    {
      "cell_type": "code",
      "metadata": {
        "id": "4hLlIZM2VRsL",
        "colab_type": "code",
        "colab": {}
      },
      "source": [
        "import nltk.data"
      ],
      "execution_count": 92,
      "outputs": []
    },
    {
      "cell_type": "code",
      "metadata": {
        "id": "DJ-0sYIHWjaV",
        "colab_type": "code",
        "colab": {}
      },
      "source": [
        "sent=[]\n",
        "for i in review:\n",
        "  sent.extend(nltk.sent_tokenize(i))"
      ],
      "execution_count": 93,
      "outputs": []
    },
    {
      "cell_type": "code",
      "metadata": {
        "id": "DnNkbLwIWrnT",
        "colab_type": "code",
        "colab": {
          "base_uri": "https://localhost:8080/",
          "height": 33
        },
        "outputId": "09fb5658-5aa9-40a4-d59e-8bc52ffa251b"
      },
      "source": [
        "len(sent)"
      ],
      "execution_count": 94,
      "outputs": [
        {
          "output_type": "execute_result",
          "data": {
            "text/plain": [
              "348"
            ]
          },
          "metadata": {
            "tags": []
          },
          "execution_count": 94
        }
      ]
    },
    {
      "cell_type": "code",
      "metadata": {
        "id": "EK8QeeGJYao1",
        "colab_type": "code",
        "colab": {}
      },
      "source": [
        "df=pd.DataFrame(sent,columns=[\"review\"])"
      ],
      "execution_count": 95,
      "outputs": []
    },
    {
      "cell_type": "code",
      "metadata": {
        "id": "Chb8y4KAUoPD",
        "colab_type": "code",
        "colab": {}
      },
      "source": [
        ""
      ],
      "execution_count": 95,
      "outputs": []
    },
    {
      "cell_type": "code",
      "metadata": {
        "id": "iqdvzs30ZEZ1",
        "colab_type": "code",
        "colab": {
          "base_uri": "https://localhost:8080/",
          "height": 191
        },
        "outputId": "5b9f07d3-8a86-4f76-ce09-a08d220f7dc2"
      },
      "source": [
        "df.head()"
      ],
      "execution_count": 96,
      "outputs": [
        {
          "output_type": "execute_result",
          "data": {
            "text/html": [
              "<div>\n",
              "<style scoped>\n",
              "    .dataframe tbody tr th:only-of-type {\n",
              "        vertical-align: middle;\n",
              "    }\n",
              "\n",
              "    .dataframe tbody tr th {\n",
              "        vertical-align: top;\n",
              "    }\n",
              "\n",
              "    .dataframe thead th {\n",
              "        text-align: right;\n",
              "    }\n",
              "</style>\n",
              "<table border=\"1\" class=\"dataframe\">\n",
              "  <thead>\n",
              "    <tr style=\"text-align: right;\">\n",
              "      <th></th>\n",
              "      <th>review</th>\n",
              "    </tr>\n",
              "  </thead>\n",
              "  <tbody>\n",
              "    <tr>\n",
              "      <th>0</th>\n",
              "      <td>Bokeh mode is very excellent than any other ha...</td>\n",
              "    </tr>\n",
              "    <tr>\n",
              "      <th>1</th>\n",
              "      <td>Just awsome product the picture quality is goo...</td>\n",
              "    </tr>\n",
              "    <tr>\n",
              "      <th>2</th>\n",
              "      <td>I reccomend you to buy this product</td>\n",
              "    </tr>\n",
              "    <tr>\n",
              "      <th>3</th>\n",
              "      <td>Samsung galaxy m30s is most useful.But Samsung...</td>\n",
              "    </tr>\n",
              "    <tr>\n",
              "      <th>4</th>\n",
              "      <td>Where is i am disappointed with the selfie but...</td>\n",
              "    </tr>\n",
              "  </tbody>\n",
              "</table>\n",
              "</div>"
            ],
            "text/plain": [
              "                                              review\n",
              "0  Bokeh mode is very excellent than any other ha...\n",
              "1  Just awsome product the picture quality is goo...\n",
              "2                I reccomend you to buy this product\n",
              "3  Samsung galaxy m30s is most useful.But Samsung...\n",
              "4  Where is i am disappointed with the selfie but..."
            ]
          },
          "metadata": {
            "tags": []
          },
          "execution_count": 96
        }
      ]
    },
    {
      "cell_type": "code",
      "metadata": {
        "id": "rFB_6ix1ZMPJ",
        "colab_type": "code",
        "colab": {
          "base_uri": "https://localhost:8080/",
          "height": 33
        },
        "outputId": "d584b960-df74-48f0-aea8-0b58528591fa"
      },
      "source": [
        "df.shape"
      ],
      "execution_count": 97,
      "outputs": [
        {
          "output_type": "execute_result",
          "data": {
            "text/plain": [
              "(348, 1)"
            ]
          },
          "metadata": {
            "tags": []
          },
          "execution_count": 97
        }
      ]
    },
    {
      "cell_type": "code",
      "metadata": {
        "id": "JS79NiY0ZOyp",
        "colab_type": "code",
        "colab": {}
      },
      "source": [
        "df[\"review\"]=df[\"review\"].apply(lambda x:convert_emojis(x))\n",
        "df[\"review\"]=df[\"review\"].apply(lambda x:x.lower()) \n",
        "df[\"review\"]=df[\"review\"].apply(lambda x:decontracted(x))\n",
        "df[\"review\"]=df[\"review\"].apply(lambda x:removecharacters(x))\n",
        "df[\"review\"]=pd.DataFrame(df[\"review\"].apply(lambda x:removestopwords(x)))"
      ],
      "execution_count": 98,
      "outputs": []
    },
    {
      "cell_type": "code",
      "metadata": {
        "id": "yuXMDynmZ_DF",
        "colab_type": "code",
        "colab": {}
      },
      "source": [
        "#data[\"title\"]=data[\"title\"].apply(lambda x:only_nouns_adjectives(x))\n",
        "#df[\"review\"]=df[\"review\"].apply(lambda x:only_nouns(x))"
      ],
      "execution_count": 99,
      "outputs": []
    },
    {
      "cell_type": "markdown",
      "metadata": {
        "id": "xzcq3SXjaaDD",
        "colab_type": "text"
      },
      "source": [
        "##sent tokanised "
      ]
    },
    {
      "cell_type": "markdown",
      "metadata": {
        "id": "LvFFZA0hah6R",
        "colab_type": "text"
      },
      "source": [
        "### BOW LDA"
      ]
    },
    {
      "cell_type": "code",
      "metadata": {
        "id": "HIktQgzIaR6x",
        "colab_type": "code",
        "colab": {
          "base_uri": "https://localhost:8080/",
          "height": 180
        },
        "outputId": "fbd1ff52-e3cb-4b9a-f98b-30152ecb8d64"
      },
      "source": [
        "bow=CountVectorizer(ngram_range=(1,1))\n",
        "bow_review=bow.fit_transform(df[\"review\"])\n",
        "df_bow=pd.DataFrame(bow_review.toarray(),columns=bow.get_feature_names())\n",
        "lda = LatentDirichletAllocation(n_components=10,random_state=0)\n",
        "lda.fit_transform(df_bow)\n",
        "print_top_words(lda,bow.get_feature_names(),5)"
      ],
      "execution_count": null,
      "outputs": [
        {
          "output_type": "execute_result",
          "data": {
            "text/plain": [
              "[['wesome', 'flipkart', 'worst', 'ok', 'use'],\n",
              " ['super', 'samsung', 'quality', 'bad', 'camera'],\n",
              " ['xcellent', 'excellent', 'battery', 'thanks', 'camera'],\n",
              " ['good', 'camera', 'battery', 'super', 'one'],\n",
              " ['hangs', 'best', 'no', 'frequently', 'smooth'],\n",
              " ['good', 'poor', 'buy', 'online', 'though'],\n",
              " ['superb', 'good', 'like', 'buy', 'performance'],\n",
              " ['good', 'battery', 'camera', 'display', 'money'],\n",
              " ['battery', 'worth', 'good', 'backup', 'money'],\n",
              " ['nice', 'best', 'awesome', 'battery', 'price']]"
            ]
          },
          "metadata": {
            "tags": []
          },
          "execution_count": 246
        }
      ]
    },
    {
      "cell_type": "markdown",
      "metadata": {
        "id": "bZoReOfDrzPz",
        "colab_type": "text"
      },
      "source": [
        "#### LDA again"
      ]
    },
    {
      "cell_type": "code",
      "metadata": {
        "id": "w81M1n0tr2xv",
        "colab_type": "code",
        "colab": {
          "base_uri": "https://localhost:8080/",
          "height": 98
        },
        "outputId": "5cba2b59-1523-44fa-fba8-dc06cb10777d"
      },
      "source": [
        "arr=np.array(print_top_words(lda,bow.get_feature_names(),5)).reshape(1,-1)[0]\n",
        "bow=CountVectorizer(ngram_range=(1,1))\n",
        "bow_review=bow.fit_transform(arr)\n",
        "df_bow=pd.DataFrame(bow_review.toarray(),columns=bow.get_feature_names())\n",
        "lda = LatentDirichletAllocation(n_components=5,random_state=0)\n",
        "lda.fit_transform(df_bow)\n",
        "print_top_words(lda,bow.get_feature_names(),4)\n"
      ],
      "execution_count": null,
      "outputs": [
        {
          "output_type": "execute_result",
          "data": {
            "text/plain": [
              "[['money', 'ok', 'performance', 'bad'],\n",
              " ['price', 'though', 'worth', 'smooth'],\n",
              " ['battery', 'good', 'hangs', 'samsung'],\n",
              " ['camera', 'buy', 'nice', 'flipkart'],\n",
              " ['best', 'super', 'wesome', 'online']]"
            ]
          },
          "metadata": {
            "tags": []
          },
          "execution_count": 247
        }
      ]
    },
    {
      "cell_type": "markdown",
      "metadata": {
        "id": "2mUlGNyfasYU",
        "colab_type": "text"
      },
      "source": [
        "### TFIDF LDA"
      ]
    },
    {
      "cell_type": "code",
      "metadata": {
        "id": "kdOl1mAAanLt",
        "colab_type": "code",
        "colab": {
          "base_uri": "https://localhost:8080/",
          "height": 180
        },
        "outputId": "13df4d77-3761-42ba-d25e-87fc638edef3"
      },
      "source": [
        "tfidf=TfidfVectorizer(ngram_range=(1,1))\n",
        "tfidf_words=tfidf.fit_transform(df[\"review\"])\n",
        "words=tfidf.get_feature_names()\n",
        "df_bow=pd.DataFrame(tfidf_words.toarray(),columns=words)\n",
        "lda = LatentDirichletAllocation(n_components=10,random_state=0)\n",
        "lda.fit_transform(tfidf_words)\n",
        "print_top_words(lda,words,5)"
      ],
      "execution_count": null,
      "outputs": [
        {
          "output_type": "execute_result",
          "data": {
            "text/plain": [
              "[['wesome', 'ok', 'smart', 'months', 'quality'],\n",
              " ['super', 'quality', 'love', 'flipkart', 'samsung'],\n",
              " ['excellent', 'great', 'loved', 'thank', 'camera'],\n",
              " ['xcellent', 'bad', 'battery', 'camera', 'one'],\n",
              " ['samsung', 'hangs', 'no', 'frequently', 'smooth'],\n",
              " ['recommend', 'worthless', 'exellent', 'sm', 'online'],\n",
              " ['superb', 'smartphone', 'sad', 'buy', 'good'],\n",
              " ['good', 'camera', 'battery', 'display', 'also'],\n",
              " ['worth', 'normal', 'money', 'wsm', 'camera'],\n",
              " ['nice', 'best', 'awesome', 'battery', 'price']]"
            ]
          },
          "metadata": {
            "tags": []
          },
          "execution_count": 234
        }
      ]
    },
    {
      "cell_type": "markdown",
      "metadata": {
        "id": "ZibosmtYtVn3",
        "colab_type": "text"
      },
      "source": [
        "#### (LDA AGAIN)"
      ]
    },
    {
      "cell_type": "code",
      "metadata": {
        "id": "GsmgZRSUthDv",
        "colab_type": "code",
        "colab": {
          "base_uri": "https://localhost:8080/",
          "height": 82
        },
        "outputId": "ec899e11-1c8e-419e-ca3e-70825ed138e9"
      },
      "source": [
        "arr=np.array(print_top_words(lda,words,5)).reshape(1,-1)[0]\n",
        "tfidf=TfidfVectorizer(ngram_range=(1,1))\n",
        "tfidf_words=tfidf.fit_transform(arr)\n",
        "words=tfidf.get_feature_names()\n",
        "df_tfidf=pd.DataFrame(tfidf_words.toarray(),columns=words)\n",
        "lda = LatentDirichletAllocation(n_components=4,random_state=0)\n",
        "lda.fit_transform(df_tfidf)\n",
        "print_top_words(lda,words,4)\n"
      ],
      "execution_count": null,
      "outputs": [
        {
          "output_type": "execute_result",
          "data": {
            "text/plain": [
              "[['hangs', 'bad', 'also', 'worth'],\n",
              " ['camera', 'battery', 'samsung', 'one'],\n",
              " ['quality', 'thank', 'sm', 'smartphone'],\n",
              " ['good', 'smooth', 'frequently', 'superb']]"
            ]
          },
          "metadata": {
            "tags": []
          },
          "execution_count": 235
        }
      ]
    },
    {
      "cell_type": "markdown",
      "metadata": {
        "id": "9rEoUn47a9nV",
        "colab_type": "text"
      },
      "source": [
        "### NMF TFIDF"
      ]
    },
    {
      "cell_type": "code",
      "metadata": {
        "id": "rllqvDBoa0df",
        "colab_type": "code",
        "colab": {
          "base_uri": "https://localhost:8080/",
          "height": 180
        },
        "outputId": "e1ba6e85-eda1-4454-b578-21b33977d238"
      },
      "source": [
        "nmf = NMF(n_components=10, random_state=1,\n",
        "          beta_loss='kullback-leibler', solver='mu', max_iter=1000, alpha=.1,\n",
        "          l1_ratio=.5).fit(tfidf_words)\n",
        "print_top_words(nmf,words,5)"
      ],
      "execution_count": null,
      "outputs": [
        {
          "output_type": "execute_result",
          "data": {
            "text/plain": [
              "[['camera', 'flipkart', 'xcellent', 'months', 'money'],\n",
              " ['battery', 'xcellent', 'flipkart', 'months', 'money'],\n",
              " ['good', 'xcellent', 'flipkart', 'months', 'money'],\n",
              " ['quality', 'bad', 'xcellent', 'flipkart', 'money'],\n",
              " ['samsung', 'xcellent', 'flipkart', 'money', 'loved'],\n",
              " ['no', 'one', 'awesome', 'loved', 'superb'],\n",
              " ['xcellent', 'buy', 'online', 'frequently', 'sad'],\n",
              " ['excellent', 'normal', 'best', 'great', 'smooth'],\n",
              " ['also', 'smartphone', 'love', 'price', 'recommend'],\n",
              " ['worthless', 'wsm', 'ok', 'super', 'hangs']]"
            ]
          },
          "metadata": {
            "tags": []
          },
          "execution_count": 249
        }
      ]
    },
    {
      "cell_type": "markdown",
      "metadata": {
        "id": "wnfQxaXecqNH",
        "colab_type": "text"
      },
      "source": [
        "### NMF BOW"
      ]
    },
    {
      "cell_type": "code",
      "metadata": {
        "id": "lL9X0a0RbEWe",
        "colab_type": "code",
        "colab": {
          "base_uri": "https://localhost:8080/",
          "height": 180
        },
        "outputId": "d094eafc-1b2b-4667-9d09-822ee456fa7b"
      },
      "source": [
        "bow=CountVectorizer(ngram_range=(1,1))\n",
        "bow_review=bow.fit_transform(data[\"review\"])\n",
        "\n",
        "nmf = NMF(n_components=10, random_state=1,\n",
        "          beta_loss='kullback-leibler', solver='mu', max_iter=1000, alpha=.1,\n",
        "          l1_ratio=.5).fit(bow_review)\n",
        "bow_words=bow.get_feature_names()\n",
        "print_top_words(nmf,bow_words,4)"
      ],
      "execution_count": null,
      "outputs": [
        {
          "output_type": "execute_result",
          "data": {
            "text/plain": [
              "[['good', 'battery', 'camera', 'display'],\n",
              " ['super', 'superb', 'great', 'display'],\n",
              " ['samsung', 'buy', 'm30s', 'loved'],\n",
              " ['nice', 'delivery', 'thanks', 'awsm'],\n",
              " ['quality', 'camera', 'hangs', 'using'],\n",
              " ['best', 'price', 'range', 'camera'],\n",
              " ['wesome', 'battery', 'money', 'xcellent'],\n",
              " ['performance', 'excellent', 'no', 'display'],\n",
              " ['use', 'ok', 'best', 'awsome'],\n",
              " ['flipkart', 'thank', 'love', 'worst']]"
            ]
          },
          "metadata": {
            "tags": []
          },
          "execution_count": 250
        }
      ]
    },
    {
      "cell_type": "markdown",
      "metadata": {
        "id": "qqUExyt8MM91",
        "colab_type": "text"
      },
      "source": [
        "#### nmf again"
      ]
    },
    {
      "cell_type": "code",
      "metadata": {
        "id": "NJeT3-FJMXD4",
        "colab_type": "code",
        "colab": {
          "base_uri": "https://localhost:8080/",
          "height": 98
        },
        "outputId": "66c04c28-da87-49ac-d362-4fe6e178870c"
      },
      "source": [
        "arr=np.array(print_top_words(nmf,bow.get_feature_names(),5)).reshape(1,-1)[0]\n",
        "bow=CountVectorizer(ngram_range=(1,1))\n",
        "bow_review=bow.fit_transform(arr)\n",
        "df_bow=pd.DataFrame(bow_review.toarray(),columns=bow.get_feature_names())\n",
        "nmf = NMF(n_components=5, random_state=1,\n",
        "          beta_loss='kullback-leibler', solver='mu', max_iter=1000, alpha=.1,\n",
        "          l1_ratio=.5).fit(bow_review)\n",
        "bow_words=bow.get_feature_names()\n",
        "print_top_words(nmf,bow_words,4)"
      ],
      "execution_count": null,
      "outputs": [
        {
          "output_type": "execute_result",
          "data": {
            "text/plain": [
              "[['display', 'hours', 'buy', 'worst'],\n",
              " ['battery', 'great', 'money', 'good'],\n",
              " ['camera', 'xcellent', 'online', 'backup'],\n",
              " ['best', 'quality', 'budget', 'hangs'],\n",
              " ['performance', 'love', 'samsung', 'better']]"
            ]
          },
          "metadata": {
            "tags": []
          },
          "execution_count": 251
        }
      ]
    },
    {
      "cell_type": "markdown",
      "metadata": {
        "id": "kOxm846pbjrN",
        "colab_type": "text"
      },
      "source": [
        "## POS TAGGING ONLY NOUNS"
      ]
    },
    {
      "cell_type": "code",
      "metadata": {
        "id": "39lpvTrkbQ5M",
        "colab_type": "code",
        "colab": {}
      },
      "source": [
        "df[\"review\"]=df[\"review\"].apply(lambda x:only_nouns(x))"
      ],
      "execution_count": 103,
      "outputs": []
    },
    {
      "cell_type": "markdown",
      "metadata": {
        "id": "0l-Ldn3Db1HG",
        "colab_type": "text"
      },
      "source": [
        "### BOW LDA"
      ]
    },
    {
      "cell_type": "code",
      "metadata": {
        "id": "uXfl0hMabvF0",
        "colab_type": "code",
        "colab": {
          "base_uri": "https://localhost:8080/",
          "height": 82
        },
        "outputId": "1a10b8d0-0830-45b8-9e03-33dbfe1b3243"
      },
      "source": [
        "bow=CountVectorizer(ngram_range=(1,1))\n",
        "bow_review=bow.fit_transform(df[\"review\"])\n",
        "df_bow=pd.DataFrame(bow_review.toarray(),columns=bow.get_feature_names())\n",
        "lda = LatentDirichletAllocation(n_components=4,random_state=0)\n",
        "lda.fit_transform(df_bow)\n",
        "print_top_words(lda,bow.get_feature_names(),4)"
      ],
      "execution_count": 133,
      "outputs": [
        {
          "output_type": "execute_result",
          "data": {
            "text/plain": [
              "[['super', 'wesome', 'price', 'camera'],\n",
              " ['superb', 'buy', 'awesome', 'use'],\n",
              " ['camera', 'display', 'samsung', 'battery'],\n",
              " ['battery', 'backup', 'money', 'ok']]"
            ]
          },
          "metadata": {
            "tags": []
          },
          "execution_count": 133
        }
      ]
    },
    {
      "cell_type": "code",
      "metadata": {
        "id": "_udLnkKiRRI_",
        "colab_type": "code",
        "colab": {
          "base_uri": "https://localhost:8080/",
          "height": 363
        },
        "outputId": "524b33ec-53b7-45a7-8039-a869a750f3f0"
      },
      "source": [
        "topics=print_top_words(lda,bow.get_feature_names(),4)\n",
        "topic=[\"topic_\"+str(i) for i  in range(0,lda.n_components)]\n",
        "df_doc_topic=pd.DataFrame(lda.fit_transform(df_bow),columns=topic)\n",
        "dominant_topic = np.argmax(df_doc_topic.values, axis=1)\n",
        "df_doc_topic[\"dominant_topic\"] = dominant_topic\n",
        "df_doc_topic[\"review\"]=df[\"review\"]\n",
        "df_doc_topic[\"dominant_topic_keywords\"]=[topics[i]  for i in dominant_topic]\n",
        "df_doc_topic[:11]"
      ],
      "execution_count": 134,
      "outputs": [
        {
          "output_type": "execute_result",
          "data": {
            "text/html": [
              "<div>\n",
              "<style scoped>\n",
              "    .dataframe tbody tr th:only-of-type {\n",
              "        vertical-align: middle;\n",
              "    }\n",
              "\n",
              "    .dataframe tbody tr th {\n",
              "        vertical-align: top;\n",
              "    }\n",
              "\n",
              "    .dataframe thead th {\n",
              "        text-align: right;\n",
              "    }\n",
              "</style>\n",
              "<table border=\"1\" class=\"dataframe\">\n",
              "  <thead>\n",
              "    <tr style=\"text-align: right;\">\n",
              "      <th></th>\n",
              "      <th>topic_0</th>\n",
              "      <th>topic_1</th>\n",
              "      <th>topic_2</th>\n",
              "      <th>topic_3</th>\n",
              "      <th>dominant_topic</th>\n",
              "      <th>review</th>\n",
              "      <th>dominant_topic_keywords</th>\n",
              "    </tr>\n",
              "  </thead>\n",
              "  <tbody>\n",
              "    <tr>\n",
              "      <th>0</th>\n",
              "      <td>0.016826</td>\n",
              "      <td>0.016841</td>\n",
              "      <td>0.949477</td>\n",
              "      <td>0.016856</td>\n",
              "      <td>2</td>\n",
              "      <td>bokeh mode handset budget battery camera displ...</td>\n",
              "      <td>[camera, display, samsung, battery]</td>\n",
              "    </tr>\n",
              "    <tr>\n",
              "      <th>1</th>\n",
              "      <td>0.032914</td>\n",
              "      <td>0.032456</td>\n",
              "      <td>0.891801</td>\n",
              "      <td>0.042829</td>\n",
              "      <td>2</td>\n",
              "      <td>picture quality battery backup awsome pub g ex...</td>\n",
              "      <td>[camera, display, samsung, battery]</td>\n",
              "    </tr>\n",
              "    <tr>\n",
              "      <th>2</th>\n",
              "      <td>0.083374</td>\n",
              "      <td>0.749892</td>\n",
              "      <td>0.083363</td>\n",
              "      <td>0.083372</td>\n",
              "      <td>1</td>\n",
              "      <td>reccomend buy</td>\n",
              "      <td>[superb, buy, awesome, use]</td>\n",
              "    </tr>\n",
              "    <tr>\n",
              "      <th>3</th>\n",
              "      <td>0.036633</td>\n",
              "      <td>0.035741</td>\n",
              "      <td>0.891825</td>\n",
              "      <td>0.035801</td>\n",
              "      <td>2</td>\n",
              "      <td>samsung galaxy m30s samsung selfie camera</td>\n",
              "      <td>[camera, display, samsung, battery]</td>\n",
              "    </tr>\n",
              "    <tr>\n",
              "      <th>4</th>\n",
              "      <td>0.182244</td>\n",
              "      <td>0.035891</td>\n",
              "      <td>0.746052</td>\n",
              "      <td>0.035813</td>\n",
              "      <td>2</td>\n",
              "      <td>selfie bugdet performance display super decent</td>\n",
              "      <td>[camera, display, samsung, battery]</td>\n",
              "    </tr>\n",
              "    <tr>\n",
              "      <th>5</th>\n",
              "      <td>0.125012</td>\n",
              "      <td>0.624969</td>\n",
              "      <td>0.125009</td>\n",
              "      <td>0.125011</td>\n",
              "      <td>1</td>\n",
              "      <td>superb</td>\n",
              "      <td>[superb, buy, awesome, use]</td>\n",
              "    </tr>\n",
              "    <tr>\n",
              "      <th>6</th>\n",
              "      <td>0.125119</td>\n",
              "      <td>0.125148</td>\n",
              "      <td>0.624633</td>\n",
              "      <td>0.125100</td>\n",
              "      <td>2</td>\n",
              "      <td>worth</td>\n",
              "      <td>[camera, display, samsung, battery]</td>\n",
              "    </tr>\n",
              "    <tr>\n",
              "      <th>7</th>\n",
              "      <td>0.083406</td>\n",
              "      <td>0.749806</td>\n",
              "      <td>0.083386</td>\n",
              "      <td>0.083402</td>\n",
              "      <td>1</td>\n",
              "      <td>tv cast</td>\n",
              "      <td>[superb, buy, awesome, use]</td>\n",
              "    </tr>\n",
              "    <tr>\n",
              "      <th>8</th>\n",
              "      <td>0.250000</td>\n",
              "      <td>0.250000</td>\n",
              "      <td>0.250000</td>\n",
              "      <td>0.250000</td>\n",
              "      <td>0</td>\n",
              "      <td></td>\n",
              "      <td>[super, wesome, price, camera]</td>\n",
              "    </tr>\n",
              "    <tr>\n",
              "      <th>9</th>\n",
              "      <td>0.036963</td>\n",
              "      <td>0.327116</td>\n",
              "      <td>0.178526</td>\n",
              "      <td>0.457395</td>\n",
              "      <td>3</td>\n",
              "      <td>call samsung person buy online function</td>\n",
              "      <td>[battery, backup, money, ok]</td>\n",
              "    </tr>\n",
              "    <tr>\n",
              "      <th>10</th>\n",
              "      <td>0.083910</td>\n",
              "      <td>0.749397</td>\n",
              "      <td>0.083344</td>\n",
              "      <td>0.083348</td>\n",
              "      <td>1</td>\n",
              "      <td>buy online</td>\n",
              "      <td>[superb, buy, awesome, use]</td>\n",
              "    </tr>\n",
              "  </tbody>\n",
              "</table>\n",
              "</div>"
            ],
            "text/plain": [
              "     topic_0  ...              dominant_topic_keywords\n",
              "0   0.016826  ...  [camera, display, samsung, battery]\n",
              "1   0.032914  ...  [camera, display, samsung, battery]\n",
              "2   0.083374  ...          [superb, buy, awesome, use]\n",
              "3   0.036633  ...  [camera, display, samsung, battery]\n",
              "4   0.182244  ...  [camera, display, samsung, battery]\n",
              "5   0.125012  ...          [superb, buy, awesome, use]\n",
              "6   0.125119  ...  [camera, display, samsung, battery]\n",
              "7   0.083406  ...          [superb, buy, awesome, use]\n",
              "8   0.250000  ...       [super, wesome, price, camera]\n",
              "9   0.036963  ...         [battery, backup, money, ok]\n",
              "10  0.083910  ...          [superb, buy, awesome, use]\n",
              "\n",
              "[11 rows x 7 columns]"
            ]
          },
          "metadata": {
            "tags": []
          },
          "execution_count": 134
        }
      ]
    },
    {
      "cell_type": "markdown",
      "metadata": {
        "id": "txeb6FpmM_bK",
        "colab_type": "text"
      },
      "source": [
        "#### again LDA -------------------------------------------------------"
      ]
    },
    {
      "cell_type": "code",
      "metadata": {
        "id": "unmLtD20RQNi",
        "colab_type": "code",
        "colab": {}
      },
      "source": [
        ""
      ],
      "execution_count": null,
      "outputs": []
    },
    {
      "cell_type": "code",
      "metadata": {
        "id": "Po_S5bJ9NClY",
        "colab_type": "code",
        "colab": {
          "base_uri": "https://localhost:8080/",
          "height": 98
        },
        "outputId": "ef5c65a0-a579-417b-f3e7-55e54a8eaa7a"
      },
      "source": [
        "arr=np.array(print_top_words(lda,bow.get_feature_names(),5)).reshape(1,-1)[0]\n",
        "bow=CountVectorizer(ngram_range=(1,1))\n",
        "bow_review=bow.fit_transform(arr)\n",
        "df_bow=pd.DataFrame(bow_review.toarray(),columns=bow.get_feature_names())\n",
        "lda = LatentDirichletAllocation(n_components=5,random_state=0)\n",
        "lda.fit_transform(df_bow)\n",
        "print_top_words(lda,bow.get_feature_names(),4)\n"
      ],
      "execution_count": 105,
      "outputs": [
        {
          "output_type": "execute_result",
          "data": {
            "text/plain": [
              "[['camera', 'display', 'person', 'm30s'],\n",
              " ['samsung', 'xcellent', 'buy', 'range'],\n",
              " ['quality', 'delivery', 'use', 'life'],\n",
              " ['battery', 'nice', 'superb', 'wid'],\n",
              " ['performance', 'network', 'super', 'handset']]"
            ]
          },
          "metadata": {
            "tags": []
          },
          "execution_count": 105
        }
      ]
    },
    {
      "cell_type": "code",
      "metadata": {
        "id": "a-6PgbeUP1ct",
        "colab_type": "code",
        "colab": {
          "base_uri": "https://localhost:8080/",
          "height": 33
        },
        "outputId": "e89c552a-6cdb-4df9-c81f-671c3b169bd3"
      },
      "source": [
        "topics=print_top_words(lda,bow.get_feature_names(),4)\n",
        "topic=[\"topic_\"+str(i) for i  in range(0,lda.n_components)]\n",
        "df_doc_topic=pd.DataFrame(lda.fit_transform(df_bow),columns=topic)\n",
        "dominant_topic = np.argmax(df_doc_topic.values, axis=1)\n",
        "df_doc_topic[\"dominant_topic\"] = dominant_topic\n",
        "df_doc_topic[\"review\"]=df[\"review\"]\n",
        "df_doc_topic[\"dominant_topic_keywords\"]=[topics[i]  for i in dominant_topic]\n"
      ],
      "execution_count": 108,
      "outputs": [
        {
          "output_type": "execute_result",
          "data": {
            "text/plain": [
              "(348, 1)"
            ]
          },
          "metadata": {
            "tags": []
          },
          "execution_count": 108
        }
      ]
    },
    {
      "cell_type": "markdown",
      "metadata": {
        "id": "sqeg1UHscDPY",
        "colab_type": "text"
      },
      "source": [
        "### BOW NMF  (results are better)"
      ]
    },
    {
      "cell_type": "code",
      "metadata": {
        "id": "0ska2Bncb4Df",
        "colab_type": "code",
        "colab": {
          "base_uri": "https://localhost:8080/",
          "height": 1000
        },
        "outputId": "2c243a5a-a2ce-48cc-9918-c9237dc4ed66"
      },
      "source": [
        "bow=CountVectorizer(ngram_range=(1,3))\n",
        "bow_review=bow.fit_transform(df[\"review\"])\n",
        "nmf = NMF(n_components=10, random_state=1,\n",
        "          beta_loss='kullback-leibler', solver='mu', max_iter=1000, alpha=.1,\n",
        "          l1_ratio=.5).fit(bow_review)\n",
        "print_top_words(nmf,bow.get_feature_names(),8)"
      ],
      "execution_count": null,
      "outputs": [
        {
          "output_type": "execute_result",
          "data": {
            "text/plain": [
              "[['battery',\n",
              "  'camera',\n",
              "  'display',\n",
              "  'camera battery',\n",
              "  'battery life',\n",
              "  'life',\n",
              "  'mah',\n",
              "  'display battery'],\n",
              " ['performance',\n",
              "  'budget',\n",
              "  'handset',\n",
              "  'mode',\n",
              "  'cost',\n",
              "  'handset budget',\n",
              "  'camera display',\n",
              "  'processer'],\n",
              " ['display',\n",
              "  'super',\n",
              "  'xcellent',\n",
              "  'ok',\n",
              "  'camera',\n",
              "  'smartphone',\n",
              "  'camera display',\n",
              "  'credit super'],\n",
              " ['camera',\n",
              "  'quality',\n",
              "  'wesome',\n",
              "  'camera quality',\n",
              "  'quality battery',\n",
              "  'look',\n",
              "  'osm',\n",
              "  'love'],\n",
              " ['backup',\n",
              "  'superb',\n",
              "  'battery backup',\n",
              "  'battery',\n",
              "  'experience',\n",
              "  'awesome',\n",
              "  'picture quality',\n",
              "  'camara'],\n",
              " ['samsung',\n",
              "  'buy',\n",
              "  'flipkart',\n",
              "  'online',\n",
              "  'm30s',\n",
              "  'love',\n",
              "  'buy online',\n",
              "  'purchase'],\n",
              " ['money', 'value', 'value money', 'delivery', 'time', 'mark', 'hand', 'box'],\n",
              " ['use',\n",
              "  'nice',\n",
              "  'play',\n",
              "  'bit',\n",
              "  'ok',\n",
              "  'battery pack',\n",
              "  'month',\n",
              "  'super month bit'],\n",
              " ['price',\n",
              "  'range',\n",
              "  'front',\n",
              "  'price range',\n",
              "  'performance',\n",
              "  'battery',\n",
              "  'camera',\n",
              "  'excellent'],\n",
              " ['power',\n",
              "  'team',\n",
              "  'power button',\n",
              "  'button',\n",
              "  'voice',\n",
              "  'thank',\n",
              "  'ear',\n",
              "  'inactivity']]"
            ]
          },
          "metadata": {
            "tags": []
          },
          "execution_count": 272
        }
      ]
    },
    {
      "cell_type": "markdown",
      "metadata": {
        "id": "cJsVp-PSNtUp",
        "colab_type": "text"
      },
      "source": [
        "#### again NMF---------------------"
      ]
    },
    {
      "cell_type": "code",
      "metadata": {
        "id": "GfAC4VwzNxRf",
        "colab_type": "code",
        "colab": {
          "base_uri": "https://localhost:8080/",
          "height": 82
        },
        "outputId": "a911db4e-ce13-4acc-db93-4b091ee4f4f7"
      },
      "source": [
        "arr=np.array(print_top_words(nmf,bow.get_feature_names(),5)).reshape(1,-1)[0]\n",
        "bow=CountVectorizer(ngram_range=(1,2))\n",
        "bow_review=bow.fit_transform(arr)\n",
        "df_bow=pd.DataFrame(bow_review.toarray(),columns=bow.get_feature_names())\n",
        "nmf = NMF(n_components=4, random_state=1,\n",
        "          beta_loss='kullback-leibler', solver='mu', max_iter=1000, alpha=.1,\n",
        "          l1_ratio=.5).fit(bow_review)\n",
        "bow_words=bow.get_feature_names()\n",
        "print_top_words(nmf,bow_words,4)"
      ],
      "execution_count": null,
      "outputs": [
        {
          "output_type": "execute_result",
          "data": {
            "text/plain": [
              "[['battery', 'backup', 'quality', 'battery backup'],\n",
              " ['camera', 'quality', 'm30s', 'samsung'],\n",
              " ['price', 'range', 'money', 'value'],\n",
              " ['ok', 'performance', 'button', 'power']]"
            ]
          },
          "metadata": {
            "tags": []
          },
          "execution_count": 273
        }
      ]
    },
    {
      "cell_type": "markdown",
      "metadata": {
        "id": "7M8Z6WhwcfvN",
        "colab_type": "text"
      },
      "source": [
        "### TFIDF LDA"
      ]
    },
    {
      "cell_type": "code",
      "metadata": {
        "id": "KNhTzgNOcjSv",
        "colab_type": "code",
        "colab": {
          "base_uri": "https://localhost:8080/",
          "height": 1000
        },
        "outputId": "65ba36e8-5b00-438a-e925-31828843cf45"
      },
      "source": [
        "tfidf=TfidfVectorizer(ngram_range=(1,3))\n",
        "tfidf_words=tfidf.fit_transform(df[\"review\"])\n",
        "words=tfidf.get_feature_names()\n",
        "df_bow=pd.DataFrame(tfidf_words.toarray(),columns=words)\n",
        "lda = LatentDirichletAllocation(n_components=10,random_state=0)\n",
        "lda.fit_transform(tfidf_words)\n",
        "print_top_words(lda,words,8)"
      ],
      "execution_count": null,
      "outputs": [
        {
          "output_type": "execute_result",
          "data": {
            "text/plain": [
              "[['love',\n",
              "  'charge',\n",
              "  'awesomespeechless',\n",
              "  'cam',\n",
              "  'voice',\n",
              "  'battery good',\n",
              "  'camera look',\n",
              "  'good'],\n",
              " ['awesome',\n",
              "  'range',\n",
              "  'box',\n",
              "  'nicc',\n",
              "  'okay',\n",
              "  'suprrrrrrrrr',\n",
              "  'battery',\n",
              "  'price range'],\n",
              " ['quality',\n",
              "  'camera',\n",
              "  'camera quality',\n",
              "  'battery',\n",
              "  'isplay',\n",
              "  'thank',\n",
              "  'smart',\n",
              "  'purpose'],\n",
              " ['super', 'camera', 'samsung', 'nice', 'ok', 'date', 'function', 'worth'],\n",
              " ['xcellent',\n",
              "  'smartphone',\n",
              "  'perfomance',\n",
              "  'excellent',\n",
              "  'sm',\n",
              "  'software',\n",
              "  'anything',\n",
              "  'waysome'],\n",
              " ['price',\n",
              "  'battery',\n",
              "  'mark',\n",
              "  'wsm',\n",
              "  'samsang',\n",
              "  'till',\n",
              "  'money good',\n",
              "  'xcellent smartphone'],\n",
              " ['battery backup',\n",
              "  'backup',\n",
              "  'battery',\n",
              "  'camera',\n",
              "  'android',\n",
              "  'perform',\n",
              "  'worthless',\n",
              "  'exellent'],\n",
              " ['money',\n",
              "  'value',\n",
              "  'value money',\n",
              "  'time',\n",
              "  'awsm',\n",
              "  'flipkart',\n",
              "  'light',\n",
              "  'light camera'],\n",
              " ['samsung',\n",
              "  'm30s',\n",
              "  'sad',\n",
              "  'mi',\n",
              "  'samsung m30s',\n",
              "  'samsung bro',\n",
              "  'bro',\n",
              "  'device'],\n",
              " ['wesome',\n",
              "  'superb',\n",
              "  'buy',\n",
              "  'display',\n",
              "  'buy online',\n",
              "  'online',\n",
              "  'amazing',\n",
              "  'choic']]"
            ]
          },
          "metadata": {
            "tags": []
          },
          "execution_count": 274
        }
      ]
    },
    {
      "cell_type": "markdown",
      "metadata": {
        "id": "ZHQSosfdPm7D",
        "colab_type": "text"
      },
      "source": [
        "#### Again LDF"
      ]
    },
    {
      "cell_type": "code",
      "metadata": {
        "id": "nARAvAdsO2JD",
        "colab_type": "code",
        "colab": {
          "base_uri": "https://localhost:8080/",
          "height": 82
        },
        "outputId": "4f2874ef-c08b-424c-8967-f84c5600299f"
      },
      "source": [
        "arr=np.array(print_top_words(lda,words,5)).reshape(1,-1)[0]\n",
        "tfidf=TfidfVectorizer(ngram_range=(1,1))\n",
        "tfidf_words=tfidf.fit_transform(arr)\n",
        "words=tfidf.get_feature_names()\n",
        "df_tfidf=pd.DataFrame(tfidf_words.toarray(),columns=words)\n",
        "lda = LatentDirichletAllocation(n_components=4,random_state=0)\n",
        "lda.fit_transform(df_tfidf)\n",
        "print_top_words(lda,words,4)\n"
      ],
      "execution_count": null,
      "outputs": [
        {
          "output_type": "execute_result",
          "data": {
            "text/plain": [
              "[['android', 'display', 'm30s', 'awsm'],\n",
              " ['money', 'quality', 'backup', 'samsang'],\n",
              " ['perfomance', 'battery', 'love', 'samsang'],\n",
              " ['camera', 'time', 'charge', 'samsung']]"
            ]
          },
          "metadata": {
            "tags": []
          },
          "execution_count": 279
        }
      ]
    },
    {
      "cell_type": "markdown",
      "metadata": {
        "id": "Sbx1xlb0dl1R",
        "colab_type": "text"
      },
      "source": [
        "### TFIDF NMF"
      ]
    },
    {
      "cell_type": "code",
      "metadata": {
        "id": "Rzue8rpGc0wR",
        "colab_type": "code",
        "colab": {}
      },
      "source": [
        "tfidf=TfidfVectorizer(ngram_range=(1,3))\n",
        "tfidf_words=tfidf.fit_transform(data[\"review\"])\n",
        "words=tfidf.get_feature_names()"
      ],
      "execution_count": null,
      "outputs": []
    },
    {
      "cell_type": "code",
      "metadata": {
        "id": "sHkdix4XdzDF",
        "colab_type": "code",
        "colab": {
          "base_uri": "https://localhost:8080/",
          "height": 342
        },
        "outputId": "745a8008-9559-4607-e184-0415376835d6"
      },
      "source": [
        "nmf = NMF(n_components=10, random_state=1,\n",
        "          beta_loss='kullback-leibler', solver='mu', max_iter=1000, alpha=.1,\n",
        "          l1_ratio=.5).fit(tfidf_words)\n",
        "print_top_words(nmf,words,6)"
      ],
      "execution_count": null,
      "outputs": [
        {
          "output_type": "execute_result",
          "data": {
            "text/plain": [
              "[['good', 'good samsung', 'good one', 'one', 'samsung', 'isplay good'],\n",
              " ['nice', 'phones', 'nice display', 'nice phones', 'nice awsm', 'osm nice'],\n",
              " ['wesome',\n",
              "  'quality battery',\n",
              "  'wesome camera',\n",
              "  'battery',\n",
              "  'wesome loving',\n",
              "  'loving'],\n",
              " ['super', 'love', 'super nice', 'super camera', 'good love', 'super quality'],\n",
              " ['best', 'price', 'loved', 'good price', 'best price', 'samsung best'],\n",
              " ['superb',\n",
              "  'great',\n",
              "  'expected',\n",
              "  'got',\n",
              "  'got expected',\n",
              "  'superb battery backup'],\n",
              " ['xcellent', 'money', 'flipkart', 'smartphone', 'thanks', 'excellent'],\n",
              " ['awesome', 'lovely', 'goods', 'thakarthu', 'exellent', 'worth money'],\n",
              " ['bad', 'ok', 'camera', 'camera quality', 'quality', 'worst'],\n",
              " ['battery', 'no', 'camera', 'battery backup', 'backup', 'display']]"
            ]
          },
          "metadata": {
            "tags": []
          },
          "execution_count": 286
        }
      ]
    },
    {
      "cell_type": "markdown",
      "metadata": {
        "id": "ViIBlVWqRRs2",
        "colab_type": "text"
      },
      "source": [
        "\n",
        "#### again nmf -----------------"
      ]
    },
    {
      "cell_type": "code",
      "metadata": {
        "id": "gAAHxOoDQwXL",
        "colab_type": "code",
        "colab": {
          "base_uri": "https://localhost:8080/",
          "height": 82
        },
        "outputId": "9378a691-449d-45aa-de3e-006f89c66921"
      },
      "source": [
        "arr=np.array(print_top_words(nmf,words,6)).reshape(1,-1)[0]\n",
        "tfidf=TfidfVectorizer(ngram_range=(1,1))\n",
        "tfidf_words=tfidf.fit_transform(arr)\n",
        "words=tfidf.get_feature_names()\n",
        "df_lda=pd.DataFrame(tfidf_words.toarray(),columns=words)\n",
        "nmf = NMF(n_components=4, random_state=1,\n",
        "          beta_loss='kullback-leibler', solver='mu', max_iter=1000, alpha=.1,\n",
        "          l1_ratio=.5).fit(tfidf_words)\n",
        "\n",
        "print_top_words(nmf,words,4)"
      ],
      "execution_count": null,
      "outputs": [
        {
          "output_type": "execute_result",
          "data": {
            "text/plain": [
              "[['camera', 'super', 'quality', 'wesome'],\n",
              " ['battery', 'backup', 'money', 'superb'],\n",
              " ['good', 'price', 'samsung', 'best'],\n",
              " ['nice', 'display', 'phones', 'got']]"
            ]
          },
          "metadata": {
            "tags": []
          },
          "execution_count": 287
        }
      ]
    },
    {
      "cell_type": "code",
      "metadata": {
        "id": "dLbr6fElRa1X",
        "colab_type": "code",
        "colab": {}
      },
      "source": [
        ""
      ],
      "execution_count": null,
      "outputs": []
    }
  ]
}