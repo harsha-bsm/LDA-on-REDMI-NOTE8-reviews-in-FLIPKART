{
  "nbformat": 4,
  "nbformat_minor": 0,
  "metadata": {
    "colab": {
      "name": "Preprocessing and Modelling LDA SAMSUNGM30.ipynb",
      "provenance": [],
      "authorship_tag": "ABX9TyNYt/qUFo5e7P9qFGQLc6+I",
      "include_colab_link": true
    },
    "kernelspec": {
      "name": "python3",
      "display_name": "Python 3"
    }
  },
  "cells": [
    {
      "cell_type": "markdown",
      "metadata": {
        "id": "view-in-github",
        "colab_type": "text"
      },
      "source": [
        "<a href=\"https://colab.research.google.com/github/harsha-bsm/LDA-on-REDMI-NOTE8-reviews-in-FLIPKART/blob/master/Preprocessing_and_Modelling_LDA_SAMSUNGM30.ipynb\" target=\"_parent\"><img src=\"https://colab.research.google.com/assets/colab-badge.svg\" alt=\"Open In Colab\"/></a>"
      ]
    },
    {
      "cell_type": "code",
      "metadata": {
        "id": "SKILHH8iQvAX",
        "colab_type": "code",
        "colab": {}
      },
      "source": [
        "import re\n",
        "import numpy as np\n",
        "import pandas as pd"
      ],
      "execution_count": null,
      "outputs": []
    },
    {
      "cell_type": "code",
      "metadata": {
        "id": "JKxaHbb_RD91",
        "colab_type": "code",
        "colab": {}
      },
      "source": [
        "data=pd.read_csv(\"samsungdata.csv\")"
      ],
      "execution_count": null,
      "outputs": []
    },
    {
      "cell_type": "code",
      "metadata": {
        "id": "ekk77JUsRIHZ",
        "colab_type": "code",
        "colab": {
          "base_uri": "https://localhost:8080/",
          "height": 288
        },
        "outputId": "db0d5158-d9d9-49e9-e8a7-69467f51369b"
      },
      "source": [
        "data.head()"
      ],
      "execution_count": null,
      "outputs": [
        {
          "output_type": "execute_result",
          "data": {
            "text/html": [
              "<div>\n",
              "<style scoped>\n",
              "    .dataframe tbody tr th:only-of-type {\n",
              "        vertical-align: middle;\n",
              "    }\n",
              "\n",
              "    .dataframe tbody tr th {\n",
              "        vertical-align: top;\n",
              "    }\n",
              "\n",
              "    .dataframe thead th {\n",
              "        text-align: right;\n",
              "    }\n",
              "</style>\n",
              "<table border=\"1\" class=\"dataframe\">\n",
              "  <thead>\n",
              "    <tr style=\"text-align: right;\">\n",
              "      <th></th>\n",
              "      <th>Unnamed: 0</th>\n",
              "      <th>Model</th>\n",
              "      <th>rating</th>\n",
              "      <th>user</th>\n",
              "      <th>time_of_review</th>\n",
              "      <th>review</th>\n",
              "      <th>title</th>\n",
              "      <th>user_address</th>\n",
              "      <th>user_type</th>\n",
              "    </tr>\n",
              "  </thead>\n",
              "  <tbody>\n",
              "    <tr>\n",
              "      <th>0</th>\n",
              "      <td>0</td>\n",
              "      <td>Samsung Galaxy M30s Blue 128 Gb Reviews: Lates...</td>\n",
              "      <td>5</td>\n",
              "      <td>Aryan  Patil</td>\n",
              "      <td>2months ago</td>\n",
              "      <td>Bokeh mode is very excellent than any other ha...</td>\n",
              "      <td>Wonderful</td>\n",
              "      <td>Latur District</td>\n",
              "      <td>Certified Buyer</td>\n",
              "    </tr>\n",
              "    <tr>\n",
              "      <th>1</th>\n",
              "      <td>1</td>\n",
              "      <td>Samsung Galaxy M30s Blue 128 Gb Reviews: Lates...</td>\n",
              "      <td>5</td>\n",
              "      <td>Flipkart Customer</td>\n",
              "      <td>5months ago</td>\n",
              "      <td>Just awsome product the picture quality is goo...</td>\n",
              "      <td>Great product</td>\n",
              "      <td>North Twenty Four Parganas District</td>\n",
              "      <td>Certified Buyer</td>\n",
              "    </tr>\n",
              "    <tr>\n",
              "      <th>2</th>\n",
              "      <td>2</td>\n",
              "      <td>Samsung Galaxy M30s Blue 128 Gb Reviews: Lates...</td>\n",
              "      <td>4</td>\n",
              "      <td>Suresh Kumar</td>\n",
              "      <td>5months ago</td>\n",
              "      <td>Samsung galaxy m30s is most useful.But Samsung...</td>\n",
              "      <td>Nice product</td>\n",
              "      <td>New Delhi</td>\n",
              "      <td>Certified Buyer</td>\n",
              "    </tr>\n",
              "    <tr>\n",
              "      <th>3</th>\n",
              "      <td>3</td>\n",
              "      <td>Samsung Galaxy M30s Blue 128 Gb Reviews: Lates...</td>\n",
              "      <td>1</td>\n",
              "      <td>Rohit Purba</td>\n",
              "      <td>6months ago</td>\n",
              "      <td>Not worth for me. i buy for my samsung tv this...</td>\n",
              "      <td>Utterly Disappointed</td>\n",
              "      <td>Rajpura</td>\n",
              "      <td>Certified Buyer</td>\n",
              "    </tr>\n",
              "    <tr>\n",
              "      <th>4</th>\n",
              "      <td>4</td>\n",
              "      <td>Samsung Galaxy M30s Blue 128 Gb Reviews: Lates...</td>\n",
              "      <td>5</td>\n",
              "      <td>Flipkart Customer</td>\n",
              "      <td>5months ago</td>\n",
              "      <td>BSOLUTELY BEST PHONE, GO FOR THIS PHONELET ME ...</td>\n",
              "      <td>Highly recommended</td>\n",
              "      <td>Muzaffarpur</td>\n",
              "      <td>Certified Buyer</td>\n",
              "    </tr>\n",
              "  </tbody>\n",
              "</table>\n",
              "</div>"
            ],
            "text/plain": [
              "   Unnamed: 0  ...        user_type\n",
              "0           0  ...  Certified Buyer\n",
              "1           1  ...  Certified Buyer\n",
              "2           2  ...  Certified Buyer\n",
              "3           3  ...  Certified Buyer\n",
              "4           4  ...  Certified Buyer\n",
              "\n",
              "[5 rows x 9 columns]"
            ]
          },
          "metadata": {
            "tags": []
          },
          "execution_count": 82
        }
      ]
    },
    {
      "cell_type": "code",
      "metadata": {
        "id": "sG6MbHUhwYKB",
        "colab_type": "code",
        "colab": {
          "base_uri": "https://localhost:8080/",
          "height": 33
        },
        "outputId": "314d8f95-1ffc-48bb-8b43-dcb150f4bfa6"
      },
      "source": [
        "pip install emot "
      ],
      "execution_count": null,
      "outputs": [
        {
          "output_type": "stream",
          "text": [
            "Requirement already satisfied: emot in /usr/local/lib/python3.6/dist-packages (2.1)\n"
          ],
          "name": "stdout"
        }
      ]
    },
    {
      "cell_type": "code",
      "metadata": {
        "id": "Tmly-l1OeLL-",
        "colab_type": "code",
        "colab": {}
      },
      "source": [
        "####### Apply emoticons and emojis\n",
        "\n",
        "from emot.emo_unicode import UNICODE_EMO, EMOTICONS # contains english text of emojis and emoticons in dict format \n",
        "def convert_emojis(review):\n",
        "  for x in review:\n",
        "    if x in UNICODE_EMO.keys():\n",
        "      review=review.replace(x,\"\")\n",
        "  return review"
      ],
      "execution_count": null,
      "outputs": []
    },
    {
      "cell_type": "code",
      "metadata": {
        "id": "Wo1mbD4XSbID",
        "colab_type": "code",
        "colab": {}
      },
      "source": [
        "#converting all basic contracted foms  \n",
        "def decontracted(phrase):\n",
        "    # specific\n",
        "    phrase = re.sub(r\"won't\", \"will not\", phrase)\n",
        "    phrase = re.sub(r\"can\\'t\", \"can not\", phrase)\n",
        "\n",
        "    # general\n",
        "    phrase = re.sub(r\"n\\'t\", \" not\", phrase)\n",
        "    phrase = re.sub(r\"\\'re\", \" are\", phrase)\n",
        "    phrase = re.sub(r\"\\'s\", \" is\", phrase)\n",
        "    phrase = re.sub(r\"\\'d\", \" would\", phrase)\n",
        "    phrase = re.sub(r\"\\'ll\", \" will\", phrase)\n",
        "    phrase = re.sub(r\"\\'t\", \" not\", phrase)\n",
        "    phrase = re.sub(r\"\\'ve\", \" have\", phrase)\n",
        "    phrase = re.sub(r\"\\'m\", \" am\", phrase)\n",
        "    return phrase"
      ],
      "execution_count": null,
      "outputs": []
    },
    {
      "cell_type": "code",
      "metadata": {
        "id": "9h47xg15Y5cQ",
        "colab_type": "code",
        "colab": {}
      },
      "source": [
        "#removing special characters and tabs ,spaces,new lines etc..\n",
        "def removecharacters(review):\n",
        "  review= re.sub('[^A-Za-z0-9]+',' ',review)  #anything exept numbers and alphabets, replace them with space\n",
        "  review=re.sub(r\"\\n\",\" \",review)  #new lines into space\n",
        "  review=re.sub(r\"\\t\",\" \",review)  #tabs into space\n",
        "  review=re.sub(r\"\\v\",\" \",review)  #vertical tab into space\n",
        "  review=re.sub(r\"\\s\",\" \",review)   #all extra spaces into single space\n",
        "  return review  \n"
      ],
      "execution_count": null,
      "outputs": []
    },
    {
      "cell_type": "code",
      "metadata": {
        "id": "KqOCmax8PTwB",
        "colab_type": "code",
        "colab": {}
      },
      "source": [
        "# https://gist.github.com/sebleier/554280\n",
        "# we are removing the words from the stop words list: 'no', 'nor', 'not'\n",
        "# <br /><br /> ==> after the above steps, we are getting \"br br\"\n",
        "# we are including them into stop words list\n",
        "# instead of <br /> if we have <br/> these tags would have revmoved in the 1st step\n",
        "# ignore words like won't, haven't etc.. We have already taken care of them\n",
        "\n",
        "stopwords= set(['br', 'the', 'i', 'me', 'my', 'myself', 'we', 'our', 'ours', 'ourselves', 'you', \"you're\", \"you've\",\\\n",
        "            \"you'll\", \"you'd\", 'your', 'yours', 'yourself', 'yourselves', 'he', 'him', 'his', 'himself', \\\n",
        "            'she', \"she's\", 'her', 'hers', 'herself', 'it', \"it's\", 'its', 'itself', 'they', 'them', 'their',\\\n",
        "            'theirs', 'themselves', 'what', 'which', 'who', 'whom', 'this', 'that', \"that'll\", 'these', 'those', \\\n",
        "            'am', 'is', 'are', 'was', 'were', 'be', 'been', 'being', 'have', 'has', 'had', 'having', 'do', 'does', \\\n",
        "            'did', 'doing', 'a', 'an', 'the', 'and', 'but', 'if', 'or', 'because', 'as', 'until', 'while', 'of', \\\n",
        "            'at', 'by', 'for', 'with', 'about', 'against', 'between', 'into', 'through', 'during', 'before', 'after',\\\n",
        "            'above', 'below', 'to', 'from', 'up', 'down', 'in', 'out', 'on', 'off', 'over', 'under', 'again', 'further',\\\n",
        "            'then', 'once', 'here', 'there', 'when', 'where', 'why', 'how', 'all', 'any', 'both', 'each', 'few', 'more',\\\n",
        "            'most', 'other', 'some', 'such', 'only', 'own', 'same', 'so', 'than', 'too', 'very', \\\n",
        "            's', 't', 'can', 'will', 'just', 'don', \"don't\", 'should', \"should've\", 'now', 'd', 'll', 'm', 'o', 're', \\\n",
        "            've', 'y', 'ain', 'aren', \"aren't\", 'couldn', \"couldn't\", 'didn', \"didn't\", 'doesn', \"doesn't\", 'hadn',\\\n",
        "            \"hadn't\", 'hasn', \"hasn't\", 'haven', \"haven't\", 'isn', \"isn't\", 'ma', 'mightn', \"mightn't\", 'mustn',\\\n",
        "            \"mustn't\", 'needn', \"needn't\", 'shan', \"shan't\", 'shouldn', \"shouldn't\", 'wasn', \"wasn't\", 'weren', \"weren't\", \\\n",
        "            'won', \"won't\", 'wouldn', \"wouldn't\"])"
      ],
      "execution_count": null,
      "outputs": []
    },
    {
      "cell_type": "code",
      "metadata": {
        "id": "dvdqs46FPVHt",
        "colab_type": "code",
        "colab": {}
      },
      "source": [
        ""
      ],
      "execution_count": null,
      "outputs": []
    },
    {
      "cell_type": "code",
      "metadata": {
        "id": "TPvMpNFqyyQ3",
        "colab_type": "code",
        "colab": {}
      },
      "source": [
        "data[\"review\"]=data[\"review\"].apply(lambda x:convert_emojis(x))\n",
        "data[\"review\"]=data[\"review\"].apply(lambda x:x.lower()) \n",
        "data[\"review\"]=data[\"review\"].apply(lambda x:decontracted(x))\n",
        "data[\"review\"]=data[\"review\"].apply(lambda x:removecharacters(x))"
      ],
      "execution_count": null,
      "outputs": []
    },
    {
      "cell_type": "code",
      "metadata": {
        "id": "nauyKC-nZur6",
        "colab_type": "code",
        "colab": {
          "base_uri": "https://localhost:8080/",
          "height": 212
        },
        "outputId": "e603e58d-debb-4bb4-ae44-eae8c76a40b6"
      },
      "source": [
        "data[\"review\"]"
      ],
      "execution_count": null,
      "outputs": [
        {
          "output_type": "execute_result",
          "data": {
            "text/plain": [
              "0      bokeh mode is very excellent than any other ha...\n",
              "1      just awsome product the picture quality is goo...\n",
              "2      samsung galaxy m30s is most useful but samsung...\n",
              "3      not worth for me i buy for my samsung tv this ...\n",
              "4      bsolutely best phone go for this phonelet me c...\n",
              "                             ...                        \n",
              "293                                                 okay\n",
              "294               super style and good look nice product\n",
              "295                                                 good\n",
              "296                                                 good\n",
              "297                                         good product\n",
              "Name: review, Length: 298, dtype: object"
            ]
          },
          "metadata": {
            "tags": []
          },
          "execution_count": 88
        }
      ]
    },
    {
      "cell_type": "markdown",
      "metadata": {
        "id": "ecsb_NLsyb94",
        "colab_type": "text"
      },
      "source": [
        "## Title Preprocessing"
      ]
    },
    {
      "cell_type": "code",
      "metadata": {
        "id": "R5y8xnvBcLyJ",
        "colab_type": "code",
        "colab": {}
      },
      "source": [
        "data[\"title\"]=data[\"title\"].apply(lambda x:convert_emojis(x))\n",
        "data[\"title\"]=data[\"title\"].apply(lambda x:x.lower()) \n",
        "data[\"title\"]=data[\"title\"].apply(lambda x:decontracted(x))\n",
        "data[\"title\"]=data[\"title\"].apply(lambda x:removecharacters(x))"
      ],
      "execution_count": null,
      "outputs": []
    },
    {
      "cell_type": "code",
      "metadata": {
        "id": "1bhn9-ETgvLb",
        "colab_type": "code",
        "colab": {}
      },
      "source": [
        "from sklearn.feature_extraction.text import TfidfTransformer\n",
        "from sklearn.feature_extraction.text import TfidfVectorizer\n",
        "from sklearn.feature_extraction.text import CountVectorizer\n",
        "from gensim.models import ldamodel\n",
        "import gensim.corpora\n",
        "from sklearn.decomposition import LatentDirichletAllocation"
      ],
      "execution_count": null,
      "outputs": []
    },
    {
      "cell_type": "code",
      "metadata": {
        "id": "kd3CmQ9Ng0lG",
        "colab_type": "code",
        "colab": {}
      },
      "source": [
        "#https://scikit-learn.org/stable/auto_examples/applications/plot_topics_extraction_with_nmf_lda.html#sphx-glr-auto-examples-applications-plot-topics-extraction-with-nmf-lda-py\n",
        "def print_top_words(model, feature_names, n_top_words):\n",
        "  topics_cluster=[]\n",
        "  for topic_idx, topic in enumerate(model.components_):\n",
        "      message = \"Topic #%d: \" % topic_idx\n",
        "      message += \",\".join([feature_names[i] for i in topic.argsort()[:-n_top_words - 1:-1]])\n",
        "      topics_cluster.append([feature_names[i] for i in topic.argsort()[:-n_top_words - 1:-1]])\n",
        "      print(message)\n",
        "  "
      ],
      "execution_count": null,
      "outputs": []
    },
    {
      "cell_type": "markdown",
      "metadata": {
        "id": "MC42q3qFC20J",
        "colab_type": "text"
      },
      "source": [
        "### BOW and LDA "
      ]
    },
    {
      "cell_type": "code",
      "metadata": {
        "id": "vafbxMu-OY_n",
        "colab_type": "code",
        "colab": {
          "base_uri": "https://localhost:8080/",
          "height": 82
        },
        "outputId": "527ac0dc-57d5-429e-cb0c-4c0953f6dd5d"
      },
      "source": [
        "bow=CountVectorizer(stop_words=stopwords,ngram_range=(1,2))\n",
        "bow_review=bow.fit_transform(data[\"review\"])\n",
        "df_bow=pd.DataFrame(bow_review.toarray(),columns=bow.get_feature_names())\n",
        "lda = LatentDirichletAllocation(n_components=4,random_state=0)\n",
        "lda.fit_transform(df_bow)\n",
        "print_top_words(lda,bow.get_feature_names(),10)"
      ],
      "execution_count": null,
      "outputs": [
        {
          "output_type": "stream",
          "text": [
            "Topic #0: super,battery,phone,camera,display,good,best,superb,mobile,quality\n",
            "Topic #1: nice,phone,product,best,mobile,nice product,nice phone,nice mobile,not,best phone\n",
            "Topic #2: good,phone,product,mobile,battery,camera,good product,not,performance,not good\n",
            "Topic #3: not,product,samsung,camera,phone,bad,wesome,good,quality,buy\n"
          ],
          "name": "stdout"
        }
      ]
    },
    {
      "cell_type": "markdown",
      "metadata": {
        "id": "JiEX5nqf0HW3",
        "colab_type": "text"
      },
      "source": [
        "### TFIDF AND LDA"
      ]
    },
    {
      "cell_type": "code",
      "metadata": {
        "id": "R6GLiCJBcHu0",
        "colab_type": "code",
        "colab": {}
      },
      "source": [
        "tfidf=TfidfVectorizer(ngram_range=(1,1))\n",
        "tfidf_words=tfidf.fit_transform(data[\"review\"])"
      ],
      "execution_count": null,
      "outputs": []
    },
    {
      "cell_type": "code",
      "metadata": {
        "id": "4doAqyprhdIm",
        "colab_type": "code",
        "colab": {}
      },
      "source": [
        "words=tfidf.get_feature_names()\n"
      ],
      "execution_count": null,
      "outputs": []
    },
    {
      "cell_type": "code",
      "metadata": {
        "id": "kkhT7HKLhj_X",
        "colab_type": "code",
        "colab": {
          "base_uri": "https://localhost:8080/",
          "height": 98
        },
        "outputId": "698b9503-e139-4136-8287-02bd8788a9f9"
      },
      "source": [
        "\n",
        "df_bow=pd.DataFrame(tfidf_words.toarray(),columns=words)\n",
        "lda = LatentDirichletAllocation(n_components=5,random_state=0)\n",
        "lda.fit_transform(tfidf_words)\n",
        "print_top_words(lda,words,10)"
      ],
      "execution_count": null,
      "outputs": [
        {
          "output_type": "stream",
          "text": [
            "Topic #0: best,mobile,phone,and,battery,very,price,to,smartphone,hangs\n",
            "Topic #1: mobile,superb,is,not,backup,the,ok,battery,price,phone\n",
            "Topic #2: wesome,xcellent,money,awesome,product,for,value,flipkart,of,phone\n",
            "Topic #3: good,very,product,nice,is,so,battery,samsung,and,no\n",
            "Topic #4: nice,phone,super,it,is,camera,the,not,and,in\n"
          ],
          "name": "stdout"
        }
      ]
    },
    {
      "cell_type": "code",
      "metadata": {
        "id": "wBKhgISNxoCh",
        "colab_type": "code",
        "colab": {}
      },
      "source": [
        ""
      ],
      "execution_count": null,
      "outputs": []
    },
    {
      "cell_type": "markdown",
      "metadata": {
        "id": "x_KYRl-oFxDO",
        "colab_type": "text"
      },
      "source": [
        "### NMF - TFIDF"
      ]
    },
    {
      "cell_type": "code",
      "metadata": {
        "id": "NPuBcCqNx82w",
        "colab_type": "code",
        "colab": {}
      },
      "source": [
        "from sklearn.decomposition import NMF, LatentDirichletAllocation"
      ],
      "execution_count": null,
      "outputs": []
    },
    {
      "cell_type": "code",
      "metadata": {
        "id": "k_jjxrIQD-z_",
        "colab_type": "code",
        "colab": {}
      },
      "source": [
        "nmf = NMF(n_components=5, random_state=1,\n",
        "          beta_loss='kullback-leibler', solver='mu', max_iter=1000, alpha=.1,\n",
        "          l1_ratio=.5).fit(tfidf_words)"
      ],
      "execution_count": null,
      "outputs": []
    },
    {
      "cell_type": "code",
      "metadata": {
        "id": "0qvWcPOaEyGl",
        "colab_type": "code",
        "colab": {
          "base_uri": "https://localhost:8080/",
          "height": 98
        },
        "outputId": "e526c217-6005-48cc-d580-a648a97a6a2c"
      },
      "source": [
        "print_top_words(nmf,words,10)"
      ],
      "execution_count": null,
      "outputs": [
        {
          "output_type": "stream",
          "text": [
            "Topic #0: good,battery,not,is,one,backup,and,camera,so,normal\n",
            "Topic #1: nice,phone,super,osm,camera,amazing,products,all,display,cell\n",
            "Topic #2: product,wesome,xcellent,bad,money,no,smartphone,not,of,value\n",
            "Topic #3: is,it,phone,best,and,the,this,camera,quality,in\n",
            "Topic #4: very,mobile,superb,best,from,poor,samsung,phones,worst,m30s\n"
          ],
          "name": "stdout"
        }
      ]
    },
    {
      "cell_type": "markdown",
      "metadata": {
        "id": "MmR-p9FlF1vT",
        "colab_type": "text"
      },
      "source": [
        "### NMF - BOW"
      ]
    },
    {
      "cell_type": "code",
      "metadata": {
        "id": "JKNZWSVLE8Id",
        "colab_type": "code",
        "colab": {}
      },
      "source": [
        "nmf = NMF(n_components=4, random_state=1,\n",
        "          beta_loss='kullback-leibler', solver='mu', max_iter=1000, alpha=.1,\n",
        "          l1_ratio=.5).fit(bow_review)"
      ],
      "execution_count": null,
      "outputs": []
    },
    {
      "cell_type": "code",
      "metadata": {
        "id": "y_Q5C3epGC3n",
        "colab_type": "code",
        "colab": {}
      },
      "source": [
        "bow_words=bow.get_feature_names()"
      ],
      "execution_count": null,
      "outputs": []
    },
    {
      "cell_type": "code",
      "metadata": {
        "id": "31Xx73hCGRgT",
        "colab_type": "code",
        "colab": {
          "base_uri": "https://localhost:8080/",
          "height": 82
        },
        "outputId": "ec9d40ae-0f51-44f2-f9da-afc80ce60911"
      },
      "source": [
        "print_top_words(nmf,bow_words,4)"
      ],
      "execution_count": null,
      "outputs": [
        {
          "output_type": "stream",
          "text": [
            "Topic #0: good,camera,battery,nice\n",
            "Topic #1: phone,best,super,nice phone\n",
            "Topic #2: not,phone,bad,money\n",
            "Topic #3: product,nice,mobile,nice product\n"
          ],
          "name": "stdout"
        }
      ]
    },
    {
      "cell_type": "code",
      "metadata": {
        "id": "Fy3V_ugrGV5o",
        "colab_type": "code",
        "colab": {}
      },
      "source": [
        ""
      ],
      "execution_count": null,
      "outputs": []
    }
  ]
}