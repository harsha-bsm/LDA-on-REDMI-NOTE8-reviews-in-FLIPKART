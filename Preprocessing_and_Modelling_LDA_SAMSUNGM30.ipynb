{
  "nbformat": 4,
  "nbformat_minor": 0,
  "metadata": {
    "colab": {
      "name": "Preprocessing and Modelling LDA SAMSUNGM30.ipynb",
      "provenance": [],
      "authorship_tag": "ABX9TyNvWzpFW8y+NsfmqiTLqlOs",
      "include_colab_link": true
    },
    "kernelspec": {
      "name": "python3",
      "display_name": "Python 3"
    }
  },
  "cells": [
    {
      "cell_type": "markdown",
      "metadata": {
        "id": "view-in-github",
        "colab_type": "text"
      },
      "source": [
        "<a href=\"https://colab.research.google.com/github/harsha-bsm/LDA-on-REDMI-NOTE8-reviews-in-FLIPKART/blob/master/Preprocessing_and_Modelling_LDA_SAMSUNGM30.ipynb\" target=\"_parent\"><img src=\"https://colab.research.google.com/assets/colab-badge.svg\" alt=\"Open In Colab\"/></a>"
      ]
    },
    {
      "cell_type": "code",
      "metadata": {
        "id": "SKILHH8iQvAX",
        "colab_type": "code",
        "colab": {}
      },
      "source": [
        "import re\n",
        "import numpy as np\n",
        "import pandas as pd"
      ],
      "execution_count": 1,
      "outputs": []
    },
    {
      "cell_type": "code",
      "metadata": {
        "id": "JKxaHbb_RD91",
        "colab_type": "code",
        "colab": {}
      },
      "source": [
        "data=pd.read_csv(\"samsungdata.csv\")"
      ],
      "execution_count": 204,
      "outputs": []
    },
    {
      "cell_type": "code",
      "metadata": {
        "id": "ekk77JUsRIHZ",
        "colab_type": "code",
        "colab": {
          "base_uri": "https://localhost:8080/",
          "height": 288
        },
        "outputId": "549ee3bb-4734-458b-8800-f7f523f92fe9"
      },
      "source": [
        "data.head()"
      ],
      "execution_count": 177,
      "outputs": [
        {
          "output_type": "execute_result",
          "data": {
            "text/html": [
              "<div>\n",
              "<style scoped>\n",
              "    .dataframe tbody tr th:only-of-type {\n",
              "        vertical-align: middle;\n",
              "    }\n",
              "\n",
              "    .dataframe tbody tr th {\n",
              "        vertical-align: top;\n",
              "    }\n",
              "\n",
              "    .dataframe thead th {\n",
              "        text-align: right;\n",
              "    }\n",
              "</style>\n",
              "<table border=\"1\" class=\"dataframe\">\n",
              "  <thead>\n",
              "    <tr style=\"text-align: right;\">\n",
              "      <th></th>\n",
              "      <th>Unnamed: 0</th>\n",
              "      <th>Model</th>\n",
              "      <th>rating</th>\n",
              "      <th>user</th>\n",
              "      <th>time_of_review</th>\n",
              "      <th>review</th>\n",
              "      <th>title</th>\n",
              "      <th>user_address</th>\n",
              "      <th>user_type</th>\n",
              "    </tr>\n",
              "  </thead>\n",
              "  <tbody>\n",
              "    <tr>\n",
              "      <th>0</th>\n",
              "      <td>0</td>\n",
              "      <td>Samsung Galaxy M30s Blue 128 Gb Reviews: Lates...</td>\n",
              "      <td>5</td>\n",
              "      <td>Aryan  Patil</td>\n",
              "      <td>2months ago</td>\n",
              "      <td>Bokeh mode is very excellent than any other ha...</td>\n",
              "      <td>Wonderful</td>\n",
              "      <td>Latur District</td>\n",
              "      <td>Certified Buyer</td>\n",
              "    </tr>\n",
              "    <tr>\n",
              "      <th>1</th>\n",
              "      <td>1</td>\n",
              "      <td>Samsung Galaxy M30s Blue 128 Gb Reviews: Lates...</td>\n",
              "      <td>5</td>\n",
              "      <td>Flipkart Customer</td>\n",
              "      <td>5months ago</td>\n",
              "      <td>Just awsome product the picture quality is goo...</td>\n",
              "      <td>Great product</td>\n",
              "      <td>North Twenty Four Parganas District</td>\n",
              "      <td>Certified Buyer</td>\n",
              "    </tr>\n",
              "    <tr>\n",
              "      <th>2</th>\n",
              "      <td>2</td>\n",
              "      <td>Samsung Galaxy M30s Blue 128 Gb Reviews: Lates...</td>\n",
              "      <td>4</td>\n",
              "      <td>Suresh Kumar</td>\n",
              "      <td>5months ago</td>\n",
              "      <td>Samsung galaxy m30s is most useful.But Samsung...</td>\n",
              "      <td>Nice product</td>\n",
              "      <td>New Delhi</td>\n",
              "      <td>Certified Buyer</td>\n",
              "    </tr>\n",
              "    <tr>\n",
              "      <th>3</th>\n",
              "      <td>3</td>\n",
              "      <td>Samsung Galaxy M30s Blue 128 Gb Reviews: Lates...</td>\n",
              "      <td>1</td>\n",
              "      <td>Rohit Purba</td>\n",
              "      <td>6months ago</td>\n",
              "      <td>Not worth for me. i buy for my samsung tv this...</td>\n",
              "      <td>Utterly Disappointed</td>\n",
              "      <td>Rajpura</td>\n",
              "      <td>Certified Buyer</td>\n",
              "    </tr>\n",
              "    <tr>\n",
              "      <th>4</th>\n",
              "      <td>4</td>\n",
              "      <td>Samsung Galaxy M30s Blue 128 Gb Reviews: Lates...</td>\n",
              "      <td>5</td>\n",
              "      <td>Flipkart Customer</td>\n",
              "      <td>5months ago</td>\n",
              "      <td>BSOLUTELY BEST PHONE, GO FOR THIS PHONELET ME ...</td>\n",
              "      <td>Highly recommended</td>\n",
              "      <td>Muzaffarpur</td>\n",
              "      <td>Certified Buyer</td>\n",
              "    </tr>\n",
              "  </tbody>\n",
              "</table>\n",
              "</div>"
            ],
            "text/plain": [
              "   Unnamed: 0  ...        user_type\n",
              "0           0  ...  Certified Buyer\n",
              "1           1  ...  Certified Buyer\n",
              "2           2  ...  Certified Buyer\n",
              "3           3  ...  Certified Buyer\n",
              "4           4  ...  Certified Buyer\n",
              "\n",
              "[5 rows x 9 columns]"
            ]
          },
          "metadata": {
            "tags": []
          },
          "execution_count": 177
        }
      ]
    },
    {
      "cell_type": "code",
      "metadata": {
        "id": "sG6MbHUhwYKB",
        "colab_type": "code",
        "colab": {
          "base_uri": "https://localhost:8080/",
          "height": 33
        },
        "outputId": "df0bbf9a-f833-4c0c-a11d-0d24b72f77ed"
      },
      "source": [
        "pip install emot "
      ],
      "execution_count": 178,
      "outputs": [
        {
          "output_type": "stream",
          "text": [
            "Requirement already satisfied: emot in /usr/local/lib/python3.6/dist-packages (2.1)\n"
          ],
          "name": "stdout"
        }
      ]
    },
    {
      "cell_type": "code",
      "metadata": {
        "id": "Tmly-l1OeLL-",
        "colab_type": "code",
        "colab": {}
      },
      "source": [
        "####### Apply emoticons and emojis\n",
        "\n",
        "from emot.emo_unicode import UNICODE_EMO, EMOTICONS # contains english text of emojis and emoticons in dict format \n",
        "def convert_emojis(review):\n",
        "  for x in review:\n",
        "    if x in UNICODE_EMO.keys():\n",
        "      review=review.replace(x,\"\")\n",
        "  return review"
      ],
      "execution_count": 179,
      "outputs": []
    },
    {
      "cell_type": "code",
      "metadata": {
        "id": "Wo1mbD4XSbID",
        "colab_type": "code",
        "colab": {}
      },
      "source": [
        "#converting all basic contracted foms  \n",
        "def decontracted(phrase):\n",
        "    # specific\n",
        "    phrase = re.sub(r\"won't\", \"will not\", phrase)\n",
        "    phrase = re.sub(r\"can\\'t\", \"can not\", phrase)\n",
        "\n",
        "    # general\n",
        "    phrase = re.sub(r\"n\\'t\", \" not\", phrase)\n",
        "    phrase = re.sub(r\"\\'re\", \" are\", phrase)\n",
        "    phrase = re.sub(r\"\\'s\", \" is\", phrase)\n",
        "    phrase = re.sub(r\"\\'d\", \" would\", phrase)\n",
        "    phrase = re.sub(r\"\\'ll\", \" will\", phrase)\n",
        "    phrase = re.sub(r\"\\'t\", \" not\", phrase)\n",
        "    phrase = re.sub(r\"\\'ve\", \" have\", phrase)\n",
        "    phrase = re.sub(r\"\\'m\", \" am\", phrase)\n",
        "    return phrase"
      ],
      "execution_count": 180,
      "outputs": []
    },
    {
      "cell_type": "code",
      "metadata": {
        "id": "9h47xg15Y5cQ",
        "colab_type": "code",
        "colab": {}
      },
      "source": [
        "#removing special characters and tabs ,spaces,new lines etc..\n",
        "def removecharacters(review):\n",
        "  review= re.sub('[^A-Za-z0-9]+',' ',review)  #anything exept numbers and alphabets, replace them with space\n",
        "  review=re.sub(r\"\\n\",\" \",review)  #new lines into space\n",
        "  review=re.sub(r\"\\t\",\" \",review)  #tabs into space\n",
        "  review=re.sub(r\"\\v\",\" \",review)  #vertical tab into space\n",
        "  review=re.sub(r\"\\s\",\" \",review)   #all extra spaces into single space\n",
        "  return review  \n"
      ],
      "execution_count": 181,
      "outputs": []
    },
    {
      "cell_type": "code",
      "metadata": {
        "id": "KqOCmax8PTwB",
        "colab_type": "code",
        "colab": {}
      },
      "source": [
        "# https://gist.github.com/sebleier/554280\n",
        "# we are removing the words from the stop words list: 'no', 'nor', 'not'\n",
        "# <br /><br /> ==> after the above steps, we are getting \"br br\"\n",
        "# we are including them into stop words list\n",
        "# instead of <br /> if we have <br/> these tags would have revmoved in the 1st step\n",
        "# ignore words like won't, haven't etc.. We have already taken care of them\n",
        "\n",
        "stopword= set(['br', 'the', 'i', 'me', 'my', 'myself', 'we', 'our', 'ours', 'ourselves', 'you', \"you're\", \"you've\",\\\n",
        "            \"you'll\", \"you'd\", 'your', 'yours', 'yourself', 'yourselves', 'he', 'him', 'his', 'himself', \\\n",
        "            'she', \"she's\", 'her', 'hers', 'herself', 'it', \"it's\", 'its', 'itself', 'they', 'them', 'their',\\\n",
        "            'theirs', 'themselves', 'what', 'which', 'who', 'whom', 'this', 'that', \"that'll\", 'these', 'those', \\\n",
        "            'am', 'is', 'are', 'was', 'were', 'be', 'been', 'being', 'have', 'has', 'had', 'having', 'do', 'does', \\\n",
        "            'did', 'doing', 'a', 'an', 'the', 'and', 'but', 'if', 'or', 'because', 'as', 'until', 'while', 'of', \\\n",
        "            'at', 'by', 'for', 'with', 'about', 'against', 'between', 'into', 'through', 'during', 'before', 'after',\\\n",
        "            'above', 'below', 'to', 'from', 'up', 'down', 'in', 'out', 'on', 'off', 'over', 'under', 'again', 'further',\\\n",
        "            'then', 'once', 'here', 'there', 'when', 'where', 'why', 'how', 'all', 'any', 'both', 'each', 'few', 'more',\\\n",
        "            'most', 'other', 'some', 'such', 'only', 'own', 'same', 'so', 'than', 'too', 'very', \\\n",
        "            's', 't', 'can', 'will', 'just', 'don', \"don't\", 'should', \"should've\", 'now', 'd', 'll', 'm', 'o', 're', \\\n",
        "            've', 'y', 'ain', 'aren', \"aren't\", 'couldn', \"couldn't\", 'didn', \"didn't\", 'doesn', \"doesn't\", 'hadn',\\\n",
        "            \"hadn't\", 'hasn', \"hasn't\", 'haven', \"haven't\", 'isn', \"isn't\", 'ma', 'mightn', \"mightn't\", 'mustn',\\\n",
        "            \"mustn't\", 'needn', \"needn't\", 'shan', \"shan't\", 'shouldn', \"shouldn't\", 'wasn', \"wasn't\", 'weren', \"weren't\", \\\n",
        "            'won', \"won't\", 'wouldn', \"wouldn't\"])"
      ],
      "execution_count": 182,
      "outputs": []
    },
    {
      "cell_type": "code",
      "metadata": {
        "id": "dvdqs46FPVHt",
        "colab_type": "code",
        "colab": {}
      },
      "source": [
        "from nltk.corpus import stopwords\n",
        "import nltk"
      ],
      "execution_count": 183,
      "outputs": []
    },
    {
      "cell_type": "code",
      "metadata": {
        "id": "48fngAcyaQW5",
        "colab_type": "code",
        "colab": {
          "base_uri": "https://localhost:8080/",
          "height": 66
        },
        "outputId": "8b7b1092-7cef-40bc-d558-0733a9de61f8"
      },
      "source": [
        "nltk.download(\"stopwords\")"
      ],
      "execution_count": 184,
      "outputs": [
        {
          "output_type": "stream",
          "text": [
            "[nltk_data] Downloading package stopwords to /root/nltk_data...\n",
            "[nltk_data]   Package stopwords is already up-to-date!\n"
          ],
          "name": "stdout"
        },
        {
          "output_type": "execute_result",
          "data": {
            "text/plain": [
              "True"
            ]
          },
          "metadata": {
            "tags": []
          },
          "execution_count": 184
        }
      ]
    },
    {
      "cell_type": "code",
      "metadata": {
        "id": "Eq00AK2cbPEL",
        "colab_type": "code",
        "colab": {}
      },
      "source": [
        ""
      ],
      "execution_count": 184,
      "outputs": []
    },
    {
      "cell_type": "code",
      "metadata": {
        "id": "bKJvsyw6biTI",
        "colab_type": "code",
        "colab": {}
      },
      "source": [
        "def removestopwords(review):\n",
        "  return \" \".join([word for word in review.split(\" \") if not word in stopword])\n"
      ],
      "execution_count": 185,
      "outputs": []
    },
    {
      "cell_type": "code",
      "metadata": {
        "id": "TPvMpNFqyyQ3",
        "colab_type": "code",
        "colab": {}
      },
      "source": [
        "data[\"review\"]=data[\"review\"].apply(lambda x:convert_emojis(x))\n",
        "data[\"review\"]=data[\"review\"].apply(lambda x:x.lower()) \n",
        "data[\"review\"]=data[\"review\"].apply(lambda x:decontracted(x))\n",
        "data[\"review\"]=data[\"review\"].apply(lambda x:removecharacters(x))\n",
        "data[\"review\"]=pd.DataFrame(data[\"review\"].apply(lambda x:removestopwords(x)))"
      ],
      "execution_count": 205,
      "outputs": []
    },
    {
      "cell_type": "code",
      "metadata": {
        "id": "nauyKC-nZur6",
        "colab_type": "code",
        "colab": {
          "base_uri": "https://localhost:8080/",
          "height": 212
        },
        "outputId": "796639d9-503c-4e9d-f882-2ceab4129784"
      },
      "source": [
        "data[\"review\"]"
      ],
      "execution_count": 187,
      "outputs": [
        {
          "output_type": "execute_result",
          "data": {
            "text/plain": [
              "0      bokeh mode excellent handset budget battery ca...\n",
              "1      awsome product picture quality good battery ba...\n",
              "2      samsung galaxy m30s useful samsung improve sel...\n",
              "3      not worth buy samsung tv mobile live cast smar...\n",
              "4      bsolutely best phone go phonelet clear feature...\n",
              "                             ...                        \n",
              "293                                                 okay\n",
              "294                   super style good look nice product\n",
              "295                                                 good\n",
              "296                                                 good\n",
              "297                                         good product\n",
              "Name: review, Length: 298, dtype: object"
            ]
          },
          "metadata": {
            "tags": []
          },
          "execution_count": 187
        }
      ]
    },
    {
      "cell_type": "markdown",
      "metadata": {
        "id": "ecsb_NLsyb94",
        "colab_type": "text"
      },
      "source": [
        "## Title Preprocessing"
      ]
    },
    {
      "cell_type": "code",
      "metadata": {
        "id": "R5y8xnvBcLyJ",
        "colab_type": "code",
        "colab": {}
      },
      "source": [
        "data[\"title\"]=data[\"title\"].apply(lambda x:convert_emojis(x))\n",
        "data[\"title\"]=data[\"title\"].apply(lambda x:x.lower()) \n",
        "data[\"title\"]=data[\"title\"].apply(lambda x:decontracted(x))\n",
        "data[\"title\"]=data[\"title\"].apply(lambda x:removecharacters(x))"
      ],
      "execution_count": 188,
      "outputs": []
    },
    {
      "cell_type": "code",
      "metadata": {
        "id": "1bhn9-ETgvLb",
        "colab_type": "code",
        "colab": {}
      },
      "source": [
        "from sklearn.feature_extraction.text import TfidfTransformer\n",
        "from sklearn.feature_extraction.text import TfidfVectorizer\n",
        "from sklearn.feature_extraction.text import CountVectorizer\n",
        "from gensim.models import ldamodel\n",
        "import gensim.corpora\n",
        "from sklearn.decomposition import LatentDirichletAllocation"
      ],
      "execution_count": 189,
      "outputs": []
    },
    {
      "cell_type": "code",
      "metadata": {
        "id": "kd3CmQ9Ng0lG",
        "colab_type": "code",
        "colab": {}
      },
      "source": [
        "#https://scikit-learn.org/stable/auto_examples/applications/plot_topics_extraction_with_nmf_lda.html#sphx-glr-auto-examples-applications-plot-topics-extraction-with-nmf-lda-py\n",
        "def print_top_words(model, feature_names, n_top_words):\n",
        "  topics_cluster=[]\n",
        "  for topic_idx, topic in enumerate(model.components_):\n",
        "      message = \"Topic #%d: \" % topic_idx\n",
        "      message += \",\".join([feature_names[i] for i in topic.argsort()[:-n_top_words - 1:-1]])\n",
        "      topics_cluster.append([feature_names[i] for i in topic.argsort()[:-n_top_words - 1:-1]])\n",
        "      print(message)\n",
        "  "
      ],
      "execution_count": 190,
      "outputs": []
    },
    {
      "cell_type": "markdown",
      "metadata": {
        "id": "MC42q3qFC20J",
        "colab_type": "text"
      },
      "source": [
        "### BOW and LDA "
      ]
    },
    {
      "cell_type": "code",
      "metadata": {
        "id": "vafbxMu-OY_n",
        "colab_type": "code",
        "colab": {
          "base_uri": "https://localhost:8080/",
          "height": 82
        },
        "outputId": "31ed5be3-bb5c-4777-c8f0-029d010c7e5a"
      },
      "source": [
        "bow=CountVectorizer(ngram_range=(1,2))\n",
        "bow_review=bow.fit_transform(data[\"review\"])\n",
        "df_bow=pd.DataFrame(bow_review.toarray(),columns=bow.get_feature_names())\n",
        "lda = LatentDirichletAllocation(n_components=4,random_state=0)\n",
        "lda.fit_transform(df_bow)\n",
        "print_top_words(lda,bow.get_feature_names(),5)"
      ],
      "execution_count": 191,
      "outputs": [
        {
          "output_type": "stream",
          "text": [
            "Topic #0: super,battery,phone,camera,display\n",
            "Topic #1: nice,phone,product,best,mobile\n",
            "Topic #2: good,phone,product,mobile,battery\n",
            "Topic #3: not,product,samsung,camera,phone\n"
          ],
          "name": "stdout"
        }
      ]
    },
    {
      "cell_type": "markdown",
      "metadata": {
        "id": "JiEX5nqf0HW3",
        "colab_type": "text"
      },
      "source": [
        "### TFIDF AND LDA"
      ]
    },
    {
      "cell_type": "code",
      "metadata": {
        "id": "R6GLiCJBcHu0",
        "colab_type": "code",
        "colab": {}
      },
      "source": [
        ""
      ],
      "execution_count": 192,
      "outputs": []
    },
    {
      "cell_type": "code",
      "metadata": {
        "id": "4doAqyprhdIm",
        "colab_type": "code",
        "colab": {}
      },
      "source": [
        "\n"
      ],
      "execution_count": 193,
      "outputs": []
    },
    {
      "cell_type": "code",
      "metadata": {
        "id": "kkhT7HKLhj_X",
        "colab_type": "code",
        "colab": {
          "base_uri": "https://localhost:8080/",
          "height": 98
        },
        "outputId": "7ede2d82-d840-4434-ed65-5831cb5cfea3"
      },
      "source": [
        "tfidf=TfidfVectorizer(ngram_range=(1,1))\n",
        "tfidf_words=tfidf.fit_transform(data[\"review\"])\n",
        "words=tfidf.get_feature_names()\n",
        "df_bow=pd.DataFrame(tfidf_words.toarray(),columns=words)\n",
        "lda = LatentDirichletAllocation(n_components=5,random_state=0)\n",
        "lda.fit_transform(tfidf_words)\n",
        "print_top_words(lda,words,5)"
      ],
      "execution_count": 194,
      "outputs": [
        {
          "output_type": "stream",
          "text": [
            "Topic #0: wesome,phone,battery,best,display\n",
            "Topic #1: nice,mobile,product,phone,superb\n",
            "Topic #2: not,backup,battery,mobile,one\n",
            "Topic #3: super,xcellent,bad,not,quality\n",
            "Topic #4: good,product,best,price,phone\n"
          ],
          "name": "stdout"
        }
      ]
    },
    {
      "cell_type": "code",
      "metadata": {
        "id": "wBKhgISNxoCh",
        "colab_type": "code",
        "colab": {}
      },
      "source": [
        ""
      ],
      "execution_count": 194,
      "outputs": []
    },
    {
      "cell_type": "markdown",
      "metadata": {
        "id": "x_KYRl-oFxDO",
        "colab_type": "text"
      },
      "source": [
        "### NMF - TFIDF"
      ]
    },
    {
      "cell_type": "code",
      "metadata": {
        "id": "NPuBcCqNx82w",
        "colab_type": "code",
        "colab": {}
      },
      "source": [
        "from sklearn.decomposition import NMF, LatentDirichletAllocation"
      ],
      "execution_count": 195,
      "outputs": []
    },
    {
      "cell_type": "code",
      "metadata": {
        "id": "k_jjxrIQD-z_",
        "colab_type": "code",
        "colab": {}
      },
      "source": [
        "nmf = NMF(n_components=5, random_state=1,\n",
        "          beta_loss='kullback-leibler', solver='mu', max_iter=1000, alpha=.1,\n",
        "          l1_ratio=.5).fit(tfidf_words)\n",
        "print_top_words(nmf,words,6)"
      ],
      "execution_count": 196,
      "outputs": []
    },
    {
      "cell_type": "code",
      "metadata": {
        "id": "0qvWcPOaEyGl",
        "colab_type": "code",
        "colab": {
          "base_uri": "https://localhost:8080/",
          "height": 98
        },
        "outputId": "4d565d36-6522-4cbe-bb66-a0772f8b7b5c"
      },
      "source": [
        ""
      ],
      "execution_count": 197,
      "outputs": [
        {
          "output_type": "stream",
          "text": [
            "Topic #0: good,not,battery,one,camera,performance\n",
            "Topic #1: nice,phone,phones,osm,m30s,set\n",
            "Topic #2: product,wesome,ok,awesome,no,expected\n",
            "Topic #3: mobile,best,superb,price,samsung,battery\n",
            "Topic #4: phone,super,xcellent,not,quality,camera\n"
          ],
          "name": "stdout"
        }
      ]
    },
    {
      "cell_type": "markdown",
      "metadata": {
        "id": "MmR-p9FlF1vT",
        "colab_type": "text"
      },
      "source": [
        "### NMF - BOW"
      ]
    },
    {
      "cell_type": "code",
      "metadata": {
        "id": "JKNZWSVLE8Id",
        "colab_type": "code",
        "colab": {}
      },
      "source": [
        "nmf = NMF(n_components=4, random_state=1,\n",
        "          beta_loss='kullback-leibler', solver='mu', max_iter=1000, alpha=.1,\n",
        "          l1_ratio=.5).fit(bow_review)\n",
        "bow_words=bow.get_feature_names()\n",
        "print_top_words(nmf,bow_words,4)"
      ],
      "execution_count": 198,
      "outputs": []
    },
    {
      "cell_type": "code",
      "metadata": {
        "id": "y_Q5C3epGC3n",
        "colab_type": "code",
        "colab": {}
      },
      "source": [
        ""
      ],
      "execution_count": 199,
      "outputs": []
    },
    {
      "cell_type": "code",
      "metadata": {
        "id": "31Xx73hCGRgT",
        "colab_type": "code",
        "colab": {
          "base_uri": "https://localhost:8080/",
          "height": 82
        },
        "outputId": "17d97ada-edd2-41ae-f771-f34bf3c76411"
      },
      "source": [
        ""
      ],
      "execution_count": 200,
      "outputs": [
        {
          "output_type": "stream",
          "text": [
            "Topic #0: good,camera,battery,nice\n",
            "Topic #1: phone,best,super,nice phone\n",
            "Topic #2: not,phone,bad,money\n",
            "Topic #3: product,nice,mobile,nice product\n"
          ],
          "name": "stdout"
        }
      ]
    },
    {
      "cell_type": "markdown",
      "metadata": {
        "id": "OB0HXHKTg3Xs",
        "colab_type": "text"
      },
      "source": [
        "## POS TAGGING taking only nouns"
      ]
    },
    {
      "cell_type": "code",
      "metadata": {
        "id": "6NQkYJpdiwfN",
        "colab_type": "code",
        "colab": {}
      },
      "source": [
        "def only_nouns(review):\n",
        "  lis= \" \".join([each.strip(\" \") for each,pos in nltk.pos_tag(review.split()) if pos==\"NN\"])\n",
        "  return lis\n",
        "  \n"
      ],
      "execution_count": 208,
      "outputs": []
    },
    {
      "cell_type": "code",
      "metadata": {
        "id": "RK-VJRYSkTD2",
        "colab_type": "code",
        "colab": {}
      },
      "source": [
        "data[\"review\"]=data[\"review\"].apply(lambda x:only_nouns(x))"
      ],
      "execution_count": 209,
      "outputs": []
    },
    {
      "cell_type": "markdown",
      "metadata": {
        "id": "L1ufpHGDu18a",
        "colab_type": "text"
      },
      "source": [
        "### LDA BOW"
      ]
    },
    {
      "cell_type": "code",
      "metadata": {
        "id": "djb99Zy4oMIp",
        "colab_type": "code",
        "colab": {
          "base_uri": "https://localhost:8080/",
          "height": 82
        },
        "outputId": "5744e39f-30c6-455e-d613-2b8b497d8d19"
      },
      "source": [
        "bow=CountVectorizer(ngram_range=(1,2))\n",
        "bow_review=bow.fit_transform(data[\"review\"])\n",
        "df_bow=pd.DataFrame(bow_review.toarray(),columns=bow.get_feature_names())\n",
        "lda = LatentDirichletAllocation(n_components=4,random_state=0)\n",
        "lda.fit_transform(df_bow)\n",
        "print_top_words(lda,bow.get_feature_names(),5)"
      ],
      "execution_count": 211,
      "outputs": [
        {
          "output_type": "stream",
          "text": [
            "Topic #0: phone,battery,camera,super,backup\n",
            "Topic #1: phone,quality,camera,battery,wesome\n",
            "Topic #2: mobile,battery,camera,camera battery,hand\n",
            "Topic #3: product,phone,display,samsung,price\n"
          ],
          "name": "stdout"
        }
      ]
    },
    {
      "cell_type": "markdown",
      "metadata": {
        "id": "ID0gJZw2vJ78",
        "colab_type": "text"
      },
      "source": [
        "### LDA TFIDF"
      ]
    },
    {
      "cell_type": "code",
      "metadata": {
        "id": "0WEDJTe3u-80",
        "colab_type": "code",
        "colab": {
          "base_uri": "https://localhost:8080/",
          "height": 98
        },
        "outputId": "0a0a7572-ddda-4c43-f302-17e54d1cef1d"
      },
      "source": [
        "tfidf=TfidfVectorizer(ngram_range=(1,1))\n",
        "tfidf_words=tfidf.fit_transform(data[\"review\"])\n",
        "words=tfidf.get_feature_names()\n",
        "df_bow=pd.DataFrame(tfidf_words.toarray(),columns=words)\n",
        "lda = LatentDirichletAllocation(n_components=5,random_state=0)\n",
        "lda.fit_transform(tfidf_words)\n",
        "print_top_words(lda,words,5)"
      ],
      "execution_count": 212,
      "outputs": [
        {
          "output_type": "stream",
          "text": [
            "Topic #0: phone,mobile,quality,camera,experience\n",
            "Topic #1: product,wesome,battery,samsung,love\n",
            "Topic #2: money,phone,value,delivery,awesome\n",
            "Topic #3: price,display,superb,battery,xcellent\n",
            "Topic #4: super,battery,backup,camera,model\n"
          ],
          "name": "stdout"
        }
      ]
    },
    {
      "cell_type": "code",
      "metadata": {
        "id": "psRb-b8lvmKk",
        "colab_type": "code",
        "colab": {}
      },
      "source": [
        ""
      ],
      "execution_count": null,
      "outputs": []
    },
    {
      "cell_type": "markdown",
      "metadata": {
        "id": "U9D2nNB2vm1W",
        "colab_type": "text"
      },
      "source": [
        "### NMF BOW"
      ]
    },
    {
      "cell_type": "code",
      "metadata": {
        "id": "rmQt2f7fvWUs",
        "colab_type": "code",
        "colab": {
          "base_uri": "https://localhost:8080/",
          "height": 82
        },
        "outputId": "6b4d1f57-5c27-493f-a4e9-1e0a74b2eb83"
      },
      "source": [
        "nmf = NMF(n_components=4, random_state=1,\n",
        "          beta_loss='kullback-leibler', solver='mu', max_iter=1000, alpha=.1,\n",
        "          l1_ratio=.5).fit(bow_review)\n",
        "bow_words=bow.get_feature_names()\n",
        "print_top_words(nmf,bow_words,4)"
      ],
      "execution_count": 213,
      "outputs": [
        {
          "output_type": "stream",
          "text": [
            "Topic #0: phone,display,wesome,battery\n",
            "Topic #1: product,mobile,money,backup\n",
            "Topic #2: battery,camera,display,performance\n",
            "Topic #3: camera,samsung,super,quality\n"
          ],
          "name": "stdout"
        }
      ]
    },
    {
      "cell_type": "markdown",
      "metadata": {
        "id": "_s55Tj91v5rp",
        "colab_type": "text"
      },
      "source": [
        "### NMF TFIDF"
      ]
    },
    {
      "cell_type": "code",
      "metadata": {
        "id": "7nkJuoz8vt9p",
        "colab_type": "code",
        "colab": {
          "base_uri": "https://localhost:8080/",
          "height": 98
        },
        "outputId": "810a8243-a198-4841-ca72-0391f2749a52"
      },
      "source": [
        "nmf = NMF(n_components=5, random_state=1,\n",
        "          beta_loss='kullback-leibler', solver='mu', max_iter=1000, alpha=.1,\n",
        "          l1_ratio=.5).fit(tfidf_words)\n",
        "print_top_words(nmf,words,6)"
      ],
      "execution_count": 214,
      "outputs": [
        {
          "output_type": "stream",
          "text": [
            "Topic #0: product,delivery,ok,awsm,team,keybad\n",
            "Topic #1: phone,range,awesome,time,life,isplay\n",
            "Topic #2: mobile,superb,samsung,waysome,galaxy,online\n",
            "Topic #3: battery,price,money,display,performance,backup\n",
            "Topic #4: camera,super,wesome,quality,samsung,flipkart\n"
          ],
          "name": "stdout"
        }
      ]
    },
    {
      "cell_type": "markdown",
      "metadata": {
        "id": "DPe-gB9JwLUZ",
        "colab_type": "text"
      },
      "source": [
        "## POS TAG NOUNS and ADJECTIVES"
      ]
    },
    {
      "cell_type": "code",
      "metadata": {
        "id": "VB2KrjmGv9C3",
        "colab_type": "code",
        "colab": {}
      },
      "source": [
        "data=pd.read_csv(\"samsungdata.csv\")\n",
        "data[\"title\"]=data[\"title\"].apply(lambda x:convert_emojis(x))\n",
        "data[\"title\"]=data[\"title\"].apply(lambda x:x.lower()) \n",
        "data[\"title\"]=data[\"title\"].apply(lambda x:decontracted(x))\n",
        "data[\"title\"]=data[\"title\"].apply(lambda x:removecharacters(x))"
      ],
      "execution_count": null,
      "outputs": []
    },
    {
      "cell_type": "code",
      "metadata": {
        "id": "1dAClSWPwevJ",
        "colab_type": "code",
        "colab": {}
      },
      "source": [
        "def only_nouns_adjectives(review):\n",
        "  lis= \" \".join([each.strip(\" \") for each,pos in nltk.pos_tag(review.split()) if (pos==\"NN\" or pos==\"JJ\")])\n",
        "  return lis\n",
        "data[\"title\"]=data[\"title\"].apply(lambda x:only_nouns_adjectives(x))\n"
      ],
      "execution_count": 216,
      "outputs": []
    },
    {
      "cell_type": "markdown",
      "metadata": {
        "id": "_zmFiFI3w95p",
        "colab_type": "text"
      },
      "source": [
        "### LDA BOW"
      ]
    },
    {
      "cell_type": "code",
      "metadata": {
        "id": "ZUZx-kaWwzjx",
        "colab_type": "code",
        "colab": {
          "base_uri": "https://localhost:8080/",
          "height": 82
        },
        "outputId": "74009ac7-dc50-4a26-9134-2933288fee97"
      },
      "source": [
        "bow=CountVectorizer(ngram_range=(1,2))\n",
        "bow_review=bow.fit_transform(data[\"review\"])\n",
        "df_bow=pd.DataFrame(bow_review.toarray(),columns=bow.get_feature_names())\n",
        "lda = LatentDirichletAllocation(n_components=4,random_state=0)\n",
        "lda.fit_transform(df_bow)\n",
        "print_top_words(lda,bow.get_feature_names(),5)"
      ],
      "execution_count": 217,
      "outputs": [
        {
          "output_type": "stream",
          "text": [
            "Topic #0: phone,battery,camera,super,backup\n",
            "Topic #1: phone,quality,camera,battery,wesome\n",
            "Topic #2: mobile,battery,camera,camera battery,hand\n",
            "Topic #3: product,phone,display,samsung,price\n"
          ],
          "name": "stdout"
        }
      ]
    },
    {
      "cell_type": "markdown",
      "metadata": {
        "id": "zFJaIZAm106c",
        "colab_type": "text"
      },
      "source": [
        "### LDA TFIDF"
      ]
    },
    {
      "cell_type": "code",
      "metadata": {
        "id": "8KMmKsXhxAj1",
        "colab_type": "code",
        "colab": {
          "base_uri": "https://localhost:8080/",
          "height": 98
        },
        "outputId": "36c57203-7962-4edd-d966-f5f3afe496ff"
      },
      "source": [
        "tfidf=TfidfVectorizer(ngram_range=(1,2))\n",
        "tfidf_words=tfidf.fit_transform(data[\"review\"])\n",
        "words=tfidf.get_feature_names()\n",
        "df_bow=pd.DataFrame(tfidf_words.toarray(),columns=words)\n",
        "lda = LatentDirichletAllocation(n_components=5,random_state=0)\n",
        "lda.fit_transform(tfidf_words)\n",
        "print_top_words(lda,words,5)"
      ],
      "execution_count": 218,
      "outputs": [
        {
          "output_type": "stream",
          "text": [
            "Topic #0: super,battery,backup,camera,battery backup\n",
            "Topic #1: quality,camera quality,camera,phone,mobile\n",
            "Topic #2: perfomance,nicc,thakarthu,thank,okay\n",
            "Topic #3: phone,price,samsung,superb,range\n",
            "Topic #4: product,mobile,wesome,money,battery\n"
          ],
          "name": "stdout"
        }
      ]
    },
    {
      "cell_type": "markdown",
      "metadata": {
        "id": "f13i6Ciw2OYo",
        "colab_type": "text"
      },
      "source": [
        "### NMF BOW"
      ]
    },
    {
      "cell_type": "code",
      "metadata": {
        "id": "ZQ4TNhKN2DjX",
        "colab_type": "code",
        "colab": {
          "base_uri": "https://localhost:8080/",
          "height": 82
        },
        "outputId": "db88597c-3fa0-4bc7-a680-d7d3472b7dd8"
      },
      "source": [
        "nmf = NMF(n_components=4, random_state=1,\n",
        "          beta_loss='kullback-leibler', solver='mu', max_iter=1000, alpha=.1,\n",
        "          l1_ratio=.5).fit(bow_review)\n",
        "bow_words=bow.get_feature_names()\n",
        "print_top_words(nmf,bow_words,4)"
      ],
      "execution_count": 219,
      "outputs": [
        {
          "output_type": "stream",
          "text": [
            "Topic #0: phone,display,wesome,battery\n",
            "Topic #1: product,mobile,money,backup\n",
            "Topic #2: battery,camera,display,performance\n",
            "Topic #3: camera,samsung,super,quality\n"
          ],
          "name": "stdout"
        }
      ]
    },
    {
      "cell_type": "markdown",
      "metadata": {
        "id": "F7EHQ72V2aww",
        "colab_type": "text"
      },
      "source": [
        "### NMF TFIDF"
      ]
    },
    {
      "cell_type": "code",
      "metadata": {
        "id": "LqLU-3Oo2VC0",
        "colab_type": "code",
        "colab": {
          "base_uri": "https://localhost:8080/",
          "height": 98
        },
        "outputId": "bd686bbf-6ca8-45df-b412-a3485216da73"
      },
      "source": [
        "nmf = NMF(n_components=5, random_state=1,\n",
        "          beta_loss='kullback-leibler', solver='mu', max_iter=1000, alpha=.1,\n",
        "          l1_ratio=.5).fit(tfidf_words)\n",
        "print_top_words(nmf,words,6)"
      ],
      "execution_count": 220,
      "outputs": [
        {
          "output_type": "stream",
          "text": [
            "Topic #0: product,ok,product awsm,awsm,delivery,team\n",
            "Topic #1: phone,wesome phone,awesome,wesome,love,display\n",
            "Topic #2: mobile,superb,samsung,superb mobile,mobile samsung,waysome mobile\n",
            "Topic #3: battery,camera,super,quality,wesome,backup\n",
            "Topic #4: price,money,value,value money,price range,delivery\n"
          ],
          "name": "stdout"
        }
      ]
    },
    {
      "cell_type": "code",
      "metadata": {
        "id": "jPSzlnDr2kEx",
        "colab_type": "code",
        "colab": {}
      },
      "source": [
        ""
      ],
      "execution_count": null,
      "outputs": []
    }
  ]
}