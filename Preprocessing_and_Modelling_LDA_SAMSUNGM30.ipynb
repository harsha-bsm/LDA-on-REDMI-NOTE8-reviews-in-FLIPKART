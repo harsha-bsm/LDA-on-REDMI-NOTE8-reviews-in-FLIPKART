{
  "nbformat": 4,
  "nbformat_minor": 0,
  "metadata": {
    "colab": {
      "name": "Preprocessing and Modelling LDA SAMSUNGM30.ipynb",
      "provenance": [],
      "toc_visible": true,
      "authorship_tag": "ABX9TyMa2+OPI18oBTQRnYHrpQXy",
      "include_colab_link": true
    },
    "kernelspec": {
      "name": "python3",
      "display_name": "Python 3"
    }
  },
  "cells": [
    {
      "cell_type": "markdown",
      "metadata": {
        "id": "view-in-github",
        "colab_type": "text"
      },
      "source": [
        "<a href=\"https://colab.research.google.com/github/harsha-bsm/Topic-Modelling-using-LDA-and-NMF-on-SamsungM30s-reviewsflipkart/blob/master/Preprocessing_and_Modelling_LDA_SAMSUNGM30.ipynb\" target=\"_parent\"><img src=\"https://colab.research.google.com/assets/colab-badge.svg\" alt=\"Open In Colab\"/></a>"
      ]
    },
    {
      "cell_type": "code",
      "metadata": {
        "id": "SKILHH8iQvAX",
        "colab_type": "code",
        "colab": {}
      },
      "source": [
        "import re\n",
        "import numpy as np\n",
        "import pandas as pd"
      ],
      "execution_count": null,
      "outputs": []
    },
    {
      "cell_type": "code",
      "metadata": {
        "id": "JKxaHbb_RD91",
        "colab_type": "code",
        "colab": {}
      },
      "source": [
        "data=pd.read_csv(\"samsungdata.csv\")\n",
        "dataoriginal=pd.read_csv(\"samsungdata.csv\")"
      ],
      "execution_count": null,
      "outputs": []
    },
    {
      "cell_type": "code",
      "metadata": {
        "id": "ekk77JUsRIHZ",
        "colab_type": "code",
        "colab": {
          "base_uri": "https://localhost:8080/",
          "height": 288
        },
        "outputId": "b17382a8-ee86-4516-8090-876808c7a207"
      },
      "source": [
        "data.head()"
      ],
      "execution_count": null,
      "outputs": [
        {
          "output_type": "execute_result",
          "data": {
            "text/html": [
              "<div>\n",
              "<style scoped>\n",
              "    .dataframe tbody tr th:only-of-type {\n",
              "        vertical-align: middle;\n",
              "    }\n",
              "\n",
              "    .dataframe tbody tr th {\n",
              "        vertical-align: top;\n",
              "    }\n",
              "\n",
              "    .dataframe thead th {\n",
              "        text-align: right;\n",
              "    }\n",
              "</style>\n",
              "<table border=\"1\" class=\"dataframe\">\n",
              "  <thead>\n",
              "    <tr style=\"text-align: right;\">\n",
              "      <th></th>\n",
              "      <th>Unnamed: 0</th>\n",
              "      <th>Model</th>\n",
              "      <th>rating</th>\n",
              "      <th>user</th>\n",
              "      <th>time_of_review</th>\n",
              "      <th>review</th>\n",
              "      <th>title</th>\n",
              "      <th>user_address</th>\n",
              "      <th>user_type</th>\n",
              "    </tr>\n",
              "  </thead>\n",
              "  <tbody>\n",
              "    <tr>\n",
              "      <th>0</th>\n",
              "      <td>0</td>\n",
              "      <td>Samsung Galaxy M30s Blue 128 Gb Reviews: Lates...</td>\n",
              "      <td>5</td>\n",
              "      <td>Aryan  Patil</td>\n",
              "      <td>2months ago</td>\n",
              "      <td>Bokeh mode is very excellent than any other ha...</td>\n",
              "      <td>Wonderful</td>\n",
              "      <td>Latur District</td>\n",
              "      <td>Certified Buyer</td>\n",
              "    </tr>\n",
              "    <tr>\n",
              "      <th>1</th>\n",
              "      <td>1</td>\n",
              "      <td>Samsung Galaxy M30s Blue 128 Gb Reviews: Lates...</td>\n",
              "      <td>5</td>\n",
              "      <td>Flipkart Customer</td>\n",
              "      <td>5months ago</td>\n",
              "      <td>Just awsome product the picture quality is goo...</td>\n",
              "      <td>Great product</td>\n",
              "      <td>North Twenty Four Parganas District</td>\n",
              "      <td>Certified Buyer</td>\n",
              "    </tr>\n",
              "    <tr>\n",
              "      <th>2</th>\n",
              "      <td>2</td>\n",
              "      <td>Samsung Galaxy M30s Blue 128 Gb Reviews: Lates...</td>\n",
              "      <td>4</td>\n",
              "      <td>Suresh Kumar</td>\n",
              "      <td>5months ago</td>\n",
              "      <td>Samsung galaxy m30s is most useful.But Samsung...</td>\n",
              "      <td>Nice product</td>\n",
              "      <td>New Delhi</td>\n",
              "      <td>Certified Buyer</td>\n",
              "    </tr>\n",
              "    <tr>\n",
              "      <th>3</th>\n",
              "      <td>3</td>\n",
              "      <td>Samsung Galaxy M30s Blue 128 Gb Reviews: Lates...</td>\n",
              "      <td>1</td>\n",
              "      <td>Rohit Purba</td>\n",
              "      <td>6months ago</td>\n",
              "      <td>Not worth for me. i buy for my samsung tv this...</td>\n",
              "      <td>Utterly Disappointed</td>\n",
              "      <td>Rajpura</td>\n",
              "      <td>Certified Buyer</td>\n",
              "    </tr>\n",
              "    <tr>\n",
              "      <th>4</th>\n",
              "      <td>4</td>\n",
              "      <td>Samsung Galaxy M30s Blue 128 Gb Reviews: Lates...</td>\n",
              "      <td>5</td>\n",
              "      <td>Flipkart Customer</td>\n",
              "      <td>5months ago</td>\n",
              "      <td>BSOLUTELY BEST PHONE, GO FOR THIS PHONELET ME ...</td>\n",
              "      <td>Highly recommended</td>\n",
              "      <td>Muzaffarpur</td>\n",
              "      <td>Certified Buyer</td>\n",
              "    </tr>\n",
              "  </tbody>\n",
              "</table>\n",
              "</div>"
            ],
            "text/plain": [
              "   Unnamed: 0  ...        user_type\n",
              "0           0  ...  Certified Buyer\n",
              "1           1  ...  Certified Buyer\n",
              "2           2  ...  Certified Buyer\n",
              "3           3  ...  Certified Buyer\n",
              "4           4  ...  Certified Buyer\n",
              "\n",
              "[5 rows x 9 columns]"
            ]
          },
          "metadata": {
            "tags": []
          },
          "execution_count": 4
        }
      ]
    },
    {
      "cell_type": "code",
      "metadata": {
        "id": "sG6MbHUhwYKB",
        "colab_type": "code",
        "colab": {
          "base_uri": "https://localhost:8080/",
          "height": 82
        },
        "outputId": "f5502e4d-7e7c-4543-f8bf-63d71fbfb574"
      },
      "source": [
        "pip install emot "
      ],
      "execution_count": null,
      "outputs": [
        {
          "output_type": "stream",
          "text": [
            "Collecting emot\n",
            "  Downloading https://files.pythonhosted.org/packages/49/07/20001ade19873de611b7b66a4d5e5aabbf190d65abea337d5deeaa2bc3de/emot-2.1-py3-none-any.whl\n",
            "Installing collected packages: emot\n",
            "Successfully installed emot-2.1\n"
          ],
          "name": "stdout"
        }
      ]
    },
    {
      "cell_type": "code",
      "metadata": {
        "id": "Tmly-l1OeLL-",
        "colab_type": "code",
        "colab": {}
      },
      "source": [
        "####### Apply emoticons and emojis\n",
        "\n",
        "from emot.emo_unicode import UNICODE_EMO, EMOTICONS # contains english text of emojis and emoticons in dict format \n",
        "def convert_emojis(review):\n",
        "  for x in review:\n",
        "    if x in UNICODE_EMO.keys():\n",
        "      review=review.replace(x,\"\")\n",
        "  return review"
      ],
      "execution_count": null,
      "outputs": []
    },
    {
      "cell_type": "code",
      "metadata": {
        "id": "Wo1mbD4XSbID",
        "colab_type": "code",
        "colab": {}
      },
      "source": [
        "#converting all basic contracted foms  \n",
        "def decontracted(phrase):\n",
        "    # specific\n",
        "    phrase = re.sub(r\"won't\", \"will not\", phrase)\n",
        "    phrase = re.sub(r\"can\\'t\", \"can not\", phrase)\n",
        "\n",
        "    # general\n",
        "    phrase = re.sub(r\"n\\'t\", \" not\", phrase)\n",
        "    phrase = re.sub(r\"\\'re\", \" are\", phrase)\n",
        "    phrase = re.sub(r\"\\'s\", \" is\", phrase)\n",
        "    phrase = re.sub(r\"\\'d\", \" would\", phrase)\n",
        "    phrase = re.sub(r\"\\'ll\", \" will\", phrase)\n",
        "    phrase = re.sub(r\"\\'t\", \" not\", phrase)\n",
        "    phrase = re.sub(r\"\\'ve\", \" have\", phrase)\n",
        "    phrase = re.sub(r\"\\'m\", \" am\", phrase)\n",
        "    return phrase"
      ],
      "execution_count": null,
      "outputs": []
    },
    {
      "cell_type": "code",
      "metadata": {
        "id": "9h47xg15Y5cQ",
        "colab_type": "code",
        "colab": {}
      },
      "source": [
        "#removing special characters and tabs ,spaces,new lines etc..\n",
        "def removecharacters(review):\n",
        "  review= re.sub('[^A-Za-z0-9]+',' ',review)  #anything exept numbers and alphabets, replace them with space\n",
        "  review=re.sub(r\"\\n\",\" \",review)  #new lines into space\n",
        "  review=re.sub(r\"\\t\",\" \",review)  #tabs into space\n",
        "  review=re.sub(r\"\\v\",\" \",review)  #vertical tab into space\n",
        "  review=re.sub(r\"\\s\",\" \",review)   #all extra spaces into single space\n",
        "  return review  \n"
      ],
      "execution_count": null,
      "outputs": []
    },
    {
      "cell_type": "code",
      "metadata": {
        "id": "KqOCmax8PTwB",
        "colab_type": "code",
        "colab": {}
      },
      "source": [
        "# https://gist.github.com/sebleier/554280\n",
        "# we are removing the words from the stop words list: 'no', 'nor', 'not'\n",
        "# <br /><br /> ==> after the above steps, we are getting \"br br\"\n",
        "# we are including them into stop words list\n",
        "# instead of <br /> if we have <br/> these tags would have revmoved in the 1st step\n",
        "# ignore words like won't, haven't etc.. We have already taken care of them\n",
        "\n",
        "stopword= set(['br', 'the', 'i', 'me', 'my', 'myself', 'we', 'our', 'ours', 'ourselves', 'you', \"you're\", \"you've\",\\\n",
        "            \"you'll\", \"you'd\", 'your', 'yours', 'yourself', 'yourselves', 'he', 'him', 'his', 'himself', \\\n",
        "            'she', \"she's\", 'her', 'hers', 'herself', 'it', \"it's\", 'its', 'itself', 'they', 'them', 'their',\\\n",
        "            'theirs', 'themselves', 'what', 'which', 'who', 'whom', 'this', 'that', \"that'll\", 'these', 'those', \\\n",
        "            'am', 'is', 'are', 'was', 'were', 'be', 'been', 'being', 'have', 'has', 'had', 'having', 'do', 'does', \\\n",
        "            'did', 'doing', 'a', 'an', 'the', 'and', 'but', 'if', 'or', 'because', 'as', 'until', 'while', 'of', \\\n",
        "            'at', 'by', 'for', 'with', 'about', 'against', 'between', 'into', 'through', 'during', 'before', 'after',\\\n",
        "            'above', 'below', 'to', 'from', 'up', 'down', 'in', 'out', 'on', 'off', 'over', 'under', 'again', 'further',\\\n",
        "            'then', 'once', 'here', 'there', 'when', 'where', 'why', 'how', 'all', 'any', 'both', 'each', 'few', 'more',\\\n",
        "            'most', 'other', 'some', 'such', 'only', 'own', 'same', 'so', 'than', 'too', 'very', \\\n",
        "            's', 't', 'can', 'will', 'just', 'don', \"don't\", 'should', \"should've\", 'now', 'd', 'll', 'm', 'o', 're', \\\n",
        "            've', 'y', 'ain', 'aren', \"aren't\", 'couldn', \"couldn't\", 'didn', \"didn't\", 'doesn', \"doesn't\", 'hadn',\\\n",
        "            \"hadn't\", 'hasn', \"hasn't\", 'haven', \"haven't\", 'isn', \"isn't\", 'ma', 'mightn', \"mightn't\", 'mustn',\\\n",
        "            \"mustn't\", 'needn', \"needn't\", 'shan', \"shan't\", 'shouldn', \"shouldn't\", 'wasn', \"wasn't\", 'weren', \"weren't\", \\\n",
        "            'won', \"won't\", 'wouldn', \"wouldn't\",\"not\",\"phone\",\"product\",\"mobile\",\"np\"])"
      ],
      "execution_count": null,
      "outputs": []
    },
    {
      "cell_type": "code",
      "metadata": {
        "id": "dvdqs46FPVHt",
        "colab_type": "code",
        "colab": {}
      },
      "source": [
        "from nltk.corpus import stopwords\n",
        "import nltk"
      ],
      "execution_count": null,
      "outputs": []
    },
    {
      "cell_type": "code",
      "metadata": {
        "id": "Eq00AK2cbPEL",
        "colab_type": "code",
        "colab": {}
      },
      "source": [
        ""
      ],
      "execution_count": null,
      "outputs": []
    },
    {
      "cell_type": "code",
      "metadata": {
        "id": "bKJvsyw6biTI",
        "colab_type": "code",
        "colab": {}
      },
      "source": [
        "def removestopwords(review):\n",
        "  return \" \".join([word for word in review.split(\" \") if not word in stopword])\n"
      ],
      "execution_count": null,
      "outputs": []
    },
    {
      "cell_type": "code",
      "metadata": {
        "id": "TPvMpNFqyyQ3",
        "colab_type": "code",
        "colab": {}
      },
      "source": [
        "data[\"review\"]=data[\"review\"].apply(lambda x:convert_emojis(x))\n",
        "data[\"review\"]=data[\"review\"].apply(lambda x:x.lower()) \n",
        "data[\"review\"]=data[\"review\"].apply(lambda x:decontracted(x))\n",
        "data[\"review\"]=data[\"review\"].apply(lambda x:removecharacters(x))\n",
        "data[\"review\"]=pd.DataFrame(data[\"review\"].apply(lambda x:removestopwords(x)))"
      ],
      "execution_count": null,
      "outputs": []
    },
    {
      "cell_type": "code",
      "metadata": {
        "id": "nauyKC-nZur6",
        "colab_type": "code",
        "colab": {
          "base_uri": "https://localhost:8080/",
          "height": 212
        },
        "outputId": "0e33998e-be6c-4aa1-898b-b97b324192b0"
      },
      "source": [
        "data[\"review\"]"
      ],
      "execution_count": null,
      "outputs": [
        {
          "output_type": "execute_result",
          "data": {
            "text/plain": [
              "0      bokeh mode excellent handset budget battery ca...\n",
              "1      awsome picture quality good battery backup aws...\n",
              "2      samsung galaxy m30s useful samsung improve sel...\n",
              "3      worth buy samsung tv live cast smartthins app ...\n",
              "4      bsolutely best go phonelet clear features1 cam...\n",
              "                             ...                        \n",
              "293                                                 okay\n",
              "294                           super style good look nice\n",
              "295                                                 good\n",
              "296                                                 good\n",
              "297                                                 good\n",
              "Name: review, Length: 298, dtype: object"
            ]
          },
          "metadata": {
            "tags": []
          },
          "execution_count": 13
        }
      ]
    },
    {
      "cell_type": "code",
      "metadata": {
        "id": "0rfMa8w3VjJ_",
        "colab_type": "code",
        "colab": {}
      },
      "source": [
        "data[\"review\"].to_csv(\"samsung_preprocessed.csv\")"
      ],
      "execution_count": null,
      "outputs": []
    },
    {
      "cell_type": "code",
      "metadata": {
        "id": "1bhn9-ETgvLb",
        "colab_type": "code",
        "colab": {}
      },
      "source": [
        "from sklearn.feature_extraction.text import TfidfTransformer\n",
        "from sklearn.feature_extraction.text import TfidfVectorizer\n",
        "from sklearn.feature_extraction.text import CountVectorizer\n",
        "from gensim.models import ldamodel\n",
        "import gensim.corpora\n",
        "from sklearn.decomposition import LatentDirichletAllocation"
      ],
      "execution_count": null,
      "outputs": []
    },
    {
      "cell_type": "code",
      "metadata": {
        "id": "kd3CmQ9Ng0lG",
        "colab_type": "code",
        "colab": {}
      },
      "source": [
        "#https://scikit-learn.org/stable/auto_examples/applications/plot_topics_extraction_with_nmf_lda.html#sphx-glr-auto-examples-applications-plot-topics-extraction-with-nmf-lda-py\n",
        "def print_top_words(model, feature_names, n_top_words):\n",
        "  topics_cluster=[]\n",
        "  for topic_idx, topic in enumerate(model.components_):\n",
        "      message = \"Topic #%d: \" % topic_idx\n",
        "      message += \",\".join([feature_names[i] for i in topic.argsort()[:-n_top_words - 1:-1]])\n",
        "      topics_cluster.append([feature_names[i] for i in topic.argsort()[:-n_top_words - 1:-1]])\n",
        "  return topics_cluster\n",
        "  "
      ],
      "execution_count": null,
      "outputs": []
    },
    {
      "cell_type": "markdown",
      "metadata": {
        "id": "MC42q3qFC20J",
        "colab_type": "text"
      },
      "source": [
        "### BOW and LDA "
      ]
    },
    {
      "cell_type": "code",
      "metadata": {
        "id": "vafbxMu-OY_n",
        "colab_type": "code",
        "colab": {}
      },
      "source": [
        "bow=CountVectorizer(ngram_range=(1,2),min_df=4,max_df=0.95)\n",
        "bow_review=bow.fit_transform(data[\"review\"])\n",
        "df_bow=pd.DataFrame(bow_review.toarray(),columns=bow.get_feature_names())\n",
        "lda = LatentDirichletAllocation(n_components=4,random_state=0)\n",
        "lda.fit_transform(df_bow)\n",
        "topics=print_top_words(lda,bow.get_feature_names(),5)"
      ],
      "execution_count": null,
      "outputs": []
    },
    {
      "cell_type": "code",
      "metadata": {
        "id": "D40w2qGb5roz",
        "colab_type": "code",
        "colab": {
          "base_uri": "https://localhost:8080/",
          "height": 131
        },
        "outputId": "b15739c4-be3e-49ad-a14b-a4539c3addb4"
      },
      "source": [
        "lda.fit_transform(df_bow)"
      ],
      "execution_count": null,
      "outputs": [
        {
          "output_type": "execute_result",
          "data": {
            "text/plain": [
              "array([[0.18804108, 0.61229913, 0.02127953, 0.17838026],\n",
              "       [0.02337478, 0.92847277, 0.02339064, 0.02476181],\n",
              "       [0.1755224 , 0.56670166, 0.23981901, 0.01795692],\n",
              "       ...,\n",
              "       [0.12500307, 0.62499174, 0.12500256, 0.12500263],\n",
              "       [0.12500307, 0.62499174, 0.12500256, 0.12500263],\n",
              "       [0.12500307, 0.62499174, 0.12500256, 0.12500263]])"
            ]
          },
          "metadata": {
            "tags": []
          },
          "execution_count": 24
        }
      ]
    },
    {
      "cell_type": "code",
      "metadata": {
        "id": "mzOztcR7_Wbw",
        "colab_type": "code",
        "colab": {
          "base_uri": "https://localhost:8080/",
          "height": 391
        },
        "outputId": "bde9441f-2989-4ac8-bb43-d4c6b698f620"
      },
      "source": [
        "topic=[\"topic_\"+str(i) for i  in range(0,lda.n_components)]\n",
        "df_doc_topic=pd.DataFrame(lda.fit_transform(df_bow),columns=topic)\n",
        "dominant_topic = np.argmax(df_doc_topic.values, axis=1)\n",
        "df_doc_topic[\"dominant_topic\"] = dominant_topic\n",
        "df_doc_topic[\"review\"]=dataoriginal[\"review\"]\n",
        "df_doc_topic[\"dominant_topic_keywords\"]=[topics[i]  for i in dominant_topic]\n",
        "df_doc_topic"
      ],
      "execution_count": null,
      "outputs": [
        {
          "output_type": "execute_result",
          "data": {
            "text/html": [
              "<div>\n",
              "<style scoped>\n",
              "    .dataframe tbody tr th:only-of-type {\n",
              "        vertical-align: middle;\n",
              "    }\n",
              "\n",
              "    .dataframe tbody tr th {\n",
              "        vertical-align: top;\n",
              "    }\n",
              "\n",
              "    .dataframe thead th {\n",
              "        text-align: right;\n",
              "    }\n",
              "</style>\n",
              "<table border=\"1\" class=\"dataframe\">\n",
              "  <thead>\n",
              "    <tr style=\"text-align: right;\">\n",
              "      <th></th>\n",
              "      <th>topic_0</th>\n",
              "      <th>topic_1</th>\n",
              "      <th>topic_2</th>\n",
              "      <th>topic_3</th>\n",
              "      <th>dominant_topic</th>\n",
              "      <th>review</th>\n",
              "      <th>dominant_topic_keywords</th>\n",
              "    </tr>\n",
              "  </thead>\n",
              "  <tbody>\n",
              "    <tr>\n",
              "      <th>0</th>\n",
              "      <td>0.188041</td>\n",
              "      <td>0.612299</td>\n",
              "      <td>0.021280</td>\n",
              "      <td>0.178380</td>\n",
              "      <td>1</td>\n",
              "      <td>Bokeh mode is very excellent than any other ha...</td>\n",
              "      <td>[good, camera, battery, performance, quality]</td>\n",
              "    </tr>\n",
              "    <tr>\n",
              "      <th>1</th>\n",
              "      <td>0.023375</td>\n",
              "      <td>0.928473</td>\n",
              "      <td>0.023391</td>\n",
              "      <td>0.024762</td>\n",
              "      <td>1</td>\n",
              "      <td>Just awsome product the picture quality is goo...</td>\n",
              "      <td>[good, camera, battery, performance, quality]</td>\n",
              "    </tr>\n",
              "    <tr>\n",
              "      <th>2</th>\n",
              "      <td>0.175522</td>\n",
              "      <td>0.566702</td>\n",
              "      <td>0.239819</td>\n",
              "      <td>0.017957</td>\n",
              "      <td>1</td>\n",
              "      <td>Samsung galaxy m30s is most useful.But Samsung...</td>\n",
              "      <td>[good, camera, battery, performance, quality]</td>\n",
              "    </tr>\n",
              "    <tr>\n",
              "      <th>3</th>\n",
              "      <td>0.025216</td>\n",
              "      <td>0.025357</td>\n",
              "      <td>0.923147</td>\n",
              "      <td>0.026281</td>\n",
              "      <td>2</td>\n",
              "      <td>Not worth for me. i buy for my samsung tv this...</td>\n",
              "      <td>[nice, super, samsung, buy, delivery]</td>\n",
              "    </tr>\n",
              "    <tr>\n",
              "      <th>4</th>\n",
              "      <td>0.209835</td>\n",
              "      <td>0.539017</td>\n",
              "      <td>0.207466</td>\n",
              "      <td>0.043682</td>\n",
              "      <td>1</td>\n",
              "      <td>BSOLUTELY BEST PHONE, GO FOR THIS PHONELET ME ...</td>\n",
              "      <td>[good, camera, battery, performance, quality]</td>\n",
              "    </tr>\n",
              "    <tr>\n",
              "      <th>...</th>\n",
              "      <td>...</td>\n",
              "      <td>...</td>\n",
              "      <td>...</td>\n",
              "      <td>...</td>\n",
              "      <td>...</td>\n",
              "      <td>...</td>\n",
              "      <td>...</td>\n",
              "    </tr>\n",
              "    <tr>\n",
              "      <th>293</th>\n",
              "      <td>0.250000</td>\n",
              "      <td>0.250000</td>\n",
              "      <td>0.250000</td>\n",
              "      <td>0.250000</td>\n",
              "      <td>0</td>\n",
              "      <td>okay</td>\n",
              "      <td>[best, flipkart, superb, xcellent, excellent]</td>\n",
              "    </tr>\n",
              "    <tr>\n",
              "      <th>294</th>\n",
              "      <td>0.062505</td>\n",
              "      <td>0.312429</td>\n",
              "      <td>0.562291</td>\n",
              "      <td>0.062775</td>\n",
              "      <td>2</td>\n",
              "      <td>Super style and good look nice product</td>\n",
              "      <td>[nice, super, samsung, buy, delivery]</td>\n",
              "    </tr>\n",
              "    <tr>\n",
              "      <th>295</th>\n",
              "      <td>0.125003</td>\n",
              "      <td>0.624992</td>\n",
              "      <td>0.125003</td>\n",
              "      <td>0.125003</td>\n",
              "      <td>1</td>\n",
              "      <td>good</td>\n",
              "      <td>[good, camera, battery, performance, quality]</td>\n",
              "    </tr>\n",
              "    <tr>\n",
              "      <th>296</th>\n",
              "      <td>0.125003</td>\n",
              "      <td>0.624992</td>\n",
              "      <td>0.125003</td>\n",
              "      <td>0.125003</td>\n",
              "      <td>1</td>\n",
              "      <td>good</td>\n",
              "      <td>[good, camera, battery, performance, quality]</td>\n",
              "    </tr>\n",
              "    <tr>\n",
              "      <th>297</th>\n",
              "      <td>0.125003</td>\n",
              "      <td>0.624992</td>\n",
              "      <td>0.125003</td>\n",
              "      <td>0.125003</td>\n",
              "      <td>1</td>\n",
              "      <td>Good Product</td>\n",
              "      <td>[good, camera, battery, performance, quality]</td>\n",
              "    </tr>\n",
              "  </tbody>\n",
              "</table>\n",
              "<p>298 rows × 7 columns</p>\n",
              "</div>"
            ],
            "text/plain": [
              "      topic_0  ...                        dominant_topic_keywords\n",
              "0    0.188041  ...  [good, camera, battery, performance, quality]\n",
              "1    0.023375  ...  [good, camera, battery, performance, quality]\n",
              "2    0.175522  ...  [good, camera, battery, performance, quality]\n",
              "3    0.025216  ...          [nice, super, samsung, buy, delivery]\n",
              "4    0.209835  ...  [good, camera, battery, performance, quality]\n",
              "..        ...  ...                                            ...\n",
              "293  0.250000  ...  [best, flipkart, superb, xcellent, excellent]\n",
              "294  0.062505  ...          [nice, super, samsung, buy, delivery]\n",
              "295  0.125003  ...  [good, camera, battery, performance, quality]\n",
              "296  0.125003  ...  [good, camera, battery, performance, quality]\n",
              "297  0.125003  ...  [good, camera, battery, performance, quality]\n",
              "\n",
              "[298 rows x 7 columns]"
            ]
          },
          "metadata": {
            "tags": []
          },
          "execution_count": 25
        }
      ]
    },
    {
      "cell_type": "code",
      "metadata": {
        "id": "hPhAZdxYJLaM",
        "colab_type": "code",
        "colab": {}
      },
      "source": [
        ""
      ],
      "execution_count": null,
      "outputs": []
    },
    {
      "cell_type": "markdown",
      "metadata": {
        "id": "r2NFr5TOIBos",
        "colab_type": "text"
      },
      "source": [
        "#### LDA on topics obtained"
      ]
    },
    {
      "cell_type": "code",
      "metadata": {
        "id": "JYE7_ILB4NSz",
        "colab_type": "code",
        "colab": {
          "base_uri": "https://localhost:8080/",
          "height": 82
        },
        "outputId": "87c3e4f6-c3a5-40c5-edc9-bb63e44c6f89"
      },
      "source": [
        "arr=np.array(print_top_words(lda,bow.get_feature_names(),5)).reshape(1,-1)[0]\n",
        "bow=CountVectorizer(ngram_range=(1,2))\n",
        "bow_review=bow.fit_transform(arr)\n",
        "df_bow=pd.DataFrame(bow_review.toarray(),columns=bow.get_feature_names())\n",
        "lda = LatentDirichletAllocation(n_components=4,random_state=0)\n",
        "lda.fit_transform(df_bow)\n",
        "print_top_words(lda,bow.get_feature_names(),4)\n"
      ],
      "execution_count": null,
      "outputs": [
        {
          "output_type": "execute_result",
          "data": {
            "text/plain": [
              "[['buy', 'online', 'performance', 'buy online'],\n",
              " ['good', 'best', 'nice', 'xcellent'],\n",
              " ['battery', 'camera', 'samsung', 'wesome'],\n",
              " ['thanks', 'price', 'hangs', 'awsome']]"
            ]
          },
          "metadata": {
            "tags": []
          },
          "execution_count": 20
        }
      ]
    },
    {
      "cell_type": "markdown",
      "metadata": {
        "id": "JiEX5nqf0HW3",
        "colab_type": "text"
      },
      "source": [
        "### TFIDF AND LDA"
      ]
    },
    {
      "cell_type": "code",
      "metadata": {
        "id": "kkhT7HKLhj_X",
        "colab_type": "code",
        "colab": {
          "base_uri": "https://localhost:8080/",
          "height": 1000
        },
        "outputId": "478e4cda-da24-4b21-e4f8-1f988c5f216d"
      },
      "source": [
        "tfidf=TfidfVectorizer(ngram_range=(1,2))\n",
        "tfidf_words=tfidf.fit_transform(data[\"review\"])\n",
        "words=tfidf.get_feature_names()\n",
        "df_bow=pd.DataFrame(tfidf_words.toarray(),columns=words)\n",
        "lda = LatentDirichletAllocation(n_components=10,random_state=0)\n",
        "lda.fit_transform(tfidf_words)\n",
        "print_top_words(lda,words,8)"
      ],
      "execution_count": null,
      "outputs": [
        {
          "output_type": "execute_result",
          "data": {
            "text/plain": [
              "[['money',\n",
              "  'value money',\n",
              "  'value',\n",
              "  'okay',\n",
              "  'super nice',\n",
              "  'flipkart',\n",
              "  'wesome value',\n",
              "  'things good'],\n",
              " ['good',\n",
              "  'nice',\n",
              "  'superb',\n",
              "  'battery',\n",
              "  'battery backup',\n",
              "  'camera',\n",
              "  'backup',\n",
              "  'backup good'],\n",
              " ['xcellent',\n",
              "  'awsm',\n",
              "  'waysome',\n",
              "  'utstanding',\n",
              "  'nice awsm',\n",
              "  'easy',\n",
              "  'smooth easy',\n",
              "  'battery'],\n",
              " ['loved',\n",
              "  'rattan',\n",
              "  'worth money',\n",
              "  'worth',\n",
              "  'money',\n",
              "  'camera battery',\n",
              "  'good one',\n",
              "  'nice cell'],\n",
              " ['love',\n",
              "  'thanks',\n",
              "  'nice',\n",
              "  'display',\n",
              "  'excellent',\n",
              "  'super',\n",
              "  'xcellent',\n",
              "  'flipkart'],\n",
              " ['wesome', 'bad', 'comments', 'camara', 'poor', 'use', 'expected', 'thank'],\n",
              " ['super',\n",
              "  'smartphone',\n",
              "  'superrrrbbbbb',\n",
              "  'sm',\n",
              "  'buy',\n",
              "  'flipkart',\n",
              "  'nice products',\n",
              "  'xcellent smartphone'],\n",
              " ['ok', 'price', 'suprrrrrrrrr', 'wsm', 'best', 'set', 'like', 'good price'],\n",
              " ['camera',\n",
              "  'fantastic',\n",
              "  'goods',\n",
              "  'fresh',\n",
              "  'ear',\n",
              "  'good',\n",
              "  'wesome',\n",
              "  'super camera'],\n",
              " ['best',\n",
              "  'awesome',\n",
              "  'good',\n",
              "  'samsung',\n",
              "  'good samsung',\n",
              "  'great',\n",
              "  'worst',\n",
              "  'normal']]"
            ]
          },
          "metadata": {
            "tags": []
          },
          "execution_count": 21
        }
      ]
    },
    {
      "cell_type": "markdown",
      "metadata": {
        "id": "ZvMDlD8_H4S_",
        "colab_type": "text"
      },
      "source": [
        "##### LDA on topics obtained "
      ]
    },
    {
      "cell_type": "code",
      "metadata": {
        "id": "wBKhgISNxoCh",
        "colab_type": "code",
        "colab": {
          "base_uri": "https://localhost:8080/",
          "height": 82
        },
        "outputId": "9fa3cc45-8a2d-42f6-ed69-e9a477bb8001"
      },
      "source": [
        "arr=np.array(print_top_words(lda,words,5)).reshape(1,-1)[0]\n",
        "tfidf=TfidfVectorizer(ngram_range=(1,1))\n",
        "tfidf_words=tfidf.fit_transform(arr)\n",
        "words=tfidf.get_feature_names()\n",
        "df_tfidf=pd.DataFrame(tfidf_words.toarray(),columns=words)\n",
        "lda = LatentDirichletAllocation(n_components=4,random_state=0)\n",
        "lda.fit_transform(df_tfidf)\n",
        "print_top_words(lda,words,4)\n"
      ],
      "execution_count": null,
      "outputs": [
        {
          "output_type": "execute_result",
          "data": {
            "text/plain": [
              "[['nice', 'love', 'buy', 'camera'],\n",
              " ['money', 'best', 'value', 'rattan'],\n",
              " ['good', 'super', 'samsung', 'nice'],\n",
              " ['worth', 'awsm', 'excellent', 'superrrrbbbbb']]"
            ]
          },
          "metadata": {
            "tags": []
          },
          "execution_count": 22
        }
      ]
    },
    {
      "cell_type": "markdown",
      "metadata": {
        "id": "x_KYRl-oFxDO",
        "colab_type": "text"
      },
      "source": [
        "### NMF - TFIDF"
      ]
    },
    {
      "cell_type": "code",
      "metadata": {
        "id": "NPuBcCqNx82w",
        "colab_type": "code",
        "colab": {}
      },
      "source": [
        "from sklearn.decomposition import NMF, LatentDirichletAllocation"
      ],
      "execution_count": null,
      "outputs": []
    },
    {
      "cell_type": "code",
      "metadata": {
        "id": "c2FCLKMZF_Le",
        "colab_type": "code",
        "colab": {}
      },
      "source": [
        "tfidf=TfidfVectorizer(ngram_range=(1,1))\n",
        "tfidf_words=tfidf.fit_transform(data[\"review\"])\n",
        "words=tfidf.get_feature_names()\n",
        "df_lda=pd.DataFrame(tfidf_words.toarray(),columns=words)\n"
      ],
      "execution_count": null,
      "outputs": []
    },
    {
      "cell_type": "code",
      "metadata": {
        "id": "k_jjxrIQD-z_",
        "colab_type": "code",
        "colab": {
          "base_uri": "https://localhost:8080/",
          "height": 180
        },
        "outputId": "67bfce25-a390-45c1-e38d-3b7e0a194866"
      },
      "source": [
        "nmf = NMF(n_components=10, random_state=1,\n",
        "          beta_loss='kullback-leibler', solver='mu', max_iter=1000, alpha=.1,\n",
        "          l1_ratio=.5).fit(tfidf_words)\n",
        "\n",
        "print_top_words(nmf,words,6)"
      ],
      "execution_count": null,
      "outputs": [
        {
          "output_type": "execute_result",
          "data": {
            "text/plain": [
              "[['good', 'one', 'normal', 'choic', 'isplay', 'choice'],\n",
              " ['nice', 'awsm', 'phones', 'samsang', 'cell', 'osm'],\n",
              " ['super', 'quality', 'camera', 'also', 'performance', 'love'],\n",
              " ['wesome', 'outstanding', 'perfomance', 'loving', 'slow', 'gaming'],\n",
              " ['best', 'samsung', 'price', 'loved', 'range', 'buy'],\n",
              " ['battery', 'camera', 'display', 'backup', 'poor', 'back'],\n",
              " ['superb', 'expected', 'great', 'got', 'galaxy', 'tq'],\n",
              " ['xcellent', 'flipkart', 'smartphone', 'love', 'excellent', 'thanks'],\n",
              " ['money', 'awesome', 'value', 'much', 'worth', 'delivery'],\n",
              " ['bad', 'ok', 'thank', 'worst', 'working', 'hangs']]"
            ]
          },
          "metadata": {
            "tags": []
          },
          "execution_count": 25
        }
      ]
    },
    {
      "cell_type": "markdown",
      "metadata": {
        "id": "sqYiKWUbIe6y",
        "colab_type": "text"
      },
      "source": [
        "#### NMF on topics obtained"
      ]
    },
    {
      "cell_type": "code",
      "metadata": {
        "id": "Q6W3YWG_HF_W",
        "colab_type": "code",
        "colab": {}
      },
      "source": [
        "arr=np.array(print_top_words(nmf,words,5)).reshape(1,-1)[0]"
      ],
      "execution_count": null,
      "outputs": []
    },
    {
      "cell_type": "code",
      "metadata": {
        "id": "VNjKgVluG5p4",
        "colab_type": "code",
        "colab": {
          "base_uri": "https://localhost:8080/",
          "height": 98
        },
        "outputId": "ede93450-bd03-4bfc-f765-7c69ac047f5d"
      },
      "source": [
        "tfidf=TfidfVectorizer(ngram_range=(1,2))\n",
        "tfidf_words=tfidf.fit_transform(arr)\n",
        "words=tfidf.get_feature_names()\n",
        "df_lda=pd.DataFrame(tfidf_words.toarray(),columns=words)\n",
        "nmf = NMF(n_components=5, random_state=1,\n",
        "          beta_loss='kullback-leibler', solver='mu', max_iter=1000, alpha=.1,\n",
        "          l1_ratio=.5).fit(tfidf_words)\n",
        "\n",
        "print_top_words(nmf,words,4)"
      ],
      "execution_count": null,
      "outputs": [
        {
          "output_type": "execute_result",
          "data": {
            "text/plain": [
              "[['camera', 'also', 'wesome', 'one'],\n",
              " ['quality', 'poor', 'worst', 'working'],\n",
              " ['xcellent', 'smartphone', 'cell', 'choic'],\n",
              " ['flipkart', 'awesome', 'backup', 'normal'],\n",
              " ['loving', 'money', 'awsm', 'worth']]"
            ]
          },
          "metadata": {
            "tags": []
          },
          "execution_count": 27
        }
      ]
    },
    {
      "cell_type": "markdown",
      "metadata": {
        "id": "MmR-p9FlF1vT",
        "colab_type": "text"
      },
      "source": [
        "### NMF - BOW"
      ]
    },
    {
      "cell_type": "code",
      "metadata": {
        "id": "JKNZWSVLE8Id",
        "colab_type": "code",
        "colab": {
          "base_uri": "https://localhost:8080/",
          "height": 82
        },
        "outputId": "0bb63a17-6d47-4655-ce08-88081b675ac5"
      },
      "source": [
        "bow=CountVectorizer(ngram_range=(1,1))\n",
        "bow_review=bow.fit_transform(data[\"review\"])\n",
        "df_bow=pd.DataFrame(bow_review.toarray(),columns=bow.get_feature_names())\n",
        "bow_words=bow.get_feature_names()\n",
        "nmf = NMF(n_components=4, random_state=1,\n",
        "          beta_loss='kullback-leibler', solver='mu', max_iter=1000, alpha=.1,\n",
        "          l1_ratio=.5).fit(bow_review)\n",
        "\n",
        "print_top_words(nmf,bow_words,4)"
      ],
      "execution_count": null,
      "outputs": [
        {
          "output_type": "execute_result",
          "data": {
            "text/plain": [
              "[['phone', 'battery', 'best', 'camera'],\n",
              " ['good', 'camera', 'samsung', 'price'],\n",
              " ['product', 'samsung', 'wesome', 'buy'],\n",
              " ['nice', 'mobile', 'phone', 'worst']]"
            ]
          },
          "metadata": {
            "tags": []
          },
          "execution_count": 120
        }
      ]
    },
    {
      "cell_type": "code",
      "metadata": {
        "id": "-aaADZT6S4mj",
        "colab_type": "code",
        "colab": {
          "base_uri": "https://localhost:8080/",
          "height": 391
        },
        "outputId": "cfdb2f4b-58a2-45d8-9cc1-6fa4df9f5cd6"
      },
      "source": [
        "topics=print_top_words(nmf,bow_words,5)\n",
        "topic=[\"topic_\"+str(i) for i  in range(0,nmf.n_components)]\n",
        "df_doc_topic=pd.DataFrame(np.round(nmf.transform(df_bow),2),columns=topic)\n",
        "dominant_topic = np.argmax(df_doc_topic.values, axis=1)\n",
        "df_doc_topic[\"dominant_topic\"] = dominant_topic\n",
        "df_doc_topic[\"review\"]=dataoriginal[\"review\"]\n",
        "df_doc_topic[\"dominant_topic_keywords\"]=[topics[i]  for i in dominant_topic]\n",
        "df_doc_topic"
      ],
      "execution_count": null,
      "outputs": [
        {
          "output_type": "execute_result",
          "data": {
            "text/html": [
              "<div>\n",
              "<style scoped>\n",
              "    .dataframe tbody tr th:only-of-type {\n",
              "        vertical-align: middle;\n",
              "    }\n",
              "\n",
              "    .dataframe tbody tr th {\n",
              "        vertical-align: top;\n",
              "    }\n",
              "\n",
              "    .dataframe thead th {\n",
              "        text-align: right;\n",
              "    }\n",
              "</style>\n",
              "<table border=\"1\" class=\"dataframe\">\n",
              "  <thead>\n",
              "    <tr style=\"text-align: right;\">\n",
              "      <th></th>\n",
              "      <th>topic_0</th>\n",
              "      <th>topic_1</th>\n",
              "      <th>topic_2</th>\n",
              "      <th>topic_3</th>\n",
              "      <th>dominant_topic</th>\n",
              "      <th>review</th>\n",
              "      <th>dominant_topic_keywords</th>\n",
              "    </tr>\n",
              "  </thead>\n",
              "  <tbody>\n",
              "    <tr>\n",
              "      <th>0</th>\n",
              "      <td>0.92</td>\n",
              "      <td>0.07</td>\n",
              "      <td>0.00</td>\n",
              "      <td>0.00</td>\n",
              "      <td>0</td>\n",
              "      <td>Bokeh mode is very excellent than any other ha...</td>\n",
              "      <td>[phone, battery, best, camera, display]</td>\n",
              "    </tr>\n",
              "    <tr>\n",
              "      <th>1</th>\n",
              "      <td>0.28</td>\n",
              "      <td>0.07</td>\n",
              "      <td>0.87</td>\n",
              "      <td>0.00</td>\n",
              "      <td>2</td>\n",
              "      <td>Just awsome product the picture quality is goo...</td>\n",
              "      <td>[product, samsung, wesome, buy, flipkart]</td>\n",
              "    </tr>\n",
              "    <tr>\n",
              "      <th>2</th>\n",
              "      <td>0.71</td>\n",
              "      <td>0.40</td>\n",
              "      <td>0.00</td>\n",
              "      <td>0.00</td>\n",
              "      <td>0</td>\n",
              "      <td>Samsung galaxy m30s is most useful.But Samsung...</td>\n",
              "      <td>[phone, battery, best, camera, display]</td>\n",
              "    </tr>\n",
              "    <tr>\n",
              "      <th>3</th>\n",
              "      <td>0.00</td>\n",
              "      <td>0.00</td>\n",
              "      <td>2.05</td>\n",
              "      <td>0.01</td>\n",
              "      <td>2</td>\n",
              "      <td>Not worth for me. i buy for my samsung tv this...</td>\n",
              "      <td>[product, samsung, wesome, buy, flipkart]</td>\n",
              "    </tr>\n",
              "    <tr>\n",
              "      <th>4</th>\n",
              "      <td>0.88</td>\n",
              "      <td>0.00</td>\n",
              "      <td>0.00</td>\n",
              "      <td>0.00</td>\n",
              "      <td>0</td>\n",
              "      <td>BSOLUTELY BEST PHONE, GO FOR THIS PHONELET ME ...</td>\n",
              "      <td>[phone, battery, best, camera, display]</td>\n",
              "    </tr>\n",
              "    <tr>\n",
              "      <th>...</th>\n",
              "      <td>...</td>\n",
              "      <td>...</td>\n",
              "      <td>...</td>\n",
              "      <td>...</td>\n",
              "      <td>...</td>\n",
              "      <td>...</td>\n",
              "      <td>...</td>\n",
              "    </tr>\n",
              "    <tr>\n",
              "      <th>293</th>\n",
              "      <td>0.04</td>\n",
              "      <td>0.00</td>\n",
              "      <td>0.00</td>\n",
              "      <td>0.00</td>\n",
              "      <td>0</td>\n",
              "      <td>okay</td>\n",
              "      <td>[phone, battery, best, camera, display]</td>\n",
              "    </tr>\n",
              "    <tr>\n",
              "      <th>294</th>\n",
              "      <td>0.04</td>\n",
              "      <td>0.07</td>\n",
              "      <td>0.06</td>\n",
              "      <td>0.26</td>\n",
              "      <td>3</td>\n",
              "      <td>Super style and good look nice product</td>\n",
              "      <td>[nice, mobile, phone, worst, delivery]</td>\n",
              "    </tr>\n",
              "    <tr>\n",
              "      <th>295</th>\n",
              "      <td>0.00</td>\n",
              "      <td>0.07</td>\n",
              "      <td>0.00</td>\n",
              "      <td>0.00</td>\n",
              "      <td>1</td>\n",
              "      <td>good</td>\n",
              "      <td>[good, camera, samsung, price, performance]</td>\n",
              "    </tr>\n",
              "    <tr>\n",
              "      <th>296</th>\n",
              "      <td>0.00</td>\n",
              "      <td>0.07</td>\n",
              "      <td>0.00</td>\n",
              "      <td>0.00</td>\n",
              "      <td>1</td>\n",
              "      <td>good</td>\n",
              "      <td>[good, camera, samsung, price, performance]</td>\n",
              "    </tr>\n",
              "    <tr>\n",
              "      <th>297</th>\n",
              "      <td>0.00</td>\n",
              "      <td>0.08</td>\n",
              "      <td>0.06</td>\n",
              "      <td>0.00</td>\n",
              "      <td>1</td>\n",
              "      <td>Good Product</td>\n",
              "      <td>[good, camera, samsung, price, performance]</td>\n",
              "    </tr>\n",
              "  </tbody>\n",
              "</table>\n",
              "<p>298 rows × 7 columns</p>\n",
              "</div>"
            ],
            "text/plain": [
              "     topic_0  ...                      dominant_topic_keywords\n",
              "0       0.92  ...      [phone, battery, best, camera, display]\n",
              "1       0.28  ...    [product, samsung, wesome, buy, flipkart]\n",
              "2       0.71  ...      [phone, battery, best, camera, display]\n",
              "3       0.00  ...    [product, samsung, wesome, buy, flipkart]\n",
              "4       0.88  ...      [phone, battery, best, camera, display]\n",
              "..       ...  ...                                          ...\n",
              "293     0.04  ...      [phone, battery, best, camera, display]\n",
              "294     0.04  ...       [nice, mobile, phone, worst, delivery]\n",
              "295     0.00  ...  [good, camera, samsung, price, performance]\n",
              "296     0.00  ...  [good, camera, samsung, price, performance]\n",
              "297     0.00  ...  [good, camera, samsung, price, performance]\n",
              "\n",
              "[298 rows x 7 columns]"
            ]
          },
          "metadata": {
            "tags": []
          },
          "execution_count": 124
        }
      ]
    },
    {
      "cell_type": "code",
      "metadata": {
        "id": "J9n-G4yaI9EM",
        "colab_type": "code",
        "colab": {
          "base_uri": "https://localhost:8080/",
          "height": 33
        },
        "outputId": "3e261ae2-657a-4fb1-bb7f-f06eded964f3"
      },
      "source": [
        "np.round(nmf.transform(bow_review),2).shape"
      ],
      "execution_count": null,
      "outputs": [
        {
          "output_type": "execute_result",
          "data": {
            "text/plain": [
              "(298, 10)"
            ]
          },
          "metadata": {
            "tags": []
          },
          "execution_count": 78
        }
      ]
    },
    {
      "cell_type": "code",
      "metadata": {
        "id": "kfeBwC_gOixa",
        "colab_type": "code",
        "colab": {
          "base_uri": "https://localhost:8080/",
          "height": 33
        },
        "outputId": "f300fb9f-67c1-431f-ea4f-26612fc34917"
      },
      "source": [
        "bow_review.shape"
      ],
      "execution_count": null,
      "outputs": [
        {
          "output_type": "execute_result",
          "data": {
            "text/plain": [
              "(298, 234)"
            ]
          },
          "metadata": {
            "tags": []
          },
          "execution_count": 80
        }
      ]
    },
    {
      "cell_type": "code",
      "metadata": {
        "id": "k460_isFM6Ez",
        "colab_type": "code",
        "colab": {
          "base_uri": "https://localhost:8080/",
          "height": 33
        },
        "outputId": "ae2c31ec-5154-41e1-d0c3-8a27bd2df004"
      },
      "source": [
        "nmf.components_.shape"
      ],
      "execution_count": null,
      "outputs": [
        {
          "output_type": "execute_result",
          "data": {
            "text/plain": [
              "(10, 234)"
            ]
          },
          "metadata": {
            "tags": []
          },
          "execution_count": 79
        }
      ]
    },
    {
      "cell_type": "code",
      "metadata": {
        "id": "RfOgn0dNH9TG",
        "colab_type": "code",
        "colab": {}
      },
      "source": [
        "topics=print_top_words(nmf,bow_words,)\n",
        "topic=[\"topic_\"+str(i) for i  in range(0,nmf.n_components)]\n",
        "df_doc_topic=pd.DataFrame(np.round(nmf.transform(df_bow),2),columns=topic)\n",
        "dominant_topic = np.argmax(df_doc_topic.values, axis=1)\n",
        "df_doc_topic[\"dominant_topic\"] = dominant_topic\n",
        "df_doc_topic[\"review\"]=dataoriginal[\"review\"]\n",
        "df_doc_topic[\"dominant_topic_keywords\"]=[topics[i]  for i in dominant_topic]"
      ],
      "execution_count": null,
      "outputs": []
    },
    {
      "cell_type": "markdown",
      "metadata": {
        "id": "DAML-k3wJndV",
        "colab_type": "text"
      },
      "source": [
        "#### NMF on topics obtained ------------------------------------------"
      ]
    },
    {
      "cell_type": "code",
      "metadata": {
        "id": "hye7Md1gI1so",
        "colab_type": "code",
        "colab": {
          "base_uri": "https://localhost:8080/",
          "height": 66
        },
        "outputId": "4e0d02ab-7aea-475e-b5f0-43fdba52b84d"
      },
      "source": [
        "### extrating topics\n",
        "arr=np.array(print_top_words(nmf,bow.get_feature_names(),5)).reshape(1,-1)[0]\n",
        "bow=CountVectorizer(ngram_range=(1,1))\n",
        "bow_review=bow.fit_transform(arr)\n",
        "df_bow=pd.DataFrame(bow_review.toarray(),columns=bow.get_feature_names())\n",
        "nmf = NMF(n_components=3, random_state=1,\n",
        "          beta_loss='kullback-leibler', solver='mu', max_iter=1000, alpha=.1,\n",
        "          l1_ratio=.5).fit(bow_review)\n",
        "bow_words=bow.get_feature_names()\n",
        "print_top_words(nmf,bow_words,4)"
      ],
      "execution_count": null,
      "outputs": [
        {
          "output_type": "execute_result",
          "data": {
            "text/plain": [
              "[['battery', 'flipkart', 'also', 'power'],\n",
              " ['camera', '12', '2020', 'quality'],\n",
              " ['buy', '3rd', 'better', 'competition']]"
            ]
          },
          "metadata": {
            "tags": []
          },
          "execution_count": 119
        }
      ]
    },
    {
      "cell_type": "code",
      "metadata": {
        "id": "pELL4VpTRdj4",
        "colab_type": "code",
        "colab": {
          "base_uri": "https://localhost:8080/",
          "height": 622
        },
        "outputId": "f3b66dc2-24c4-4eda-ed5e-12a2a87cacd7"
      },
      "source": [
        "topics=print_top_words(nmf,bow_words,4)\n",
        "topic=[\"topic_\"+str(i) for i  in range(0,nmf.n_components)]\n",
        "df_doc_topic=pd.DataFrame(np.round(nmf.transform(df_bow),2),columns=topic)\n",
        "dominant_topic = np.argmax(df_doc_topic.values, axis=1)\n",
        "df_doc_topic[\"dominant_topic\"] = dominant_topic\n",
        "df_doc_topic[\"review\"]=dataoriginal[\"review\"]\n",
        "df_doc_topic[\"dominant_topic_keywords\"]=[topics[i]  for i in dominant_topic]\n",
        "df_doc_topic#[[\"review\",\"dominant_topic_keywords\",\"dominant_topic\"]]"
      ],
      "execution_count": null,
      "outputs": [
        {
          "output_type": "execute_result",
          "data": {
            "text/html": [
              "<div>\n",
              "<style scoped>\n",
              "    .dataframe tbody tr th:only-of-type {\n",
              "        vertical-align: middle;\n",
              "    }\n",
              "\n",
              "    .dataframe tbody tr th {\n",
              "        vertical-align: top;\n",
              "    }\n",
              "\n",
              "    .dataframe thead th {\n",
              "        text-align: right;\n",
              "    }\n",
              "</style>\n",
              "<table border=\"1\" class=\"dataframe\">\n",
              "  <thead>\n",
              "    <tr style=\"text-align: right;\">\n",
              "      <th></th>\n",
              "      <th>topic_0</th>\n",
              "      <th>topic_1</th>\n",
              "      <th>topic_2</th>\n",
              "      <th>dominant_topic</th>\n",
              "      <th>review</th>\n",
              "      <th>dominant_topic_keywords</th>\n",
              "    </tr>\n",
              "  </thead>\n",
              "  <tbody>\n",
              "    <tr>\n",
              "      <th>0</th>\n",
              "      <td>0.00</td>\n",
              "      <td>0.28</td>\n",
              "      <td>0.00</td>\n",
              "      <td>1</td>\n",
              "      <td>Bokeh mode is very excellent than any other ha...</td>\n",
              "      <td>[xcellent, value, quality, performance]</td>\n",
              "    </tr>\n",
              "    <tr>\n",
              "      <th>1</th>\n",
              "      <td>0.00</td>\n",
              "      <td>0.00</td>\n",
              "      <td>0.25</td>\n",
              "      <td>2</td>\n",
              "      <td>Just awsome product the picture quality is goo...</td>\n",
              "      <td>[experience, backup, use, budget]</td>\n",
              "    </tr>\n",
              "    <tr>\n",
              "      <th>2</th>\n",
              "      <td>0.00</td>\n",
              "      <td>0.00</td>\n",
              "      <td>0.25</td>\n",
              "      <td>2</td>\n",
              "      <td>Samsung galaxy m30s is most useful.But Samsung...</td>\n",
              "      <td>[experience, backup, use, budget]</td>\n",
              "    </tr>\n",
              "    <tr>\n",
              "      <th>3</th>\n",
              "      <td>0.28</td>\n",
              "      <td>0.00</td>\n",
              "      <td>0.00</td>\n",
              "      <td>0</td>\n",
              "      <td>Not worth for me. i buy for my samsung tv this...</td>\n",
              "      <td>[love, hand, battery, superb]</td>\n",
              "    </tr>\n",
              "    <tr>\n",
              "      <th>4</th>\n",
              "      <td>0.28</td>\n",
              "      <td>0.00</td>\n",
              "      <td>0.00</td>\n",
              "      <td>0</td>\n",
              "      <td>BSOLUTELY BEST PHONE, GO FOR THIS PHONELET ME ...</td>\n",
              "      <td>[love, hand, battery, superb]</td>\n",
              "    </tr>\n",
              "    <tr>\n",
              "      <th>5</th>\n",
              "      <td>0.00</td>\n",
              "      <td>0.00</td>\n",
              "      <td>0.25</td>\n",
              "      <td>2</td>\n",
              "      <td>I have realized that this phone is full packag...</td>\n",
              "      <td>[experience, backup, use, budget]</td>\n",
              "    </tr>\n",
              "    <tr>\n",
              "      <th>6</th>\n",
              "      <td>0.28</td>\n",
              "      <td>0.00</td>\n",
              "      <td>0.00</td>\n",
              "      <td>0</td>\n",
              "      <td>one of the good phone in this price range , th...</td>\n",
              "      <td>[love, hand, battery, superb]</td>\n",
              "    </tr>\n",
              "    <tr>\n",
              "      <th>7</th>\n",
              "      <td>0.00</td>\n",
              "      <td>0.00</td>\n",
              "      <td>0.25</td>\n",
              "      <td>2</td>\n",
              "      <td>Nice mobile and it comes good battery back up....</td>\n",
              "      <td>[experience, backup, use, budget]</td>\n",
              "    </tr>\n",
              "    <tr>\n",
              "      <th>8</th>\n",
              "      <td>0.00</td>\n",
              "      <td>0.00</td>\n",
              "      <td>0.25</td>\n",
              "      <td>2</td>\n",
              "      <td>Been using this phone for more than 4 months n...</td>\n",
              "      <td>[experience, backup, use, budget]</td>\n",
              "    </tr>\n",
              "    <tr>\n",
              "      <th>9</th>\n",
              "      <td>0.00</td>\n",
              "      <td>0.28</td>\n",
              "      <td>0.00</td>\n",
              "      <td>1</td>\n",
              "      <td>This phone is works excellent so far after (6 ...</td>\n",
              "      <td>[xcellent, value, quality, performance]</td>\n",
              "    </tr>\n",
              "    <tr>\n",
              "      <th>10</th>\n",
              "      <td>0.00</td>\n",
              "      <td>0.28</td>\n",
              "      <td>0.00</td>\n",
              "      <td>1</td>\n",
              "      <td>super camera</td>\n",
              "      <td>[xcellent, value, quality, performance]</td>\n",
              "    </tr>\n",
              "    <tr>\n",
              "      <th>11</th>\n",
              "      <td>0.28</td>\n",
              "      <td>0.00</td>\n",
              "      <td>0.00</td>\n",
              "      <td>0</td>\n",
              "      <td>superb battery backup 👌</td>\n",
              "      <td>[love, hand, battery, superb]</td>\n",
              "    </tr>\n",
              "    <tr>\n",
              "      <th>12</th>\n",
              "      <td>0.00</td>\n",
              "      <td>0.28</td>\n",
              "      <td>0.00</td>\n",
              "      <td>1</td>\n",
              "      <td>the phone awesome....</td>\n",
              "      <td>[xcellent, value, quality, performance]</td>\n",
              "    </tr>\n",
              "    <tr>\n",
              "      <th>13</th>\n",
              "      <td>0.00</td>\n",
              "      <td>0.00</td>\n",
              "      <td>0.25</td>\n",
              "      <td>2</td>\n",
              "      <td>Nice mobile</td>\n",
              "      <td>[experience, backup, use, budget]</td>\n",
              "    </tr>\n",
              "    <tr>\n",
              "      <th>14</th>\n",
              "      <td>0.28</td>\n",
              "      <td>0.00</td>\n",
              "      <td>0.00</td>\n",
              "      <td>0</td>\n",
              "      <td>very good camera and display</td>\n",
              "      <td>[love, hand, battery, superb]</td>\n",
              "    </tr>\n",
              "    <tr>\n",
              "      <th>15</th>\n",
              "      <td>0.00</td>\n",
              "      <td>0.28</td>\n",
              "      <td>0.00</td>\n",
              "      <td>1</td>\n",
              "      <td>very nice set</td>\n",
              "      <td>[xcellent, value, quality, performance]</td>\n",
              "    </tr>\n",
              "    <tr>\n",
              "      <th>16</th>\n",
              "      <td>0.00</td>\n",
              "      <td>0.28</td>\n",
              "      <td>0.00</td>\n",
              "      <td>1</td>\n",
              "      <td>Best Mobile Best Camera and Battry is so power...</td>\n",
              "      <td>[xcellent, value, quality, performance]</td>\n",
              "    </tr>\n",
              "    <tr>\n",
              "      <th>17</th>\n",
              "      <td>0.28</td>\n",
              "      <td>0.00</td>\n",
              "      <td>0.00</td>\n",
              "      <td>0</td>\n",
              "      <td>really good product... satisfied...thank you.....</td>\n",
              "      <td>[love, hand, battery, superb]</td>\n",
              "    </tr>\n",
              "    <tr>\n",
              "      <th>18</th>\n",
              "      <td>0.00</td>\n",
              "      <td>0.00</td>\n",
              "      <td>0.25</td>\n",
              "      <td>2</td>\n",
              "      <td>super</td>\n",
              "      <td>[experience, backup, use, budget]</td>\n",
              "    </tr>\n",
              "    <tr>\n",
              "      <th>19</th>\n",
              "      <td>0.00</td>\n",
              "      <td>0.00</td>\n",
              "      <td>0.25</td>\n",
              "      <td>2</td>\n",
              "      <td>not bad</td>\n",
              "      <td>[experience, backup, use, budget]</td>\n",
              "    </tr>\n",
              "  </tbody>\n",
              "</table>\n",
              "</div>"
            ],
            "text/plain": [
              "    topic_0  ...                  dominant_topic_keywords\n",
              "0      0.00  ...  [xcellent, value, quality, performance]\n",
              "1      0.00  ...        [experience, backup, use, budget]\n",
              "2      0.00  ...        [experience, backup, use, budget]\n",
              "3      0.28  ...            [love, hand, battery, superb]\n",
              "4      0.28  ...            [love, hand, battery, superb]\n",
              "5      0.00  ...        [experience, backup, use, budget]\n",
              "6      0.28  ...            [love, hand, battery, superb]\n",
              "7      0.00  ...        [experience, backup, use, budget]\n",
              "8      0.00  ...        [experience, backup, use, budget]\n",
              "9      0.00  ...  [xcellent, value, quality, performance]\n",
              "10     0.00  ...  [xcellent, value, quality, performance]\n",
              "11     0.28  ...            [love, hand, battery, superb]\n",
              "12     0.00  ...  [xcellent, value, quality, performance]\n",
              "13     0.00  ...        [experience, backup, use, budget]\n",
              "14     0.28  ...            [love, hand, battery, superb]\n",
              "15     0.00  ...  [xcellent, value, quality, performance]\n",
              "16     0.00  ...  [xcellent, value, quality, performance]\n",
              "17     0.28  ...            [love, hand, battery, superb]\n",
              "18     0.00  ...        [experience, backup, use, budget]\n",
              "19     0.00  ...        [experience, backup, use, budget]\n",
              "\n",
              "[20 rows x 6 columns]"
            ]
          },
          "metadata": {
            "tags": []
          },
          "execution_count": 95
        }
      ]
    },
    {
      "cell_type": "code",
      "metadata": {
        "id": "dLbr6fElRa1X",
        "colab_type": "code",
        "colab": {}
      },
      "source": [
        ""
      ],
      "execution_count": null,
      "outputs": []
    }
  ]
}