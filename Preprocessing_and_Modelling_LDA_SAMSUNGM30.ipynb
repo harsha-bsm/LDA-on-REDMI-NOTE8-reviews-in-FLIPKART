{
  "nbformat": 4,
  "nbformat_minor": 0,
  "metadata": {
    "colab": {
      "name": "Preprocessing and Modelling LDA SAMSUNGM30.ipynb",
      "provenance": [],
      "toc_visible": true,
      "authorship_tag": "ABX9TyPTMFUbkN4tZOsEQvAkDkZp",
      "include_colab_link": true
    },
    "kernelspec": {
      "name": "python3",
      "display_name": "Python 3"
    }
  },
  "cells": [
    {
      "cell_type": "markdown",
      "metadata": {
        "id": "view-in-github",
        "colab_type": "text"
      },
      "source": [
        "<a href=\"https://colab.research.google.com/github/harsha-bsm/LDA-on-REDMI-NOTE8-reviews-in-FLIPKART/blob/master/Preprocessing_and_Modelling_LDA_SAMSUNGM30.ipynb\" target=\"_parent\"><img src=\"https://colab.research.google.com/assets/colab-badge.svg\" alt=\"Open In Colab\"/></a>"
      ]
    },
    {
      "cell_type": "code",
      "metadata": {
        "id": "SKILHH8iQvAX",
        "colab_type": "code",
        "colab": {}
      },
      "source": [
        "import re\n",
        "import numpy as np\n",
        "import pandas as pd"
      ],
      "execution_count": null,
      "outputs": []
    },
    {
      "cell_type": "code",
      "metadata": {
        "id": "JKxaHbb_RD91",
        "colab_type": "code",
        "colab": {}
      },
      "source": [
        "data=pd.read_csv(\"samsungdata.csv\")"
      ],
      "execution_count": null,
      "outputs": []
    },
    {
      "cell_type": "code",
      "metadata": {
        "id": "ekk77JUsRIHZ",
        "colab_type": "code",
        "colab": {
          "base_uri": "https://localhost:8080/",
          "height": 288
        },
        "outputId": "c254697c-2d19-4eb2-a6a6-f45b05cf8438"
      },
      "source": [
        "data.head()"
      ],
      "execution_count": null,
      "outputs": [
        {
          "output_type": "execute_result",
          "data": {
            "text/html": [
              "<div>\n",
              "<style scoped>\n",
              "    .dataframe tbody tr th:only-of-type {\n",
              "        vertical-align: middle;\n",
              "    }\n",
              "\n",
              "    .dataframe tbody tr th {\n",
              "        vertical-align: top;\n",
              "    }\n",
              "\n",
              "    .dataframe thead th {\n",
              "        text-align: right;\n",
              "    }\n",
              "</style>\n",
              "<table border=\"1\" class=\"dataframe\">\n",
              "  <thead>\n",
              "    <tr style=\"text-align: right;\">\n",
              "      <th></th>\n",
              "      <th>Unnamed: 0</th>\n",
              "      <th>Model</th>\n",
              "      <th>rating</th>\n",
              "      <th>user</th>\n",
              "      <th>time_of_review</th>\n",
              "      <th>review</th>\n",
              "      <th>title</th>\n",
              "      <th>user_address</th>\n",
              "      <th>user_type</th>\n",
              "    </tr>\n",
              "  </thead>\n",
              "  <tbody>\n",
              "    <tr>\n",
              "      <th>0</th>\n",
              "      <td>0</td>\n",
              "      <td>Samsung Galaxy M30s Blue 128 Gb Reviews: Lates...</td>\n",
              "      <td>5</td>\n",
              "      <td>Aryan  Patil</td>\n",
              "      <td>2months ago</td>\n",
              "      <td>Bokeh mode is very excellent than any other ha...</td>\n",
              "      <td>Wonderful</td>\n",
              "      <td>Latur District</td>\n",
              "      <td>Certified Buyer</td>\n",
              "    </tr>\n",
              "    <tr>\n",
              "      <th>1</th>\n",
              "      <td>1</td>\n",
              "      <td>Samsung Galaxy M30s Blue 128 Gb Reviews: Lates...</td>\n",
              "      <td>5</td>\n",
              "      <td>Flipkart Customer</td>\n",
              "      <td>5months ago</td>\n",
              "      <td>Just awsome product the picture quality is goo...</td>\n",
              "      <td>Great product</td>\n",
              "      <td>North Twenty Four Parganas District</td>\n",
              "      <td>Certified Buyer</td>\n",
              "    </tr>\n",
              "    <tr>\n",
              "      <th>2</th>\n",
              "      <td>2</td>\n",
              "      <td>Samsung Galaxy M30s Blue 128 Gb Reviews: Lates...</td>\n",
              "      <td>4</td>\n",
              "      <td>Suresh Kumar</td>\n",
              "      <td>5months ago</td>\n",
              "      <td>Samsung galaxy m30s is most useful.But Samsung...</td>\n",
              "      <td>Nice product</td>\n",
              "      <td>New Delhi</td>\n",
              "      <td>Certified Buyer</td>\n",
              "    </tr>\n",
              "    <tr>\n",
              "      <th>3</th>\n",
              "      <td>3</td>\n",
              "      <td>Samsung Galaxy M30s Blue 128 Gb Reviews: Lates...</td>\n",
              "      <td>1</td>\n",
              "      <td>Rohit Purba</td>\n",
              "      <td>6months ago</td>\n",
              "      <td>Not worth for me. i buy for my samsung tv this...</td>\n",
              "      <td>Utterly Disappointed</td>\n",
              "      <td>Rajpura</td>\n",
              "      <td>Certified Buyer</td>\n",
              "    </tr>\n",
              "    <tr>\n",
              "      <th>4</th>\n",
              "      <td>4</td>\n",
              "      <td>Samsung Galaxy M30s Blue 128 Gb Reviews: Lates...</td>\n",
              "      <td>5</td>\n",
              "      <td>Flipkart Customer</td>\n",
              "      <td>5months ago</td>\n",
              "      <td>BSOLUTELY BEST PHONE, GO FOR THIS PHONELET ME ...</td>\n",
              "      <td>Highly recommended</td>\n",
              "      <td>Muzaffarpur</td>\n",
              "      <td>Certified Buyer</td>\n",
              "    </tr>\n",
              "  </tbody>\n",
              "</table>\n",
              "</div>"
            ],
            "text/plain": [
              "   Unnamed: 0  ...        user_type\n",
              "0           0  ...  Certified Buyer\n",
              "1           1  ...  Certified Buyer\n",
              "2           2  ...  Certified Buyer\n",
              "3           3  ...  Certified Buyer\n",
              "4           4  ...  Certified Buyer\n",
              "\n",
              "[5 rows x 9 columns]"
            ]
          },
          "metadata": {
            "tags": []
          },
          "execution_count": 131
        }
      ]
    },
    {
      "cell_type": "code",
      "metadata": {
        "id": "sG6MbHUhwYKB",
        "colab_type": "code",
        "colab": {
          "base_uri": "https://localhost:8080/",
          "height": 33
        },
        "outputId": "eaa4a7c0-cafa-4d4f-af5f-c17e1db13baf"
      },
      "source": [
        "pip install emot "
      ],
      "execution_count": null,
      "outputs": [
        {
          "output_type": "stream",
          "text": [
            "Requirement already satisfied: emot in /usr/local/lib/python3.6/dist-packages (2.1)\n"
          ],
          "name": "stdout"
        }
      ]
    },
    {
      "cell_type": "code",
      "metadata": {
        "id": "Tmly-l1OeLL-",
        "colab_type": "code",
        "colab": {}
      },
      "source": [
        "####### Apply emoticons and emojis\n",
        "\n",
        "from emot.emo_unicode import UNICODE_EMO, EMOTICONS # contains english text of emojis and emoticons in dict format \n",
        "def convert_emojis(review):\n",
        "  for x in review:\n",
        "    if x in UNICODE_EMO.keys():\n",
        "      review=review.replace(x,\"\")\n",
        "  return review"
      ],
      "execution_count": null,
      "outputs": []
    },
    {
      "cell_type": "code",
      "metadata": {
        "id": "Wo1mbD4XSbID",
        "colab_type": "code",
        "colab": {}
      },
      "source": [
        "#converting all basic contracted foms  \n",
        "def decontracted(phrase):\n",
        "    # specific\n",
        "    phrase = re.sub(r\"won't\", \"will not\", phrase)\n",
        "    phrase = re.sub(r\"can\\'t\", \"can not\", phrase)\n",
        "\n",
        "    # general\n",
        "    phrase = re.sub(r\"n\\'t\", \" not\", phrase)\n",
        "    phrase = re.sub(r\"\\'re\", \" are\", phrase)\n",
        "    phrase = re.sub(r\"\\'s\", \" is\", phrase)\n",
        "    phrase = re.sub(r\"\\'d\", \" would\", phrase)\n",
        "    phrase = re.sub(r\"\\'ll\", \" will\", phrase)\n",
        "    phrase = re.sub(r\"\\'t\", \" not\", phrase)\n",
        "    phrase = re.sub(r\"\\'ve\", \" have\", phrase)\n",
        "    phrase = re.sub(r\"\\'m\", \" am\", phrase)\n",
        "    return phrase"
      ],
      "execution_count": null,
      "outputs": []
    },
    {
      "cell_type": "code",
      "metadata": {
        "id": "9h47xg15Y5cQ",
        "colab_type": "code",
        "colab": {}
      },
      "source": [
        "#removing special characters and tabs ,spaces,new lines etc..\n",
        "def removecharacters(review):\n",
        "  review= re.sub('[^A-Za-z0-9]+',' ',review)  #anything exept numbers and alphabets, replace them with space\n",
        "  review=re.sub(r\"\\n\",\" \",review)  #new lines into space\n",
        "  review=re.sub(r\"\\t\",\" \",review)  #tabs into space\n",
        "  review=re.sub(r\"\\v\",\" \",review)  #vertical tab into space\n",
        "  review=re.sub(r\"\\s\",\" \",review)   #all extra spaces into single space\n",
        "  return review  \n"
      ],
      "execution_count": null,
      "outputs": []
    },
    {
      "cell_type": "code",
      "metadata": {
        "id": "KqOCmax8PTwB",
        "colab_type": "code",
        "colab": {}
      },
      "source": [
        "# https://gist.github.com/sebleier/554280\n",
        "# we are removing the words from the stop words list: 'no', 'nor', 'not'\n",
        "# <br /><br /> ==> after the above steps, we are getting \"br br\"\n",
        "# we are including them into stop words list\n",
        "# instead of <br /> if we have <br/> these tags would have revmoved in the 1st step\n",
        "# ignore words like won't, haven't etc.. We have already taken care of them\n",
        "\n",
        "stopword= set(['br', 'the', 'i', 'me', 'my', 'myself', 'we', 'our', 'ours', 'ourselves', 'you', \"you're\", \"you've\",\\\n",
        "            \"you'll\", \"you'd\", 'your', 'yours', 'yourself', 'yourselves', 'he', 'him', 'his', 'himself', \\\n",
        "            'she', \"she's\", 'her', 'hers', 'herself', 'it', \"it's\", 'its', 'itself', 'they', 'them', 'their',\\\n",
        "            'theirs', 'themselves', 'what', 'which', 'who', 'whom', 'this', 'that', \"that'll\", 'these', 'those', \\\n",
        "            'am', 'is', 'are', 'was', 'were', 'be', 'been', 'being', 'have', 'has', 'had', 'having', 'do', 'does', \\\n",
        "            'did', 'doing', 'a', 'an', 'the', 'and', 'but', 'if', 'or', 'because', 'as', 'until', 'while', 'of', \\\n",
        "            'at', 'by', 'for', 'with', 'about', 'against', 'between', 'into', 'through', 'during', 'before', 'after',\\\n",
        "            'above', 'below', 'to', 'from', 'up', 'down', 'in', 'out', 'on', 'off', 'over', 'under', 'again', 'further',\\\n",
        "            'then', 'once', 'here', 'there', 'when', 'where', 'why', 'how', 'all', 'any', 'both', 'each', 'few', 'more',\\\n",
        "            'most', 'other', 'some', 'such', 'only', 'own', 'same', 'so', 'than', 'too', 'very', \\\n",
        "            's', 't', 'can', 'will', 'just', 'don', \"don't\", 'should', \"should've\", 'now', 'd', 'll', 'm', 'o', 're', \\\n",
        "            've', 'y', 'ain', 'aren', \"aren't\", 'couldn', \"couldn't\", 'didn', \"didn't\", 'doesn', \"doesn't\", 'hadn',\\\n",
        "            \"hadn't\", 'hasn', \"hasn't\", 'haven', \"haven't\", 'isn', \"isn't\", 'ma', 'mightn', \"mightn't\", 'mustn',\\\n",
        "            \"mustn't\", 'needn', \"needn't\", 'shan', \"shan't\", 'shouldn', \"shouldn't\", 'wasn', \"wasn't\", 'weren', \"weren't\", \\\n",
        "            'won', \"won't\", 'wouldn', \"wouldn't\",\"not\",\"phone\",\"product\",\"mobile\"])"
      ],
      "execution_count": null,
      "outputs": []
    },
    {
      "cell_type": "code",
      "metadata": {
        "id": "dvdqs46FPVHt",
        "colab_type": "code",
        "colab": {}
      },
      "source": [
        "from nltk.corpus import stopwords\n",
        "import nltk"
      ],
      "execution_count": null,
      "outputs": []
    },
    {
      "cell_type": "code",
      "metadata": {
        "id": "Eq00AK2cbPEL",
        "colab_type": "code",
        "colab": {}
      },
      "source": [
        ""
      ],
      "execution_count": null,
      "outputs": []
    },
    {
      "cell_type": "code",
      "metadata": {
        "id": "bKJvsyw6biTI",
        "colab_type": "code",
        "colab": {}
      },
      "source": [
        "def removestopwords(review):\n",
        "  return \" \".join([word for word in review.split(\" \") if not word in stopword])\n"
      ],
      "execution_count": null,
      "outputs": []
    },
    {
      "cell_type": "code",
      "metadata": {
        "id": "TPvMpNFqyyQ3",
        "colab_type": "code",
        "colab": {}
      },
      "source": [
        "data[\"review\"]=data[\"review\"].apply(lambda x:convert_emojis(x))\n",
        "data[\"review\"]=data[\"review\"].apply(lambda x:x.lower()) \n",
        "data[\"review\"]=data[\"review\"].apply(lambda x:decontracted(x))\n",
        "data[\"review\"]=data[\"review\"].apply(lambda x:removecharacters(x))\n",
        "data[\"review\"]=pd.DataFrame(data[\"review\"].apply(lambda x:removestopwords(x)))"
      ],
      "execution_count": null,
      "outputs": []
    },
    {
      "cell_type": "code",
      "metadata": {
        "id": "nauyKC-nZur6",
        "colab_type": "code",
        "colab": {
          "base_uri": "https://localhost:8080/",
          "height": 212
        },
        "outputId": "2addaf88-bcdd-4032-d640-b4df05a112b5"
      },
      "source": [
        "data[\"review\"]"
      ],
      "execution_count": null,
      "outputs": [
        {
          "output_type": "execute_result",
          "data": {
            "text/plain": [
              "0      bokeh mode excellent handset budget battery ca...\n",
              "1      awsome picture quality good battery backup aws...\n",
              "2      samsung galaxy m30s useful samsung improve sel...\n",
              "3      worth buy samsung tv live cast smartthins app ...\n",
              "4      bsolutely best go phonelet clear features1 cam...\n",
              "                             ...                        \n",
              "293                                                 okay\n",
              "294                           super style good look nice\n",
              "295                                                 good\n",
              "296                                                 good\n",
              "297                                                 good\n",
              "Name: review, Length: 298, dtype: object"
            ]
          },
          "metadata": {
            "tags": []
          },
          "execution_count": 140
        }
      ]
    },
    {
      "cell_type": "code",
      "metadata": {
        "id": "1bhn9-ETgvLb",
        "colab_type": "code",
        "colab": {}
      },
      "source": [
        "from sklearn.feature_extraction.text import TfidfTransformer\n",
        "from sklearn.feature_extraction.text import TfidfVectorizer\n",
        "from sklearn.feature_extraction.text import CountVectorizer\n",
        "from gensim.models import ldamodel\n",
        "import gensim.corpora\n",
        "from sklearn.decomposition import LatentDirichletAllocation"
      ],
      "execution_count": null,
      "outputs": []
    },
    {
      "cell_type": "code",
      "metadata": {
        "id": "kd3CmQ9Ng0lG",
        "colab_type": "code",
        "colab": {}
      },
      "source": [
        "#https://scikit-learn.org/stable/auto_examples/applications/plot_topics_extraction_with_nmf_lda.html#sphx-glr-auto-examples-applications-plot-topics-extraction-with-nmf-lda-py\n",
        "def print_top_words(model, feature_names, n_top_words):\n",
        "  topics_cluster=[]\n",
        "  for topic_idx, topic in enumerate(model.components_):\n",
        "      message = \"Topic #%d: \" % topic_idx\n",
        "      message += \",\".join([feature_names[i] for i in topic.argsort()[:-n_top_words - 1:-1]])\n",
        "      topics_cluster.append([feature_names[i] for i in topic.argsort()[:-n_top_words - 1:-1]])\n",
        "  return topics_cluster\n",
        "  "
      ],
      "execution_count": null,
      "outputs": []
    },
    {
      "cell_type": "markdown",
      "metadata": {
        "id": "MC42q3qFC20J",
        "colab_type": "text"
      },
      "source": [
        "### BOW and LDA "
      ]
    },
    {
      "cell_type": "code",
      "metadata": {
        "id": "vafbxMu-OY_n",
        "colab_type": "code",
        "colab": {
          "base_uri": "https://localhost:8080/",
          "height": 261
        },
        "outputId": "cb371f4f-c863-40c7-9104-3527b45dd856"
      },
      "source": [
        "bow=CountVectorizer(ngram_range=(1,2))\n",
        "bow_review=bow.fit_transform(data[\"review\"])\n",
        "df_bow=pd.DataFrame(bow_review.toarray(),columns=bow.get_feature_names())\n",
        "lda = LatentDirichletAllocation(n_components=15,random_state=0)\n",
        "lda.fit_transform(df_bow)\n",
        "print_top_words(lda,bow.get_feature_names(),5)"
      ],
      "execution_count": null,
      "outputs": [
        {
          "output_type": "execute_result",
          "data": {
            "text/plain": [
              "[['wesome', 'bad', 'thanks', 'xcellent', 'love'],\n",
              " ['good', 'battery', 'xcellent', 'excellent', 'display'],\n",
              " ['no', 'best', 'use', 'hangs', 'nice'],\n",
              " ['good', 'poor', 'camera good', 'camera', 'hand'],\n",
              " ['camera', 'money', 'awesome', 'wesome', 'worth money'],\n",
              " ['samsung', 'buy', 'best', 'buy online', 'online'],\n",
              " ['good', 'samsung', 'nice', 'best', 'loved'],\n",
              " ['good', 'battery', 'battery backup', 'backup', 'expected'],\n",
              " ['good', 'quality', 'camera', 'price', 'battery'],\n",
              " ['nice', 'good', 'battery', 'camera', 'thanks'],\n",
              " ['superb', 'hours', 'display', 'best', 'battery'],\n",
              " ['super', 'battery', 'battery life', 'life', 'best'],\n",
              " ['great', 'flipkart', 'worst', 'phones', 'camera'],\n",
              " ['switch', 'camera quality', 'per', 'quality', 'though'],\n",
              " ['best', 'good', 'battery', 'camera', 'awsome']]"
            ]
          },
          "metadata": {
            "tags": []
          },
          "execution_count": 143
        }
      ]
    },
    {
      "cell_type": "code",
      "metadata": {
        "id": "D40w2qGb5roz",
        "colab_type": "code",
        "colab": {}
      },
      "source": [
        ""
      ],
      "execution_count": null,
      "outputs": []
    },
    {
      "cell_type": "markdown",
      "metadata": {
        "id": "r2NFr5TOIBos",
        "colab_type": "text"
      },
      "source": [
        "#### LDA on topics obtained"
      ]
    },
    {
      "cell_type": "code",
      "metadata": {
        "id": "JYE7_ILB4NSz",
        "colab_type": "code",
        "colab": {
          "base_uri": "https://localhost:8080/",
          "height": 82
        },
        "outputId": "83b7d6a6-973f-403d-b866-1ea83f4a136c"
      },
      "source": [
        "arr=np.array(print_top_words(lda,bow.get_feature_names(),5)).reshape(1,-1)[0]\n",
        "bow=CountVectorizer(ngram_range=(1,2))\n",
        "bow_review=bow.fit_transform(arr)\n",
        "df_bow=pd.DataFrame(bow_review.toarray(),columns=bow.get_feature_names())\n",
        "lda = LatentDirichletAllocation(n_components=4,random_state=0)\n",
        "lda.fit_transform(df_bow)\n",
        "print_top_words(lda,bow.get_feature_names(),4)\n"
      ],
      "execution_count": null,
      "outputs": [
        {
          "output_type": "execute_result",
          "data": {
            "text/plain": [
              "[['good', 'camera', 'backup', 'display'],\n",
              " ['best', 'money', 'quality', 'worth'],\n",
              " ['nice', 'xcellent', 'great', 'loved'],\n",
              " ['battery', 'online', 'buy', 'samsung']]"
            ]
          },
          "metadata": {
            "tags": []
          },
          "execution_count": 144
        }
      ]
    },
    {
      "cell_type": "markdown",
      "metadata": {
        "id": "JiEX5nqf0HW3",
        "colab_type": "text"
      },
      "source": [
        "### TFIDF AND LDA"
      ]
    },
    {
      "cell_type": "code",
      "metadata": {
        "id": "kkhT7HKLhj_X",
        "colab_type": "code",
        "colab": {
          "base_uri": "https://localhost:8080/",
          "height": 1000
        },
        "outputId": "01747ace-17d9-4d17-dd60-3f4c5d6a9005"
      },
      "source": [
        "tfidf=TfidfVectorizer(ngram_range=(1,2))\n",
        "tfidf_words=tfidf.fit_transform(data[\"review\"])\n",
        "words=tfidf.get_feature_names()\n",
        "df_bow=pd.DataFrame(tfidf_words.toarray(),columns=words)\n",
        "lda = LatentDirichletAllocation(n_components=10,random_state=0)\n",
        "lda.fit_transform(tfidf_words)\n",
        "print_top_words(lda,words,8)"
      ],
      "execution_count": null,
      "outputs": [
        {
          "output_type": "execute_result",
          "data": {
            "text/plain": [
              "[['price',\n",
              "  'suprrrrrrrrr',\n",
              "  'nice',\n",
              "  'battery',\n",
              "  'good price',\n",
              "  'xcellent battery',\n",
              "  'nice phones',\n",
              "  'nice set'],\n",
              " ['xcellent',\n",
              "  'excellent',\n",
              "  'best',\n",
              "  'display',\n",
              "  'thakarthu',\n",
              "  'waysome',\n",
              "  'fresh',\n",
              "  'wsm'],\n",
              " ['fantastic',\n",
              "  'nicc',\n",
              "  'battery',\n",
              "  'nice',\n",
              "  'camera',\n",
              "  'xcellent smartphone',\n",
              "  'good',\n",
              "  'nice camera'],\n",
              " ['superb',\n",
              "  'good',\n",
              "  'smartphone',\n",
              "  'sm',\n",
              "  'battery',\n",
              "  'good choic',\n",
              "  'choic',\n",
              "  'no'],\n",
              " ['camera',\n",
              "  'super',\n",
              "  'worst',\n",
              "  'normal',\n",
              "  'rattan',\n",
              "  'utstanding',\n",
              "  'good',\n",
              "  'quality'],\n",
              " ['super',\n",
              "  'best',\n",
              "  'bad',\n",
              "  'flipkart',\n",
              "  'hangs',\n",
              "  'frequently',\n",
              "  'quality battery',\n",
              "  'worth'],\n",
              " ['good',\n",
              "  'one',\n",
              "  'samsung',\n",
              "  'good samsung',\n",
              "  'good one',\n",
              "  'great',\n",
              "  'lovely',\n",
              "  'top'],\n",
              " ['wesome',\n",
              "  'ok',\n",
              "  'value money',\n",
              "  'value',\n",
              "  'money',\n",
              "  'working',\n",
              "  'camera',\n",
              "  'isplay good'],\n",
              " ['exellent',\n",
              "  'superrrrbbbbb',\n",
              "  'good',\n",
              "  'price',\n",
              "  'super nice',\n",
              "  'nice',\n",
              "  'nice cell',\n",
              "  'cell'],\n",
              " ['nice', 'awesome', 'no', 'battery', 'good', 'thanks', 'loved', 'okay']]"
            ]
          },
          "metadata": {
            "tags": []
          },
          "execution_count": 145
        }
      ]
    },
    {
      "cell_type": "markdown",
      "metadata": {
        "id": "ZvMDlD8_H4S_",
        "colab_type": "text"
      },
      "source": [
        "##### LDA on topics obtained "
      ]
    },
    {
      "cell_type": "code",
      "metadata": {
        "id": "wBKhgISNxoCh",
        "colab_type": "code",
        "colab": {
          "base_uri": "https://localhost:8080/",
          "height": 82
        },
        "outputId": "962ee474-2950-4154-b060-95291ceb10dc"
      },
      "source": [
        "arr=np.array(print_top_words(lda,words,5)).reshape(1,-1)[0]\n",
        "tfidf=TfidfVectorizer(ngram_range=(1,1))\n",
        "tfidf_words=tfidf.fit_transform(arr)\n",
        "words=tfidf.get_feature_names()\n",
        "df_tfidf=pd.DataFrame(tfidf_words.toarray(),columns=words)\n",
        "lda = LatentDirichletAllocation(n_components=4,random_state=0)\n",
        "lda.fit_transform(df_tfidf)\n",
        "print_top_words(lda,words,4)\n"
      ],
      "execution_count": null,
      "outputs": [
        {
          "output_type": "execute_result",
          "data": {
            "text/plain": [
              "[['good', 'battery', 'nice', 'nicc'],\n",
              " ['super', 'camera', 'one', 'xcellent'],\n",
              " ['best', 'worst', 'smartphone', 'flipkart'],\n",
              " ['price', 'money', 'value', 'samsung']]"
            ]
          },
          "metadata": {
            "tags": []
          },
          "execution_count": 146
        }
      ]
    },
    {
      "cell_type": "markdown",
      "metadata": {
        "id": "x_KYRl-oFxDO",
        "colab_type": "text"
      },
      "source": [
        "### NMF - TFIDF"
      ]
    },
    {
      "cell_type": "code",
      "metadata": {
        "id": "NPuBcCqNx82w",
        "colab_type": "code",
        "colab": {}
      },
      "source": [
        "from sklearn.decomposition import NMF, LatentDirichletAllocation"
      ],
      "execution_count": null,
      "outputs": []
    },
    {
      "cell_type": "code",
      "metadata": {
        "id": "c2FCLKMZF_Le",
        "colab_type": "code",
        "colab": {}
      },
      "source": [
        "tfidf=TfidfVectorizer(ngram_range=(1,1))\n",
        "tfidf_words=tfidf.fit_transform(data[\"review\"])\n",
        "words=tfidf.get_feature_names()\n",
        "df_lda=pd.DataFrame(tfidf_words.toarray(),columns=words)\n"
      ],
      "execution_count": null,
      "outputs": []
    },
    {
      "cell_type": "code",
      "metadata": {
        "id": "k_jjxrIQD-z_",
        "colab_type": "code",
        "colab": {
          "base_uri": "https://localhost:8080/",
          "height": 180
        },
        "outputId": "ec0c5355-a1be-4180-a216-01f4294da60d"
      },
      "source": [
        "nmf = NMF(n_components=10, random_state=1,\n",
        "          beta_loss='kullback-leibler', solver='mu', max_iter=1000, alpha=.1,\n",
        "          l1_ratio=.5).fit(tfidf_words)\n",
        "\n",
        "print_top_words(nmf,words,6)"
      ],
      "execution_count": null,
      "outputs": [
        {
          "output_type": "execute_result",
          "data": {
            "text/plain": [
              "[['good', 'one', 'normal', 'choic', 'isplay', 'choice'],\n",
              " ['nice', 'awsm', 'phones', 'samsang', 'cell', 'osm'],\n",
              " ['super', 'quality', 'camera', 'also', 'performance', 'look'],\n",
              " ['wesome', 'outstanding', 'perfomance', 'loving', 'slow', 'gaming'],\n",
              " ['best', 'samsung', 'price', 'loved', 'range', 'buy'],\n",
              " ['battery', 'display', 'camera', 'backup', 'no', 'poor'],\n",
              " ['superb', 'expected', 'great', 'utstanding', 'got', 'galaxy'],\n",
              " ['xcellent', 'flipkart', 'smartphone', 'love', 'excellent', 'thanks'],\n",
              " ['money', 'awesome', 'value', 'much', 'delivery', 'worth'],\n",
              " ['bad', 'ok', 'thank', 'worst', 'hangs', 'working']]"
            ]
          },
          "metadata": {
            "tags": []
          },
          "execution_count": 152
        }
      ]
    },
    {
      "cell_type": "markdown",
      "metadata": {
        "id": "sqYiKWUbIe6y",
        "colab_type": "text"
      },
      "source": [
        "#### NMF on topics obtained"
      ]
    },
    {
      "cell_type": "code",
      "metadata": {
        "id": "Q6W3YWG_HF_W",
        "colab_type": "code",
        "colab": {}
      },
      "source": [
        "arr=np.array(print_top_words(nmf,words,5)).reshape(1,-1)[0]"
      ],
      "execution_count": null,
      "outputs": []
    },
    {
      "cell_type": "code",
      "metadata": {
        "id": "VNjKgVluG5p4",
        "colab_type": "code",
        "colab": {
          "base_uri": "https://localhost:8080/",
          "height": 98
        },
        "outputId": "e968e5c0-3545-4d69-c9bc-dc123168993b"
      },
      "source": [
        "tfidf=TfidfVectorizer(ngram_range=(1,2))\n",
        "tfidf_words=tfidf.fit_transform(arr)\n",
        "words=tfidf.get_feature_names()\n",
        "df_lda=pd.DataFrame(tfidf_words.toarray(),columns=words)\n",
        "nmf = NMF(n_components=5, random_state=1,\n",
        "          beta_loss='kullback-leibler', solver='mu', max_iter=1000, alpha=.1,\n",
        "          l1_ratio=.5).fit(tfidf_words)\n",
        "\n",
        "print_top_words(nmf,words,4)"
      ],
      "execution_count": null,
      "outputs": [
        {
          "output_type": "execute_result",
          "data": {
            "text/plain": [
              "[['camera', 'quality', 'one', 'performance'],\n",
              " ['much', 'price', 'hangs', 'good'],\n",
              " ['also', 'slow', 'nice', 'normal'],\n",
              " ['xcellent', 'choic', 'wesome', 'awesome'],\n",
              " ['love', 'worst', 'great', 'cell']]"
            ]
          },
          "metadata": {
            "tags": []
          },
          "execution_count": 154
        }
      ]
    },
    {
      "cell_type": "markdown",
      "metadata": {
        "id": "MmR-p9FlF1vT",
        "colab_type": "text"
      },
      "source": [
        "### NMF - BOW"
      ]
    },
    {
      "cell_type": "code",
      "metadata": {
        "id": "JKNZWSVLE8Id",
        "colab_type": "code",
        "colab": {
          "base_uri": "https://localhost:8080/",
          "height": 180
        },
        "outputId": "17a1e576-6c24-4020-a881-94e1ce1c6bea"
      },
      "source": [
        "bow=CountVectorizer(ngram_range=(1,1))\n",
        "bow_review=bow.fit_transform(data[\"review\"])\n",
        "df_bow=pd.DataFrame(bow_review.toarray(),columns=bow.get_feature_names())\n",
        "nmf = NMF(n_components=10, random_state=1,\n",
        "          beta_loss='kullback-leibler', solver='mu', max_iter=1000, alpha=.1,\n",
        "          l1_ratio=.5).fit(bow_review)\n",
        "bow_words=bow.get_feature_names()\n",
        "print_top_words(nmf,bow_words,5)"
      ],
      "execution_count": null,
      "outputs": [
        {
          "output_type": "execute_result",
          "data": {
            "text/plain": [
              "[['good', 'battery', 'camera', 'display', 'performance'],\n",
              " ['super', 'superb', 'great', 'display', 'hours'],\n",
              " ['samsung', 'buy', 'm30s', 'loved', 'online'],\n",
              " ['nice', 'delivery', 'thanks', 'awsm', 'look'],\n",
              " ['quality', 'camera', 'hangs', 'using', 'fine'],\n",
              " ['best', 'price', 'range', 'camera', 'battery'],\n",
              " ['wesome', 'battery', 'money', 'xcellent', 'bad'],\n",
              " ['performance', 'excellent', 'no', 'display', 'budget'],\n",
              " ['use', 'ok', 'best', 'awsome', 'backup'],\n",
              " ['flipkart', 'thank', 'love', 'worst', 'better']]"
            ]
          },
          "metadata": {
            "tags": []
          },
          "execution_count": 155
        }
      ]
    },
    {
      "cell_type": "markdown",
      "metadata": {
        "id": "DAML-k3wJndV",
        "colab_type": "text"
      },
      "source": [
        "#### NMF on topics obtained ------------------------------------------"
      ]
    },
    {
      "cell_type": "code",
      "metadata": {
        "id": "hye7Md1gI1so",
        "colab_type": "code",
        "colab": {
          "base_uri": "https://localhost:8080/",
          "height": 82
        },
        "outputId": "a9cd9b06-dfd0-40eb-de0c-805b799aa106"
      },
      "source": [
        "arr=np.array(print_top_words(nmf,bow.get_feature_names(),5)).reshape(1,-1)[0]\n",
        "bow=CountVectorizer(ngram_range=(1,1))\n",
        "bow_review=bow.fit_transform(arr)\n",
        "df_bow=pd.DataFrame(bow_review.toarray(),columns=bow.get_feature_names())\n",
        "nmf = NMF(n_components=4, random_state=1,\n",
        "          beta_loss='kullback-leibler', solver='mu', max_iter=1000, alpha=.1,\n",
        "          l1_ratio=.5).fit(bow_review)\n",
        "bow_words=bow.get_feature_names()\n",
        "print_top_words(nmf,bow_words,4)"
      ],
      "execution_count": null,
      "outputs": [
        {
          "output_type": "execute_result",
          "data": {
            "text/plain": [
              "[['camera', 'awsome', 'using', 'thanks'],\n",
              " ['battery', 'good', 'use', 'm30s'],\n",
              " ['display', 'xcellent', 'ok', 'hours'],\n",
              " ['performance', 'best', 'quality', 'hangs']]"
            ]
          },
          "metadata": {
            "tags": []
          },
          "execution_count": 156
        }
      ]
    },
    {
      "cell_type": "markdown",
      "metadata": {
        "id": "OB0HXHKTg3Xs",
        "colab_type": "text"
      },
      "source": [
        "## POS TAGGING taking only nouns"
      ]
    },
    {
      "cell_type": "code",
      "metadata": {
        "id": "YN_uJnfPKGJl",
        "colab_type": "code",
        "colab": {
          "base_uri": "https://localhost:8080/",
          "height": 98
        },
        "outputId": "527afd54-de61-4616-b76e-ee4f180512d5"
      },
      "source": [
        "  import nltk\n",
        "  nltk.download('averaged_perceptron_tagger')"
      ],
      "execution_count": null,
      "outputs": [
        {
          "output_type": "stream",
          "text": [
            "[nltk_data] Downloading package averaged_perceptron_tagger to\n",
            "[nltk_data]     /root/nltk_data...\n",
            "[nltk_data]   Package averaged_perceptron_tagger is already up-to-\n",
            "[nltk_data]       date!\n"
          ],
          "name": "stdout"
        },
        {
          "output_type": "execute_result",
          "data": {
            "text/plain": [
              "True"
            ]
          },
          "metadata": {
            "tags": []
          },
          "execution_count": 157
        }
      ]
    },
    {
      "cell_type": "code",
      "metadata": {
        "id": "6NQkYJpdiwfN",
        "colab_type": "code",
        "colab": {}
      },
      "source": [
        "def only_nouns(review):\n",
        "  lis= \" \".join([each.strip(\" \") for each,pos in nltk.pos_tag(review.split()) if pos==\"NN\"])\n",
        "  return lis\n",
        "  \n"
      ],
      "execution_count": null,
      "outputs": []
    },
    {
      "cell_type": "code",
      "metadata": {
        "id": "RK-VJRYSkTD2",
        "colab_type": "code",
        "colab": {}
      },
      "source": [
        "data[\"review\"]=data[\"review\"].apply(lambda x:only_nouns(x))"
      ],
      "execution_count": null,
      "outputs": []
    },
    {
      "cell_type": "markdown",
      "metadata": {
        "id": "L1ufpHGDu18a",
        "colab_type": "text"
      },
      "source": [
        "### LDA BOW"
      ]
    },
    {
      "cell_type": "code",
      "metadata": {
        "id": "djb99Zy4oMIp",
        "colab_type": "code",
        "colab": {
          "base_uri": "https://localhost:8080/",
          "height": 180
        },
        "outputId": "88fb02dc-f28b-4589-f945-f5b38f24c4d5"
      },
      "source": [
        "bow=CountVectorizer(ngram_range=(1,1))\n",
        "bow_review=bow.fit_transform(data[\"review\"])\n",
        "df_bow=pd.DataFrame(bow_review.toarray(),columns=bow.get_feature_names())\n",
        "lda = LatentDirichletAllocation(n_components=10,random_state=0)\n",
        "lda.fit_transform(df_bow)\n",
        "print_top_words(lda,bow.get_feature_names(),4)"
      ],
      "execution_count": null,
      "outputs": [
        {
          "output_type": "execute_result",
          "data": {
            "text/plain": [
              "[['price', 'battery', 'quality', 'range'],\n",
              " ['battery', 'camera', 'backup', 'performance'],\n",
              " ['superb', 'samsung', 'flipkart', 'delivery'],\n",
              " ['battery', 'wesome', 'display', 'camera'],\n",
              " ['super', 'use', 'xcellent', 'performance'],\n",
              " ['online', 'buy', 'call', 'function'],\n",
              " ['nice', 'box', 'thank', 'excellent'],\n",
              " ['money', 'value', 'delivery', 'osm'],\n",
              " ['display', 'battery', 'camera', 'problem'],\n",
              " ['camera', 'quality', 'performance', 'battery']]"
            ]
          },
          "metadata": {
            "tags": []
          },
          "execution_count": 161
        }
      ]
    },
    {
      "cell_type": "markdown",
      "metadata": {
        "id": "QCpLSwPPKN7i",
        "colab_type": "text"
      },
      "source": [
        "#### (LDA again - on topics obtained) "
      ]
    },
    {
      "cell_type": "code",
      "metadata": {
        "id": "b4dihwiuKymO",
        "colab_type": "code",
        "colab": {
          "base_uri": "https://localhost:8080/",
          "height": 82
        },
        "outputId": "4a86aab3-b2ea-40fa-c6c1-7f57f0c70018"
      },
      "source": [
        "arr=np.array(print_top_words(lda,bow.get_feature_names(),5)).reshape(1,-1)[0]\n",
        "bow=CountVectorizer(ngram_range=(1,2))\n",
        "bow_review=bow.fit_transform(arr)\n",
        "df_bow=pd.DataFrame(bow_review.toarray(),columns=bow.get_feature_names())\n",
        "lda = LatentDirichletAllocation(n_components=4,random_state=0)\n",
        "lda.fit_transform(df_bow)\n",
        "print_top_words(lda,bow.get_feature_names(),4)\n"
      ],
      "execution_count": null,
      "outputs": [
        {
          "output_type": "execute_result",
          "data": {
            "text/plain": [
              "[['excellent', 'thank', 'performance', 'super'],\n",
              " ['box', 'samsung', 'bit', 'online'],\n",
              " ['camera', 'battery', 'quality', 'osm'],\n",
              " ['value', 'problem', 'money', 'team']]"
            ]
          },
          "metadata": {
            "tags": []
          },
          "execution_count": 164
        }
      ]
    },
    {
      "cell_type": "markdown",
      "metadata": {
        "id": "ID0gJZw2vJ78",
        "colab_type": "text"
      },
      "source": [
        "### LDA TFIDF"
      ]
    },
    {
      "cell_type": "code",
      "metadata": {
        "id": "0WEDJTe3u-80",
        "colab_type": "code",
        "colab": {
          "base_uri": "https://localhost:8080/",
          "height": 147
        },
        "outputId": "86fdb689-1738-49a0-eda6-3c12a665c09e"
      },
      "source": [
        "tfidf=TfidfVectorizer(ngram_range=(1,1))\n",
        "tfidf_words=tfidf.fit_transform(data[\"review\"])\n",
        "words=tfidf.get_feature_names()\n",
        "df_bow=pd.DataFrame(tfidf_words.toarray(),columns=words)\n",
        "lda = LatentDirichletAllocation(n_components=8,random_state=0)\n",
        "lda.fit_transform(tfidf_words)\n",
        "print_top_words(lda,words,4)"
      ],
      "execution_count": null,
      "outputs": [
        {
          "output_type": "execute_result",
          "data": {
            "text/plain": [
              "[['awesome', 'excellent', 'isplay', 'sm'],\n",
              " ['camera', 'super', 'quality', 'm30s'],\n",
              " ['superb', 'samsung', 'delivery', 'love'],\n",
              " ['battery', 'price', 'wesome', 'backup'],\n",
              " ['ok', 'smartphone', 'use', 'purchase'],\n",
              " ['money', 'value', 'call', 'delivery'],\n",
              " ['nice', 'experience', 'function', 'thank'],\n",
              " ['ear', 'perfomance', 'android', 'butter']]"
            ]
          },
          "metadata": {
            "tags": []
          },
          "execution_count": 165
        }
      ]
    },
    {
      "cell_type": "markdown",
      "metadata": {
        "id": "LT3bbvSkLCgj",
        "colab_type": "text"
      },
      "source": [
        "#### (LDA again - on topics obtained) "
      ]
    },
    {
      "cell_type": "code",
      "metadata": {
        "id": "psRb-b8lvmKk",
        "colab_type": "code",
        "colab": {
          "base_uri": "https://localhost:8080/",
          "height": 82
        },
        "outputId": "8f603dd3-dc2e-410b-90e1-eb9b0e258663"
      },
      "source": [
        "arr=np.array(print_top_words(lda,words,5)).reshape(1,-1)[0]\n",
        "tfidf=TfidfVectorizer(ngram_range=(1,1))\n",
        "tfidf_words=tfidf.fit_transform(arr)\n",
        "words=tfidf.get_feature_names()\n",
        "df_tfidf=pd.DataFrame(tfidf_words.toarray(),columns=words)\n",
        "lda = LatentDirichletAllocation(n_components=4,random_state=0)\n",
        "lda.fit_transform(df_tfidf)\n",
        "print_top_words(lda,words,4)\n"
      ],
      "execution_count": null,
      "outputs": [
        {
          "output_type": "execute_result",
          "data": {
            "text/plain": [
              "[['super', 'ear', 'glass', 'butter'],\n",
              " ['delivery', 'm30s', 'use', 'rattan'],\n",
              " ['camera', 'display', 'isplay', 'wesome'],\n",
              " ['experience', 'ok', 'thank', 'mi']]"
            ]
          },
          "metadata": {
            "tags": []
          },
          "execution_count": 166
        }
      ]
    },
    {
      "cell_type": "markdown",
      "metadata": {
        "id": "jMnA35MaMEWR",
        "colab_type": "text"
      },
      "source": [
        ""
      ]
    },
    {
      "cell_type": "markdown",
      "metadata": {
        "id": "U9D2nNB2vm1W",
        "colab_type": "text"
      },
      "source": [
        "### NMF BOW (better results)"
      ]
    },
    {
      "cell_type": "code",
      "metadata": {
        "id": "lMYWmPzHlYVe",
        "colab_type": "code",
        "colab": {}
      },
      "source": [
        "bow=CountVectorizer(ngram_range=(1,1))\n",
        "bow_review=bow.fit_transform(data[\"review\"])\n"
      ],
      "execution_count": null,
      "outputs": []
    },
    {
      "cell_type": "code",
      "metadata": {
        "id": "rmQt2f7fvWUs",
        "colab_type": "code",
        "colab": {
          "base_uri": "https://localhost:8080/",
          "height": 180
        },
        "outputId": "148a669b-c7c9-4b1c-f0f6-e92abf4e2986"
      },
      "source": [
        "bow=CountVectorizer(ngram_range=(1,1))\n",
        "bow_review=bow.fit_transform(data[\"review\"])\n",
        "\n",
        "nmf = NMF(n_components=10, random_state=1,\n",
        "          beta_loss='kullback-leibler', solver='mu', max_iter=1000, alpha=.1,\n",
        "          l1_ratio=.5).fit(bow_review)\n",
        "bow_words=bow.get_feature_names()\n",
        "print_top_words(nmf,bow_words,5)"
      ],
      "execution_count": null,
      "outputs": [
        {
          "output_type": "execute_result",
          "data": {
            "text/plain": [
              "[['quality', 'value', 'wesome', 'mah', 'backup'],\n",
              " ['money', 'flipkart', 'value', 'backup', 'battery'],\n",
              " ['samsung', 'purchase', 'wesome', 'mah', 'backup'],\n",
              " ['superb', 'display', 'wesome', 'mah', 'backup'],\n",
              " ['time', 'love', 'wesome', 'mah', 'backup'],\n",
              " ['awesome', 'value', 'backup', 'battery', 'budget'],\n",
              " ['battery', 'mah', 'wesome', 'value', 'backup'],\n",
              " ['budget', 'performance', 'wesome', 'mah', 'backup'],\n",
              " ['backup', 'super', 'camera', 'wesome', 'mah'],\n",
              " ['wesome', 'nice', 'mah', 'backup', 'battery']]"
            ]
          },
          "metadata": {
            "tags": []
          },
          "execution_count": 180
        }
      ]
    },
    {
      "cell_type": "markdown",
      "metadata": {
        "id": "WbBLipcTMMeh",
        "colab_type": "text"
      },
      "source": [
        "#### (NMF again - on topics obtained) "
      ]
    },
    {
      "cell_type": "code",
      "metadata": {
        "id": "K9bvs1dpMVxa",
        "colab_type": "code",
        "colab": {
          "base_uri": "https://localhost:8080/",
          "height": 98
        },
        "outputId": "5e8e98cf-fd73-4ac4-b81d-9cc96609f777"
      },
      "source": [
        "arr=np.array(print_top_words(nmf,bow.get_feature_names(),5)).reshape(1,-1)[0]\n",
        "bow=CountVectorizer(ngram_range=(1,1))\n",
        "bow_review=bow.fit_transform(arr)\n",
        "df_bow=pd.DataFrame(bow_review.toarray(),columns=bow.get_feature_names())\n",
        "nmf = NMF(n_components=5, random_state=1,\n",
        "          beta_loss='kullback-leibler', solver='mu', max_iter=1000, alpha=.1,\n",
        "          l1_ratio=.5).fit(bow_review)\n",
        "bow_words=bow.get_feature_names()\n",
        "print_top_words(nmf,bow_words,4)"
      ],
      "execution_count": null,
      "outputs": [
        {
          "output_type": "execute_result",
          "data": {
            "text/plain": [
              "[['battery', 'wesome', 'value', 'time'],\n",
              " ['value', 'backup', 'wesome', 'time'],\n",
              " ['time', 'super', 'samsung', 'quality'],\n",
              " ['wesome', 'value', 'time', 'superb'],\n",
              " ['mah', 'superb', 'love', 'wesome']]"
            ]
          },
          "metadata": {
            "tags": []
          },
          "execution_count": 182
        }
      ]
    },
    {
      "cell_type": "code",
      "metadata": {
        "id": "qnOQ64XMMTH3",
        "colab_type": "code",
        "colab": {}
      },
      "source": [
        ""
      ],
      "execution_count": null,
      "outputs": []
    },
    {
      "cell_type": "markdown",
      "metadata": {
        "id": "_s55Tj91v5rp",
        "colab_type": "text"
      },
      "source": [
        "### NMF TFIDF"
      ]
    },
    {
      "cell_type": "code",
      "metadata": {
        "id": "-uENT8juPLeF",
        "colab_type": "code",
        "colab": {}
      },
      "source": [
        "tfidf=TfidfVectorizer(ngram_range=(1,1))\n",
        "tfidf_words=tfidf.fit_transform(data[\"review\"])\n",
        "words=tfidf.get_feature_names()"
      ],
      "execution_count": null,
      "outputs": []
    },
    {
      "cell_type": "code",
      "metadata": {
        "id": "7nkJuoz8vt9p",
        "colab_type": "code",
        "colab": {
          "base_uri": "https://localhost:8080/",
          "height": 180
        },
        "outputId": "ba0687e1-2479-4d05-e808-5178a2af7f24"
      },
      "source": [
        "nmf = NMF(n_components=10, random_state=1,\n",
        "          beta_loss='kullback-leibler', solver='mu', max_iter=1000, alpha=.1,\n",
        "          l1_ratio=.5).fit(tfidf_words)\n",
        "print_top_words(nmf,words,4)"
      ],
      "execution_count": null,
      "outputs": [
        {
          "output_type": "execute_result",
          "data": {
            "text/plain": [
              "[['battery', 'backup', 'camera', 'performance'],\n",
              " ['camera', 'quality', 'experience', 'light'],\n",
              " ['wesome', 'life', 'model', 'battery'],\n",
              " ['price', 'range', 'segment', 'mid'],\n",
              " ['super', 'flipkart', 'purchase', 'use'],\n",
              " ['superb', 'delivery', 'condition', 'galaxy'],\n",
              " ['money', 'value', 'time', 'delivery'],\n",
              " ['samsung', 'love', 'm30s', 'performance'],\n",
              " ['display', 'ok', 'xcellent', 'smartphone'],\n",
              " ['nice', 'awesome', 'osm', 'mi']]"
            ]
          },
          "metadata": {
            "tags": []
          },
          "execution_count": 185
        }
      ]
    },
    {
      "cell_type": "markdown",
      "metadata": {
        "id": "Mu-X1MkoNi-B",
        "colab_type": "text"
      },
      "source": [
        "#### (NMF again - on topics obtained) ---------------------------------------------------"
      ]
    },
    {
      "cell_type": "code",
      "metadata": {
        "id": "W2jRTx3_NzV-",
        "colab_type": "code",
        "colab": {
          "base_uri": "https://localhost:8080/",
          "height": 82
        },
        "outputId": "0ef5ba23-41d6-4f11-d42a-c07e15e2aaf0"
      },
      "source": [
        "arr=np.array(print_top_words(nmf,words,5)).reshape(1,-1)[0]\n",
        "tfidf=TfidfVectorizer(ngram_range=(1,1))\n",
        "tfidf_words=tfidf.fit_transform(arr)\n",
        "words=tfidf.get_feature_names()\n",
        "df_lda=pd.DataFrame(tfidf_words.toarray(),columns=words)\n",
        "nmf = NMF(n_components=4, random_state=1,\n",
        "          beta_loss='kullback-leibler', solver='mu', max_iter=1000, alpha=.1,\n",
        "          l1_ratio=.5).fit(tfidf_words)\n",
        "\n",
        "print_top_words(nmf,words,4)"
      ],
      "execution_count": null,
      "outputs": [
        {
          "output_type": "execute_result",
          "data": {
            "text/plain": [
              "[['camera', 'model', 'money', 'smartphone'],\n",
              " ['performance', 'm30s', 'time', 'nice'],\n",
              " ['delivery', 'keybad', 'galaxy', 'ok'],\n",
              " ['battery', 'xcellent', 'quality', 'backup']]"
            ]
          },
          "metadata": {
            "tags": []
          },
          "execution_count": 186
        }
      ]
    },
    {
      "cell_type": "markdown",
      "metadata": {
        "id": "DPe-gB9JwLUZ",
        "colab_type": "text"
      },
      "source": [
        "## POS TAG NOUNS and ADJECTIVES"
      ]
    },
    {
      "cell_type": "code",
      "metadata": {
        "id": "VB2KrjmGv9C3",
        "colab_type": "code",
        "colab": {}
      },
      "source": [
        "data=pd.read_csv(\"samsungdata.csv\")\n",
        "data[\"review\"]=data[\"review\"].apply(lambda x:convert_emojis(x))\n",
        "data[\"review\"]=data[\"review\"].apply(lambda x:x.lower()) \n",
        "data[\"review\"]=data[\"review\"].apply(lambda x:decontracted(x))\n",
        "data[\"review\"]=data[\"review\"].apply(lambda x:removecharacters(x))\n",
        "data[\"review\"]=pd.DataFrame(data[\"review\"].apply(lambda x:removestopwords(x)))"
      ],
      "execution_count": null,
      "outputs": []
    },
    {
      "cell_type": "code",
      "metadata": {
        "id": "1dAClSWPwevJ",
        "colab_type": "code",
        "colab": {}
      },
      "source": [
        "def only_nouns_adjectives(review):\n",
        "  lis= \" \".join([each.strip(\" \") for each,pos in nltk.pos_tag(review.split()) if (pos==\"NN\" or pos==\"JJ\")])\n",
        "  return lis\n",
        "data[\"title\"]=data[\"title\"].apply(lambda x:only_nouns_adjectives(x))\n"
      ],
      "execution_count": null,
      "outputs": []
    },
    {
      "cell_type": "markdown",
      "metadata": {
        "id": "_zmFiFI3w95p",
        "colab_type": "text"
      },
      "source": [
        "### LDA BOW"
      ]
    },
    {
      "cell_type": "code",
      "metadata": {
        "id": "ZUZx-kaWwzjx",
        "colab_type": "code",
        "colab": {
          "base_uri": "https://localhost:8080/",
          "height": 180
        },
        "outputId": "297ad391-c620-4a62-c623-ddfdc7e7648c"
      },
      "source": [
        "bow=CountVectorizer(ngram_range=(1,1))\n",
        "bow_review=bow.fit_transform(data[\"review\"])\n",
        "df_bow=pd.DataFrame(bow_review.toarray(),columns=bow.get_feature_names())\n",
        "lda = LatentDirichletAllocation(n_components=10,random_state=0)\n",
        "lda.fit_transform(df_bow)\n",
        "print_top_words(lda,bow.get_feature_names(),4)"
      ],
      "execution_count": null,
      "outputs": [
        {
          "output_type": "execute_result",
          "data": {
            "text/plain": [
              "[['flipkart', 'best', 'value', 'worst'],\n",
              " ['super', 'awsome', 'quality', 'fine'],\n",
              " ['hours', 'display', 'battery', 'great'],\n",
              " ['best', 'camera', 'good', 'bad'],\n",
              " ['hangs', 'no', 'thanks', 'flipkart'],\n",
              " ['poor', 'excellent', 'good', 'box'],\n",
              " ['superb', 'samsung', 'buy', 'smartphone'],\n",
              " ['good', 'battery', 'camera', 'performance'],\n",
              " ['xcellent', 'awesome', 'money', 'worth'],\n",
              " ['nice', 'best', 'wesome', 'samsung']]"
            ]
          },
          "metadata": {
            "tags": []
          },
          "execution_count": 189
        }
      ]
    },
    {
      "cell_type": "markdown",
      "metadata": {
        "id": "dSLNV5tzTm2P",
        "colab_type": "text"
      },
      "source": [
        "#### LDA again"
      ]
    },
    {
      "cell_type": "code",
      "metadata": {
        "id": "IQYzTEbCTn0D",
        "colab_type": "code",
        "colab": {
          "base_uri": "https://localhost:8080/",
          "height": 98
        },
        "outputId": "d4eb098b-6dad-48c1-aeaa-155dd0c1d01b"
      },
      "source": [
        "arr=np.array(print_top_words(lda,bow.get_feature_names(),5)).reshape(1,-1)[0]\n",
        "bow=CountVectorizer(ngram_range=(1,1))\n",
        "bow_review=bow.fit_transform(arr)\n",
        "df_bow=pd.DataFrame(bow_review.toarray(),columns=bow.get_feature_names())\n",
        "lda = LatentDirichletAllocation(n_components=5,random_state=0)\n",
        "lda.fit_transform(df_bow)\n",
        "print_top_words(lda,bow.get_feature_names(),4)\n"
      ],
      "execution_count": null,
      "outputs": [
        {
          "output_type": "execute_result",
          "data": {
            "text/plain": [
              "[['fine', 'best', 'superb', 'hangs'],\n",
              " ['worth', 'battery', 'price', 'smartphone'],\n",
              " ['money', 'camera', 'good', 'poor'],\n",
              " ['hours', 'buy', 'xcellent', 'price'],\n",
              " ['great', 'box', 'samsung', 'flipkart']]"
            ]
          },
          "metadata": {
            "tags": []
          },
          "execution_count": 191
        }
      ]
    },
    {
      "cell_type": "markdown",
      "metadata": {
        "id": "zFJaIZAm106c",
        "colab_type": "text"
      },
      "source": [
        "### LDA TFIDF"
      ]
    },
    {
      "cell_type": "code",
      "metadata": {
        "id": "8KMmKsXhxAj1",
        "colab_type": "code",
        "colab": {
          "base_uri": "https://localhost:8080/",
          "height": 180
        },
        "outputId": "e532702b-184e-4bfc-f9d9-8b105998100c"
      },
      "source": [
        "\n",
        "tfidf=TfidfVectorizer(ngram_range=(1,1))\n",
        "tfidf_words=tfidf.fit_transform(data[\"review\"])\n",
        "words=tfidf.get_feature_names()\n",
        "df_bow=pd.DataFrame(tfidf_words.toarray(),columns=words)\n",
        "lda = LatentDirichletAllocation(n_components=10,random_state=0)\n",
        "lda.fit_transform(tfidf_words)\n",
        "print_top_words(lda,words,5)"
      ],
      "execution_count": null,
      "outputs": [
        {
          "output_type": "execute_result",
          "data": {
            "text/plain": [
              "[['display', 'performance', 'best', 'battery', 'nicc'],\n",
              " ['super', 'awesome', 'flipkart', 'value', 'money'],\n",
              " ['thanks', 'suprrrrrrrrr', 'cell', 'tanks', 'perform'],\n",
              " ['bad', 'awsm', 'great', 'loving', 'prublam'],\n",
              " ['no', 'hangs', 'smooth', 'frequently', 'lovely'],\n",
              " ['exellent', 'sm', 'nice', 'isplay', 'life'],\n",
              " ['xcellent', 'superb', 'love', 'smartphone', 'flipkart'],\n",
              " ['good', 'camera', 'price', 'quality', 'nice'],\n",
              " ['backup', 'battery', 'camara', 'worth', 'loved'],\n",
              " ['nice', 'wesome', 'best', 'samsung', 'ok']]"
            ]
          },
          "metadata": {
            "tags": []
          },
          "execution_count": 192
        }
      ]
    },
    {
      "cell_type": "markdown",
      "metadata": {
        "id": "QBvwxdtOUA48",
        "colab_type": "text"
      },
      "source": [
        "#### LDA again"
      ]
    },
    {
      "cell_type": "code",
      "metadata": {
        "id": "O7xWHxHFUEa-",
        "colab_type": "code",
        "colab": {
          "base_uri": "https://localhost:8080/",
          "height": 82
        },
        "outputId": "b4ed8241-3f4a-4548-c4db-849e5ad7b286"
      },
      "source": [
        "arr=np.array(print_top_words(lda,words,5)).reshape(1,-1)[0]\n",
        "tfidf=TfidfVectorizer(ngram_range=(1,1))\n",
        "tfidf_words=tfidf.fit_transform(arr)\n",
        "words=tfidf.get_feature_names()\n",
        "df_tfidf=pd.DataFrame(tfidf_words.toarray(),columns=words)\n",
        "lda = LatentDirichletAllocation(n_components=4,random_state=0)\n",
        "lda.fit_transform(df_tfidf)\n",
        "print_top_words(lda,words,4)\n"
      ],
      "execution_count": null,
      "outputs": [
        {
          "output_type": "execute_result",
          "data": {
            "text/plain": [
              "[['flipkart', 'backup', 'tanks', 'loving'],\n",
              " ['suprrrrrrrrr', 'xcellent', 'sm', 'bad'],\n",
              " ['battery', 'worth', 'love', 'frequently'],\n",
              " ['nice', 'best', 'value', 'money']]"
            ]
          },
          "metadata": {
            "tags": []
          },
          "execution_count": 193
        }
      ]
    },
    {
      "cell_type": "markdown",
      "metadata": {
        "id": "f13i6Ciw2OYo",
        "colab_type": "text"
      },
      "source": [
        "### NMF BOW"
      ]
    },
    {
      "cell_type": "code",
      "metadata": {
        "id": "ZQ4TNhKN2DjX",
        "colab_type": "code",
        "colab": {
          "base_uri": "https://localhost:8080/",
          "height": 180
        },
        "outputId": "0cf23e7c-6db0-4993-dc60-fcdea97783de"
      },
      "source": [
        "bow=CountVectorizer(ngram_range=(1,1))\n",
        "bow_review=bow.fit_transform(data[\"review\"])\n",
        "\n",
        "nmf = NMF(n_components=10, random_state=1,\n",
        "          beta_loss='kullback-leibler', solver='mu', max_iter=1000, alpha=.1,\n",
        "          l1_ratio=.5).fit(bow_review)\n",
        "bow_words=bow.get_feature_names()\n",
        "print_top_words(nmf,bow_words,4)"
      ],
      "execution_count": null,
      "outputs": [
        {
          "output_type": "execute_result",
          "data": {
            "text/plain": [
              "[['good', 'battery', 'camera', 'display'],\n",
              " ['super', 'superb', 'great', 'display'],\n",
              " ['samsung', 'buy', 'm30s', 'loved'],\n",
              " ['nice', 'delivery', 'thanks', 'awsm'],\n",
              " ['quality', 'camera', 'hangs', 'using'],\n",
              " ['best', 'price', 'range', 'camera'],\n",
              " ['wesome', 'battery', 'money', 'xcellent'],\n",
              " ['performance', 'excellent', 'no', 'display'],\n",
              " ['use', 'ok', 'best', 'awsome'],\n",
              " ['flipkart', 'thank', 'love', 'worst']]"
            ]
          },
          "metadata": {
            "tags": []
          },
          "execution_count": 195
        }
      ]
    },
    {
      "cell_type": "markdown",
      "metadata": {
        "id": "ZxeskKGpUqDr",
        "colab_type": "text"
      },
      "source": [
        "#### NMF again"
      ]
    },
    {
      "cell_type": "code",
      "metadata": {
        "id": "0p6ft3bVUtjz",
        "colab_type": "code",
        "colab": {
          "base_uri": "https://localhost:8080/",
          "height": 98
        },
        "outputId": "d8d8f406-95df-431b-eadb-464183d29094"
      },
      "source": [
        "arr=np.array(print_top_words(nmf,bow.get_feature_names(),5)).reshape(1,-1)[0]\n",
        "bow=CountVectorizer(ngram_range=(1,1))\n",
        "bow_review=bow.fit_transform(arr)\n",
        "df_bow=pd.DataFrame(bow_review.toarray(),columns=bow.get_feature_names())\n",
        "nmf = NMF(n_components=5, random_state=1,\n",
        "          beta_loss='kullback-leibler', solver='mu', max_iter=1000, alpha=.1,\n",
        "          l1_ratio=.5).fit(bow_review)\n",
        "bow_words=bow.get_feature_names()\n",
        "print_top_words(nmf,bow_words,4)"
      ],
      "execution_count": null,
      "outputs": [
        {
          "output_type": "execute_result",
          "data": {
            "text/plain": [
              "[['display', 'hours', 'buy', 'worst'],\n",
              " ['battery', 'great', 'money', 'good'],\n",
              " ['camera', 'xcellent', 'online', 'backup'],\n",
              " ['best', 'quality', 'budget', 'hangs'],\n",
              " ['performance', 'love', 'samsung', 'better']]"
            ]
          },
          "metadata": {
            "tags": []
          },
          "execution_count": 196
        }
      ]
    },
    {
      "cell_type": "markdown",
      "metadata": {
        "id": "F7EHQ72V2aww",
        "colab_type": "text"
      },
      "source": [
        "### NMF TFIDF"
      ]
    },
    {
      "cell_type": "code",
      "metadata": {
        "id": "W7jvxYqdU7WM",
        "colab_type": "code",
        "colab": {}
      },
      "source": [
        "tfidf=TfidfVectorizer(ngram_range=(1,1))\n",
        "tfidf_words=tfidf.fit_transform(data[\"review\"])\n",
        "words=tfidf.get_feature_names()"
      ],
      "execution_count": null,
      "outputs": []
    },
    {
      "cell_type": "code",
      "metadata": {
        "id": "LqLU-3Oo2VC0",
        "colab_type": "code",
        "colab": {
          "base_uri": "https://localhost:8080/",
          "height": 180
        },
        "outputId": "3f6cc624-377b-4493-d479-d455ca5fce17"
      },
      "source": [
        "nmf = NMF(n_components=10, random_state=1,\n",
        "          beta_loss='kullback-leibler', solver='mu', max_iter=1000, alpha=.1,\n",
        "          l1_ratio=.5).fit(tfidf_words)\n",
        "print_top_words(nmf,words,6)"
      ],
      "execution_count": null,
      "outputs": [
        {
          "output_type": "execute_result",
          "data": {
            "text/plain": [
              "[['good', 'one', 'normal', 'choic', 'isplay', 'choice'],\n",
              " ['nice', 'awsm', 'phones', 'samsang', 'cell', 'osm'],\n",
              " ['super', 'quality', 'camera', 'also', 'performance', 'look'],\n",
              " ['wesome', 'outstanding', 'perfomance', 'loving', 'slow', 'gaming'],\n",
              " ['best', 'samsung', 'price', 'loved', 'range', 'buy'],\n",
              " ['battery', 'display', 'camera', 'backup', 'no', 'poor'],\n",
              " ['superb', 'expected', 'great', 'utstanding', 'got', 'galaxy'],\n",
              " ['xcellent', 'flipkart', 'smartphone', 'love', 'excellent', 'thanks'],\n",
              " ['money', 'awesome', 'value', 'much', 'delivery', 'worth'],\n",
              " ['bad', 'ok', 'thank', 'worst', 'hangs', 'working']]"
            ]
          },
          "metadata": {
            "tags": []
          },
          "execution_count": 198
        }
      ]
    },
    {
      "cell_type": "markdown",
      "metadata": {
        "id": "QdOBKFeOVHMf",
        "colab_type": "text"
      },
      "source": [
        "#### NMF again -------------"
      ]
    },
    {
      "cell_type": "code",
      "metadata": {
        "id": "taDT0PgAVCGT",
        "colab_type": "code",
        "colab": {
          "base_uri": "https://localhost:8080/",
          "height": 82
        },
        "outputId": "d6c12fdc-c85c-4ab2-886a-8262fec85d26"
      },
      "source": [
        "arr=np.array(print_top_words(nmf,words,5)).reshape(1,-1)[0]\n",
        "tfidf=TfidfVectorizer(ngram_range=(1,1))\n",
        "tfidf_words=tfidf.fit_transform(arr)\n",
        "words=tfidf.get_feature_names()\n",
        "df_lda=pd.DataFrame(tfidf_words.toarray(),columns=words)\n",
        "nmf = NMF(n_components=4, random_state=1,\n",
        "          beta_loss='kullback-leibler', solver='mu', max_iter=1000, alpha=.1,\n",
        "          l1_ratio=.5).fit(tfidf_words)\n",
        "\n",
        "print_top_words(nmf,words,4)"
      ],
      "execution_count": null,
      "outputs": [
        {
          "output_type": "execute_result",
          "data": {
            "text/plain": [
              "[['camera', 'excellent', 'awesome', 'thank'],\n",
              " ['love', 'no', 'perfomance', 'performance'],\n",
              " ['xcellent', 'range', 'awsm', 'bad'],\n",
              " ['smartphone', 'battery', 'normal', 'samsang']]"
            ]
          },
          "metadata": {
            "tags": []
          },
          "execution_count": 200
        }
      ]
    },
    {
      "cell_type": "markdown",
      "metadata": {
        "id": "4p8fypaOU_4w",
        "colab_type": "text"
      },
      "source": [
        "# Sentence Tokenisation"
      ]
    },
    {
      "cell_type": "code",
      "metadata": {
        "id": "jPSzlnDr2kEx",
        "colab_type": "code",
        "colab": {
          "base_uri": "https://localhost:8080/",
          "height": 66
        },
        "outputId": "cf85d4e9-d0e4-4ef3-e867-648e7c942884"
      },
      "source": [
        "from nltk.tokenize import sent_tokenize\n",
        "import nltk\n",
        "nltk.download('punkt')"
      ],
      "execution_count": null,
      "outputs": [
        {
          "output_type": "stream",
          "text": [
            "[nltk_data] Downloading package punkt to /root/nltk_data...\n",
            "[nltk_data]   Package punkt is already up-to-date!\n"
          ],
          "name": "stdout"
        },
        {
          "output_type": "execute_result",
          "data": {
            "text/plain": [
              "True"
            ]
          },
          "metadata": {
            "tags": []
          },
          "execution_count": 236
        }
      ]
    },
    {
      "cell_type": "code",
      "metadata": {
        "id": "kcHkke80VDyw",
        "colab_type": "code",
        "colab": {}
      },
      "source": [
        "review=pd.read_csv(\"samsungdata.csv\")[\"review\"].values"
      ],
      "execution_count": null,
      "outputs": []
    },
    {
      "cell_type": "code",
      "metadata": {
        "id": "STcqNOpbVQUr",
        "colab_type": "code",
        "colab": {}
      },
      "source": [
        ""
      ],
      "execution_count": null,
      "outputs": []
    },
    {
      "cell_type": "code",
      "metadata": {
        "id": "4hLlIZM2VRsL",
        "colab_type": "code",
        "colab": {}
      },
      "source": [
        "import nltk.data"
      ],
      "execution_count": null,
      "outputs": []
    },
    {
      "cell_type": "code",
      "metadata": {
        "id": "DJ-0sYIHWjaV",
        "colab_type": "code",
        "colab": {}
      },
      "source": [
        "sent=[]\n",
        "for i in review:\n",
        "  sent.extend(nltk.sent_tokenize(i))"
      ],
      "execution_count": null,
      "outputs": []
    },
    {
      "cell_type": "code",
      "metadata": {
        "id": "DnNkbLwIWrnT",
        "colab_type": "code",
        "colab": {
          "base_uri": "https://localhost:8080/",
          "height": 33
        },
        "outputId": "6c4d8125-fd2b-47ec-b13a-14ab713ca16d"
      },
      "source": [
        "len(sent)"
      ],
      "execution_count": null,
      "outputs": [
        {
          "output_type": "execute_result",
          "data": {
            "text/plain": [
              "348"
            ]
          },
          "metadata": {
            "tags": []
          },
          "execution_count": 240
        }
      ]
    },
    {
      "cell_type": "code",
      "metadata": {
        "id": "EK8QeeGJYao1",
        "colab_type": "code",
        "colab": {}
      },
      "source": [
        "df=pd.DataFrame(sent,columns=[\"review\"])"
      ],
      "execution_count": null,
      "outputs": []
    },
    {
      "cell_type": "code",
      "metadata": {
        "id": "iqdvzs30ZEZ1",
        "colab_type": "code",
        "colab": {
          "base_uri": "https://localhost:8080/",
          "height": 191
        },
        "outputId": "8bc755aa-1422-4db8-a9b5-49d4e0f1d22a"
      },
      "source": [
        "df.head()"
      ],
      "execution_count": null,
      "outputs": [
        {
          "output_type": "execute_result",
          "data": {
            "text/html": [
              "<div>\n",
              "<style scoped>\n",
              "    .dataframe tbody tr th:only-of-type {\n",
              "        vertical-align: middle;\n",
              "    }\n",
              "\n",
              "    .dataframe tbody tr th {\n",
              "        vertical-align: top;\n",
              "    }\n",
              "\n",
              "    .dataframe thead th {\n",
              "        text-align: right;\n",
              "    }\n",
              "</style>\n",
              "<table border=\"1\" class=\"dataframe\">\n",
              "  <thead>\n",
              "    <tr style=\"text-align: right;\">\n",
              "      <th></th>\n",
              "      <th>review</th>\n",
              "    </tr>\n",
              "  </thead>\n",
              "  <tbody>\n",
              "    <tr>\n",
              "      <th>0</th>\n",
              "      <td>Bokeh mode is very excellent than any other ha...</td>\n",
              "    </tr>\n",
              "    <tr>\n",
              "      <th>1</th>\n",
              "      <td>Just awsome product the picture quality is goo...</td>\n",
              "    </tr>\n",
              "    <tr>\n",
              "      <th>2</th>\n",
              "      <td>I reccomend you to buy this product</td>\n",
              "    </tr>\n",
              "    <tr>\n",
              "      <th>3</th>\n",
              "      <td>Samsung galaxy m30s is most useful.But Samsung...</td>\n",
              "    </tr>\n",
              "    <tr>\n",
              "      <th>4</th>\n",
              "      <td>Where is i am disappointed with the selfie but...</td>\n",
              "    </tr>\n",
              "  </tbody>\n",
              "</table>\n",
              "</div>"
            ],
            "text/plain": [
              "                                              review\n",
              "0  Bokeh mode is very excellent than any other ha...\n",
              "1  Just awsome product the picture quality is goo...\n",
              "2                I reccomend you to buy this product\n",
              "3  Samsung galaxy m30s is most useful.But Samsung...\n",
              "4  Where is i am disappointed with the selfie but..."
            ]
          },
          "metadata": {
            "tags": []
          },
          "execution_count": 242
        }
      ]
    },
    {
      "cell_type": "code",
      "metadata": {
        "id": "rFB_6ix1ZMPJ",
        "colab_type": "code",
        "colab": {
          "base_uri": "https://localhost:8080/",
          "height": 33
        },
        "outputId": "3d186f62-f12e-4a07-8dff-b06f9c3c83af"
      },
      "source": [
        "df.shape"
      ],
      "execution_count": null,
      "outputs": [
        {
          "output_type": "execute_result",
          "data": {
            "text/plain": [
              "(348, 1)"
            ]
          },
          "metadata": {
            "tags": []
          },
          "execution_count": 243
        }
      ]
    },
    {
      "cell_type": "code",
      "metadata": {
        "id": "JS79NiY0ZOyp",
        "colab_type": "code",
        "colab": {}
      },
      "source": [
        "df[\"review\"]=df[\"review\"].apply(lambda x:convert_emojis(x))\n",
        "df[\"review\"]=df[\"review\"].apply(lambda x:x.lower()) \n",
        "df[\"review\"]=df[\"review\"].apply(lambda x:decontracted(x))\n",
        "df[\"review\"]=df[\"review\"].apply(lambda x:removecharacters(x))\n",
        "df[\"review\"]=pd.DataFrame(df[\"review\"].apply(lambda x:removestopwords(x)))"
      ],
      "execution_count": null,
      "outputs": []
    },
    {
      "cell_type": "code",
      "metadata": {
        "id": "yuXMDynmZ_DF",
        "colab_type": "code",
        "colab": {}
      },
      "source": [
        "#data[\"title\"]=data[\"title\"].apply(lambda x:only_nouns_adjectives(x))\n",
        "#df[\"review\"]=df[\"review\"].apply(lambda x:only_nouns(x))"
      ],
      "execution_count": null,
      "outputs": []
    },
    {
      "cell_type": "markdown",
      "metadata": {
        "id": "xzcq3SXjaaDD",
        "colab_type": "text"
      },
      "source": [
        "##sent tokanised "
      ]
    },
    {
      "cell_type": "markdown",
      "metadata": {
        "id": "LvFFZA0hah6R",
        "colab_type": "text"
      },
      "source": [
        "### BOW LDA"
      ]
    },
    {
      "cell_type": "code",
      "metadata": {
        "id": "HIktQgzIaR6x",
        "colab_type": "code",
        "colab": {
          "base_uri": "https://localhost:8080/",
          "height": 180
        },
        "outputId": "fbd1ff52-e3cb-4b9a-f98b-30152ecb8d64"
      },
      "source": [
        "bow=CountVectorizer(ngram_range=(1,1))\n",
        "bow_review=bow.fit_transform(df[\"review\"])\n",
        "df_bow=pd.DataFrame(bow_review.toarray(),columns=bow.get_feature_names())\n",
        "lda = LatentDirichletAllocation(n_components=10,random_state=0)\n",
        "lda.fit_transform(df_bow)\n",
        "print_top_words(lda,bow.get_feature_names(),5)"
      ],
      "execution_count": null,
      "outputs": [
        {
          "output_type": "execute_result",
          "data": {
            "text/plain": [
              "[['wesome', 'flipkart', 'worst', 'ok', 'use'],\n",
              " ['super', 'samsung', 'quality', 'bad', 'camera'],\n",
              " ['xcellent', 'excellent', 'battery', 'thanks', 'camera'],\n",
              " ['good', 'camera', 'battery', 'super', 'one'],\n",
              " ['hangs', 'best', 'no', 'frequently', 'smooth'],\n",
              " ['good', 'poor', 'buy', 'online', 'though'],\n",
              " ['superb', 'good', 'like', 'buy', 'performance'],\n",
              " ['good', 'battery', 'camera', 'display', 'money'],\n",
              " ['battery', 'worth', 'good', 'backup', 'money'],\n",
              " ['nice', 'best', 'awesome', 'battery', 'price']]"
            ]
          },
          "metadata": {
            "tags": []
          },
          "execution_count": 246
        }
      ]
    },
    {
      "cell_type": "markdown",
      "metadata": {
        "id": "bZoReOfDrzPz",
        "colab_type": "text"
      },
      "source": [
        "#### LDA again"
      ]
    },
    {
      "cell_type": "code",
      "metadata": {
        "id": "w81M1n0tr2xv",
        "colab_type": "code",
        "colab": {
          "base_uri": "https://localhost:8080/",
          "height": 98
        },
        "outputId": "5cba2b59-1523-44fa-fba8-dc06cb10777d"
      },
      "source": [
        "arr=np.array(print_top_words(lda,bow.get_feature_names(),5)).reshape(1,-1)[0]\n",
        "bow=CountVectorizer(ngram_range=(1,1))\n",
        "bow_review=bow.fit_transform(arr)\n",
        "df_bow=pd.DataFrame(bow_review.toarray(),columns=bow.get_feature_names())\n",
        "lda = LatentDirichletAllocation(n_components=5,random_state=0)\n",
        "lda.fit_transform(df_bow)\n",
        "print_top_words(lda,bow.get_feature_names(),4)\n"
      ],
      "execution_count": null,
      "outputs": [
        {
          "output_type": "execute_result",
          "data": {
            "text/plain": [
              "[['money', 'ok', 'performance', 'bad'],\n",
              " ['price', 'though', 'worth', 'smooth'],\n",
              " ['battery', 'good', 'hangs', 'samsung'],\n",
              " ['camera', 'buy', 'nice', 'flipkart'],\n",
              " ['best', 'super', 'wesome', 'online']]"
            ]
          },
          "metadata": {
            "tags": []
          },
          "execution_count": 247
        }
      ]
    },
    {
      "cell_type": "markdown",
      "metadata": {
        "id": "2mUlGNyfasYU",
        "colab_type": "text"
      },
      "source": [
        "### TFIDF LDA"
      ]
    },
    {
      "cell_type": "code",
      "metadata": {
        "id": "kdOl1mAAanLt",
        "colab_type": "code",
        "colab": {
          "base_uri": "https://localhost:8080/",
          "height": 180
        },
        "outputId": "13df4d77-3761-42ba-d25e-87fc638edef3"
      },
      "source": [
        "tfidf=TfidfVectorizer(ngram_range=(1,1))\n",
        "tfidf_words=tfidf.fit_transform(df[\"review\"])\n",
        "words=tfidf.get_feature_names()\n",
        "df_bow=pd.DataFrame(tfidf_words.toarray(),columns=words)\n",
        "lda = LatentDirichletAllocation(n_components=10,random_state=0)\n",
        "lda.fit_transform(tfidf_words)\n",
        "print_top_words(lda,words,5)"
      ],
      "execution_count": null,
      "outputs": [
        {
          "output_type": "execute_result",
          "data": {
            "text/plain": [
              "[['wesome', 'ok', 'smart', 'months', 'quality'],\n",
              " ['super', 'quality', 'love', 'flipkart', 'samsung'],\n",
              " ['excellent', 'great', 'loved', 'thank', 'camera'],\n",
              " ['xcellent', 'bad', 'battery', 'camera', 'one'],\n",
              " ['samsung', 'hangs', 'no', 'frequently', 'smooth'],\n",
              " ['recommend', 'worthless', 'exellent', 'sm', 'online'],\n",
              " ['superb', 'smartphone', 'sad', 'buy', 'good'],\n",
              " ['good', 'camera', 'battery', 'display', 'also'],\n",
              " ['worth', 'normal', 'money', 'wsm', 'camera'],\n",
              " ['nice', 'best', 'awesome', 'battery', 'price']]"
            ]
          },
          "metadata": {
            "tags": []
          },
          "execution_count": 234
        }
      ]
    },
    {
      "cell_type": "markdown",
      "metadata": {
        "id": "ZibosmtYtVn3",
        "colab_type": "text"
      },
      "source": [
        "#### (LDA AGAIN)"
      ]
    },
    {
      "cell_type": "code",
      "metadata": {
        "id": "GsmgZRSUthDv",
        "colab_type": "code",
        "colab": {
          "base_uri": "https://localhost:8080/",
          "height": 82
        },
        "outputId": "ec899e11-1c8e-419e-ca3e-70825ed138e9"
      },
      "source": [
        "arr=np.array(print_top_words(lda,words,5)).reshape(1,-1)[0]\n",
        "tfidf=TfidfVectorizer(ngram_range=(1,1))\n",
        "tfidf_words=tfidf.fit_transform(arr)\n",
        "words=tfidf.get_feature_names()\n",
        "df_tfidf=pd.DataFrame(tfidf_words.toarray(),columns=words)\n",
        "lda = LatentDirichletAllocation(n_components=4,random_state=0)\n",
        "lda.fit_transform(df_tfidf)\n",
        "print_top_words(lda,words,4)\n"
      ],
      "execution_count": null,
      "outputs": [
        {
          "output_type": "execute_result",
          "data": {
            "text/plain": [
              "[['hangs', 'bad', 'also', 'worth'],\n",
              " ['camera', 'battery', 'samsung', 'one'],\n",
              " ['quality', 'thank', 'sm', 'smartphone'],\n",
              " ['good', 'smooth', 'frequently', 'superb']]"
            ]
          },
          "metadata": {
            "tags": []
          },
          "execution_count": 235
        }
      ]
    },
    {
      "cell_type": "markdown",
      "metadata": {
        "id": "9rEoUn47a9nV",
        "colab_type": "text"
      },
      "source": [
        "### NMF TFIDF"
      ]
    },
    {
      "cell_type": "code",
      "metadata": {
        "id": "rllqvDBoa0df",
        "colab_type": "code",
        "colab": {
          "base_uri": "https://localhost:8080/",
          "height": 180
        },
        "outputId": "e1ba6e85-eda1-4454-b578-21b33977d238"
      },
      "source": [
        "nmf = NMF(n_components=10, random_state=1,\n",
        "          beta_loss='kullback-leibler', solver='mu', max_iter=1000, alpha=.1,\n",
        "          l1_ratio=.5).fit(tfidf_words)\n",
        "print_top_words(nmf,words,5)"
      ],
      "execution_count": 249,
      "outputs": [
        {
          "output_type": "execute_result",
          "data": {
            "text/plain": [
              "[['camera', 'flipkart', 'xcellent', 'months', 'money'],\n",
              " ['battery', 'xcellent', 'flipkart', 'months', 'money'],\n",
              " ['good', 'xcellent', 'flipkart', 'months', 'money'],\n",
              " ['quality', 'bad', 'xcellent', 'flipkart', 'money'],\n",
              " ['samsung', 'xcellent', 'flipkart', 'money', 'loved'],\n",
              " ['no', 'one', 'awesome', 'loved', 'superb'],\n",
              " ['xcellent', 'buy', 'online', 'frequently', 'sad'],\n",
              " ['excellent', 'normal', 'best', 'great', 'smooth'],\n",
              " ['also', 'smartphone', 'love', 'price', 'recommend'],\n",
              " ['worthless', 'wsm', 'ok', 'super', 'hangs']]"
            ]
          },
          "metadata": {
            "tags": []
          },
          "execution_count": 249
        }
      ]
    },
    {
      "cell_type": "markdown",
      "metadata": {
        "id": "wnfQxaXecqNH",
        "colab_type": "text"
      },
      "source": [
        "### NMF BOW"
      ]
    },
    {
      "cell_type": "code",
      "metadata": {
        "id": "lL9X0a0RbEWe",
        "colab_type": "code",
        "colab": {
          "base_uri": "https://localhost:8080/",
          "height": 180
        },
        "outputId": "d094eafc-1b2b-4667-9d09-822ee456fa7b"
      },
      "source": [
        "bow=CountVectorizer(ngram_range=(1,1))\n",
        "bow_review=bow.fit_transform(data[\"review\"])\n",
        "\n",
        "nmf = NMF(n_components=10, random_state=1,\n",
        "          beta_loss='kullback-leibler', solver='mu', max_iter=1000, alpha=.1,\n",
        "          l1_ratio=.5).fit(bow_review)\n",
        "bow_words=bow.get_feature_names()\n",
        "print_top_words(nmf,bow_words,4)"
      ],
      "execution_count": 250,
      "outputs": [
        {
          "output_type": "execute_result",
          "data": {
            "text/plain": [
              "[['good', 'battery', 'camera', 'display'],\n",
              " ['super', 'superb', 'great', 'display'],\n",
              " ['samsung', 'buy', 'm30s', 'loved'],\n",
              " ['nice', 'delivery', 'thanks', 'awsm'],\n",
              " ['quality', 'camera', 'hangs', 'using'],\n",
              " ['best', 'price', 'range', 'camera'],\n",
              " ['wesome', 'battery', 'money', 'xcellent'],\n",
              " ['performance', 'excellent', 'no', 'display'],\n",
              " ['use', 'ok', 'best', 'awsome'],\n",
              " ['flipkart', 'thank', 'love', 'worst']]"
            ]
          },
          "metadata": {
            "tags": []
          },
          "execution_count": 250
        }
      ]
    },
    {
      "cell_type": "markdown",
      "metadata": {
        "id": "qqUExyt8MM91",
        "colab_type": "text"
      },
      "source": [
        "#### nmf again"
      ]
    },
    {
      "cell_type": "code",
      "metadata": {
        "id": "NJeT3-FJMXD4",
        "colab_type": "code",
        "colab": {
          "base_uri": "https://localhost:8080/",
          "height": 98
        },
        "outputId": "66c04c28-da87-49ac-d362-4fe6e178870c"
      },
      "source": [
        "arr=np.array(print_top_words(nmf,bow.get_feature_names(),5)).reshape(1,-1)[0]\n",
        "bow=CountVectorizer(ngram_range=(1,1))\n",
        "bow_review=bow.fit_transform(arr)\n",
        "df_bow=pd.DataFrame(bow_review.toarray(),columns=bow.get_feature_names())\n",
        "nmf = NMF(n_components=5, random_state=1,\n",
        "          beta_loss='kullback-leibler', solver='mu', max_iter=1000, alpha=.1,\n",
        "          l1_ratio=.5).fit(bow_review)\n",
        "bow_words=bow.get_feature_names()\n",
        "print_top_words(nmf,bow_words,4)"
      ],
      "execution_count": 251,
      "outputs": [
        {
          "output_type": "execute_result",
          "data": {
            "text/plain": [
              "[['display', 'hours', 'buy', 'worst'],\n",
              " ['battery', 'great', 'money', 'good'],\n",
              " ['camera', 'xcellent', 'online', 'backup'],\n",
              " ['best', 'quality', 'budget', 'hangs'],\n",
              " ['performance', 'love', 'samsung', 'better']]"
            ]
          },
          "metadata": {
            "tags": []
          },
          "execution_count": 251
        }
      ]
    },
    {
      "cell_type": "markdown",
      "metadata": {
        "id": "kOxm846pbjrN",
        "colab_type": "text"
      },
      "source": [
        "## POS TAGGING ONLY NOUNS"
      ]
    },
    {
      "cell_type": "code",
      "metadata": {
        "id": "39lpvTrkbQ5M",
        "colab_type": "code",
        "colab": {}
      },
      "source": [
        "df[\"review\"]=df[\"review\"].apply(lambda x:only_nouns(x))"
      ],
      "execution_count": 252,
      "outputs": []
    },
    {
      "cell_type": "markdown",
      "metadata": {
        "id": "0l-Ldn3Db1HG",
        "colab_type": "text"
      },
      "source": [
        "### BOW LDA"
      ]
    },
    {
      "cell_type": "code",
      "metadata": {
        "id": "uXfl0hMabvF0",
        "colab_type": "code",
        "colab": {
          "base_uri": "https://localhost:8080/",
          "height": 180
        },
        "outputId": "1037ca06-f111-453e-a9ee-8ed59b808d05"
      },
      "source": [
        "bow=CountVectorizer(ngram_range=(1,1))\n",
        "bow_review=bow.fit_transform(df[\"review\"])\n",
        "df_bow=pd.DataFrame(bow_review.toarray(),columns=bow.get_feature_names())\n",
        "lda = LatentDirichletAllocation(n_components=10,random_state=0)\n",
        "lda.fit_transform(df_bow)\n",
        "print_top_words(lda,bow.get_feature_names(),4)"
      ],
      "execution_count": 258,
      "outputs": [
        {
          "output_type": "execute_result",
          "data": {
            "text/plain": [
              "[['price', 'love', 'range', 'samsung'],\n",
              " ['superb', 'voice', 'life', 'condition'],\n",
              " ['battery', 'samsung', 'camera', 'display'],\n",
              " ['battery', 'backup', 'ok', 'person'],\n",
              " ['quality', 'camera', 'nice', 'awesome'],\n",
              " ['smartphone', 'use', 'display', 'battery'],\n",
              " ['wesome', 'camera', 'super', 'performance'],\n",
              " ['money', 'm30s', 'delivery', 'budget'],\n",
              " ['buy', 'online', 'xcellent', 'delivery'],\n",
              " ['display', 'camera', 'battery', 'value']]"
            ]
          },
          "metadata": {
            "tags": []
          },
          "execution_count": 258
        }
      ]
    },
    {
      "cell_type": "markdown",
      "metadata": {
        "id": "txeb6FpmM_bK",
        "colab_type": "text"
      },
      "source": [
        "#### again LDA -------------------------------------------------------"
      ]
    },
    {
      "cell_type": "code",
      "metadata": {
        "id": "Po_S5bJ9NClY",
        "colab_type": "code",
        "colab": {
          "base_uri": "https://localhost:8080/",
          "height": 98
        },
        "outputId": "9038e66c-f409-4de5-f748-20dc0c1113f8"
      },
      "source": [
        "arr=np.array(print_top_words(lda,bow.get_feature_names(),5)).reshape(1,-1)[0]\n",
        "bow=CountVectorizer(ngram_range=(1,1))\n",
        "bow_review=bow.fit_transform(arr)\n",
        "df_bow=pd.DataFrame(bow_review.toarray(),columns=bow.get_feature_names())\n",
        "lda = LatentDirichletAllocation(n_components=5,random_state=0)\n",
        "lda.fit_transform(df_bow)\n",
        "print_top_words(lda,bow.get_feature_names(),4)\n"
      ],
      "execution_count": 261,
      "outputs": [
        {
          "output_type": "execute_result",
          "data": {
            "text/plain": [
              "[['camera', 'display', 'person', 'm30s'],\n",
              " ['samsung', 'xcellent', 'buy', 'range'],\n",
              " ['quality', 'delivery', 'use', 'life'],\n",
              " ['battery', 'nice', 'superb', 'wid'],\n",
              " ['performance', 'network', 'super', 'handset']]"
            ]
          },
          "metadata": {
            "tags": []
          },
          "execution_count": 261
        }
      ]
    },
    {
      "cell_type": "markdown",
      "metadata": {
        "id": "sqeg1UHscDPY",
        "colab_type": "text"
      },
      "source": [
        "### BOW NMF  (results are better)"
      ]
    },
    {
      "cell_type": "code",
      "metadata": {
        "id": "0ska2Bncb4Df",
        "colab_type": "code",
        "colab": {
          "base_uri": "https://localhost:8080/",
          "height": 1000
        },
        "outputId": "2c243a5a-a2ce-48cc-9918-c9237dc4ed66"
      },
      "source": [
        "bow=CountVectorizer(ngram_range=(1,3))\n",
        "bow_review=bow.fit_transform(df[\"review\"])\n",
        "nmf = NMF(n_components=10, random_state=1,\n",
        "          beta_loss='kullback-leibler', solver='mu', max_iter=1000, alpha=.1,\n",
        "          l1_ratio=.5).fit(bow_review)\n",
        "print_top_words(nmf,bow.get_feature_names(),8)"
      ],
      "execution_count": 272,
      "outputs": [
        {
          "output_type": "execute_result",
          "data": {
            "text/plain": [
              "[['battery',\n",
              "  'camera',\n",
              "  'display',\n",
              "  'camera battery',\n",
              "  'battery life',\n",
              "  'life',\n",
              "  'mah',\n",
              "  'display battery'],\n",
              " ['performance',\n",
              "  'budget',\n",
              "  'handset',\n",
              "  'mode',\n",
              "  'cost',\n",
              "  'handset budget',\n",
              "  'camera display',\n",
              "  'processer'],\n",
              " ['display',\n",
              "  'super',\n",
              "  'xcellent',\n",
              "  'ok',\n",
              "  'camera',\n",
              "  'smartphone',\n",
              "  'camera display',\n",
              "  'credit super'],\n",
              " ['camera',\n",
              "  'quality',\n",
              "  'wesome',\n",
              "  'camera quality',\n",
              "  'quality battery',\n",
              "  'look',\n",
              "  'osm',\n",
              "  'love'],\n",
              " ['backup',\n",
              "  'superb',\n",
              "  'battery backup',\n",
              "  'battery',\n",
              "  'experience',\n",
              "  'awesome',\n",
              "  'picture quality',\n",
              "  'camara'],\n",
              " ['samsung',\n",
              "  'buy',\n",
              "  'flipkart',\n",
              "  'online',\n",
              "  'm30s',\n",
              "  'love',\n",
              "  'buy online',\n",
              "  'purchase'],\n",
              " ['money', 'value', 'value money', 'delivery', 'time', 'mark', 'hand', 'box'],\n",
              " ['use',\n",
              "  'nice',\n",
              "  'play',\n",
              "  'bit',\n",
              "  'ok',\n",
              "  'battery pack',\n",
              "  'month',\n",
              "  'super month bit'],\n",
              " ['price',\n",
              "  'range',\n",
              "  'front',\n",
              "  'price range',\n",
              "  'performance',\n",
              "  'battery',\n",
              "  'camera',\n",
              "  'excellent'],\n",
              " ['power',\n",
              "  'team',\n",
              "  'power button',\n",
              "  'button',\n",
              "  'voice',\n",
              "  'thank',\n",
              "  'ear',\n",
              "  'inactivity']]"
            ]
          },
          "metadata": {
            "tags": []
          },
          "execution_count": 272
        }
      ]
    },
    {
      "cell_type": "markdown",
      "metadata": {
        "id": "cJsVp-PSNtUp",
        "colab_type": "text"
      },
      "source": [
        "#### again NMF---------------------"
      ]
    },
    {
      "cell_type": "code",
      "metadata": {
        "id": "GfAC4VwzNxRf",
        "colab_type": "code",
        "colab": {
          "base_uri": "https://localhost:8080/",
          "height": 82
        },
        "outputId": "a911db4e-ce13-4acc-db93-4b091ee4f4f7"
      },
      "source": [
        "arr=np.array(print_top_words(nmf,bow.get_feature_names(),5)).reshape(1,-1)[0]\n",
        "bow=CountVectorizer(ngram_range=(1,2))\n",
        "bow_review=bow.fit_transform(arr)\n",
        "df_bow=pd.DataFrame(bow_review.toarray(),columns=bow.get_feature_names())\n",
        "nmf = NMF(n_components=4, random_state=1,\n",
        "          beta_loss='kullback-leibler', solver='mu', max_iter=1000, alpha=.1,\n",
        "          l1_ratio=.5).fit(bow_review)\n",
        "bow_words=bow.get_feature_names()\n",
        "print_top_words(nmf,bow_words,4)"
      ],
      "execution_count": 273,
      "outputs": [
        {
          "output_type": "execute_result",
          "data": {
            "text/plain": [
              "[['battery', 'backup', 'quality', 'battery backup'],\n",
              " ['camera', 'quality', 'm30s', 'samsung'],\n",
              " ['price', 'range', 'money', 'value'],\n",
              " ['ok', 'performance', 'button', 'power']]"
            ]
          },
          "metadata": {
            "tags": []
          },
          "execution_count": 273
        }
      ]
    },
    {
      "cell_type": "markdown",
      "metadata": {
        "id": "7M8Z6WhwcfvN",
        "colab_type": "text"
      },
      "source": [
        "### TFIDF LDA"
      ]
    },
    {
      "cell_type": "code",
      "metadata": {
        "id": "KNhTzgNOcjSv",
        "colab_type": "code",
        "colab": {
          "base_uri": "https://localhost:8080/",
          "height": 1000
        },
        "outputId": "65ba36e8-5b00-438a-e925-31828843cf45"
      },
      "source": [
        "tfidf=TfidfVectorizer(ngram_range=(1,3))\n",
        "tfidf_words=tfidf.fit_transform(df[\"review\"])\n",
        "words=tfidf.get_feature_names()\n",
        "df_bow=pd.DataFrame(tfidf_words.toarray(),columns=words)\n",
        "lda = LatentDirichletAllocation(n_components=10,random_state=0)\n",
        "lda.fit_transform(tfidf_words)\n",
        "print_top_words(lda,words,8)"
      ],
      "execution_count": 274,
      "outputs": [
        {
          "output_type": "execute_result",
          "data": {
            "text/plain": [
              "[['love',\n",
              "  'charge',\n",
              "  'awesomespeechless',\n",
              "  'cam',\n",
              "  'voice',\n",
              "  'battery good',\n",
              "  'camera look',\n",
              "  'good'],\n",
              " ['awesome',\n",
              "  'range',\n",
              "  'box',\n",
              "  'nicc',\n",
              "  'okay',\n",
              "  'suprrrrrrrrr',\n",
              "  'battery',\n",
              "  'price range'],\n",
              " ['quality',\n",
              "  'camera',\n",
              "  'camera quality',\n",
              "  'battery',\n",
              "  'isplay',\n",
              "  'thank',\n",
              "  'smart',\n",
              "  'purpose'],\n",
              " ['super', 'camera', 'samsung', 'nice', 'ok', 'date', 'function', 'worth'],\n",
              " ['xcellent',\n",
              "  'smartphone',\n",
              "  'perfomance',\n",
              "  'excellent',\n",
              "  'sm',\n",
              "  'software',\n",
              "  'anything',\n",
              "  'waysome'],\n",
              " ['price',\n",
              "  'battery',\n",
              "  'mark',\n",
              "  'wsm',\n",
              "  'samsang',\n",
              "  'till',\n",
              "  'money good',\n",
              "  'xcellent smartphone'],\n",
              " ['battery backup',\n",
              "  'backup',\n",
              "  'battery',\n",
              "  'camera',\n",
              "  'android',\n",
              "  'perform',\n",
              "  'worthless',\n",
              "  'exellent'],\n",
              " ['money',\n",
              "  'value',\n",
              "  'value money',\n",
              "  'time',\n",
              "  'awsm',\n",
              "  'flipkart',\n",
              "  'light',\n",
              "  'light camera'],\n",
              " ['samsung',\n",
              "  'm30s',\n",
              "  'sad',\n",
              "  'mi',\n",
              "  'samsung m30s',\n",
              "  'samsung bro',\n",
              "  'bro',\n",
              "  'device'],\n",
              " ['wesome',\n",
              "  'superb',\n",
              "  'buy',\n",
              "  'display',\n",
              "  'buy online',\n",
              "  'online',\n",
              "  'amazing',\n",
              "  'choic']]"
            ]
          },
          "metadata": {
            "tags": []
          },
          "execution_count": 274
        }
      ]
    },
    {
      "cell_type": "markdown",
      "metadata": {
        "id": "ZHQSosfdPm7D",
        "colab_type": "text"
      },
      "source": [
        "#### Again LDF"
      ]
    },
    {
      "cell_type": "code",
      "metadata": {
        "id": "nARAvAdsO2JD",
        "colab_type": "code",
        "colab": {
          "base_uri": "https://localhost:8080/",
          "height": 82
        },
        "outputId": "4f2874ef-c08b-424c-8967-f84c5600299f"
      },
      "source": [
        "arr=np.array(print_top_words(lda,words,5)).reshape(1,-1)[0]\n",
        "tfidf=TfidfVectorizer(ngram_range=(1,1))\n",
        "tfidf_words=tfidf.fit_transform(arr)\n",
        "words=tfidf.get_feature_names()\n",
        "df_tfidf=pd.DataFrame(tfidf_words.toarray(),columns=words)\n",
        "lda = LatentDirichletAllocation(n_components=4,random_state=0)\n",
        "lda.fit_transform(df_tfidf)\n",
        "print_top_words(lda,words,4)\n"
      ],
      "execution_count": 279,
      "outputs": [
        {
          "output_type": "execute_result",
          "data": {
            "text/plain": [
              "[['android', 'display', 'm30s', 'awsm'],\n",
              " ['money', 'quality', 'backup', 'samsang'],\n",
              " ['perfomance', 'battery', 'love', 'samsang'],\n",
              " ['camera', 'time', 'charge', 'samsung']]"
            ]
          },
          "metadata": {
            "tags": []
          },
          "execution_count": 279
        }
      ]
    },
    {
      "cell_type": "markdown",
      "metadata": {
        "id": "Sbx1xlb0dl1R",
        "colab_type": "text"
      },
      "source": [
        "### TFIDF NMF"
      ]
    },
    {
      "cell_type": "code",
      "metadata": {
        "id": "Rzue8rpGc0wR",
        "colab_type": "code",
        "colab": {}
      },
      "source": [
        "tfidf=TfidfVectorizer(ngram_range=(1,3))\n",
        "tfidf_words=tfidf.fit_transform(data[\"review\"])\n",
        "words=tfidf.get_feature_names()"
      ],
      "execution_count": 285,
      "outputs": []
    },
    {
      "cell_type": "code",
      "metadata": {
        "id": "sHkdix4XdzDF",
        "colab_type": "code",
        "colab": {
          "base_uri": "https://localhost:8080/",
          "height": 342
        },
        "outputId": "745a8008-9559-4607-e184-0415376835d6"
      },
      "source": [
        "nmf = NMF(n_components=10, random_state=1,\n",
        "          beta_loss='kullback-leibler', solver='mu', max_iter=1000, alpha=.1,\n",
        "          l1_ratio=.5).fit(tfidf_words)\n",
        "print_top_words(nmf,words,6)"
      ],
      "execution_count": 286,
      "outputs": [
        {
          "output_type": "execute_result",
          "data": {
            "text/plain": [
              "[['good', 'good samsung', 'good one', 'one', 'samsung', 'isplay good'],\n",
              " ['nice', 'phones', 'nice display', 'nice phones', 'nice awsm', 'osm nice'],\n",
              " ['wesome',\n",
              "  'quality battery',\n",
              "  'wesome camera',\n",
              "  'battery',\n",
              "  'wesome loving',\n",
              "  'loving'],\n",
              " ['super', 'love', 'super nice', 'super camera', 'good love', 'super quality'],\n",
              " ['best', 'price', 'loved', 'good price', 'best price', 'samsung best'],\n",
              " ['superb',\n",
              "  'great',\n",
              "  'expected',\n",
              "  'got',\n",
              "  'got expected',\n",
              "  'superb battery backup'],\n",
              " ['xcellent', 'money', 'flipkart', 'smartphone', 'thanks', 'excellent'],\n",
              " ['awesome', 'lovely', 'goods', 'thakarthu', 'exellent', 'worth money'],\n",
              " ['bad', 'ok', 'camera', 'camera quality', 'quality', 'worst'],\n",
              " ['battery', 'no', 'camera', 'battery backup', 'backup', 'display']]"
            ]
          },
          "metadata": {
            "tags": []
          },
          "execution_count": 286
        }
      ]
    },
    {
      "cell_type": "markdown",
      "metadata": {
        "id": "ViIBlVWqRRs2",
        "colab_type": "text"
      },
      "source": [
        "\n",
        "#### again nmf"
      ]
    },
    {
      "cell_type": "code",
      "metadata": {
        "id": "gAAHxOoDQwXL",
        "colab_type": "code",
        "colab": {
          "base_uri": "https://localhost:8080/",
          "height": 82
        },
        "outputId": "9378a691-449d-45aa-de3e-006f89c66921"
      },
      "source": [
        "arr=np.array(print_top_words(nmf,words,6)).reshape(1,-1)[0]\n",
        "tfidf=TfidfVectorizer(ngram_range=(1,1))\n",
        "tfidf_words=tfidf.fit_transform(arr)\n",
        "words=tfidf.get_feature_names()\n",
        "df_lda=pd.DataFrame(tfidf_words.toarray(),columns=words)\n",
        "nmf = NMF(n_components=4, random_state=1,\n",
        "          beta_loss='kullback-leibler', solver='mu', max_iter=1000, alpha=.1,\n",
        "          l1_ratio=.5).fit(tfidf_words)\n",
        "\n",
        "print_top_words(nmf,words,4)"
      ],
      "execution_count": 287,
      "outputs": [
        {
          "output_type": "execute_result",
          "data": {
            "text/plain": [
              "[['camera', 'super', 'quality', 'wesome'],\n",
              " ['battery', 'backup', 'money', 'superb'],\n",
              " ['good', 'price', 'samsung', 'best'],\n",
              " ['nice', 'display', 'phones', 'got']]"
            ]
          },
          "metadata": {
            "tags": []
          },
          "execution_count": 287
        }
      ]
    },
    {
      "cell_type": "code",
      "metadata": {
        "id": "dLbr6fElRa1X",
        "colab_type": "code",
        "colab": {}
      },
      "source": [
        ""
      ],
      "execution_count": null,
      "outputs": []
    }
  ]
}