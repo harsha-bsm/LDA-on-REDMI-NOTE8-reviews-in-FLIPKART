{
  "nbformat": 4,
  "nbformat_minor": 0,
  "metadata": {
    "colab": {
      "name": "Gensim for TopicModelling.ipynb",
      "provenance": [],
      "authorship_tag": "ABX9TyNGThdg3sgac3z+lxNG38ZO",
      "include_colab_link": true
    },
    "kernelspec": {
      "name": "python3",
      "display_name": "Python 3"
    }
  },
  "cells": [
    {
      "cell_type": "markdown",
      "metadata": {
        "id": "view-in-github",
        "colab_type": "text"
      },
      "source": [
        "<a href=\"https://colab.research.google.com/github/harsha-bsm/Topic-Modelling-using-LDA-and-NMF-reviewsflipkart/blob/master/Gensim_for_TopicModelling.ipynb\" target=\"_parent\"><img src=\"https://colab.research.google.com/assets/colab-badge.svg\" alt=\"Open In Colab\"/></a>"
      ]
    },
    {
      "cell_type": "code",
      "metadata": {
        "id": "PU70FwRom24k",
        "colab_type": "code",
        "colab": {}
      },
      "source": [
        "import re\n",
        "import numpy as np\n",
        "import pandas as pd\n",
        "from pprint import pprint\n",
        "\n",
        "# Gensim\n",
        "import gensim\n",
        "import gensim.corpora as corpora\n",
        "from gensim.utils import simple_preprocess\n",
        "from gensim.models import CoherenceModel\n",
        "\n",
        "\n",
        "from sklearn.feature_extraction.text import TfidfTransformer\n",
        "#from sklearn.feature_extraction.text import TfidfVectorizer\n",
        "from sklearn.feature_extraction.text import CountVectorizer\n",
        "from gensim.models import ldamodel\n",
        "import gensim.corpora\n",
        "from sklearn.decomposition import LatentDirichletAllocation"
      ],
      "execution_count": 164,
      "outputs": []
    },
    {
      "cell_type": "code",
      "metadata": {
        "id": "4yxvST2Wm4W_",
        "colab_type": "code",
        "colab": {}
      },
      "source": [
        "data=pd.read_csv(\"mi7830_preprocess.csv\")\n",
        "data.dropna(subset=['review'], inplace=True)"
      ],
      "execution_count": 165,
      "outputs": []
    },
    {
      "cell_type": "code",
      "metadata": {
        "id": "IbyfYcE_6Lbj",
        "colab_type": "code",
        "colab": {
          "base_uri": "https://localhost:8080/",
          "height": 33
        },
        "outputId": "24f71e2b-1d11-4433-9a44-2c2000c37910"
      },
      "source": [
        "data.shape"
      ],
      "execution_count": 166,
      "outputs": [
        {
          "output_type": "execute_result",
          "data": {
            "text/plain": [
              "(5914, 9)"
            ]
          },
          "metadata": {
            "tags": []
          },
          "execution_count": 166
        }
      ]
    },
    {
      "cell_type": "code",
      "metadata": {
        "id": "y_kqbvSS1q8C",
        "colab_type": "code",
        "colab": {}
      },
      "source": [
        "data[\"review\"]=data[\"review\"].apply(lambda x:str(x).split(\" \"))"
      ],
      "execution_count": 167,
      "outputs": []
    },
    {
      "cell_type": "code",
      "metadata": {
        "id": "2Sd1JF4W0g32",
        "colab_type": "code",
        "colab": {}
      },
      "source": [
        "id2word=corpora.Dictionary(data[\"review\"])  # getting id for each word"
      ],
      "execution_count": 168,
      "outputs": []
    },
    {
      "cell_type": "code",
      "metadata": {
        "id": "-2cwSEDU1Ea5",
        "colab_type": "code",
        "colab": {}
      },
      "source": [
        "corpus=[id2word.doc2bow(text) for text in data[\"review\"]] #bow notation for entire words"
      ],
      "execution_count": 169,
      "outputs": []
    },
    {
      "cell_type": "code",
      "metadata": {
        "id": "mPCWVlWrvfo2",
        "colab_type": "code",
        "colab": {}
      },
      "source": [
        "from gensim.models import TfidfModel"
      ],
      "execution_count": 170,
      "outputs": []
    },
    {
      "cell_type": "code",
      "metadata": {
        "id": "Fbp0NjEFvh9j",
        "colab_type": "code",
        "colab": {}
      },
      "source": [
        "model = TfidfModel(corpus)"
      ],
      "execution_count": 171,
      "outputs": []
    },
    {
      "cell_type": "code",
      "metadata": {
        "id": "8vM2YyYenlzD",
        "colab_type": "code",
        "colab": {
          "base_uri": "https://localhost:8080/",
          "height": 50
        },
        "outputId": "7bf41a94-1743-4a63-903b-29cf9b70fb98"
      },
      "source": [
        "bow=CountVectorizer(ngram_range=(1,2))\n",
        "bow_words=bow.fit_transform(data[\"review\"].astype(\"U\"))\n",
        "bow_words"
      ],
      "execution_count": 172,
      "outputs": [
        {
          "output_type": "execute_result",
          "data": {
            "text/plain": [
              "<5914x19502 sparse matrix of type '<class 'numpy.int64'>'\n",
              "\twith 52211 stored elements in Compressed Sparse Row format>"
            ]
          },
          "metadata": {
            "tags": []
          },
          "execution_count": 172
        }
      ]
    },
    {
      "cell_type": "code",
      "metadata": {
        "id": "vJy6uRHgnjiH",
        "colab_type": "code",
        "colab": {
          "base_uri": "https://localhost:8080/",
          "height": 167
        },
        "outputId": "e2078c96-16b4-4983-e4b3-4db81e5857ad"
      },
      "source": [
        "lda_model = gensim.models.ldamodel.LdaModel(corpus=corpus,\n",
        "                                           id2word=id2word,\n",
        "                                           num_topics=4, \n",
        "                                           random_state=100,\n",
        "                                           update_every=1,\n",
        "                                           chunksize=100,\n",
        "                                           passes=4,\n",
        "                                           alpha='auto',\n",
        "                                           per_word_topics=True)\n",
        "lda_model.show_topics(num_words=12)"
      ],
      "execution_count": 173,
      "outputs": [
        {
          "output_type": "execute_result",
          "data": {
            "text/plain": [
              "[(0,\n",
              "  '0.128*\"price\" + 0.053*\"flagship\" + 0.043*\"killer\" + 0.036*\"device\" + 0.034*\"delivery\" + 0.031*\"segment\" + 0.030*\"range\" + 0.030*\"superb\" + 0.028*\"experience\" + 0.024*\"beast\" + 0.016*\"budget\" + 0.016*\"super\"'),\n",
              " (1,\n",
              "  '0.056*\"issue\" + 0.037*\"screen\" + 0.032*\"bit\" + 0.026*\"fingerprint\" + 0.018*\"print\" + 0.018*\"play\" + 0.018*\"finger\" + 0.017*\"stock\" + 0.016*\"night\" + 0.014*\"mode\" + 0.014*\"sensor\" + 0.014*\"voice\"'),\n",
              " (2,\n",
              "  '0.172*\"camera\" + 0.090*\"performance\" + 0.046*\"battery\" + 0.042*\"quality\" + 0.038*\"display\" + 0.026*\"time\" + 0.020*\"everything\" + 0.019*\"problem\" + 0.017*\"pubg\" + 0.015*\"awesome\" + 0.012*\"good\" + 0.012*\"day\"'),\n",
              " (3,\n",
              "  '0.180*\"money\" + 0.164*\"value\" + 0.026*\"smartphone\" + 0.022*\"worth\" + 0.022*\"excellent\" + 0.019*\"love\" + 0.016*\"glass\" + 0.011*\"one\" + 0.008*\"wow\" + 0.008*\"photo\" + 0.008*\"waste\" + 0.008*\"package\"')]"
            ]
          },
          "metadata": {
            "tags": []
          },
          "execution_count": 173
        }
      ]
    },
    {
      "cell_type": "code",
      "metadata": {
        "id": "2slM7_Dmr-iu",
        "colab_type": "code",
        "colab": {
          "base_uri": "https://localhost:8080/",
          "height": 200
        },
        "outputId": "ab2092bb-0606-4169-de4e-e67c5cf19aa8"
      },
      "source": [
        "lda_model = gensim.models.ldamodel.LdaModel(corpus=model[corpus],\n",
        "                                           id2word=id2word,\n",
        "                                           num_topics=5, \n",
        "                                           random_state=100,\n",
        "                                           update_every=1,\n",
        "                                           chunksize=100,\n",
        "                                           passes=4,\n",
        "                                           alpha='auto',\n",
        "                                           per_word_topics=True)\n",
        "lda_model.show_topics(num_words=12)"
      ],
      "execution_count": 177,
      "outputs": [
        {
          "output_type": "execute_result",
          "data": {
            "text/plain": [
              "[(0,\n",
              "  '0.030*\"apps\" + 0.017*\"features\" + 0.014*\"camara\" + 0.014*\"deal\" + 0.010*\"date\" + 0.010*\"face\" + 0.008*\"body\" + 0.008*\"snapdragon\" + 0.008*\"switching\" + 0.008*\"specs\" + 0.008*\"size\" + 0.008*\"scratch\"'),\n",
              " (1,\n",
              "  '0.057*\"excellent\" + 0.026*\"flipkart\" + 0.022*\"osm\" + 0.020*\"amazing\" + 0.020*\"cost\" + 0.019*\"service\" + 0.012*\"doubt\" + 0.012*\"game\" + 0.011*\"mid\" + 0.011*\"fine\" + 0.008*\"clarity\" + 0.008*\"touch\"'),\n",
              " (2,\n",
              "  '0.056*\"super\" + 0.037*\"smartphone\" + 0.023*\"processor\" + 0.020*\"word\" + 0.018*\"buy\" + 0.010*\"gud\" + 0.010*\"xiaomi\" + 0.009*\"kind\" + 0.009*\"charging\" + 0.008*\"switching\" + 0.008*\"hai\" + 0.007*\"please\"'),\n",
              " (3,\n",
              "  '0.087*\"awesome\" + 0.084*\"delivery\" + 0.046*\"love\" + 0.028*\"wow\" + 0.023*\"thank\" + 0.007*\"heat\" + 0.005*\"beauty\" + 0.005*\"phon\" + 0.004*\"policy\" + 0.003*\"boy\" + 0.003*\"item\" + 0.002*\"switching\"'),\n",
              " (4,\n",
              "  '0.049*\"price\" + 0.047*\"camera\" + 0.039*\"value\" + 0.038*\"money\" + 0.032*\"performance\" + 0.021*\"killer\" + 0.020*\"quality\" + 0.019*\"flagship\" + 0.018*\"superb\" + 0.018*\"segment\" + 0.016*\"issue\" + 0.014*\"battery\"')]"
            ]
          },
          "metadata": {
            "tags": []
          },
          "execution_count": 177
        }
      ]
    },
    {
      "cell_type": "code",
      "metadata": {
        "id": "hmg4lquT40F0",
        "colab_type": "code",
        "colab": {}
      },
      "source": [
        ""
      ],
      "execution_count": 175,
      "outputs": []
    }
  ]
}