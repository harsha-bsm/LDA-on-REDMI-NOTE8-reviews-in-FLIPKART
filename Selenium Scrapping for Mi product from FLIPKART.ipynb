{
 "cells": [
  {
   "cell_type": "code",
   "execution_count": 5,
   "metadata": {},
   "outputs": [],
   "source": [
    "import requests as re\n",
    "import pandas as pd\n",
    "from bs4 import BeautifulSoup\n",
    "import re as regex\n",
    "import numpy as np\n",
    "import time\n",
    "\n",
    "    \n"
   ]
  },
  {
   "cell_type": "code",
   "execution_count": 25,
   "metadata": {},
   "outputs": [
    {
     "name": "stdout",
     "output_type": "stream",
     "text": [
      "Requirement already satisfied: selenium in c:\\users\\dell\\anaconda3\\lib\\site-packages (3.141.0)\n",
      "Requirement already satisfied: urllib3 in c:\\users\\dell\\anaconda3\\lib\\site-packages (from selenium) (1.22)\n"
     ]
    },
    {
     "name": "stderr",
     "output_type": "stream",
     "text": [
      "mysql-connector-python 8.0.19 requires dnspython==1.16.0, which is not installed.\n",
      "mysql-connector-python 8.0.19 requires protobuf==3.6.1, which is not installed.\n",
      "distributed 1.21.8 requires msgpack, which is not installed.\n",
      "You are using pip version 10.0.1, however version 20.2.2 is available.\n",
      "You should consider upgrading via the 'python -m pip install --upgrade pip' command.\n"
     ]
    }
   ],
   "source": [
    "!pip install selenium"
   ]
  },
  {
   "cell_type": "code",
   "execution_count": 2,
   "metadata": {},
   "outputs": [],
   "source": [
    "from selenium import webdriver\n",
    "\n",
    "#url=\"https://www.flipkart.com/samsung-galaxy-m30s-blue-128-gb/product-reviews/itm79f7239a3b086?pid=MOBFSHFBFGNWPSXF&lid=LSTMOBFSHFBFGNWPSXF514GKR&marketplace=FLIPKART&page=1\"\n",
    "#driver = webdriver.Chrome(\"C:/Users/Dell/Downloads/chromedriver_win32/chromedriver\")\n",
    "#driver.get(url)"
   ]
  },
  {
   "cell_type": "code",
   "execution_count": 45,
   "metadata": {},
   "outputs": [
    {
     "data": {
      "text/plain": [
       "'Samsung Galaxy M30s Blue 128 Gb Reviews: Latest Review of Samsung Galaxy M30s Blue 128 Gb | Price in India | Flipkart.com'"
      ]
     },
     "execution_count": 45,
     "metadata": {},
     "output_type": "execute_result"
    }
   ],
   "source": [
    "#driver.title"
   ]
  },
  {
   "cell_type": "code",
   "execution_count": 3,
   "metadata": {},
   "outputs": [],
   "source": [
    "#driver.page_source"
   ]
  },
  {
   "cell_type": "code",
   "execution_count": 47,
   "metadata": {},
   "outputs": [
    {
     "data": {
      "text/plain": [
       "[<selenium.webdriver.remote.webelement.WebElement (session=\"b6017e27c7fe143638ebbb3be85e0530\", element=\"525e0816-3ad6-4cde-8543-cf7992fa52cc\")>,\n",
       " <selenium.webdriver.remote.webelement.WebElement (session=\"b6017e27c7fe143638ebbb3be85e0530\", element=\"390eaabb-24ba-49cd-9b5f-6b68bfd27812\")>]"
      ]
     },
     "execution_count": 47,
     "metadata": {},
     "output_type": "execute_result"
    }
   ],
   "source": [
    "#click readmore\n",
    "# click radio button\n",
    "#read_more = driver.find_elements_by_class_name(\"_1EPkIx\")\n",
    "#read_more"
   ]
  },
  {
   "cell_type": "code",
   "execution_count": 7,
   "metadata": {},
   "outputs": [],
   "source": [
    "import time\n",
    "\n",
    "    "
   ]
  },
  {
   "cell_type": "code",
   "execution_count": 66,
   "metadata": {},
   "outputs": [],
   "source": [
    "data=pd.DataFrame(columns={\"Model\",\"title\",\"review\",\"rating\",\"user\",\"time_of_review\"})\n",
    "review_1=[]\n",
    "title_1=[]\n",
    "rating_1=[]\n",
    "user_1=[]\n",
    "time1=[]\n",
    "user_address=[]\n",
    "model=[]\n",
    "#url=\"https://www.flipkart.com/samsung-galaxy-m30s-blue-128-gb/product-reviews/itm79f7239a3b086?pid=MOBFSHFBFGNWPSXF&lid=LSTMOBFSHFBFGNWPSXF514GKR&marketplace=FLIPKART\"\n",
    "#driver = webdriver.Chrome(\"C:/Users/Dell/Downloads/chromedriver_win32/chromedriver\")\n",
    "\n",
    "url=\"https://www.flipkart.com/samsung-galaxy-m30s-blue-128-gb/product-reviews/itm79f7239a3b086?pid=MOBFSHFBFGNWPSXF&lid=LSTMOBFSHFBFGNWPSXF514GKR&marketplace=FLIPKART\"\n",
    "driver = webdriver.Chrome(\"C:/Users/Dell/Downloads/chromedriver_win32/chromedriver\")\n",
    "driver.get(url)\n",
    "html=driver.page_source\n",
    "soup=BeautifulSoup(html,\"lxml\")\n",
    "parent=soup.find( attrs={\"class\":\"_1ypTlJ\"})\n",
    "lastpage=int(parent.find_parent().span.text.split(\" \")[-1]) \n",
    "\n",
    "#for j in range(1,lastpage+1):\n",
    "    url=\"https://www.flipkart.com/samsung-galaxy-m30s-blue-128-gb/product-reviews/itm79f7239a3b086?pid=MOBFSHFBFGNWPSXF&lid=LSTMOBFSHFBFGNWPSXF514GKR&marketplace=FLIPKART&page=\"\n",
    "    url_fin=url+str(j)\n",
    "    driver.get(url_fin)\n",
    "    try:\n",
    "        read_more = driver.find_elements_by_class_name(\"_1EPkIx\")\n",
    "        for i in read_more:\n",
    "            time.sleep(10)\n",
    "            i.click()\n",
    "    except:\n",
    "        pass\n",
    "        \n",
    "    html=driver.page_source\n",
    "    soup=BeautifulSoup(html,\"lxml\")\n",
    "    review=soup.find_all(attrs={\"class\":\"qwjRop\"})\n",
    "    title=soup.find_all(\"p\",attrs={\"class\":\"_2xg6Ul\"})\n",
    "    user=soup.find_all(\"p\",attrs={\"class\":\"_3LYOAd _3sxSiS\"})\n",
    "    rating=soup.find_all(attrs={\"class\":\"hGSR34 E_uFuv\"})\n",
    "    address=soup.find_all(attrs={\"class\":\"_19inI8\"})\n",
    "    timer=soup.find_all(attrs={\"class\":\"_3LYOAd\"})[1::2]\n",
    "    timelapse=np.random.randint(15,20)\n",
    "    time.sleep(timelapse)\n",
    "    product=driver.title\n",
    "    try:\n",
    "        nextpage = driver.find_elements_by_class_name(\"_3fVaIS\")\n",
    "        timelapse=np.random.randint(5,10)\n",
    "        z=time.sleep(timelapse)\n",
    "        time.sleep(z)\n",
    "        nextpage.click()\n",
    "    except:\n",
    "        pass\n",
    "    for (i,j,k,u,t,ad) in zip(review,title,rating,user,timer,address):\n",
    "        review_1.append(i.text.strip(\"READ MORE\"))\n",
    "        title_1.append(j.get_text())\n",
    "        rating_1.append(k.get_text())\n",
    "        user_1.append(u.get_text())\n",
    "        time1.append(t.get_text())\n",
    "        user_address.append(ad.get_text())\n",
    "        model.append(product)"
   ]
  },
  {
   "cell_type": "code",
   "execution_count": 51,
   "metadata": {},
   "outputs": [],
   "source": [
    "import numpy as np"
   ]
  },
  {
   "cell_type": "code",
   "execution_count": 67,
   "metadata": {},
   "outputs": [],
   "source": [
    "data[\"title\"]=title_1\n",
    "data[\"review\"]=review_1\n",
    "data[\"rating\"]=rating_1\n",
    "data[\"user\"]=user_1\n",
    "data[\"time_of_review\"]=time1\n",
    "data[\"user_address\"]=user_address\n",
    "data[\"Model\"]=model"
   ]
  },
  {
   "cell_type": "code",
   "execution_count": 70,
   "metadata": {},
   "outputs": [
    {
     "data": {
      "text/html": [
       "<div>\n",
       "<style scoped>\n",
       "    .dataframe tbody tr th:only-of-type {\n",
       "        vertical-align: middle;\n",
       "    }\n",
       "\n",
       "    .dataframe tbody tr th {\n",
       "        vertical-align: top;\n",
       "    }\n",
       "\n",
       "    .dataframe thead th {\n",
       "        text-align: right;\n",
       "    }\n",
       "</style>\n",
       "<table border=\"1\" class=\"dataframe\">\n",
       "  <thead>\n",
       "    <tr style=\"text-align: right;\">\n",
       "      <th></th>\n",
       "      <th>user</th>\n",
       "      <th>title</th>\n",
       "      <th>review</th>\n",
       "      <th>Model</th>\n",
       "      <th>time_of_review</th>\n",
       "      <th>rating</th>\n",
       "      <th>user_address</th>\n",
       "    </tr>\n",
       "  </thead>\n",
       "  <tbody>\n",
       "    <tr>\n",
       "      <th>0</th>\n",
       "      <td>Aryan  Patil</td>\n",
       "      <td>Wonderful</td>\n",
       "      <td>Bokeh mode is very excellent than any other ha...</td>\n",
       "      <td>Samsung Galaxy M30s Blue 128 Gb Reviews: Lates...</td>\n",
       "      <td>2months ago</td>\n",
       "      <td>5</td>\n",
       "      <td>Certified Buyer, Latur District</td>\n",
       "    </tr>\n",
       "    <tr>\n",
       "      <th>1</th>\n",
       "      <td>Flipkart Customer</td>\n",
       "      <td>Great product</td>\n",
       "      <td>Just awsome product the picture quality is goo...</td>\n",
       "      <td>Samsung Galaxy M30s Blue 128 Gb Reviews: Lates...</td>\n",
       "      <td>5months ago</td>\n",
       "      <td>5</td>\n",
       "      <td>Certified Buyer, North Twenty Four Parganas Di...</td>\n",
       "    </tr>\n",
       "    <tr>\n",
       "      <th>2</th>\n",
       "      <td>Suresh Kumar</td>\n",
       "      <td>Nice product</td>\n",
       "      <td>Samsung galaxy m30s is most useful.But Samsung...</td>\n",
       "      <td>Samsung Galaxy M30s Blue 128 Gb Reviews: Lates...</td>\n",
       "      <td>5months ago</td>\n",
       "      <td>4</td>\n",
       "      <td>Certified Buyer, New Delhi</td>\n",
       "    </tr>\n",
       "    <tr>\n",
       "      <th>3</th>\n",
       "      <td>Rohit Purba</td>\n",
       "      <td>Utterly Disappointed</td>\n",
       "      <td>Not worth for me. i buy for my samsung tv this...</td>\n",
       "      <td>Samsung Galaxy M30s Blue 128 Gb Reviews: Lates...</td>\n",
       "      <td>6months ago</td>\n",
       "      <td>5</td>\n",
       "      <td>Certified Buyer, Rajpura</td>\n",
       "    </tr>\n",
       "    <tr>\n",
       "      <th>4</th>\n",
       "      <td>Flipkart Customer</td>\n",
       "      <td>Highly recommended</td>\n",
       "      <td>BSOLUTELY BEST PHONE, GO FOR THIS PHONELET ME ...</td>\n",
       "      <td>Samsung Galaxy M30s Blue 128 Gb Reviews: Lates...</td>\n",
       "      <td>5months ago</td>\n",
       "      <td>4</td>\n",
       "      <td>Certified Buyer, Muzaffarpur</td>\n",
       "    </tr>\n",
       "  </tbody>\n",
       "</table>\n",
       "</div>"
      ],
      "text/plain": [
       "                user                 title  \\\n",
       "0       Aryan  Patil             Wonderful   \n",
       "1  Flipkart Customer         Great product   \n",
       "2       Suresh Kumar          Nice product   \n",
       "3        Rohit Purba  Utterly Disappointed   \n",
       "4  Flipkart Customer    Highly recommended   \n",
       "\n",
       "                                              review  \\\n",
       "0  Bokeh mode is very excellent than any other ha...   \n",
       "1  Just awsome product the picture quality is goo...   \n",
       "2  Samsung galaxy m30s is most useful.But Samsung...   \n",
       "3  Not worth for me. i buy for my samsung tv this...   \n",
       "4  BSOLUTELY BEST PHONE, GO FOR THIS PHONELET ME ...   \n",
       "\n",
       "                                               Model time_of_review rating  \\\n",
       "0  Samsung Galaxy M30s Blue 128 Gb Reviews: Lates...    2months ago      5   \n",
       "1  Samsung Galaxy M30s Blue 128 Gb Reviews: Lates...    5months ago      5   \n",
       "2  Samsung Galaxy M30s Blue 128 Gb Reviews: Lates...    5months ago      4   \n",
       "3  Samsung Galaxy M30s Blue 128 Gb Reviews: Lates...    6months ago      5   \n",
       "4  Samsung Galaxy M30s Blue 128 Gb Reviews: Lates...    5months ago      4   \n",
       "\n",
       "                                        user_address  \n",
       "0                    Certified Buyer, Latur District  \n",
       "1  Certified Buyer, North Twenty Four Parganas Di...  \n",
       "2                         Certified Buyer, New Delhi  \n",
       "3                           Certified Buyer, Rajpura  \n",
       "4                       Certified Buyer, Muzaffarpur  "
      ]
     },
     "execution_count": 70,
     "metadata": {},
     "output_type": "execute_result"
    }
   ],
   "source": [
    "data.head()"
   ]
  },
  {
   "cell_type": "code",
   "execution_count": 74,
   "metadata": {},
   "outputs": [
    {
     "data": {
      "text/plain": [
       "'I have realized that this phone is full package.But i never feel it has 6000 mah battery.Approx 1 day after full use like 4 hours pubg 2 hours youtube and other work and its battery drain in 12 hours. I was accepting that this phone will with me approx 30 hours. But it was wrong.Even this phone has very great camera, display,ram management, also the look of this phone is superb.The display is slightly curved and the super amoled display make me feel so much great.But in the 14000 rupee and with samsung branding i think this phone is the best.I only disappointed by its battery but i satisfied by samsung effort great work.'"
      ]
     },
     "execution_count": 74,
     "metadata": {},
     "output_type": "execute_result"
    }
   ],
   "source": [
    "data[\"review\"][5]"
   ]
  },
  {
   "cell_type": "code",
   "execution_count": null,
   "metadata": {},
   "outputs": [],
   "source": []
  },
  {
   "cell_type": "code",
   "execution_count": 27,
   "metadata": {},
   "outputs": [],
   "source": [
    "data=pd.DataFrame(columns={\"Model\",\"title\",\"review\",\"rating\",\"user\",\"time_of_review\"})\n",
    "review_1=[]\n",
    "title_1=[]\n",
    "rating_1=[]\n",
    "user_1=[]\n",
    "time1=[]\n",
    "user_address=[]\n",
    "model=[]\n",
    "#url=\"https://www.flipkart.com/samsung-galaxy-m30s-blue-128-gb/product-reviews/itm79f7239a3b086?pid=MOBFSHFBFGNWPSXF&lid=LSTMOBFSHFBFGNWPSXF514GKR&marketplace=FLIPKART\"\n",
    "#driver = webdriver.Chrome(\"C:/Users/Dell/Downloads/chromedriver_win32/chromedriver\")\n",
    "\n",
    "url=\"https://www.flipkart.com/samsung-galaxy-m30s-blue-128-gb/product-reviews/itm79f7239a3b086?pid=MOBFSHFBFGNWPSXF&lid=LSTMOBFSHFBFGNWPSXF514GKR&marketplace=FLIPKART\"\n",
    "driver = webdriver.Chrome(\"C:/Users/Dell/Downloads/chromedriver_win32/chromedriver\")\n",
    "driver.get(url)\n",
    "html=driver.page_source\n",
    "soup=BeautifulSoup(html,\"lxml\")\n",
    "parent=soup.find( attrs={\"class\":\"_1ypTlJ\"})\n",
    "lastpage=int(parent.find_parent().span.text.split(\" \")[-1]) \n",
    "\n",
    "for j in range(1,lastpage+1):\n",
    "    url=\"https://www.flipkart.com/samsung-galaxy-m30s-blue-128-gb/product-reviews/itm79f7239a3b086?pid=MOBFSHFBFGNWPSXF&lid=LSTMOBFSHFBFGNWPSXF514GKR&marketplace=FLIPKART&page=\"\n",
    "    url_fin=url+str(j)\n",
    "    driver.get(url_fin)\n",
    "    try:\n",
    "        read_more = driver.find_elements_by_class_name(\"_1EPkIx\")\n",
    "        for i in read_more:\n",
    "            k=np.random.randint(15,20)\n",
    "            time.sleep(k)\n",
    "            i.click()\n",
    "    except:\n",
    "        pass\n",
    "        \n",
    "    html=driver.page_source\n",
    "    soup=BeautifulSoup(html,\"lxml\")\n",
    "    review=soup.find_all(attrs={\"class\":\"qwjRop\"})\n",
    "    title=soup.find_all(\"p\",attrs={\"class\":\"_2xg6Ul\"})\n",
    "    user=soup.find_all(\"p\",attrs={\"class\":\"_3LYOAd _3sxSiS\"})\n",
    "    rating=soup.find_all(attrs={\"class\":\"hGSR34\"})[1:]\n",
    "    address=soup.find_all(attrs={\"class\":\"_19inI8\"})\n",
    "    timer=soup.find_all(attrs={\"class\":\"_3LYOAd\"})[1::2]\n",
    "    timelapse=np.random.randint(15,20)\n",
    "    time.sleep(timelapse)\n",
    "    product=driver.title\n",
    "    try:\n",
    "        nextpage = driver.find_elements_by_class_name(\"_3fVaIS\")\n",
    "        timelapse=np.random.randint(8,14)\n",
    "        z=time.sleep(timelapse)\n",
    "        time.sleep(z)\n",
    "        nextpage.click()\n",
    "    except:\n",
    "        pass\n",
    "    for (i,j,k,u,t,ad) in zip(review,title,rating,user,timer,address):\n",
    "        review_1.append(i.text.strip(\"READ MORE\"))\n",
    "        title_1.append(j.get_text())\n",
    "        rating_1.append(k.get_text())\n",
    "        user_1.append(u.get_text())\n",
    "        time1.append(t.get_text())\n",
    "        user_address.append(ad.get_text())\n",
    "        model.append(product)\n",
    "data[\"title\"]=title_1\n",
    "data[\"review\"]=review_1\n",
    "data[\"rating\"]=rating_1\n",
    "data[\"user\"]=user_1\n",
    "data[\"time_of_review\"]=time1\n",
    "data[\"user_address\"]=user_address\n",
    "data[\"Model\"]=model\n",
    "data_mi=data\n",
    "data_mi.to_csv(\"data_mi.csv\", encoding='utf-8', index=False)"
   ]
  },
  {
   "cell_type": "code",
   "execution_count": 28,
   "metadata": {},
   "outputs": [],
   "source": [
    "data_mi.to_csv(\"data_samsung.csv\", encoding='utf-8', index=False)"
   ]
  },
  {
   "cell_type": "code",
   "execution_count": 29,
   "metadata": {},
   "outputs": [
    {
     "data": {
      "text/plain": [
       "(298, 7)"
      ]
     },
     "execution_count": 29,
     "metadata": {},
     "output_type": "execute_result"
    }
   ],
   "source": [
    "data_mi.shape"
   ]
  },
  {
   "cell_type": "code",
   "execution_count": 37,
   "metadata": {},
   "outputs": [
    {
     "data": {
      "text/html": [
       "<div>\n",
       "<style scoped>\n",
       "    .dataframe tbody tr th:only-of-type {\n",
       "        vertical-align: middle;\n",
       "    }\n",
       "\n",
       "    .dataframe tbody tr th {\n",
       "        vertical-align: top;\n",
       "    }\n",
       "\n",
       "    .dataframe thead th {\n",
       "        text-align: right;\n",
       "    }\n",
       "</style>\n",
       "<table border=\"1\" class=\"dataframe\">\n",
       "  <thead>\n",
       "    <tr style=\"text-align: right;\">\n",
       "      <th></th>\n",
       "      <th>Model</th>\n",
       "      <th>rating</th>\n",
       "      <th>user</th>\n",
       "      <th>time_of_review</th>\n",
       "      <th>review</th>\n",
       "      <th>title</th>\n",
       "      <th>user_address</th>\n",
       "    </tr>\n",
       "  </thead>\n",
       "  <tbody>\n",
       "    <tr>\n",
       "      <th>0</th>\n",
       "      <td>Samsung Galaxy M30s Blue 128 Gb Reviews: Lates...</td>\n",
       "      <td>5</td>\n",
       "      <td>Aryan  Patil</td>\n",
       "      <td>2months ago</td>\n",
       "      <td>Bokeh mode is very excellent than any other ha...</td>\n",
       "      <td>Wonderful</td>\n",
       "      <td>Certified Buyer, Latur District</td>\n",
       "    </tr>\n",
       "    <tr>\n",
       "      <th>1</th>\n",
       "      <td>Samsung Galaxy M30s Blue 128 Gb Reviews: Lates...</td>\n",
       "      <td>5</td>\n",
       "      <td>Flipkart Customer</td>\n",
       "      <td>5months ago</td>\n",
       "      <td>Just awsome product the picture quality is goo...</td>\n",
       "      <td>Great product</td>\n",
       "      <td>Certified Buyer, North Twenty Four Parganas Di...</td>\n",
       "    </tr>\n",
       "    <tr>\n",
       "      <th>2</th>\n",
       "      <td>Samsung Galaxy M30s Blue 128 Gb Reviews: Lates...</td>\n",
       "      <td>4</td>\n",
       "      <td>Suresh Kumar</td>\n",
       "      <td>5months ago</td>\n",
       "      <td>Samsung galaxy m30s is most useful.But Samsung...</td>\n",
       "      <td>Nice product</td>\n",
       "      <td>Certified Buyer, New Delhi</td>\n",
       "    </tr>\n",
       "    <tr>\n",
       "      <th>3</th>\n",
       "      <td>Samsung Galaxy M30s Blue 128 Gb Reviews: Lates...</td>\n",
       "      <td>1</td>\n",
       "      <td>Rohit Purba</td>\n",
       "      <td>6months ago</td>\n",
       "      <td>Not worth for me. i buy for my samsung tv this...</td>\n",
       "      <td>Utterly Disappointed</td>\n",
       "      <td>Certified Buyer, Rajpura</td>\n",
       "    </tr>\n",
       "    <tr>\n",
       "      <th>4</th>\n",
       "      <td>Samsung Galaxy M30s Blue 128 Gb Reviews: Lates...</td>\n",
       "      <td>5</td>\n",
       "      <td>Flipkart Customer</td>\n",
       "      <td>5months ago</td>\n",
       "      <td>BSOLUTELY BEST PHONE, GO FOR THIS PHONELET ME ...</td>\n",
       "      <td>Highly recommended</td>\n",
       "      <td>Certified Buyer, Muzaffarpur</td>\n",
       "    </tr>\n",
       "  </tbody>\n",
       "</table>\n",
       "</div>"
      ],
      "text/plain": [
       "                                               Model rating  \\\n",
       "0  Samsung Galaxy M30s Blue 128 Gb Reviews: Lates...      5   \n",
       "1  Samsung Galaxy M30s Blue 128 Gb Reviews: Lates...      5   \n",
       "2  Samsung Galaxy M30s Blue 128 Gb Reviews: Lates...      4   \n",
       "3  Samsung Galaxy M30s Blue 128 Gb Reviews: Lates...      1   \n",
       "4  Samsung Galaxy M30s Blue 128 Gb Reviews: Lates...      5   \n",
       "\n",
       "                user time_of_review  \\\n",
       "0       Aryan  Patil    2months ago   \n",
       "1  Flipkart Customer    5months ago   \n",
       "2       Suresh Kumar    5months ago   \n",
       "3        Rohit Purba    6months ago   \n",
       "4  Flipkart Customer    5months ago   \n",
       "\n",
       "                                              review                 title  \\\n",
       "0  Bokeh mode is very excellent than any other ha...             Wonderful   \n",
       "1  Just awsome product the picture quality is goo...         Great product   \n",
       "2  Samsung galaxy m30s is most useful.But Samsung...          Nice product   \n",
       "3  Not worth for me. i buy for my samsung tv this...  Utterly Disappointed   \n",
       "4  BSOLUTELY BEST PHONE, GO FOR THIS PHONELET ME ...    Highly recommended   \n",
       "\n",
       "                                        user_address  \n",
       "0                    Certified Buyer, Latur District  \n",
       "1  Certified Buyer, North Twenty Four Parganas Di...  \n",
       "2                         Certified Buyer, New Delhi  \n",
       "3                           Certified Buyer, Rajpura  \n",
       "4                       Certified Buyer, Muzaffarpur  "
      ]
     },
     "execution_count": 37,
     "metadata": {},
     "output_type": "execute_result"
    }
   ],
   "source": [
    "data_mi.head()"
   ]
  },
  {
   "cell_type": "code",
   "execution_count": 26,
   "metadata": {},
   "outputs": [
    {
     "data": {
      "text/plain": [
       "10"
      ]
     },
     "execution_count": 26,
     "metadata": {},
     "output_type": "execute_result"
    }
   ],
   "source": [
    "len(review)"
   ]
  },
  {
   "cell_type": "code",
   "execution_count": null,
   "metadata": {},
   "outputs": [],
   "source": []
  }
 ],
 "metadata": {
  "kernelspec": {
   "display_name": "Python 3",
   "language": "python",
   "name": "python3"
  },
  "language_info": {
   "codemirror_mode": {
    "name": "ipython",
    "version": 3
   },
   "file_extension": ".py",
   "mimetype": "text/x-python",
   "name": "python",
   "nbconvert_exporter": "python",
   "pygments_lexer": "ipython3",
   "version": "3.6.5"
  }
 },
 "nbformat": 4,
 "nbformat_minor": 2
}
