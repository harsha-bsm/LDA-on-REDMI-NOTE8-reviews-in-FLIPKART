{
  "nbformat": 4,
  "nbformat_minor": 0,
  "metadata": {
    "colab": {
      "name": "Sentence tokenisation LDA SAMSUNGM30.ipynb",
      "provenance": [],
      "toc_visible": true,
      "authorship_tag": "ABX9TyM8BNbCmcMUDVtArF54vaG5",
      "include_colab_link": true
    },
    "kernelspec": {
      "name": "python3",
      "display_name": "Python 3"
    }
  },
  "cells": [
    {
      "cell_type": "markdown",
      "metadata": {
        "id": "view-in-github",
        "colab_type": "text"
      },
      "source": [
        "<a href=\"https://colab.research.google.com/github/harsha-bsm/Topic-Modelling-using-LDA-and-NMF-on-SamsungM30s-reviewsflipkart/blob/master/Sentence_tokenisation_LDA_SAMSUNGM30.ipynb\" target=\"_parent\"><img src=\"https://colab.research.google.com/assets/colab-badge.svg\" alt=\"Open In Colab\"/></a>"
      ]
    },
    {
      "cell_type": "code",
      "metadata": {
        "id": "SKILHH8iQvAX",
        "colab_type": "code",
        "colab": {}
      },
      "source": [
        "import re\n",
        "import numpy as np\n",
        "import pandas as pd"
      ],
      "execution_count": null,
      "outputs": []
    },
    {
      "cell_type": "code",
      "metadata": {
        "id": "JKxaHbb_RD91",
        "colab_type": "code",
        "colab": {}
      },
      "source": [
        "data=pd.read_csv(\"samsungdata.csv\")\n",
        "dataoriginal=pd.read_csv(\"samsungdata.csv\")"
      ],
      "execution_count": null,
      "outputs": []
    },
    {
      "cell_type": "code",
      "metadata": {
        "id": "ekk77JUsRIHZ",
        "colab_type": "code",
        "colab": {
          "base_uri": "https://localhost:8080/",
          "height": 288
        },
        "outputId": "1a2e2870-91f0-4142-9c36-078b1d5fed4f"
      },
      "source": [
        "data.head()"
      ],
      "execution_count": null,
      "outputs": [
        {
          "output_type": "execute_result",
          "data": {
            "text/html": [
              "<div>\n",
              "<style scoped>\n",
              "    .dataframe tbody tr th:only-of-type {\n",
              "        vertical-align: middle;\n",
              "    }\n",
              "\n",
              "    .dataframe tbody tr th {\n",
              "        vertical-align: top;\n",
              "    }\n",
              "\n",
              "    .dataframe thead th {\n",
              "        text-align: right;\n",
              "    }\n",
              "</style>\n",
              "<table border=\"1\" class=\"dataframe\">\n",
              "  <thead>\n",
              "    <tr style=\"text-align: right;\">\n",
              "      <th></th>\n",
              "      <th>Unnamed: 0</th>\n",
              "      <th>Model</th>\n",
              "      <th>rating</th>\n",
              "      <th>user</th>\n",
              "      <th>time_of_review</th>\n",
              "      <th>review</th>\n",
              "      <th>title</th>\n",
              "      <th>user_address</th>\n",
              "      <th>user_type</th>\n",
              "    </tr>\n",
              "  </thead>\n",
              "  <tbody>\n",
              "    <tr>\n",
              "      <th>0</th>\n",
              "      <td>0</td>\n",
              "      <td>Samsung Galaxy M30s Blue 128 Gb Reviews: Lates...</td>\n",
              "      <td>5</td>\n",
              "      <td>Aryan  Patil</td>\n",
              "      <td>2months ago</td>\n",
              "      <td>Bokeh mode is very excellent than any other ha...</td>\n",
              "      <td>Wonderful</td>\n",
              "      <td>Latur District</td>\n",
              "      <td>Certified Buyer</td>\n",
              "    </tr>\n",
              "    <tr>\n",
              "      <th>1</th>\n",
              "      <td>1</td>\n",
              "      <td>Samsung Galaxy M30s Blue 128 Gb Reviews: Lates...</td>\n",
              "      <td>5</td>\n",
              "      <td>Flipkart Customer</td>\n",
              "      <td>5months ago</td>\n",
              "      <td>Just awsome product the picture quality is goo...</td>\n",
              "      <td>Great product</td>\n",
              "      <td>North Twenty Four Parganas District</td>\n",
              "      <td>Certified Buyer</td>\n",
              "    </tr>\n",
              "    <tr>\n",
              "      <th>2</th>\n",
              "      <td>2</td>\n",
              "      <td>Samsung Galaxy M30s Blue 128 Gb Reviews: Lates...</td>\n",
              "      <td>4</td>\n",
              "      <td>Suresh Kumar</td>\n",
              "      <td>5months ago</td>\n",
              "      <td>Samsung galaxy m30s is most useful.But Samsung...</td>\n",
              "      <td>Nice product</td>\n",
              "      <td>New Delhi</td>\n",
              "      <td>Certified Buyer</td>\n",
              "    </tr>\n",
              "    <tr>\n",
              "      <th>3</th>\n",
              "      <td>3</td>\n",
              "      <td>Samsung Galaxy M30s Blue 128 Gb Reviews: Lates...</td>\n",
              "      <td>1</td>\n",
              "      <td>Rohit Purba</td>\n",
              "      <td>6months ago</td>\n",
              "      <td>Not worth for me. i buy for my samsung tv this...</td>\n",
              "      <td>Utterly Disappointed</td>\n",
              "      <td>Rajpura</td>\n",
              "      <td>Certified Buyer</td>\n",
              "    </tr>\n",
              "    <tr>\n",
              "      <th>4</th>\n",
              "      <td>4</td>\n",
              "      <td>Samsung Galaxy M30s Blue 128 Gb Reviews: Lates...</td>\n",
              "      <td>5</td>\n",
              "      <td>Flipkart Customer</td>\n",
              "      <td>5months ago</td>\n",
              "      <td>BSOLUTELY BEST PHONE, GO FOR THIS PHONELET ME ...</td>\n",
              "      <td>Highly recommended</td>\n",
              "      <td>Muzaffarpur</td>\n",
              "      <td>Certified Buyer</td>\n",
              "    </tr>\n",
              "  </tbody>\n",
              "</table>\n",
              "</div>"
            ],
            "text/plain": [
              "   Unnamed: 0  ...        user_type\n",
              "0           0  ...  Certified Buyer\n",
              "1           1  ...  Certified Buyer\n",
              "2           2  ...  Certified Buyer\n",
              "3           3  ...  Certified Buyer\n",
              "4           4  ...  Certified Buyer\n",
              "\n",
              "[5 rows x 9 columns]"
            ]
          },
          "metadata": {
            "tags": []
          },
          "execution_count": 16
        }
      ]
    },
    {
      "cell_type": "code",
      "metadata": {
        "id": "sG6MbHUhwYKB",
        "colab_type": "code",
        "colab": {
          "base_uri": "https://localhost:8080/",
          "height": 82
        },
        "outputId": "64e1c316-3417-4a27-a55f-8ead35ba5c77"
      },
      "source": [
        "pip install emot "
      ],
      "execution_count": null,
      "outputs": [
        {
          "output_type": "stream",
          "text": [
            "Collecting emot\n",
            "  Downloading https://files.pythonhosted.org/packages/49/07/20001ade19873de611b7b66a4d5e5aabbf190d65abea337d5deeaa2bc3de/emot-2.1-py3-none-any.whl\n",
            "Installing collected packages: emot\n",
            "Successfully installed emot-2.1\n"
          ],
          "name": "stdout"
        }
      ]
    },
    {
      "cell_type": "code",
      "metadata": {
        "id": "Tmly-l1OeLL-",
        "colab_type": "code",
        "colab": {}
      },
      "source": [
        "####### Apply emoticons and emojis\n",
        "\n",
        "from emot.emo_unicode import UNICODE_EMO, EMOTICONS # contains english text of emojis and emoticons in dict format \n",
        "def convert_emojis(review):\n",
        "  for x in review:\n",
        "    if x in UNICODE_EMO.keys():\n",
        "      review=review.replace(x,\"\")\n",
        "  return review"
      ],
      "execution_count": null,
      "outputs": []
    },
    {
      "cell_type": "code",
      "metadata": {
        "id": "Wo1mbD4XSbID",
        "colab_type": "code",
        "colab": {}
      },
      "source": [
        "#converting all basic contracted foms  \n",
        "def decontracted(phrase):\n",
        "    # specific\n",
        "    phrase = re.sub(r\"won't\", \"will not\", phrase)\n",
        "    phrase = re.sub(r\"can\\'t\", \"can not\", phrase)\n",
        "\n",
        "    # general\n",
        "    phrase = re.sub(r\"n\\'t\", \" not\", phrase)\n",
        "    phrase = re.sub(r\"\\'re\", \" are\", phrase)\n",
        "    phrase = re.sub(r\"\\'s\", \" is\", phrase)\n",
        "    phrase = re.sub(r\"\\'d\", \" would\", phrase)\n",
        "    phrase = re.sub(r\"\\'ll\", \" will\", phrase)\n",
        "    phrase = re.sub(r\"\\'t\", \" not\", phrase)\n",
        "    phrase = re.sub(r\"\\'ve\", \" have\", phrase)\n",
        "    phrase = re.sub(r\"\\'m\", \" am\", phrase)\n",
        "    return phrase"
      ],
      "execution_count": null,
      "outputs": []
    },
    {
      "cell_type": "code",
      "metadata": {
        "id": "9h47xg15Y5cQ",
        "colab_type": "code",
        "colab": {}
      },
      "source": [
        "#removing special characters and tabs ,spaces,new lines etc..\n",
        "def removecharacters(review):\n",
        "  review= re.sub('[^A-Za-z0-9]+',' ',review)  #anything exept numbers and alphabets, replace them with space\n",
        "  review=re.sub(r\"\\n\",\" \",review)  #new lines into space\n",
        "  review=re.sub(r\"\\t\",\" \",review)  #tabs into space\n",
        "  review=re.sub(r\"\\v\",\" \",review)  #vertical tab into space\n",
        "  review=re.sub(r\"\\s\",\" \",review)   #all extra spaces into single space\n",
        "  return review  \n"
      ],
      "execution_count": null,
      "outputs": []
    },
    {
      "cell_type": "code",
      "metadata": {
        "id": "KqOCmax8PTwB",
        "colab_type": "code",
        "colab": {}
      },
      "source": [
        "# https://gist.github.com/sebleier/554280\n",
        "# we are removing the words from the stop words list: 'no', 'nor', 'not'\n",
        "# <br /><br /> ==> after the above steps, we are getting \"br br\"\n",
        "# we are including them into stop words list\n",
        "# instead of <br /> if we have <br/> these tags would have revmoved in the 1st step\n",
        "# ignore words like won't, haven't etc.. We have already taken care of them\n",
        "\n",
        "stopword= set(['br', 'the', 'i', 'me', 'my', 'myself', 'we', 'our', 'ours', 'ourselves', 'you', \"you're\", \"you've\",\\\n",
        "            \"you'll\", \"you'd\", 'your', 'yours', 'yourself', 'yourselves', 'he', 'him', 'his', 'himself', \\\n",
        "            'she', \"she's\", 'her', 'hers', 'herself', 'it', \"it's\", 'its', 'itself', 'they', 'them', 'their',\\\n",
        "            'theirs', 'themselves', 'what', 'which', 'who', 'whom', 'this', 'that', \"that'll\", 'these', 'those', \\\n",
        "            'am', 'is', 'are', 'was', 'were', 'be', 'been', 'being', 'have', 'has', 'had', 'having', 'do', 'does', \\\n",
        "            'did', 'doing', 'a', 'an', 'the', 'and', 'but', 'if', 'or', 'because', 'as', 'until', 'while', 'of', \\\n",
        "            'at', 'by', 'for', 'with', 'about', 'against', 'between', 'into', 'through', 'during', 'before', 'after',\\\n",
        "            'above', 'below', 'to', 'from', 'up', 'down', 'in', 'out', 'on', 'off', 'over', 'under', 'again', 'further',\\\n",
        "            'then', 'once', 'here', 'there', 'when', 'where', 'why', 'how', 'all', 'any', 'both', 'each', 'few', 'more',\\\n",
        "            'most', 'other', 'some', 'such', 'only', 'own', 'same', 'so', 'than', 'too', 'very', \\\n",
        "            's', 't', 'can', 'will', 'just', 'don', \"don't\", 'should', \"should've\", 'now', 'd', 'll', 'm', 'o', 're', \\\n",
        "            've', 'y', 'ain', 'aren', \"aren't\", 'couldn', \"couldn't\", 'didn', \"didn't\", 'doesn', \"doesn't\", 'hadn',\\\n",
        "            \"hadn't\", 'hasn', \"hasn't\", 'haven', \"haven't\", 'isn', \"isn't\", 'ma', 'mightn', \"mightn't\", 'mustn',\\\n",
        "            \"mustn't\", 'needn', \"needn't\", 'shan', \"shan't\", 'shouldn', \"shouldn't\", 'wasn', \"wasn't\", 'weren', \"weren't\", \\\n",
        "            'won', \"won't\", 'wouldn', \"wouldn't\",\"not\",\"phone\",\"product\",\"mobile\",\"np\"])"
      ],
      "execution_count": null,
      "outputs": []
    },
    {
      "cell_type": "code",
      "metadata": {
        "id": "dvdqs46FPVHt",
        "colab_type": "code",
        "colab": {}
      },
      "source": [
        "from nltk.corpus import stopwords\n",
        "import nltk"
      ],
      "execution_count": null,
      "outputs": []
    },
    {
      "cell_type": "code",
      "metadata": {
        "id": "bKJvsyw6biTI",
        "colab_type": "code",
        "colab": {}
      },
      "source": [
        "def removestopwords(review):\n",
        "  return \" \".join([word for word in review.split(\" \") if not word in stopword])\n"
      ],
      "execution_count": null,
      "outputs": []
    },
    {
      "cell_type": "code",
      "metadata": {
        "id": "TPvMpNFqyyQ3",
        "colab_type": "code",
        "colab": {}
      },
      "source": [
        "data[\"review\"]=data[\"review\"].apply(lambda x:convert_emojis(x))\n",
        "data[\"review\"]=data[\"review\"].apply(lambda x:x.lower()) \n",
        "data[\"review\"]=data[\"review\"].apply(lambda x:decontracted(x))\n",
        "data[\"review\"]=data[\"review\"].apply(lambda x:removecharacters(x))\n",
        "data[\"review\"]=pd.DataFrame(data[\"review\"].apply(lambda x:removestopwords(x)))"
      ],
      "execution_count": null,
      "outputs": []
    },
    {
      "cell_type": "code",
      "metadata": {
        "id": "1bhn9-ETgvLb",
        "colab_type": "code",
        "colab": {}
      },
      "source": [
        "from sklearn.feature_extraction.text import TfidfTransformer\n",
        "from sklearn.feature_extraction.text import TfidfVectorizer\n",
        "from sklearn.feature_extraction.text import CountVectorizer\n",
        "from gensim.models import ldamodel\n",
        "import gensim.corpora\n",
        "from sklearn.decomposition import LatentDirichletAllocation"
      ],
      "execution_count": null,
      "outputs": []
    },
    {
      "cell_type": "code",
      "metadata": {
        "id": "kd3CmQ9Ng0lG",
        "colab_type": "code",
        "colab": {}
      },
      "source": [
        "#https://scikit-learn.org/stable/auto_examples/applications/plot_topics_extraction_with_nmf_lda.html#sphx-glr-auto-examples-applications-plot-topics-extraction-with-nmf-lda-py\n",
        "def print_top_words(model, feature_names, n_top_words):\n",
        "  topics_cluster=[]\n",
        "  for topic_idx, topic in enumerate(model.components_):\n",
        "      message = \"Topic #%d: \" % topic_idx\n",
        "      message += \",\".join([feature_names[i] for i in topic.argsort()[:-n_top_words - 1:-1]])\n",
        "      topics_cluster.append([feature_names[i] for i in topic.argsort()[:-n_top_words - 1:-1]])\n",
        "  return topics_cluster\n",
        "  "
      ],
      "execution_count": null,
      "outputs": []
    },
    {
      "cell_type": "code",
      "metadata": {
        "id": "YN_uJnfPKGJl",
        "colab_type": "code",
        "colab": {
          "base_uri": "https://localhost:8080/",
          "height": 82
        },
        "outputId": "f7db2cc3-0a91-4909-8fc0-baaa9ba57977"
      },
      "source": [
        "  import nltk\n",
        "  nltk.download('averaged_perceptron_tagger')"
      ],
      "execution_count": null,
      "outputs": [
        {
          "output_type": "stream",
          "text": [
            "[nltk_data] Downloading package averaged_perceptron_tagger to\n",
            "[nltk_data]     /root/nltk_data...\n",
            "[nltk_data]   Unzipping taggers/averaged_perceptron_tagger.zip.\n"
          ],
          "name": "stdout"
        },
        {
          "output_type": "execute_result",
          "data": {
            "text/plain": [
              "True"
            ]
          },
          "metadata": {
            "tags": []
          },
          "execution_count": 27
        }
      ]
    },
    {
      "cell_type": "code",
      "metadata": {
        "id": "6NQkYJpdiwfN",
        "colab_type": "code",
        "colab": {}
      },
      "source": [
        "def only_nouns(review):\n",
        "  lis= \" \".join([each.strip(\" \") for each,pos in nltk.pos_tag(review.split()) if pos==\"NN\"])\n",
        "  return lis\n",
        "  \n"
      ],
      "execution_count": null,
      "outputs": []
    },
    {
      "cell_type": "code",
      "metadata": {
        "id": "RK-VJRYSkTD2",
        "colab_type": "code",
        "colab": {}
      },
      "source": [
        "data[\"review\"]=data[\"review\"].apply(lambda x:only_nouns(x))"
      ],
      "execution_count": null,
      "outputs": []
    },
    {
      "cell_type": "markdown",
      "metadata": {
        "id": "4p8fypaOU_4w",
        "colab_type": "text"
      },
      "source": [
        "# Sentence Tokenisation"
      ]
    },
    {
      "cell_type": "code",
      "metadata": {
        "id": "jPSzlnDr2kEx",
        "colab_type": "code",
        "colab": {
          "base_uri": "https://localhost:8080/",
          "height": 66
        },
        "outputId": "67dd7261-bff6-4e4c-ffc5-89f71390bd5c"
      },
      "source": [
        "from nltk.tokenize import sent_tokenize\n",
        "import nltk\n",
        "nltk.download('punkt')"
      ],
      "execution_count": null,
      "outputs": [
        {
          "output_type": "stream",
          "text": [
            "[nltk_data] Downloading package punkt to /root/nltk_data...\n",
            "[nltk_data]   Unzipping tokenizers/punkt.zip.\n"
          ],
          "name": "stdout"
        },
        {
          "output_type": "execute_result",
          "data": {
            "text/plain": [
              "True"
            ]
          },
          "metadata": {
            "tags": []
          },
          "execution_count": 90
        }
      ]
    },
    {
      "cell_type": "code",
      "metadata": {
        "id": "kcHkke80VDyw",
        "colab_type": "code",
        "colab": {}
      },
      "source": [
        "review=pd.read_csv(\"samsungdata.csv\")[\"review\"].values"
      ],
      "execution_count": null,
      "outputs": []
    },
    {
      "cell_type": "code",
      "metadata": {
        "id": "4hLlIZM2VRsL",
        "colab_type": "code",
        "colab": {}
      },
      "source": [
        "import nltk.data"
      ],
      "execution_count": null,
      "outputs": []
    },
    {
      "cell_type": "code",
      "metadata": {
        "id": "DJ-0sYIHWjaV",
        "colab_type": "code",
        "colab": {}
      },
      "source": [
        "sent=[]\n",
        "for i in review:\n",
        "  sent.extend(nltk.sent_tokenize(i))"
      ],
      "execution_count": null,
      "outputs": []
    },
    {
      "cell_type": "code",
      "metadata": {
        "id": "DnNkbLwIWrnT",
        "colab_type": "code",
        "colab": {
          "base_uri": "https://localhost:8080/",
          "height": 33
        },
        "outputId": "09fb5658-5aa9-40a4-d59e-8bc52ffa251b"
      },
      "source": [
        "len(sent)"
      ],
      "execution_count": null,
      "outputs": [
        {
          "output_type": "execute_result",
          "data": {
            "text/plain": [
              "348"
            ]
          },
          "metadata": {
            "tags": []
          },
          "execution_count": 94
        }
      ]
    },
    {
      "cell_type": "code",
      "metadata": {
        "id": "EK8QeeGJYao1",
        "colab_type": "code",
        "colab": {}
      },
      "source": [
        "df=pd.DataFrame(sent,columns=[\"review\"])"
      ],
      "execution_count": null,
      "outputs": []
    },
    {
      "cell_type": "code",
      "metadata": {
        "id": "iqdvzs30ZEZ1",
        "colab_type": "code",
        "colab": {
          "base_uri": "https://localhost:8080/",
          "height": 191
        },
        "outputId": "5b9f07d3-8a86-4f76-ce09-a08d220f7dc2"
      },
      "source": [
        "df.head()"
      ],
      "execution_count": null,
      "outputs": [
        {
          "output_type": "execute_result",
          "data": {
            "text/html": [
              "<div>\n",
              "<style scoped>\n",
              "    .dataframe tbody tr th:only-of-type {\n",
              "        vertical-align: middle;\n",
              "    }\n",
              "\n",
              "    .dataframe tbody tr th {\n",
              "        vertical-align: top;\n",
              "    }\n",
              "\n",
              "    .dataframe thead th {\n",
              "        text-align: right;\n",
              "    }\n",
              "</style>\n",
              "<table border=\"1\" class=\"dataframe\">\n",
              "  <thead>\n",
              "    <tr style=\"text-align: right;\">\n",
              "      <th></th>\n",
              "      <th>review</th>\n",
              "    </tr>\n",
              "  </thead>\n",
              "  <tbody>\n",
              "    <tr>\n",
              "      <th>0</th>\n",
              "      <td>Bokeh mode is very excellent than any other ha...</td>\n",
              "    </tr>\n",
              "    <tr>\n",
              "      <th>1</th>\n",
              "      <td>Just awsome product the picture quality is goo...</td>\n",
              "    </tr>\n",
              "    <tr>\n",
              "      <th>2</th>\n",
              "      <td>I reccomend you to buy this product</td>\n",
              "    </tr>\n",
              "    <tr>\n",
              "      <th>3</th>\n",
              "      <td>Samsung galaxy m30s is most useful.But Samsung...</td>\n",
              "    </tr>\n",
              "    <tr>\n",
              "      <th>4</th>\n",
              "      <td>Where is i am disappointed with the selfie but...</td>\n",
              "    </tr>\n",
              "  </tbody>\n",
              "</table>\n",
              "</div>"
            ],
            "text/plain": [
              "                                              review\n",
              "0  Bokeh mode is very excellent than any other ha...\n",
              "1  Just awsome product the picture quality is goo...\n",
              "2                I reccomend you to buy this product\n",
              "3  Samsung galaxy m30s is most useful.But Samsung...\n",
              "4  Where is i am disappointed with the selfie but..."
            ]
          },
          "metadata": {
            "tags": []
          },
          "execution_count": 96
        }
      ]
    },
    {
      "cell_type": "code",
      "metadata": {
        "id": "rFB_6ix1ZMPJ",
        "colab_type": "code",
        "colab": {
          "base_uri": "https://localhost:8080/",
          "height": 33
        },
        "outputId": "d584b960-df74-48f0-aea8-0b58528591fa"
      },
      "source": [
        "df.shape"
      ],
      "execution_count": null,
      "outputs": [
        {
          "output_type": "execute_result",
          "data": {
            "text/plain": [
              "(348, 1)"
            ]
          },
          "metadata": {
            "tags": []
          },
          "execution_count": 97
        }
      ]
    },
    {
      "cell_type": "code",
      "metadata": {
        "id": "JS79NiY0ZOyp",
        "colab_type": "code",
        "colab": {}
      },
      "source": [
        "df[\"review\"]=df[\"review\"].apply(lambda x:convert_emojis(x))\n",
        "df[\"review\"]=df[\"review\"].apply(lambda x:x.lower()) \n",
        "df[\"review\"]=df[\"review\"].apply(lambda x:decontracted(x))\n",
        "df[\"review\"]=df[\"review\"].apply(lambda x:removecharacters(x))\n",
        "df[\"review\"]=pd.DataFrame(df[\"review\"].apply(lambda x:removestopwords(x)))"
      ],
      "execution_count": null,
      "outputs": []
    },
    {
      "cell_type": "code",
      "metadata": {
        "id": "yuXMDynmZ_DF",
        "colab_type": "code",
        "colab": {}
      },
      "source": [
        "#data[\"title\"]=data[\"title\"].apply(lambda x:only_nouns_adjectives(x))\n",
        "#df[\"review\"]=df[\"review\"].apply(lambda x:only_nouns(x))"
      ],
      "execution_count": null,
      "outputs": []
    },
    {
      "cell_type": "markdown",
      "metadata": {
        "id": "xzcq3SXjaaDD",
        "colab_type": "text"
      },
      "source": [
        "##sent tokanised "
      ]
    },
    {
      "cell_type": "markdown",
      "metadata": {
        "id": "LvFFZA0hah6R",
        "colab_type": "text"
      },
      "source": [
        "### BOW LDA"
      ]
    },
    {
      "cell_type": "code",
      "metadata": {
        "id": "HIktQgzIaR6x",
        "colab_type": "code",
        "colab": {
          "base_uri": "https://localhost:8080/",
          "height": 180
        },
        "outputId": "fbd1ff52-e3cb-4b9a-f98b-30152ecb8d64"
      },
      "source": [
        "bow=CountVectorizer(ngram_range=(1,1))\n",
        "bow_review=bow.fit_transform(df[\"review\"])\n",
        "df_bow=pd.DataFrame(bow_review.toarray(),columns=bow.get_feature_names())\n",
        "lda = LatentDirichletAllocation(n_components=10,random_state=0)\n",
        "lda.fit_transform(df_bow)\n",
        "print_top_words(lda,bow.get_feature_names(),5)"
      ],
      "execution_count": null,
      "outputs": [
        {
          "output_type": "execute_result",
          "data": {
            "text/plain": [
              "[['wesome', 'flipkart', 'worst', 'ok', 'use'],\n",
              " ['super', 'samsung', 'quality', 'bad', 'camera'],\n",
              " ['xcellent', 'excellent', 'battery', 'thanks', 'camera'],\n",
              " ['good', 'camera', 'battery', 'super', 'one'],\n",
              " ['hangs', 'best', 'no', 'frequently', 'smooth'],\n",
              " ['good', 'poor', 'buy', 'online', 'though'],\n",
              " ['superb', 'good', 'like', 'buy', 'performance'],\n",
              " ['good', 'battery', 'camera', 'display', 'money'],\n",
              " ['battery', 'worth', 'good', 'backup', 'money'],\n",
              " ['nice', 'best', 'awesome', 'battery', 'price']]"
            ]
          },
          "metadata": {
            "tags": []
          },
          "execution_count": 246
        }
      ]
    },
    {
      "cell_type": "markdown",
      "metadata": {
        "id": "bZoReOfDrzPz",
        "colab_type": "text"
      },
      "source": [
        "#### LDA again"
      ]
    },
    {
      "cell_type": "code",
      "metadata": {
        "id": "w81M1n0tr2xv",
        "colab_type": "code",
        "colab": {
          "base_uri": "https://localhost:8080/",
          "height": 98
        },
        "outputId": "5cba2b59-1523-44fa-fba8-dc06cb10777d"
      },
      "source": [
        "arr=np.array(print_top_words(lda,bow.get_feature_names(),5)).reshape(1,-1)[0]\n",
        "bow=CountVectorizer(ngram_range=(1,1))\n",
        "bow_review=bow.fit_transform(arr)\n",
        "df_bow=pd.DataFrame(bow_review.toarray(),columns=bow.get_feature_names())\n",
        "lda = LatentDirichletAllocation(n_components=5,random_state=0)\n",
        "lda.fit_transform(df_bow)\n",
        "print_top_words(lda,bow.get_feature_names(),4)\n"
      ],
      "execution_count": null,
      "outputs": [
        {
          "output_type": "execute_result",
          "data": {
            "text/plain": [
              "[['money', 'ok', 'performance', 'bad'],\n",
              " ['price', 'though', 'worth', 'smooth'],\n",
              " ['battery', 'good', 'hangs', 'samsung'],\n",
              " ['camera', 'buy', 'nice', 'flipkart'],\n",
              " ['best', 'super', 'wesome', 'online']]"
            ]
          },
          "metadata": {
            "tags": []
          },
          "execution_count": 247
        }
      ]
    },
    {
      "cell_type": "markdown",
      "metadata": {
        "id": "2mUlGNyfasYU",
        "colab_type": "text"
      },
      "source": [
        "### TFIDF LDA"
      ]
    },
    {
      "cell_type": "code",
      "metadata": {
        "id": "kdOl1mAAanLt",
        "colab_type": "code",
        "colab": {
          "base_uri": "https://localhost:8080/",
          "height": 180
        },
        "outputId": "13df4d77-3761-42ba-d25e-87fc638edef3"
      },
      "source": [
        "tfidf=TfidfVectorizer(ngram_range=(1,1))\n",
        "tfidf_words=tfidf.fit_transform(df[\"review\"])\n",
        "words=tfidf.get_feature_names()\n",
        "df_bow=pd.DataFrame(tfidf_words.toarray(),columns=words)\n",
        "lda = LatentDirichletAllocation(n_components=10,random_state=0)\n",
        "lda.fit_transform(tfidf_words)\n",
        "print_top_words(lda,words,5)"
      ],
      "execution_count": null,
      "outputs": [
        {
          "output_type": "execute_result",
          "data": {
            "text/plain": [
              "[['wesome', 'ok', 'smart', 'months', 'quality'],\n",
              " ['super', 'quality', 'love', 'flipkart', 'samsung'],\n",
              " ['excellent', 'great', 'loved', 'thank', 'camera'],\n",
              " ['xcellent', 'bad', 'battery', 'camera', 'one'],\n",
              " ['samsung', 'hangs', 'no', 'frequently', 'smooth'],\n",
              " ['recommend', 'worthless', 'exellent', 'sm', 'online'],\n",
              " ['superb', 'smartphone', 'sad', 'buy', 'good'],\n",
              " ['good', 'camera', 'battery', 'display', 'also'],\n",
              " ['worth', 'normal', 'money', 'wsm', 'camera'],\n",
              " ['nice', 'best', 'awesome', 'battery', 'price']]"
            ]
          },
          "metadata": {
            "tags": []
          },
          "execution_count": 234
        }
      ]
    },
    {
      "cell_type": "markdown",
      "metadata": {
        "id": "ZibosmtYtVn3",
        "colab_type": "text"
      },
      "source": [
        "#### (LDA AGAIN)"
      ]
    },
    {
      "cell_type": "code",
      "metadata": {
        "id": "GsmgZRSUthDv",
        "colab_type": "code",
        "colab": {
          "base_uri": "https://localhost:8080/",
          "height": 82
        },
        "outputId": "ec899e11-1c8e-419e-ca3e-70825ed138e9"
      },
      "source": [
        "arr=np.array(print_top_words(lda,words,5)).reshape(1,-1)[0]\n",
        "tfidf=TfidfVectorizer(ngram_range=(1,1))\n",
        "tfidf_words=tfidf.fit_transform(arr)\n",
        "words=tfidf.get_feature_names()\n",
        "df_tfidf=pd.DataFrame(tfidf_words.toarray(),columns=words)\n",
        "lda = LatentDirichletAllocation(n_components=4,random_state=0)\n",
        "lda.fit_transform(df_tfidf)\n",
        "print_top_words(lda,words,4)\n"
      ],
      "execution_count": null,
      "outputs": [
        {
          "output_type": "execute_result",
          "data": {
            "text/plain": [
              "[['hangs', 'bad', 'also', 'worth'],\n",
              " ['camera', 'battery', 'samsung', 'one'],\n",
              " ['quality', 'thank', 'sm', 'smartphone'],\n",
              " ['good', 'smooth', 'frequently', 'superb']]"
            ]
          },
          "metadata": {
            "tags": []
          },
          "execution_count": 235
        }
      ]
    },
    {
      "cell_type": "markdown",
      "metadata": {
        "id": "9rEoUn47a9nV",
        "colab_type": "text"
      },
      "source": [
        "### NMF TFIDF"
      ]
    },
    {
      "cell_type": "code",
      "metadata": {
        "id": "rllqvDBoa0df",
        "colab_type": "code",
        "colab": {
          "base_uri": "https://localhost:8080/",
          "height": 180
        },
        "outputId": "e1ba6e85-eda1-4454-b578-21b33977d238"
      },
      "source": [
        "nmf = NMF(n_components=10, random_state=1,\n",
        "          beta_loss='kullback-leibler', solver='mu', max_iter=1000, alpha=.1,\n",
        "          l1_ratio=.5).fit(tfidf_words)\n",
        "print_top_words(nmf,words,5)"
      ],
      "execution_count": null,
      "outputs": [
        {
          "output_type": "execute_result",
          "data": {
            "text/plain": [
              "[['camera', 'flipkart', 'xcellent', 'months', 'money'],\n",
              " ['battery', 'xcellent', 'flipkart', 'months', 'money'],\n",
              " ['good', 'xcellent', 'flipkart', 'months', 'money'],\n",
              " ['quality', 'bad', 'xcellent', 'flipkart', 'money'],\n",
              " ['samsung', 'xcellent', 'flipkart', 'money', 'loved'],\n",
              " ['no', 'one', 'awesome', 'loved', 'superb'],\n",
              " ['xcellent', 'buy', 'online', 'frequently', 'sad'],\n",
              " ['excellent', 'normal', 'best', 'great', 'smooth'],\n",
              " ['also', 'smartphone', 'love', 'price', 'recommend'],\n",
              " ['worthless', 'wsm', 'ok', 'super', 'hangs']]"
            ]
          },
          "metadata": {
            "tags": []
          },
          "execution_count": 249
        }
      ]
    },
    {
      "cell_type": "markdown",
      "metadata": {
        "id": "wnfQxaXecqNH",
        "colab_type": "text"
      },
      "source": [
        "### NMF BOW"
      ]
    },
    {
      "cell_type": "code",
      "metadata": {
        "id": "lL9X0a0RbEWe",
        "colab_type": "code",
        "colab": {
          "base_uri": "https://localhost:8080/",
          "height": 180
        },
        "outputId": "d094eafc-1b2b-4667-9d09-822ee456fa7b"
      },
      "source": [
        "bow=CountVectorizer(ngram_range=(1,1))\n",
        "bow_review=bow.fit_transform(data[\"review\"])\n",
        "\n",
        "nmf = NMF(n_components=10, random_state=1,\n",
        "          beta_loss='kullback-leibler', solver='mu', max_iter=1000, alpha=.1,\n",
        "          l1_ratio=.5).fit(bow_review)\n",
        "bow_words=bow.get_feature_names()\n",
        "print_top_words(nmf,bow_words,4)"
      ],
      "execution_count": null,
      "outputs": [
        {
          "output_type": "execute_result",
          "data": {
            "text/plain": [
              "[['good', 'battery', 'camera', 'display'],\n",
              " ['super', 'superb', 'great', 'display'],\n",
              " ['samsung', 'buy', 'm30s', 'loved'],\n",
              " ['nice', 'delivery', 'thanks', 'awsm'],\n",
              " ['quality', 'camera', 'hangs', 'using'],\n",
              " ['best', 'price', 'range', 'camera'],\n",
              " ['wesome', 'battery', 'money', 'xcellent'],\n",
              " ['performance', 'excellent', 'no', 'display'],\n",
              " ['use', 'ok', 'best', 'awsome'],\n",
              " ['flipkart', 'thank', 'love', 'worst']]"
            ]
          },
          "metadata": {
            "tags": []
          },
          "execution_count": 250
        }
      ]
    },
    {
      "cell_type": "markdown",
      "metadata": {
        "id": "qqUExyt8MM91",
        "colab_type": "text"
      },
      "source": [
        "#### nmf again"
      ]
    },
    {
      "cell_type": "code",
      "metadata": {
        "id": "NJeT3-FJMXD4",
        "colab_type": "code",
        "colab": {
          "base_uri": "https://localhost:8080/",
          "height": 98
        },
        "outputId": "66c04c28-da87-49ac-d362-4fe6e178870c"
      },
      "source": [
        "arr=np.array(print_top_words(nmf,bow.get_feature_names(),5)).reshape(1,-1)[0]\n",
        "bow=CountVectorizer(ngram_range=(1,1))\n",
        "bow_review=bow.fit_transform(arr)\n",
        "df_bow=pd.DataFrame(bow_review.toarray(),columns=bow.get_feature_names())\n",
        "nmf = NMF(n_components=5, random_state=1,\n",
        "          beta_loss='kullback-leibler', solver='mu', max_iter=1000, alpha=.1,\n",
        "          l1_ratio=.5).fit(bow_review)\n",
        "bow_words=bow.get_feature_names()\n",
        "print_top_words(nmf,bow_words,4)"
      ],
      "execution_count": null,
      "outputs": [
        {
          "output_type": "execute_result",
          "data": {
            "text/plain": [
              "[['display', 'hours', 'buy', 'worst'],\n",
              " ['battery', 'great', 'money', 'good'],\n",
              " ['camera', 'xcellent', 'online', 'backup'],\n",
              " ['best', 'quality', 'budget', 'hangs'],\n",
              " ['performance', 'love', 'samsung', 'better']]"
            ]
          },
          "metadata": {
            "tags": []
          },
          "execution_count": 251
        }
      ]
    },
    {
      "cell_type": "markdown",
      "metadata": {
        "id": "kOxm846pbjrN",
        "colab_type": "text"
      },
      "source": [
        "## POS TAGGING ONLY NOUNS"
      ]
    },
    {
      "cell_type": "code",
      "metadata": {
        "id": "39lpvTrkbQ5M",
        "colab_type": "code",
        "colab": {}
      },
      "source": [
        "df[\"review\"]=df[\"review\"].apply(lambda x:only_nouns(x))"
      ],
      "execution_count": null,
      "outputs": []
    },
    {
      "cell_type": "markdown",
      "metadata": {
        "id": "0l-Ldn3Db1HG",
        "colab_type": "text"
      },
      "source": [
        "### BOW LDA"
      ]
    },
    {
      "cell_type": "code",
      "metadata": {
        "id": "uXfl0hMabvF0",
        "colab_type": "code",
        "colab": {
          "base_uri": "https://localhost:8080/",
          "height": 82
        },
        "outputId": "1a10b8d0-0830-45b8-9e03-33dbfe1b3243"
      },
      "source": [
        "bow=CountVectorizer(ngram_range=(1,1))\n",
        "bow_review=bow.fit_transform(df[\"review\"])\n",
        "df_bow=pd.DataFrame(bow_review.toarray(),columns=bow.get_feature_names())\n",
        "lda = LatentDirichletAllocation(n_components=4,random_state=0)\n",
        "lda.fit_transform(df_bow)\n",
        "print_top_words(lda,bow.get_feature_names(),4)"
      ],
      "execution_count": null,
      "outputs": [
        {
          "output_type": "execute_result",
          "data": {
            "text/plain": [
              "[['super', 'wesome', 'price', 'camera'],\n",
              " ['superb', 'buy', 'awesome', 'use'],\n",
              " ['camera', 'display', 'samsung', 'battery'],\n",
              " ['battery', 'backup', 'money', 'ok']]"
            ]
          },
          "metadata": {
            "tags": []
          },
          "execution_count": 133
        }
      ]
    },
    {
      "cell_type": "code",
      "metadata": {
        "id": "_udLnkKiRRI_",
        "colab_type": "code",
        "colab": {
          "base_uri": "https://localhost:8080/",
          "height": 363
        },
        "outputId": "524b33ec-53b7-45a7-8039-a869a750f3f0"
      },
      "source": [
        "topics=print_top_words(lda,bow.get_feature_names(),4)\n",
        "topic=[\"topic_\"+str(i) for i  in range(0,lda.n_components)]\n",
        "df_doc_topic=pd.DataFrame(lda.fit_transform(df_bow),columns=topic)\n",
        "dominant_topic = np.argmax(df_doc_topic.values, axis=1)\n",
        "df_doc_topic[\"dominant_topic\"] = dominant_topic\n",
        "df_doc_topic[\"review\"]=df[\"review\"]\n",
        "df_doc_topic[\"dominant_topic_keywords\"]=[topics[i]  for i in dominant_topic]\n",
        "df_doc_topic[:11]"
      ],
      "execution_count": null,
      "outputs": [
        {
          "output_type": "execute_result",
          "data": {
            "text/html": [
              "<div>\n",
              "<style scoped>\n",
              "    .dataframe tbody tr th:only-of-type {\n",
              "        vertical-align: middle;\n",
              "    }\n",
              "\n",
              "    .dataframe tbody tr th {\n",
              "        vertical-align: top;\n",
              "    }\n",
              "\n",
              "    .dataframe thead th {\n",
              "        text-align: right;\n",
              "    }\n",
              "</style>\n",
              "<table border=\"1\" class=\"dataframe\">\n",
              "  <thead>\n",
              "    <tr style=\"text-align: right;\">\n",
              "      <th></th>\n",
              "      <th>topic_0</th>\n",
              "      <th>topic_1</th>\n",
              "      <th>topic_2</th>\n",
              "      <th>topic_3</th>\n",
              "      <th>dominant_topic</th>\n",
              "      <th>review</th>\n",
              "      <th>dominant_topic_keywords</th>\n",
              "    </tr>\n",
              "  </thead>\n",
              "  <tbody>\n",
              "    <tr>\n",
              "      <th>0</th>\n",
              "      <td>0.016826</td>\n",
              "      <td>0.016841</td>\n",
              "      <td>0.949477</td>\n",
              "      <td>0.016856</td>\n",
              "      <td>2</td>\n",
              "      <td>bokeh mode handset budget battery camera displ...</td>\n",
              "      <td>[camera, display, samsung, battery]</td>\n",
              "    </tr>\n",
              "    <tr>\n",
              "      <th>1</th>\n",
              "      <td>0.032914</td>\n",
              "      <td>0.032456</td>\n",
              "      <td>0.891801</td>\n",
              "      <td>0.042829</td>\n",
              "      <td>2</td>\n",
              "      <td>picture quality battery backup awsome pub g ex...</td>\n",
              "      <td>[camera, display, samsung, battery]</td>\n",
              "    </tr>\n",
              "    <tr>\n",
              "      <th>2</th>\n",
              "      <td>0.083374</td>\n",
              "      <td>0.749892</td>\n",
              "      <td>0.083363</td>\n",
              "      <td>0.083372</td>\n",
              "      <td>1</td>\n",
              "      <td>reccomend buy</td>\n",
              "      <td>[superb, buy, awesome, use]</td>\n",
              "    </tr>\n",
              "    <tr>\n",
              "      <th>3</th>\n",
              "      <td>0.036633</td>\n",
              "      <td>0.035741</td>\n",
              "      <td>0.891825</td>\n",
              "      <td>0.035801</td>\n",
              "      <td>2</td>\n",
              "      <td>samsung galaxy m30s samsung selfie camera</td>\n",
              "      <td>[camera, display, samsung, battery]</td>\n",
              "    </tr>\n",
              "    <tr>\n",
              "      <th>4</th>\n",
              "      <td>0.182244</td>\n",
              "      <td>0.035891</td>\n",
              "      <td>0.746052</td>\n",
              "      <td>0.035813</td>\n",
              "      <td>2</td>\n",
              "      <td>selfie bugdet performance display super decent</td>\n",
              "      <td>[camera, display, samsung, battery]</td>\n",
              "    </tr>\n",
              "    <tr>\n",
              "      <th>5</th>\n",
              "      <td>0.125012</td>\n",
              "      <td>0.624969</td>\n",
              "      <td>0.125009</td>\n",
              "      <td>0.125011</td>\n",
              "      <td>1</td>\n",
              "      <td>superb</td>\n",
              "      <td>[superb, buy, awesome, use]</td>\n",
              "    </tr>\n",
              "    <tr>\n",
              "      <th>6</th>\n",
              "      <td>0.125119</td>\n",
              "      <td>0.125148</td>\n",
              "      <td>0.624633</td>\n",
              "      <td>0.125100</td>\n",
              "      <td>2</td>\n",
              "      <td>worth</td>\n",
              "      <td>[camera, display, samsung, battery]</td>\n",
              "    </tr>\n",
              "    <tr>\n",
              "      <th>7</th>\n",
              "      <td>0.083406</td>\n",
              "      <td>0.749806</td>\n",
              "      <td>0.083386</td>\n",
              "      <td>0.083402</td>\n",
              "      <td>1</td>\n",
              "      <td>tv cast</td>\n",
              "      <td>[superb, buy, awesome, use]</td>\n",
              "    </tr>\n",
              "    <tr>\n",
              "      <th>8</th>\n",
              "      <td>0.250000</td>\n",
              "      <td>0.250000</td>\n",
              "      <td>0.250000</td>\n",
              "      <td>0.250000</td>\n",
              "      <td>0</td>\n",
              "      <td></td>\n",
              "      <td>[super, wesome, price, camera]</td>\n",
              "    </tr>\n",
              "    <tr>\n",
              "      <th>9</th>\n",
              "      <td>0.036963</td>\n",
              "      <td>0.327116</td>\n",
              "      <td>0.178526</td>\n",
              "      <td>0.457395</td>\n",
              "      <td>3</td>\n",
              "      <td>call samsung person buy online function</td>\n",
              "      <td>[battery, backup, money, ok]</td>\n",
              "    </tr>\n",
              "    <tr>\n",
              "      <th>10</th>\n",
              "      <td>0.083910</td>\n",
              "      <td>0.749397</td>\n",
              "      <td>0.083344</td>\n",
              "      <td>0.083348</td>\n",
              "      <td>1</td>\n",
              "      <td>buy online</td>\n",
              "      <td>[superb, buy, awesome, use]</td>\n",
              "    </tr>\n",
              "  </tbody>\n",
              "</table>\n",
              "</div>"
            ],
            "text/plain": [
              "     topic_0  ...              dominant_topic_keywords\n",
              "0   0.016826  ...  [camera, display, samsung, battery]\n",
              "1   0.032914  ...  [camera, display, samsung, battery]\n",
              "2   0.083374  ...          [superb, buy, awesome, use]\n",
              "3   0.036633  ...  [camera, display, samsung, battery]\n",
              "4   0.182244  ...  [camera, display, samsung, battery]\n",
              "5   0.125012  ...          [superb, buy, awesome, use]\n",
              "6   0.125119  ...  [camera, display, samsung, battery]\n",
              "7   0.083406  ...          [superb, buy, awesome, use]\n",
              "8   0.250000  ...       [super, wesome, price, camera]\n",
              "9   0.036963  ...         [battery, backup, money, ok]\n",
              "10  0.083910  ...          [superb, buy, awesome, use]\n",
              "\n",
              "[11 rows x 7 columns]"
            ]
          },
          "metadata": {
            "tags": []
          },
          "execution_count": 134
        }
      ]
    },
    {
      "cell_type": "markdown",
      "metadata": {
        "id": "txeb6FpmM_bK",
        "colab_type": "text"
      },
      "source": [
        "#### again LDA -------------------------------------------------------"
      ]
    },
    {
      "cell_type": "code",
      "metadata": {
        "id": "unmLtD20RQNi",
        "colab_type": "code",
        "colab": {}
      },
      "source": [
        ""
      ],
      "execution_count": null,
      "outputs": []
    },
    {
      "cell_type": "code",
      "metadata": {
        "id": "Po_S5bJ9NClY",
        "colab_type": "code",
        "colab": {
          "base_uri": "https://localhost:8080/",
          "height": 98
        },
        "outputId": "ef5c65a0-a579-417b-f3e7-55e54a8eaa7a"
      },
      "source": [
        "arr=np.array(print_top_words(lda,bow.get_feature_names(),5)).reshape(1,-1)[0]\n",
        "bow=CountVectorizer(ngram_range=(1,1))\n",
        "bow_review=bow.fit_transform(arr)\n",
        "df_bow=pd.DataFrame(bow_review.toarray(),columns=bow.get_feature_names())\n",
        "lda = LatentDirichletAllocation(n_components=5,random_state=0)\n",
        "lda.fit_transform(df_bow)\n",
        "print_top_words(lda,bow.get_feature_names(),4)\n"
      ],
      "execution_count": null,
      "outputs": [
        {
          "output_type": "execute_result",
          "data": {
            "text/plain": [
              "[['camera', 'display', 'person', 'm30s'],\n",
              " ['samsung', 'xcellent', 'buy', 'range'],\n",
              " ['quality', 'delivery', 'use', 'life'],\n",
              " ['battery', 'nice', 'superb', 'wid'],\n",
              " ['performance', 'network', 'super', 'handset']]"
            ]
          },
          "metadata": {
            "tags": []
          },
          "execution_count": 105
        }
      ]
    },
    {
      "cell_type": "code",
      "metadata": {
        "id": "a-6PgbeUP1ct",
        "colab_type": "code",
        "colab": {
          "base_uri": "https://localhost:8080/",
          "height": 33
        },
        "outputId": "e89c552a-6cdb-4df9-c81f-671c3b169bd3"
      },
      "source": [
        "topics=print_top_words(lda,bow.get_feature_names(),4)\n",
        "topic=[\"topic_\"+str(i) for i  in range(0,lda.n_components)]\n",
        "df_doc_topic=pd.DataFrame(lda.fit_transform(df_bow),columns=topic)\n",
        "dominant_topic = np.argmax(df_doc_topic.values, axis=1)\n",
        "df_doc_topic[\"dominant_topic\"] = dominant_topic\n",
        "df_doc_topic[\"review\"]=df[\"review\"]\n",
        "df_doc_topic[\"dominant_topic_keywords\"]=[topics[i]  for i in dominant_topic]\n"
      ],
      "execution_count": null,
      "outputs": [
        {
          "output_type": "execute_result",
          "data": {
            "text/plain": [
              "(348, 1)"
            ]
          },
          "metadata": {
            "tags": []
          },
          "execution_count": 108
        }
      ]
    },
    {
      "cell_type": "markdown",
      "metadata": {
        "id": "sqeg1UHscDPY",
        "colab_type": "text"
      },
      "source": [
        "### BOW NMF  (results are better)"
      ]
    },
    {
      "cell_type": "code",
      "metadata": {
        "id": "0ska2Bncb4Df",
        "colab_type": "code",
        "colab": {
          "base_uri": "https://localhost:8080/",
          "height": 1000
        },
        "outputId": "2c243a5a-a2ce-48cc-9918-c9237dc4ed66"
      },
      "source": [
        "bow=CountVectorizer(ngram_range=(1,3))\n",
        "bow_review=bow.fit_transform(df[\"review\"])\n",
        "nmf = NMF(n_components=10, random_state=1,\n",
        "          beta_loss='kullback-leibler', solver='mu', max_iter=1000, alpha=.1,\n",
        "          l1_ratio=.5).fit(bow_review)\n",
        "print_top_words(nmf,bow.get_feature_names(),8)"
      ],
      "execution_count": null,
      "outputs": [
        {
          "output_type": "execute_result",
          "data": {
            "text/plain": [
              "[['battery',\n",
              "  'camera',\n",
              "  'display',\n",
              "  'camera battery',\n",
              "  'battery life',\n",
              "  'life',\n",
              "  'mah',\n",
              "  'display battery'],\n",
              " ['performance',\n",
              "  'budget',\n",
              "  'handset',\n",
              "  'mode',\n",
              "  'cost',\n",
              "  'handset budget',\n",
              "  'camera display',\n",
              "  'processer'],\n",
              " ['display',\n",
              "  'super',\n",
              "  'xcellent',\n",
              "  'ok',\n",
              "  'camera',\n",
              "  'smartphone',\n",
              "  'camera display',\n",
              "  'credit super'],\n",
              " ['camera',\n",
              "  'quality',\n",
              "  'wesome',\n",
              "  'camera quality',\n",
              "  'quality battery',\n",
              "  'look',\n",
              "  'osm',\n",
              "  'love'],\n",
              " ['backup',\n",
              "  'superb',\n",
              "  'battery backup',\n",
              "  'battery',\n",
              "  'experience',\n",
              "  'awesome',\n",
              "  'picture quality',\n",
              "  'camara'],\n",
              " ['samsung',\n",
              "  'buy',\n",
              "  'flipkart',\n",
              "  'online',\n",
              "  'm30s',\n",
              "  'love',\n",
              "  'buy online',\n",
              "  'purchase'],\n",
              " ['money', 'value', 'value money', 'delivery', 'time', 'mark', 'hand', 'box'],\n",
              " ['use',\n",
              "  'nice',\n",
              "  'play',\n",
              "  'bit',\n",
              "  'ok',\n",
              "  'battery pack',\n",
              "  'month',\n",
              "  'super month bit'],\n",
              " ['price',\n",
              "  'range',\n",
              "  'front',\n",
              "  'price range',\n",
              "  'performance',\n",
              "  'battery',\n",
              "  'camera',\n",
              "  'excellent'],\n",
              " ['power',\n",
              "  'team',\n",
              "  'power button',\n",
              "  'button',\n",
              "  'voice',\n",
              "  'thank',\n",
              "  'ear',\n",
              "  'inactivity']]"
            ]
          },
          "metadata": {
            "tags": []
          },
          "execution_count": 272
        }
      ]
    },
    {
      "cell_type": "markdown",
      "metadata": {
        "id": "cJsVp-PSNtUp",
        "colab_type": "text"
      },
      "source": [
        "#### again NMF---------------------"
      ]
    },
    {
      "cell_type": "code",
      "metadata": {
        "id": "GfAC4VwzNxRf",
        "colab_type": "code",
        "colab": {
          "base_uri": "https://localhost:8080/",
          "height": 82
        },
        "outputId": "a911db4e-ce13-4acc-db93-4b091ee4f4f7"
      },
      "source": [
        "arr=np.array(print_top_words(nmf,bow.get_feature_names(),5)).reshape(1,-1)[0]\n",
        "bow=CountVectorizer(ngram_range=(1,2))\n",
        "bow_review=bow.fit_transform(arr)\n",
        "df_bow=pd.DataFrame(bow_review.toarray(),columns=bow.get_feature_names())\n",
        "nmf = NMF(n_components=4, random_state=1,\n",
        "          beta_loss='kullback-leibler', solver='mu', max_iter=1000, alpha=.1,\n",
        "          l1_ratio=.5).fit(bow_review)\n",
        "bow_words=bow.get_feature_names()\n",
        "print_top_words(nmf,bow_words,4)"
      ],
      "execution_count": null,
      "outputs": [
        {
          "output_type": "execute_result",
          "data": {
            "text/plain": [
              "[['battery', 'backup', 'quality', 'battery backup'],\n",
              " ['camera', 'quality', 'm30s', 'samsung'],\n",
              " ['price', 'range', 'money', 'value'],\n",
              " ['ok', 'performance', 'button', 'power']]"
            ]
          },
          "metadata": {
            "tags": []
          },
          "execution_count": 273
        }
      ]
    },
    {
      "cell_type": "markdown",
      "metadata": {
        "id": "7M8Z6WhwcfvN",
        "colab_type": "text"
      },
      "source": [
        "### TFIDF LDA"
      ]
    },
    {
      "cell_type": "code",
      "metadata": {
        "id": "KNhTzgNOcjSv",
        "colab_type": "code",
        "colab": {
          "base_uri": "https://localhost:8080/",
          "height": 1000
        },
        "outputId": "65ba36e8-5b00-438a-e925-31828843cf45"
      },
      "source": [
        "tfidf=TfidfVectorizer(ngram_range=(1,3))\n",
        "tfidf_words=tfidf.fit_transform(df[\"review\"])\n",
        "words=tfidf.get_feature_names()\n",
        "df_bow=pd.DataFrame(tfidf_words.toarray(),columns=words)\n",
        "lda = LatentDirichletAllocation(n_components=10,random_state=0)\n",
        "lda.fit_transform(tfidf_words)\n",
        "print_top_words(lda,words,8)"
      ],
      "execution_count": null,
      "outputs": [
        {
          "output_type": "execute_result",
          "data": {
            "text/plain": [
              "[['love',\n",
              "  'charge',\n",
              "  'awesomespeechless',\n",
              "  'cam',\n",
              "  'voice',\n",
              "  'battery good',\n",
              "  'camera look',\n",
              "  'good'],\n",
              " ['awesome',\n",
              "  'range',\n",
              "  'box',\n",
              "  'nicc',\n",
              "  'okay',\n",
              "  'suprrrrrrrrr',\n",
              "  'battery',\n",
              "  'price range'],\n",
              " ['quality',\n",
              "  'camera',\n",
              "  'camera quality',\n",
              "  'battery',\n",
              "  'isplay',\n",
              "  'thank',\n",
              "  'smart',\n",
              "  'purpose'],\n",
              " ['super', 'camera', 'samsung', 'nice', 'ok', 'date', 'function', 'worth'],\n",
              " ['xcellent',\n",
              "  'smartphone',\n",
              "  'perfomance',\n",
              "  'excellent',\n",
              "  'sm',\n",
              "  'software',\n",
              "  'anything',\n",
              "  'waysome'],\n",
              " ['price',\n",
              "  'battery',\n",
              "  'mark',\n",
              "  'wsm',\n",
              "  'samsang',\n",
              "  'till',\n",
              "  'money good',\n",
              "  'xcellent smartphone'],\n",
              " ['battery backup',\n",
              "  'backup',\n",
              "  'battery',\n",
              "  'camera',\n",
              "  'android',\n",
              "  'perform',\n",
              "  'worthless',\n",
              "  'exellent'],\n",
              " ['money',\n",
              "  'value',\n",
              "  'value money',\n",
              "  'time',\n",
              "  'awsm',\n",
              "  'flipkart',\n",
              "  'light',\n",
              "  'light camera'],\n",
              " ['samsung',\n",
              "  'm30s',\n",
              "  'sad',\n",
              "  'mi',\n",
              "  'samsung m30s',\n",
              "  'samsung bro',\n",
              "  'bro',\n",
              "  'device'],\n",
              " ['wesome',\n",
              "  'superb',\n",
              "  'buy',\n",
              "  'display',\n",
              "  'buy online',\n",
              "  'online',\n",
              "  'amazing',\n",
              "  'choic']]"
            ]
          },
          "metadata": {
            "tags": []
          },
          "execution_count": 274
        }
      ]
    },
    {
      "cell_type": "markdown",
      "metadata": {
        "id": "ZHQSosfdPm7D",
        "colab_type": "text"
      },
      "source": [
        "#### Again LDF"
      ]
    },
    {
      "cell_type": "code",
      "metadata": {
        "id": "nARAvAdsO2JD",
        "colab_type": "code",
        "colab": {
          "base_uri": "https://localhost:8080/",
          "height": 82
        },
        "outputId": "4f2874ef-c08b-424c-8967-f84c5600299f"
      },
      "source": [
        "arr=np.array(print_top_words(lda,words,5)).reshape(1,-1)[0]\n",
        "tfidf=TfidfVectorizer(ngram_range=(1,1))\n",
        "tfidf_words=tfidf.fit_transform(arr)\n",
        "words=tfidf.get_feature_names()\n",
        "df_tfidf=pd.DataFrame(tfidf_words.toarray(),columns=words)\n",
        "lda = LatentDirichletAllocation(n_components=4,random_state=0)\n",
        "lda.fit_transform(df_tfidf)\n",
        "print_top_words(lda,words,4)\n"
      ],
      "execution_count": null,
      "outputs": [
        {
          "output_type": "execute_result",
          "data": {
            "text/plain": [
              "[['android', 'display', 'm30s', 'awsm'],\n",
              " ['money', 'quality', 'backup', 'samsang'],\n",
              " ['perfomance', 'battery', 'love', 'samsang'],\n",
              " ['camera', 'time', 'charge', 'samsung']]"
            ]
          },
          "metadata": {
            "tags": []
          },
          "execution_count": 279
        }
      ]
    },
    {
      "cell_type": "markdown",
      "metadata": {
        "id": "Sbx1xlb0dl1R",
        "colab_type": "text"
      },
      "source": [
        "### TFIDF NMF"
      ]
    },
    {
      "cell_type": "code",
      "metadata": {
        "id": "Rzue8rpGc0wR",
        "colab_type": "code",
        "colab": {}
      },
      "source": [
        "tfidf=TfidfVectorizer(ngram_range=(1,3))\n",
        "tfidf_words=tfidf.fit_transform(data[\"review\"])\n",
        "words=tfidf.get_feature_names()"
      ],
      "execution_count": null,
      "outputs": []
    },
    {
      "cell_type": "code",
      "metadata": {
        "id": "sHkdix4XdzDF",
        "colab_type": "code",
        "colab": {
          "base_uri": "https://localhost:8080/",
          "height": 342
        },
        "outputId": "745a8008-9559-4607-e184-0415376835d6"
      },
      "source": [
        "nmf = NMF(n_components=10, random_state=1,\n",
        "          beta_loss='kullback-leibler', solver='mu', max_iter=1000, alpha=.1,\n",
        "          l1_ratio=.5).fit(tfidf_words)\n",
        "print_top_words(nmf,words,6)"
      ],
      "execution_count": null,
      "outputs": [
        {
          "output_type": "execute_result",
          "data": {
            "text/plain": [
              "[['good', 'good samsung', 'good one', 'one', 'samsung', 'isplay good'],\n",
              " ['nice', 'phones', 'nice display', 'nice phones', 'nice awsm', 'osm nice'],\n",
              " ['wesome',\n",
              "  'quality battery',\n",
              "  'wesome camera',\n",
              "  'battery',\n",
              "  'wesome loving',\n",
              "  'loving'],\n",
              " ['super', 'love', 'super nice', 'super camera', 'good love', 'super quality'],\n",
              " ['best', 'price', 'loved', 'good price', 'best price', 'samsung best'],\n",
              " ['superb',\n",
              "  'great',\n",
              "  'expected',\n",
              "  'got',\n",
              "  'got expected',\n",
              "  'superb battery backup'],\n",
              " ['xcellent', 'money', 'flipkart', 'smartphone', 'thanks', 'excellent'],\n",
              " ['awesome', 'lovely', 'goods', 'thakarthu', 'exellent', 'worth money'],\n",
              " ['bad', 'ok', 'camera', 'camera quality', 'quality', 'worst'],\n",
              " ['battery', 'no', 'camera', 'battery backup', 'backup', 'display']]"
            ]
          },
          "metadata": {
            "tags": []
          },
          "execution_count": 286
        }
      ]
    },
    {
      "cell_type": "markdown",
      "metadata": {
        "id": "ViIBlVWqRRs2",
        "colab_type": "text"
      },
      "source": [
        "\n",
        "#### again nmf -----------------"
      ]
    },
    {
      "cell_type": "code",
      "metadata": {
        "id": "gAAHxOoDQwXL",
        "colab_type": "code",
        "colab": {
          "base_uri": "https://localhost:8080/",
          "height": 82
        },
        "outputId": "9378a691-449d-45aa-de3e-006f89c66921"
      },
      "source": [
        "arr=np.array(print_top_words(nmf,words,6)).reshape(1,-1)[0]\n",
        "tfidf=TfidfVectorizer(ngram_range=(1,1))\n",
        "tfidf_words=tfidf.fit_transform(arr)\n",
        "words=tfidf.get_feature_names()\n",
        "df_lda=pd.DataFrame(tfidf_words.toarray(),columns=words)\n",
        "nmf = NMF(n_components=4, random_state=1,\n",
        "          beta_loss='kullback-leibler', solver='mu', max_iter=1000, alpha=.1,\n",
        "          l1_ratio=.5).fit(tfidf_words)\n",
        "\n",
        "print_top_words(nmf,words,4)"
      ],
      "execution_count": null,
      "outputs": [
        {
          "output_type": "execute_result",
          "data": {
            "text/plain": [
              "[['camera', 'super', 'quality', 'wesome'],\n",
              " ['battery', 'backup', 'money', 'superb'],\n",
              " ['good', 'price', 'samsung', 'best'],\n",
              " ['nice', 'display', 'phones', 'got']]"
            ]
          },
          "metadata": {
            "tags": []
          },
          "execution_count": 287
        }
      ]
    },
    {
      "cell_type": "code",
      "metadata": {
        "id": "dLbr6fElRa1X",
        "colab_type": "code",
        "colab": {}
      },
      "source": [
        ""
      ],
      "execution_count": null,
      "outputs": []
    }
  ]
}