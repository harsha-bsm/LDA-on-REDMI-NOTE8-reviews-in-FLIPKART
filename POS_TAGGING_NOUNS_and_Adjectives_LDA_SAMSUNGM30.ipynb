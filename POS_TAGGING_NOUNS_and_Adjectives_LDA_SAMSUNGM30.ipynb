{
  "nbformat": 4,
  "nbformat_minor": 0,
  "metadata": {
    "colab": {
      "name": "POS TAGGING  NOUNS and Adjectives LDA SAMSUNGM30.ipynb",
      "provenance": [],
      "toc_visible": true,
      "authorship_tag": "ABX9TyNyhpedxl4YjNzOatuTVFto",
      "include_colab_link": true
    },
    "kernelspec": {
      "name": "python3",
      "display_name": "Python 3"
    }
  },
  "cells": [
    {
      "cell_type": "markdown",
      "metadata": {
        "id": "view-in-github",
        "colab_type": "text"
      },
      "source": [
        "<a href=\"https://colab.research.google.com/github/harsha-bsm/Topic-Modelling-using-LDA-and-NMF-on-SamsungM30s-reviewsflipkart/blob/master/POS_TAGGING_NOUNS_and_Adjectives_LDA_SAMSUNGM30.ipynb\" target=\"_parent\"><img src=\"https://colab.research.google.com/assets/colab-badge.svg\" alt=\"Open In Colab\"/></a>"
      ]
    },
    {
      "cell_type": "code",
      "metadata": {
        "id": "SKILHH8iQvAX",
        "colab_type": "code",
        "colab": {}
      },
      "source": [
        "import re\n",
        "import numpy as np\n",
        "import pandas as pd"
      ],
      "execution_count": null,
      "outputs": []
    },
    {
      "cell_type": "code",
      "metadata": {
        "id": "JKxaHbb_RD91",
        "colab_type": "code",
        "colab": {}
      },
      "source": [
        "data=pd.read_csv(\"samsungdata.csv\")\n",
        "dataoriginal=pd.read_csv(\"samsungdata.csv\")"
      ],
      "execution_count": null,
      "outputs": []
    },
    {
      "cell_type": "code",
      "metadata": {
        "id": "ekk77JUsRIHZ",
        "colab_type": "code",
        "colab": {
          "base_uri": "https://localhost:8080/",
          "height": 288
        },
        "outputId": "1a2e2870-91f0-4142-9c36-078b1d5fed4f"
      },
      "source": [
        "data.head()"
      ],
      "execution_count": null,
      "outputs": [
        {
          "output_type": "execute_result",
          "data": {
            "text/html": [
              "<div>\n",
              "<style scoped>\n",
              "    .dataframe tbody tr th:only-of-type {\n",
              "        vertical-align: middle;\n",
              "    }\n",
              "\n",
              "    .dataframe tbody tr th {\n",
              "        vertical-align: top;\n",
              "    }\n",
              "\n",
              "    .dataframe thead th {\n",
              "        text-align: right;\n",
              "    }\n",
              "</style>\n",
              "<table border=\"1\" class=\"dataframe\">\n",
              "  <thead>\n",
              "    <tr style=\"text-align: right;\">\n",
              "      <th></th>\n",
              "      <th>Unnamed: 0</th>\n",
              "      <th>Model</th>\n",
              "      <th>rating</th>\n",
              "      <th>user</th>\n",
              "      <th>time_of_review</th>\n",
              "      <th>review</th>\n",
              "      <th>title</th>\n",
              "      <th>user_address</th>\n",
              "      <th>user_type</th>\n",
              "    </tr>\n",
              "  </thead>\n",
              "  <tbody>\n",
              "    <tr>\n",
              "      <th>0</th>\n",
              "      <td>0</td>\n",
              "      <td>Samsung Galaxy M30s Blue 128 Gb Reviews: Lates...</td>\n",
              "      <td>5</td>\n",
              "      <td>Aryan  Patil</td>\n",
              "      <td>2months ago</td>\n",
              "      <td>Bokeh mode is very excellent than any other ha...</td>\n",
              "      <td>Wonderful</td>\n",
              "      <td>Latur District</td>\n",
              "      <td>Certified Buyer</td>\n",
              "    </tr>\n",
              "    <tr>\n",
              "      <th>1</th>\n",
              "      <td>1</td>\n",
              "      <td>Samsung Galaxy M30s Blue 128 Gb Reviews: Lates...</td>\n",
              "      <td>5</td>\n",
              "      <td>Flipkart Customer</td>\n",
              "      <td>5months ago</td>\n",
              "      <td>Just awsome product the picture quality is goo...</td>\n",
              "      <td>Great product</td>\n",
              "      <td>North Twenty Four Parganas District</td>\n",
              "      <td>Certified Buyer</td>\n",
              "    </tr>\n",
              "    <tr>\n",
              "      <th>2</th>\n",
              "      <td>2</td>\n",
              "      <td>Samsung Galaxy M30s Blue 128 Gb Reviews: Lates...</td>\n",
              "      <td>4</td>\n",
              "      <td>Suresh Kumar</td>\n",
              "      <td>5months ago</td>\n",
              "      <td>Samsung galaxy m30s is most useful.But Samsung...</td>\n",
              "      <td>Nice product</td>\n",
              "      <td>New Delhi</td>\n",
              "      <td>Certified Buyer</td>\n",
              "    </tr>\n",
              "    <tr>\n",
              "      <th>3</th>\n",
              "      <td>3</td>\n",
              "      <td>Samsung Galaxy M30s Blue 128 Gb Reviews: Lates...</td>\n",
              "      <td>1</td>\n",
              "      <td>Rohit Purba</td>\n",
              "      <td>6months ago</td>\n",
              "      <td>Not worth for me. i buy for my samsung tv this...</td>\n",
              "      <td>Utterly Disappointed</td>\n",
              "      <td>Rajpura</td>\n",
              "      <td>Certified Buyer</td>\n",
              "    </tr>\n",
              "    <tr>\n",
              "      <th>4</th>\n",
              "      <td>4</td>\n",
              "      <td>Samsung Galaxy M30s Blue 128 Gb Reviews: Lates...</td>\n",
              "      <td>5</td>\n",
              "      <td>Flipkart Customer</td>\n",
              "      <td>5months ago</td>\n",
              "      <td>BSOLUTELY BEST PHONE, GO FOR THIS PHONELET ME ...</td>\n",
              "      <td>Highly recommended</td>\n",
              "      <td>Muzaffarpur</td>\n",
              "      <td>Certified Buyer</td>\n",
              "    </tr>\n",
              "  </tbody>\n",
              "</table>\n",
              "</div>"
            ],
            "text/plain": [
              "   Unnamed: 0  ...        user_type\n",
              "0           0  ...  Certified Buyer\n",
              "1           1  ...  Certified Buyer\n",
              "2           2  ...  Certified Buyer\n",
              "3           3  ...  Certified Buyer\n",
              "4           4  ...  Certified Buyer\n",
              "\n",
              "[5 rows x 9 columns]"
            ]
          },
          "metadata": {
            "tags": []
          },
          "execution_count": 16
        }
      ]
    },
    {
      "cell_type": "code",
      "metadata": {
        "id": "sG6MbHUhwYKB",
        "colab_type": "code",
        "colab": {
          "base_uri": "https://localhost:8080/",
          "height": 82
        },
        "outputId": "64e1c316-3417-4a27-a55f-8ead35ba5c77"
      },
      "source": [
        "pip install emot "
      ],
      "execution_count": null,
      "outputs": [
        {
          "output_type": "stream",
          "text": [
            "Collecting emot\n",
            "  Downloading https://files.pythonhosted.org/packages/49/07/20001ade19873de611b7b66a4d5e5aabbf190d65abea337d5deeaa2bc3de/emot-2.1-py3-none-any.whl\n",
            "Installing collected packages: emot\n",
            "Successfully installed emot-2.1\n"
          ],
          "name": "stdout"
        }
      ]
    },
    {
      "cell_type": "code",
      "metadata": {
        "id": "Tmly-l1OeLL-",
        "colab_type": "code",
        "colab": {}
      },
      "source": [
        "####### Apply emoticons and emojis\n",
        "\n",
        "from emot.emo_unicode import UNICODE_EMO, EMOTICONS # contains english text of emojis and emoticons in dict format \n",
        "def convert_emojis(review):\n",
        "  for x in review:\n",
        "    if x in UNICODE_EMO.keys():\n",
        "      review=review.replace(x,\"\")\n",
        "  return review"
      ],
      "execution_count": null,
      "outputs": []
    },
    {
      "cell_type": "code",
      "metadata": {
        "id": "Wo1mbD4XSbID",
        "colab_type": "code",
        "colab": {}
      },
      "source": [
        "#converting all basic contracted foms  \n",
        "def decontracted(phrase):\n",
        "    # specific\n",
        "    phrase = re.sub(r\"won't\", \"will not\", phrase)\n",
        "    phrase = re.sub(r\"can\\'t\", \"can not\", phrase)\n",
        "\n",
        "    # general\n",
        "    phrase = re.sub(r\"n\\'t\", \" not\", phrase)\n",
        "    phrase = re.sub(r\"\\'re\", \" are\", phrase)\n",
        "    phrase = re.sub(r\"\\'s\", \" is\", phrase)\n",
        "    phrase = re.sub(r\"\\'d\", \" would\", phrase)\n",
        "    phrase = re.sub(r\"\\'ll\", \" will\", phrase)\n",
        "    phrase = re.sub(r\"\\'t\", \" not\", phrase)\n",
        "    phrase = re.sub(r\"\\'ve\", \" have\", phrase)\n",
        "    phrase = re.sub(r\"\\'m\", \" am\", phrase)\n",
        "    return phrase"
      ],
      "execution_count": null,
      "outputs": []
    },
    {
      "cell_type": "code",
      "metadata": {
        "id": "9h47xg15Y5cQ",
        "colab_type": "code",
        "colab": {}
      },
      "source": [
        "#removing special characters and tabs ,spaces,new lines etc..\n",
        "def removecharacters(review):\n",
        "  review= re.sub('[^A-Za-z0-9]+',' ',review)  #anything exept numbers and alphabets, replace them with space\n",
        "  review=re.sub(r\"\\n\",\" \",review)  #new lines into space\n",
        "  review=re.sub(r\"\\t\",\" \",review)  #tabs into space\n",
        "  review=re.sub(r\"\\v\",\" \",review)  #vertical tab into space\n",
        "  review=re.sub(r\"\\s\",\" \",review)   #all extra spaces into single space\n",
        "  return review  \n"
      ],
      "execution_count": null,
      "outputs": []
    },
    {
      "cell_type": "code",
      "metadata": {
        "id": "KqOCmax8PTwB",
        "colab_type": "code",
        "colab": {}
      },
      "source": [
        "# https://gist.github.com/sebleier/554280\n",
        "# we are removing the words from the stop words list: 'no', 'nor', 'not'\n",
        "# <br /><br /> ==> after the above steps, we are getting \"br br\"\n",
        "# we are including them into stop words list\n",
        "# instead of <br /> if we have <br/> these tags would have revmoved in the 1st step\n",
        "# ignore words like won't, haven't etc.. We have already taken care of them\n",
        "\n",
        "stopword= set(['br', 'the', 'i', 'me', 'my', 'myself', 'we', 'our', 'ours', 'ourselves', 'you', \"you're\", \"you've\",\\\n",
        "            \"you'll\", \"you'd\", 'your', 'yours', 'yourself', 'yourselves', 'he', 'him', 'his', 'himself', \\\n",
        "            'she', \"she's\", 'her', 'hers', 'herself', 'it', \"it's\", 'its', 'itself', 'they', 'them', 'their',\\\n",
        "            'theirs', 'themselves', 'what', 'which', 'who', 'whom', 'this', 'that', \"that'll\", 'these', 'those', \\\n",
        "            'am', 'is', 'are', 'was', 'were', 'be', 'been', 'being', 'have', 'has', 'had', 'having', 'do', 'does', \\\n",
        "            'did', 'doing', 'a', 'an', 'the', 'and', 'but', 'if', 'or', 'because', 'as', 'until', 'while', 'of', \\\n",
        "            'at', 'by', 'for', 'with', 'about', 'against', 'between', 'into', 'through', 'during', 'before', 'after',\\\n",
        "            'above', 'below', 'to', 'from', 'up', 'down', 'in', 'out', 'on', 'off', 'over', 'under', 'again', 'further',\\\n",
        "            'then', 'once', 'here', 'there', 'when', 'where', 'why', 'how', 'all', 'any', 'both', 'each', 'few', 'more',\\\n",
        "            'most', 'other', 'some', 'such', 'only', 'own', 'same', 'so', 'than', 'too', 'very', \\\n",
        "            's', 't', 'can', 'will', 'just', 'don', \"don't\", 'should', \"should've\", 'now', 'd', 'll', 'm', 'o', 're', \\\n",
        "            've', 'y', 'ain', 'aren', \"aren't\", 'couldn', \"couldn't\", 'didn', \"didn't\", 'doesn', \"doesn't\", 'hadn',\\\n",
        "            \"hadn't\", 'hasn', \"hasn't\", 'haven', \"haven't\", 'isn', \"isn't\", 'ma', 'mightn', \"mightn't\", 'mustn',\\\n",
        "            \"mustn't\", 'needn', \"needn't\", 'shan', \"shan't\", 'shouldn', \"shouldn't\", 'wasn', \"wasn't\", 'weren', \"weren't\", \\\n",
        "            'won', \"won't\", 'wouldn', \"wouldn't\",\"not\",\"phone\",\"product\",\"mobile\",\"np\"])"
      ],
      "execution_count": null,
      "outputs": []
    },
    {
      "cell_type": "code",
      "metadata": {
        "id": "dvdqs46FPVHt",
        "colab_type": "code",
        "colab": {}
      },
      "source": [
        "from nltk.corpus import stopwords\n",
        "import nltk"
      ],
      "execution_count": null,
      "outputs": []
    },
    {
      "cell_type": "code",
      "metadata": {
        "id": "Eq00AK2cbPEL",
        "colab_type": "code",
        "colab": {}
      },
      "source": [
        ""
      ],
      "execution_count": null,
      "outputs": []
    },
    {
      "cell_type": "code",
      "metadata": {
        "id": "bKJvsyw6biTI",
        "colab_type": "code",
        "colab": {}
      },
      "source": [
        "def removestopwords(review):\n",
        "  return \" \".join([word for word in review.split(\" \") if not word in stopword])\n"
      ],
      "execution_count": null,
      "outputs": []
    },
    {
      "cell_type": "code",
      "metadata": {
        "id": "TPvMpNFqyyQ3",
        "colab_type": "code",
        "colab": {}
      },
      "source": [
        "data[\"review\"]=data[\"review\"].apply(lambda x:convert_emojis(x))\n",
        "data[\"review\"]=data[\"review\"].apply(lambda x:x.lower()) \n",
        "data[\"review\"]=data[\"review\"].apply(lambda x:decontracted(x))\n",
        "data[\"review\"]=data[\"review\"].apply(lambda x:removecharacters(x))\n",
        "data[\"review\"]=pd.DataFrame(data[\"review\"].apply(lambda x:removestopwords(x)))"
      ],
      "execution_count": null,
      "outputs": []
    },
    {
      "cell_type": "code",
      "metadata": {
        "id": "1bhn9-ETgvLb",
        "colab_type": "code",
        "colab": {}
      },
      "source": [
        "from sklearn.feature_extraction.text import TfidfTransformer\n",
        "from sklearn.feature_extraction.text import TfidfVectorizer\n",
        "from sklearn.feature_extraction.text import CountVectorizer\n",
        "from gensim.models import ldamodel\n",
        "import gensim.corpora\n",
        "from sklearn.decomposition import LatentDirichletAllocation"
      ],
      "execution_count": null,
      "outputs": []
    },
    {
      "cell_type": "code",
      "metadata": {
        "id": "kd3CmQ9Ng0lG",
        "colab_type": "code",
        "colab": {}
      },
      "source": [
        "#https://scikit-learn.org/stable/auto_examples/applications/plot_topics_extraction_with_nmf_lda.html#sphx-glr-auto-examples-applications-plot-topics-extraction-with-nmf-lda-py\n",
        "def print_top_words(model, feature_names, n_top_words):\n",
        "  topics_cluster=[]\n",
        "  for topic_idx, topic in enumerate(model.components_):\n",
        "      message = \"Topic #%d: \" % topic_idx\n",
        "      message += \",\".join([feature_names[i] for i in topic.argsort()[:-n_top_words - 1:-1]])\n",
        "      topics_cluster.append([feature_names[i] for i in topic.argsort()[:-n_top_words - 1:-1]])\n",
        "  return topics_cluster\n",
        "  "
      ],
      "execution_count": null,
      "outputs": []
    },
    {
      "cell_type": "code",
      "metadata": {
        "id": "YN_uJnfPKGJl",
        "colab_type": "code",
        "colab": {
          "base_uri": "https://localhost:8080/",
          "height": 82
        },
        "outputId": "f7db2cc3-0a91-4909-8fc0-baaa9ba57977"
      },
      "source": [
        "  import nltk\n",
        "  nltk.download('averaged_perceptron_tagger')"
      ],
      "execution_count": null,
      "outputs": [
        {
          "output_type": "stream",
          "text": [
            "[nltk_data] Downloading package averaged_perceptron_tagger to\n",
            "[nltk_data]     /root/nltk_data...\n",
            "[nltk_data]   Unzipping taggers/averaged_perceptron_tagger.zip.\n"
          ],
          "name": "stdout"
        },
        {
          "output_type": "execute_result",
          "data": {
            "text/plain": [
              "True"
            ]
          },
          "metadata": {
            "tags": []
          },
          "execution_count": 27
        }
      ]
    },
    {
      "cell_type": "code",
      "metadata": {
        "id": "6NQkYJpdiwfN",
        "colab_type": "code",
        "colab": {}
      },
      "source": [
        "def only_nouns(review):\n",
        "  lis= \" \".join([each.strip(\" \") for each,pos in nltk.pos_tag(review.split()) if pos==\"NN\"])\n",
        "  return lis\n",
        "  \n"
      ],
      "execution_count": null,
      "outputs": []
    },
    {
      "cell_type": "code",
      "metadata": {
        "id": "RK-VJRYSkTD2",
        "colab_type": "code",
        "colab": {}
      },
      "source": [
        "data[\"review\"]=data[\"review\"].apply(lambda x:only_nouns(x))"
      ],
      "execution_count": null,
      "outputs": []
    },
    {
      "cell_type": "markdown",
      "metadata": {
        "id": "DPe-gB9JwLUZ",
        "colab_type": "text"
      },
      "source": [
        "## POS TAG NOUNS and ADJECTIVES"
      ]
    },
    {
      "cell_type": "code",
      "metadata": {
        "id": "VB2KrjmGv9C3",
        "colab_type": "code",
        "colab": {}
      },
      "source": [
        "data=pd.read_csv(\"samsungdata.csv\")\n",
        "data[\"review\"]=data[\"review\"].apply(lambda x:convert_emojis(x))\n",
        "data[\"review\"]=data[\"review\"].apply(lambda x:x.lower()) \n",
        "data[\"review\"]=data[\"review\"].apply(lambda x:decontracted(x))\n",
        "data[\"review\"]=data[\"review\"].apply(lambda x:removecharacters(x))\n",
        "data[\"review\"]=pd.DataFrame(data[\"review\"].apply(lambda x:removestopwords(x)))"
      ],
      "execution_count": null,
      "outputs": []
    },
    {
      "cell_type": "code",
      "metadata": {
        "id": "1dAClSWPwevJ",
        "colab_type": "code",
        "colab": {}
      },
      "source": [
        "def only_nouns_adjectives(review):\n",
        "  lis= \" \".join([each.strip(\" \") for each,pos in nltk.pos_tag(review.split()) if (pos==\"NN\" or pos==\"JJ\")])\n",
        "  return lis\n",
        "data[\"title\"]=data[\"title\"].apply(lambda x:only_nouns_adjectives(x))\n"
      ],
      "execution_count": null,
      "outputs": []
    },
    {
      "cell_type": "markdown",
      "metadata": {
        "id": "_zmFiFI3w95p",
        "colab_type": "text"
      },
      "source": [
        "### LDA BOW"
      ]
    },
    {
      "cell_type": "code",
      "metadata": {
        "id": "ZUZx-kaWwzjx",
        "colab_type": "code",
        "colab": {
          "base_uri": "https://localhost:8080/",
          "height": 180
        },
        "outputId": "297ad391-c620-4a62-c623-ddfdc7e7648c"
      },
      "source": [
        "bow=CountVectorizer(ngram_range=(1,1))\n",
        "bow_review=bow.fit_transform(data[\"review\"])\n",
        "df_bow=pd.DataFrame(bow_review.toarray(),columns=bow.get_feature_names())\n",
        "lda = LatentDirichletAllocation(n_components=10,random_state=0)\n",
        "lda.fit_transform(df_bow)\n",
        "print_top_words(lda,bow.get_feature_names(),4)"
      ],
      "execution_count": null,
      "outputs": [
        {
          "output_type": "execute_result",
          "data": {
            "text/plain": [
              "[['flipkart', 'best', 'value', 'worst'],\n",
              " ['super', 'awsome', 'quality', 'fine'],\n",
              " ['hours', 'display', 'battery', 'great'],\n",
              " ['best', 'camera', 'good', 'bad'],\n",
              " ['hangs', 'no', 'thanks', 'flipkart'],\n",
              " ['poor', 'excellent', 'good', 'box'],\n",
              " ['superb', 'samsung', 'buy', 'smartphone'],\n",
              " ['good', 'battery', 'camera', 'performance'],\n",
              " ['xcellent', 'awesome', 'money', 'worth'],\n",
              " ['nice', 'best', 'wesome', 'samsung']]"
            ]
          },
          "metadata": {
            "tags": []
          },
          "execution_count": 189
        }
      ]
    },
    {
      "cell_type": "markdown",
      "metadata": {
        "id": "dSLNV5tzTm2P",
        "colab_type": "text"
      },
      "source": [
        "#### LDA again"
      ]
    },
    {
      "cell_type": "code",
      "metadata": {
        "id": "IQYzTEbCTn0D",
        "colab_type": "code",
        "colab": {
          "base_uri": "https://localhost:8080/",
          "height": 98
        },
        "outputId": "d4eb098b-6dad-48c1-aeaa-155dd0c1d01b"
      },
      "source": [
        "arr=np.array(print_top_words(lda,bow.get_feature_names(),5)).reshape(1,-1)[0]\n",
        "bow=CountVectorizer(ngram_range=(1,1))\n",
        "bow_review=bow.fit_transform(arr)\n",
        "df_bow=pd.DataFrame(bow_review.toarray(),columns=bow.get_feature_names())\n",
        "lda = LatentDirichletAllocation(n_components=5,random_state=0)\n",
        "lda.fit_transform(df_bow)\n",
        "print_top_words(lda,bow.get_feature_names(),4)\n"
      ],
      "execution_count": null,
      "outputs": [
        {
          "output_type": "execute_result",
          "data": {
            "text/plain": [
              "[['fine', 'best', 'superb', 'hangs'],\n",
              " ['worth', 'battery', 'price', 'smartphone'],\n",
              " ['money', 'camera', 'good', 'poor'],\n",
              " ['hours', 'buy', 'xcellent', 'price'],\n",
              " ['great', 'box', 'samsung', 'flipkart']]"
            ]
          },
          "metadata": {
            "tags": []
          },
          "execution_count": 191
        }
      ]
    },
    {
      "cell_type": "markdown",
      "metadata": {
        "id": "zFJaIZAm106c",
        "colab_type": "text"
      },
      "source": [
        "### LDA TFIDF"
      ]
    },
    {
      "cell_type": "code",
      "metadata": {
        "id": "8KMmKsXhxAj1",
        "colab_type": "code",
        "colab": {
          "base_uri": "https://localhost:8080/",
          "height": 180
        },
        "outputId": "e532702b-184e-4bfc-f9d9-8b105998100c"
      },
      "source": [
        "\n",
        "tfidf=TfidfVectorizer(ngram_range=(1,1))\n",
        "tfidf_words=tfidf.fit_transform(data[\"review\"])\n",
        "words=tfidf.get_feature_names()\n",
        "df_bow=pd.DataFrame(tfidf_words.toarray(),columns=words)\n",
        "lda = LatentDirichletAllocation(n_components=10,random_state=0)\n",
        "lda.fit_transform(tfidf_words)\n",
        "print_top_words(lda,words,5)"
      ],
      "execution_count": null,
      "outputs": [
        {
          "output_type": "execute_result",
          "data": {
            "text/plain": [
              "[['display', 'performance', 'best', 'battery', 'nicc'],\n",
              " ['super', 'awesome', 'flipkart', 'value', 'money'],\n",
              " ['thanks', 'suprrrrrrrrr', 'cell', 'tanks', 'perform'],\n",
              " ['bad', 'awsm', 'great', 'loving', 'prublam'],\n",
              " ['no', 'hangs', 'smooth', 'frequently', 'lovely'],\n",
              " ['exellent', 'sm', 'nice', 'isplay', 'life'],\n",
              " ['xcellent', 'superb', 'love', 'smartphone', 'flipkart'],\n",
              " ['good', 'camera', 'price', 'quality', 'nice'],\n",
              " ['backup', 'battery', 'camara', 'worth', 'loved'],\n",
              " ['nice', 'wesome', 'best', 'samsung', 'ok']]"
            ]
          },
          "metadata": {
            "tags": []
          },
          "execution_count": 192
        }
      ]
    },
    {
      "cell_type": "markdown",
      "metadata": {
        "id": "QBvwxdtOUA48",
        "colab_type": "text"
      },
      "source": [
        "#### LDA again"
      ]
    },
    {
      "cell_type": "code",
      "metadata": {
        "id": "O7xWHxHFUEa-",
        "colab_type": "code",
        "colab": {
          "base_uri": "https://localhost:8080/",
          "height": 82
        },
        "outputId": "b4ed8241-3f4a-4548-c4db-849e5ad7b286"
      },
      "source": [
        "arr=np.array(print_top_words(lda,words,5)).reshape(1,-1)[0]\n",
        "tfidf=TfidfVectorizer(ngram_range=(1,1))\n",
        "tfidf_words=tfidf.fit_transform(arr)\n",
        "words=tfidf.get_feature_names()\n",
        "df_tfidf=pd.DataFrame(tfidf_words.toarray(),columns=words)\n",
        "lda = LatentDirichletAllocation(n_components=4,random_state=0)\n",
        "lda.fit_transform(df_tfidf)\n",
        "print_top_words(lda,words,4)\n"
      ],
      "execution_count": null,
      "outputs": [
        {
          "output_type": "execute_result",
          "data": {
            "text/plain": [
              "[['flipkart', 'backup', 'tanks', 'loving'],\n",
              " ['suprrrrrrrrr', 'xcellent', 'sm', 'bad'],\n",
              " ['battery', 'worth', 'love', 'frequently'],\n",
              " ['nice', 'best', 'value', 'money']]"
            ]
          },
          "metadata": {
            "tags": []
          },
          "execution_count": 193
        }
      ]
    },
    {
      "cell_type": "markdown",
      "metadata": {
        "id": "f13i6Ciw2OYo",
        "colab_type": "text"
      },
      "source": [
        "### NMF BOW"
      ]
    },
    {
      "cell_type": "code",
      "metadata": {
        "id": "ZQ4TNhKN2DjX",
        "colab_type": "code",
        "colab": {
          "base_uri": "https://localhost:8080/",
          "height": 180
        },
        "outputId": "0cf23e7c-6db0-4993-dc60-fcdea97783de"
      },
      "source": [
        "bow=CountVectorizer(ngram_range=(1,1))\n",
        "bow_review=bow.fit_transform(data[\"review\"])\n",
        "\n",
        "nmf = NMF(n_components=10, random_state=1,\n",
        "          beta_loss='kullback-leibler', solver='mu', max_iter=1000, alpha=.1,\n",
        "          l1_ratio=.5).fit(bow_review)\n",
        "bow_words=bow.get_feature_names()\n",
        "print_top_words(nmf,bow_words,4)"
      ],
      "execution_count": null,
      "outputs": [
        {
          "output_type": "execute_result",
          "data": {
            "text/plain": [
              "[['good', 'battery', 'camera', 'display'],\n",
              " ['super', 'superb', 'great', 'display'],\n",
              " ['samsung', 'buy', 'm30s', 'loved'],\n",
              " ['nice', 'delivery', 'thanks', 'awsm'],\n",
              " ['quality', 'camera', 'hangs', 'using'],\n",
              " ['best', 'price', 'range', 'camera'],\n",
              " ['wesome', 'battery', 'money', 'xcellent'],\n",
              " ['performance', 'excellent', 'no', 'display'],\n",
              " ['use', 'ok', 'best', 'awsome'],\n",
              " ['flipkart', 'thank', 'love', 'worst']]"
            ]
          },
          "metadata": {
            "tags": []
          },
          "execution_count": 195
        }
      ]
    },
    {
      "cell_type": "markdown",
      "metadata": {
        "id": "ZxeskKGpUqDr",
        "colab_type": "text"
      },
      "source": [
        "#### NMF again"
      ]
    },
    {
      "cell_type": "code",
      "metadata": {
        "id": "0p6ft3bVUtjz",
        "colab_type": "code",
        "colab": {
          "base_uri": "https://localhost:8080/",
          "height": 98
        },
        "outputId": "d8d8f406-95df-431b-eadb-464183d29094"
      },
      "source": [
        "arr=np.array(print_top_words(nmf,bow.get_feature_names(),5)).reshape(1,-1)[0]\n",
        "bow=CountVectorizer(ngram_range=(1,1))\n",
        "bow_review=bow.fit_transform(arr)\n",
        "df_bow=pd.DataFrame(bow_review.toarray(),columns=bow.get_feature_names())\n",
        "nmf = NMF(n_components=5, random_state=1,\n",
        "          beta_loss='kullback-leibler', solver='mu', max_iter=1000, alpha=.1,\n",
        "          l1_ratio=.5).fit(bow_review)\n",
        "bow_words=bow.get_feature_names()\n",
        "print_top_words(nmf,bow_words,4)"
      ],
      "execution_count": null,
      "outputs": [
        {
          "output_type": "execute_result",
          "data": {
            "text/plain": [
              "[['display', 'hours', 'buy', 'worst'],\n",
              " ['battery', 'great', 'money', 'good'],\n",
              " ['camera', 'xcellent', 'online', 'backup'],\n",
              " ['best', 'quality', 'budget', 'hangs'],\n",
              " ['performance', 'love', 'samsung', 'better']]"
            ]
          },
          "metadata": {
            "tags": []
          },
          "execution_count": 196
        }
      ]
    },
    {
      "cell_type": "markdown",
      "metadata": {
        "id": "F7EHQ72V2aww",
        "colab_type": "text"
      },
      "source": [
        "### NMF TFIDF"
      ]
    },
    {
      "cell_type": "code",
      "metadata": {
        "id": "W7jvxYqdU7WM",
        "colab_type": "code",
        "colab": {}
      },
      "source": [
        "tfidf=TfidfVectorizer(ngram_range=(1,1))\n",
        "tfidf_words=tfidf.fit_transform(data[\"review\"])\n",
        "words=tfidf.get_feature_names()"
      ],
      "execution_count": null,
      "outputs": []
    },
    {
      "cell_type": "code",
      "metadata": {
        "id": "LqLU-3Oo2VC0",
        "colab_type": "code",
        "colab": {
          "base_uri": "https://localhost:8080/",
          "height": 180
        },
        "outputId": "77c0ea0b-d1bd-40f0-a0e7-a4de2c8295ab"
      },
      "source": [
        "nmf = NMF(n_components=10, random_state=1,\n",
        "          beta_loss='kullback-leibler', solver='mu', max_iter=1000, alpha=.1,\n",
        "          l1_ratio=.5).fit(tfidf_words)\n",
        "print_top_words(nmf,words,6)"
      ],
      "execution_count": null,
      "outputs": [
        {
          "output_type": "execute_result",
          "data": {
            "text/plain": [
              "[['good', 'one', 'normal', 'choic', 'isplay', 'choice'],\n",
              " ['nice', 'awsm', 'phones', 'samsang', 'cell', 'osm'],\n",
              " ['super', 'quality', 'camera', 'also', 'performance', 'love'],\n",
              " ['wesome', 'outstanding', 'perfomance', 'loving', 'slow', 'gaming'],\n",
              " ['best', 'samsung', 'price', 'loved', 'range', 'buy'],\n",
              " ['battery', 'camera', 'display', 'backup', 'poor', 'back'],\n",
              " ['superb', 'expected', 'great', 'got', 'galaxy', 'tq'],\n",
              " ['xcellent', 'flipkart', 'smartphone', 'love', 'excellent', 'thanks'],\n",
              " ['money', 'awesome', 'value', 'much', 'worth', 'delivery'],\n",
              " ['bad', 'ok', 'thank', 'worst', 'working', 'hangs']]"
            ]
          },
          "metadata": {
            "tags": []
          },
          "execution_count": 86
        }
      ]
    },
    {
      "cell_type": "markdown",
      "metadata": {
        "id": "QdOBKFeOVHMf",
        "colab_type": "text"
      },
      "source": [
        "#### NMF again -------------"
      ]
    },
    {
      "cell_type": "code",
      "metadata": {
        "id": "taDT0PgAVCGT",
        "colab_type": "code",
        "colab": {
          "base_uri": "https://localhost:8080/",
          "height": 82
        },
        "outputId": "f79fefea-4000-4c4b-a161-9d7f26e0b58c"
      },
      "source": [
        "arr=np.array(print_top_words(nmf,words,5)).reshape(1,-1)[0]\n",
        "tfidf=TfidfVectorizer(ngram_range=(1,1))\n",
        "tfidf_words=tfidf.fit_transform(arr)\n",
        "words=tfidf.get_feature_names()\n",
        "df_lda=pd.DataFrame(tfidf_words.toarray(),columns=words)\n",
        "nmf = NMF(n_components=4, random_state=1,\n",
        "          beta_loss='kullback-leibler', solver='mu', max_iter=1000, alpha=.1,\n",
        "          l1_ratio=.5).fit(tfidf_words)\n",
        "\n",
        "print_top_words(nmf,words,4)"
      ],
      "execution_count": null,
      "outputs": [
        {
          "output_type": "execute_result",
          "data": {
            "text/plain": [
              "[['xcellent', 'expected', 'loved', 'bad'],\n",
              " ['loving', 'great', 'samsung', 'price'],\n",
              " ['excellent', 'samsang', 'bad', 'camera'],\n",
              " ['awsm', 'superb', 'slow', 'nice']]"
            ]
          },
          "metadata": {
            "tags": []
          },
          "execution_count": 88
        }
      ]
    },
    {
      "cell_type": "code",
      "metadata": {
        "id": "u9aG82QNOwQE",
        "colab_type": "code",
        "colab": {
          "base_uri": "https://localhost:8080/",
          "height": 1000
        },
        "outputId": "4e9c2f1c-2ca3-46cf-8109-8ed68ca92083"
      },
      "source": [
        "topics=print_top_words(nmf,bow_words,4)\n",
        "topic=[\"topic_\"+str(i) for i  in range(0,nmf.n_components)]\n",
        "df_doc_topic=pd.DataFrame(nmf.fit_transform(df_bow),columns=topic)\n",
        "dominant_topic = np.argmax(df_doc_topic.values, axis=1)\n",
        "df_doc_topic[\"dominant_topic\"] = dominant_topic\n",
        "df_doc_topic[\"review\"]=dataoriginal[\"review\"]\n",
        "df_doc_topic[\"dominant_topic_keywords\"]=[topics[i]  for i in dominant_topic]\n",
        "df_doc_topic"
      ],
      "execution_count": null,
      "outputs": [
        {
          "output_type": "execute_result",
          "data": {
            "text/html": [
              "<div>\n",
              "<style scoped>\n",
              "    .dataframe tbody tr th:only-of-type {\n",
              "        vertical-align: middle;\n",
              "    }\n",
              "\n",
              "    .dataframe tbody tr th {\n",
              "        vertical-align: top;\n",
              "    }\n",
              "\n",
              "    .dataframe thead th {\n",
              "        text-align: right;\n",
              "    }\n",
              "</style>\n",
              "<table border=\"1\" class=\"dataframe\">\n",
              "  <thead>\n",
              "    <tr style=\"text-align: right;\">\n",
              "      <th></th>\n",
              "      <th>topic_0</th>\n",
              "      <th>topic_1</th>\n",
              "      <th>topic_2</th>\n",
              "      <th>topic_3</th>\n",
              "      <th>dominant_topic</th>\n",
              "      <th>review</th>\n",
              "      <th>dominant_topic_keywords</th>\n",
              "    </tr>\n",
              "  </thead>\n",
              "  <tbody>\n",
              "    <tr>\n",
              "      <th>0</th>\n",
              "      <td>0.000000</td>\n",
              "      <td>0.453485</td>\n",
              "      <td>0.000000</td>\n",
              "      <td>0.000000</td>\n",
              "      <td>1</td>\n",
              "      <td>Bokeh mode is very excellent than any other ha...</td>\n",
              "      <td>[delivery, buy, great, excellent]</td>\n",
              "    </tr>\n",
              "    <tr>\n",
              "      <th>1</th>\n",
              "      <td>0.000000</td>\n",
              "      <td>0.453485</td>\n",
              "      <td>0.000000</td>\n",
              "      <td>0.000000</td>\n",
              "      <td>1</td>\n",
              "      <td>Just awsome product the picture quality is goo...</td>\n",
              "      <td>[delivery, buy, great, excellent]</td>\n",
              "    </tr>\n",
              "    <tr>\n",
              "      <th>2</th>\n",
              "      <td>0.385215</td>\n",
              "      <td>0.000000</td>\n",
              "      <td>0.000000</td>\n",
              "      <td>0.000000</td>\n",
              "      <td>0</td>\n",
              "      <td>Samsung galaxy m30s is most useful.But Samsung...</td>\n",
              "      <td>[loved, battery, camera, awsome]</td>\n",
              "    </tr>\n",
              "    <tr>\n",
              "      <th>3</th>\n",
              "      <td>0.000000</td>\n",
              "      <td>0.000000</td>\n",
              "      <td>0.357684</td>\n",
              "      <td>0.000000</td>\n",
              "      <td>2</td>\n",
              "      <td>Not worth for me. i buy for my samsung tv this...</td>\n",
              "      <td>[bad, good, awsome, backup]</td>\n",
              "    </tr>\n",
              "    <tr>\n",
              "      <th>4</th>\n",
              "      <td>0.000000</td>\n",
              "      <td>0.000000</td>\n",
              "      <td>0.000000</td>\n",
              "      <td>0.357258</td>\n",
              "      <td>3</td>\n",
              "      <td>BSOLUTELY BEST PHONE, GO FOR THIS PHONELET ME ...</td>\n",
              "      <td>[awsm, look, hangs, display]</td>\n",
              "    </tr>\n",
              "    <tr>\n",
              "      <th>5</th>\n",
              "      <td>0.000000</td>\n",
              "      <td>0.000000</td>\n",
              "      <td>0.000000</td>\n",
              "      <td>0.357258</td>\n",
              "      <td>3</td>\n",
              "      <td>I have realized that this phone is full packag...</td>\n",
              "      <td>[awsm, look, hangs, display]</td>\n",
              "    </tr>\n",
              "    <tr>\n",
              "      <th>6</th>\n",
              "      <td>0.000000</td>\n",
              "      <td>0.453485</td>\n",
              "      <td>0.000000</td>\n",
              "      <td>0.000000</td>\n",
              "      <td>1</td>\n",
              "      <td>one of the good phone in this price range , th...</td>\n",
              "      <td>[delivery, buy, great, excellent]</td>\n",
              "    </tr>\n",
              "    <tr>\n",
              "      <th>7</th>\n",
              "      <td>0.000000</td>\n",
              "      <td>0.000000</td>\n",
              "      <td>0.357684</td>\n",
              "      <td>0.000000</td>\n",
              "      <td>2</td>\n",
              "      <td>Nice mobile and it comes good battery back up....</td>\n",
              "      <td>[bad, good, awsome, backup]</td>\n",
              "    </tr>\n",
              "    <tr>\n",
              "      <th>8</th>\n",
              "      <td>0.000000</td>\n",
              "      <td>0.000000</td>\n",
              "      <td>0.357684</td>\n",
              "      <td>0.000000</td>\n",
              "      <td>2</td>\n",
              "      <td>Been using this phone for more than 4 months n...</td>\n",
              "      <td>[bad, good, awsome, backup]</td>\n",
              "    </tr>\n",
              "    <tr>\n",
              "      <th>9</th>\n",
              "      <td>0.000000</td>\n",
              "      <td>0.000000</td>\n",
              "      <td>0.357684</td>\n",
              "      <td>0.000000</td>\n",
              "      <td>2</td>\n",
              "      <td>This phone is works excellent so far after (6 ...</td>\n",
              "      <td>[bad, good, awsome, backup]</td>\n",
              "    </tr>\n",
              "    <tr>\n",
              "      <th>10</th>\n",
              "      <td>0.000000</td>\n",
              "      <td>0.000000</td>\n",
              "      <td>0.357684</td>\n",
              "      <td>0.000000</td>\n",
              "      <td>2</td>\n",
              "      <td>super camera</td>\n",
              "      <td>[bad, good, awsome, backup]</td>\n",
              "    </tr>\n",
              "    <tr>\n",
              "      <th>11</th>\n",
              "      <td>0.000000</td>\n",
              "      <td>0.000000</td>\n",
              "      <td>0.000000</td>\n",
              "      <td>0.357258</td>\n",
              "      <td>3</td>\n",
              "      <td>superb battery backup 👌</td>\n",
              "      <td>[awsm, look, hangs, display]</td>\n",
              "    </tr>\n",
              "    <tr>\n",
              "      <th>12</th>\n",
              "      <td>0.000000</td>\n",
              "      <td>0.000000</td>\n",
              "      <td>0.000000</td>\n",
              "      <td>0.357258</td>\n",
              "      <td>3</td>\n",
              "      <td>the phone awesome....</td>\n",
              "      <td>[awsm, look, hangs, display]</td>\n",
              "    </tr>\n",
              "    <tr>\n",
              "      <th>13</th>\n",
              "      <td>0.000000</td>\n",
              "      <td>0.000000</td>\n",
              "      <td>0.357684</td>\n",
              "      <td>0.000000</td>\n",
              "      <td>2</td>\n",
              "      <td>Nice mobile</td>\n",
              "      <td>[bad, good, awsome, backup]</td>\n",
              "    </tr>\n",
              "    <tr>\n",
              "      <th>14</th>\n",
              "      <td>0.385215</td>\n",
              "      <td>0.000000</td>\n",
              "      <td>0.000000</td>\n",
              "      <td>0.000000</td>\n",
              "      <td>0</td>\n",
              "      <td>very good camera and display</td>\n",
              "      <td>[loved, battery, camera, awsome]</td>\n",
              "    </tr>\n",
              "    <tr>\n",
              "      <th>15</th>\n",
              "      <td>0.385215</td>\n",
              "      <td>0.000000</td>\n",
              "      <td>0.000000</td>\n",
              "      <td>0.000000</td>\n",
              "      <td>0</td>\n",
              "      <td>very nice set</td>\n",
              "      <td>[loved, battery, camera, awsome]</td>\n",
              "    </tr>\n",
              "    <tr>\n",
              "      <th>16</th>\n",
              "      <td>0.000000</td>\n",
              "      <td>0.453485</td>\n",
              "      <td>0.000000</td>\n",
              "      <td>0.000000</td>\n",
              "      <td>1</td>\n",
              "      <td>Best Mobile Best Camera and Battry is so power...</td>\n",
              "      <td>[delivery, buy, great, excellent]</td>\n",
              "    </tr>\n",
              "    <tr>\n",
              "      <th>17</th>\n",
              "      <td>0.000000</td>\n",
              "      <td>0.000000</td>\n",
              "      <td>0.000000</td>\n",
              "      <td>0.357258</td>\n",
              "      <td>3</td>\n",
              "      <td>really good product... satisfied...thank you.....</td>\n",
              "      <td>[awsm, look, hangs, display]</td>\n",
              "    </tr>\n",
              "    <tr>\n",
              "      <th>18</th>\n",
              "      <td>0.000000</td>\n",
              "      <td>0.000000</td>\n",
              "      <td>0.357684</td>\n",
              "      <td>0.000000</td>\n",
              "      <td>2</td>\n",
              "      <td>super</td>\n",
              "      <td>[bad, good, awsome, backup]</td>\n",
              "    </tr>\n",
              "    <tr>\n",
              "      <th>19</th>\n",
              "      <td>0.000000</td>\n",
              "      <td>0.000000</td>\n",
              "      <td>0.000000</td>\n",
              "      <td>0.357258</td>\n",
              "      <td>3</td>\n",
              "      <td>not bad</td>\n",
              "      <td>[awsm, look, hangs, display]</td>\n",
              "    </tr>\n",
              "    <tr>\n",
              "      <th>20</th>\n",
              "      <td>0.000000</td>\n",
              "      <td>0.000000</td>\n",
              "      <td>0.000000</td>\n",
              "      <td>0.357258</td>\n",
              "      <td>3</td>\n",
              "      <td>Very nice camera and battery  backup all over ...</td>\n",
              "      <td>[awsm, look, hangs, display]</td>\n",
              "    </tr>\n",
              "    <tr>\n",
              "      <th>21</th>\n",
              "      <td>0.385215</td>\n",
              "      <td>0.000000</td>\n",
              "      <td>0.000000</td>\n",
              "      <td>0.000000</td>\n",
              "      <td>0</td>\n",
              "      <td>Superb</td>\n",
              "      <td>[loved, battery, camera, awsome]</td>\n",
              "    </tr>\n",
              "    <tr>\n",
              "      <th>22</th>\n",
              "      <td>0.000000</td>\n",
              "      <td>0.000000</td>\n",
              "      <td>0.000000</td>\n",
              "      <td>0.357258</td>\n",
              "      <td>3</td>\n",
              "      <td>very good product!!!  Thnks flipkart 😇😇</td>\n",
              "      <td>[awsm, look, hangs, display]</td>\n",
              "    </tr>\n",
              "    <tr>\n",
              "      <th>23</th>\n",
              "      <td>0.385215</td>\n",
              "      <td>0.000000</td>\n",
              "      <td>0.000000</td>\n",
              "      <td>0.000000</td>\n",
              "      <td>0</td>\n",
              "      <td>It's awesome Product</td>\n",
              "      <td>[loved, battery, camera, awsome]</td>\n",
              "    </tr>\n",
              "    <tr>\n",
              "      <th>24</th>\n",
              "      <td>0.385215</td>\n",
              "      <td>0.000000</td>\n",
              "      <td>0.000000</td>\n",
              "      <td>0.000000</td>\n",
              "      <td>0</td>\n",
              "      <td>Head phone miss</td>\n",
              "      <td>[loved, battery, camera, awsome]</td>\n",
              "    </tr>\n",
              "    <tr>\n",
              "      <th>25</th>\n",
              "      <td>0.000000</td>\n",
              "      <td>0.000000</td>\n",
              "      <td>0.000000</td>\n",
              "      <td>0.357258</td>\n",
              "      <td>3</td>\n",
              "      <td>Camara is awesome</td>\n",
              "      <td>[awsm, look, hangs, display]</td>\n",
              "    </tr>\n",
              "    <tr>\n",
              "      <th>26</th>\n",
              "      <td>0.000000</td>\n",
              "      <td>0.000000</td>\n",
              "      <td>0.000000</td>\n",
              "      <td>0.357258</td>\n",
              "      <td>3</td>\n",
              "      <td>nice m</td>\n",
              "      <td>[awsm, look, hangs, display]</td>\n",
              "    </tr>\n",
              "    <tr>\n",
              "      <th>27</th>\n",
              "      <td>0.000000</td>\n",
              "      <td>0.000000</td>\n",
              "      <td>0.357684</td>\n",
              "      <td>0.000000</td>\n",
              "      <td>2</td>\n",
              "      <td>Good</td>\n",
              "      <td>[bad, good, awsome, backup]</td>\n",
              "    </tr>\n",
              "    <tr>\n",
              "      <th>28</th>\n",
              "      <td>0.385215</td>\n",
              "      <td>0.000000</td>\n",
              "      <td>0.000000</td>\n",
              "      <td>0.000000</td>\n",
              "      <td>0</td>\n",
              "      <td>excellent perform</td>\n",
              "      <td>[loved, battery, camera, awsome]</td>\n",
              "    </tr>\n",
              "    <tr>\n",
              "      <th>29</th>\n",
              "      <td>0.000000</td>\n",
              "      <td>0.453485</td>\n",
              "      <td>0.000000</td>\n",
              "      <td>0.000000</td>\n",
              "      <td>1</td>\n",
              "      <td>Best Mobile !</td>\n",
              "      <td>[delivery, buy, great, excellent]</td>\n",
              "    </tr>\n",
              "    <tr>\n",
              "      <th>30</th>\n",
              "      <td>0.000000</td>\n",
              "      <td>0.000000</td>\n",
              "      <td>0.000000</td>\n",
              "      <td>0.357258</td>\n",
              "      <td>3</td>\n",
              "      <td>very nice samsung m30s</td>\n",
              "      <td>[awsm, look, hangs, display]</td>\n",
              "    </tr>\n",
              "    <tr>\n",
              "      <th>31</th>\n",
              "      <td>0.000000</td>\n",
              "      <td>0.453485</td>\n",
              "      <td>0.000000</td>\n",
              "      <td>0.000000</td>\n",
              "      <td>1</td>\n",
              "      <td>tanks flipkart</td>\n",
              "      <td>[delivery, buy, great, excellent]</td>\n",
              "    </tr>\n",
              "    <tr>\n",
              "      <th>32</th>\n",
              "      <td>0.000000</td>\n",
              "      <td>0.000000</td>\n",
              "      <td>0.000000</td>\n",
              "      <td>0.357258</td>\n",
              "      <td>3</td>\n",
              "      <td>Performance is just..osm..n camera though..👌👌😍</td>\n",
              "      <td>[awsm, look, hangs, display]</td>\n",
              "    </tr>\n",
              "    <tr>\n",
              "      <th>33</th>\n",
              "      <td>0.000000</td>\n",
              "      <td>0.000000</td>\n",
              "      <td>0.357684</td>\n",
              "      <td>0.000000</td>\n",
              "      <td>2</td>\n",
              "      <td>nice mobile</td>\n",
              "      <td>[bad, good, awsome, backup]</td>\n",
              "    </tr>\n",
              "    <tr>\n",
              "      <th>34</th>\n",
              "      <td>0.000000</td>\n",
              "      <td>0.000000</td>\n",
              "      <td>0.000000</td>\n",
              "      <td>0.357258</td>\n",
              "      <td>3</td>\n",
              "      <td>nice phone</td>\n",
              "      <td>[awsm, look, hangs, display]</td>\n",
              "    </tr>\n",
              "    <tr>\n",
              "      <th>35</th>\n",
              "      <td>0.000000</td>\n",
              "      <td>0.000000</td>\n",
              "      <td>0.000000</td>\n",
              "      <td>0.357258</td>\n",
              "      <td>3</td>\n",
              "      <td>nice product but speaker is not in correct pla...</td>\n",
              "      <td>[awsm, look, hangs, display]</td>\n",
              "    </tr>\n",
              "    <tr>\n",
              "      <th>36</th>\n",
              "      <td>0.000000</td>\n",
              "      <td>0.453485</td>\n",
              "      <td>0.000000</td>\n",
              "      <td>0.000000</td>\n",
              "      <td>1</td>\n",
              "      <td>Gzb mobile hIt have owesome display and good b...</td>\n",
              "      <td>[delivery, buy, great, excellent]</td>\n",
              "    </tr>\n",
              "    <tr>\n",
              "      <th>37</th>\n",
              "      <td>0.000000</td>\n",
              "      <td>0.000000</td>\n",
              "      <td>0.357684</td>\n",
              "      <td>0.000000</td>\n",
              "      <td>2</td>\n",
              "      <td>very nice mobile</td>\n",
              "      <td>[bad, good, awsome, backup]</td>\n",
              "    </tr>\n",
              "    <tr>\n",
              "      <th>38</th>\n",
              "      <td>0.000000</td>\n",
              "      <td>0.000000</td>\n",
              "      <td>0.357684</td>\n",
              "      <td>0.000000</td>\n",
              "      <td>2</td>\n",
              "      <td>osm nice phone</td>\n",
              "      <td>[bad, good, awsome, backup]</td>\n",
              "    </tr>\n",
              "    <tr>\n",
              "      <th>39</th>\n",
              "      <td>0.000000</td>\n",
              "      <td>0.000000</td>\n",
              "      <td>0.000000</td>\n",
              "      <td>0.357258</td>\n",
              "      <td>3</td>\n",
              "      <td>top 1</td>\n",
              "      <td>[awsm, look, hangs, display]</td>\n",
              "    </tr>\n",
              "    <tr>\n",
              "      <th>40</th>\n",
              "      <td>0.000000</td>\n",
              "      <td>0.000000</td>\n",
              "      <td>0.000000</td>\n",
              "      <td>0.357258</td>\n",
              "      <td>3</td>\n",
              "      <td>xcellent  Value of money</td>\n",
              "      <td>[awsm, look, hangs, display]</td>\n",
              "    </tr>\n",
              "    <tr>\n",
              "      <th>41</th>\n",
              "      <td>0.000000</td>\n",
              "      <td>0.000000</td>\n",
              "      <td>0.000000</td>\n",
              "      <td>0.357258</td>\n",
              "      <td>3</td>\n",
              "      <td>nice</td>\n",
              "      <td>[awsm, look, hangs, display]</td>\n",
              "    </tr>\n",
              "    <tr>\n",
              "      <th>42</th>\n",
              "      <td>0.385215</td>\n",
              "      <td>0.000000</td>\n",
              "      <td>0.000000</td>\n",
              "      <td>0.000000</td>\n",
              "      <td>0</td>\n",
              "      <td>Good one nice product</td>\n",
              "      <td>[loved, battery, camera, awsome]</td>\n",
              "    </tr>\n",
              "    <tr>\n",
              "      <th>43</th>\n",
              "      <td>0.000000</td>\n",
              "      <td>0.000000</td>\n",
              "      <td>0.000000</td>\n",
              "      <td>0.357258</td>\n",
              "      <td>3</td>\n",
              "      <td>its very smooth and easy</td>\n",
              "      <td>[awsm, look, hangs, display]</td>\n",
              "    </tr>\n",
              "    <tr>\n",
              "      <th>44</th>\n",
              "      <td>0.385215</td>\n",
              "      <td>0.000000</td>\n",
              "      <td>0.000000</td>\n",
              "      <td>0.000000</td>\n",
              "      <td>0</td>\n",
              "      <td>K Super nice. 👍</td>\n",
              "      <td>[loved, battery, camera, awsome]</td>\n",
              "    </tr>\n",
              "    <tr>\n",
              "      <th>45</th>\n",
              "      <td>0.385215</td>\n",
              "      <td>0.000000</td>\n",
              "      <td>0.000000</td>\n",
              "      <td>0.000000</td>\n",
              "      <td>0</td>\n",
              "      <td>it has hang problem,although display is very n...</td>\n",
              "      <td>[loved, battery, camera, awsome]</td>\n",
              "    </tr>\n",
              "    <tr>\n",
              "      <th>46</th>\n",
              "      <td>0.000000</td>\n",
              "      <td>0.000000</td>\n",
              "      <td>0.357684</td>\n",
              "      <td>0.000000</td>\n",
              "      <td>2</td>\n",
              "      <td>Good phone</td>\n",
              "      <td>[bad, good, awsome, backup]</td>\n",
              "    </tr>\n",
              "    <tr>\n",
              "      <th>47</th>\n",
              "      <td>0.000000</td>\n",
              "      <td>0.000000</td>\n",
              "      <td>0.000000</td>\n",
              "      <td>0.357258</td>\n",
              "      <td>3</td>\n",
              "      <td>Super</td>\n",
              "      <td>[awsm, look, hangs, display]</td>\n",
              "    </tr>\n",
              "    <tr>\n",
              "      <th>48</th>\n",
              "      <td>0.000000</td>\n",
              "      <td>0.000000</td>\n",
              "      <td>0.000000</td>\n",
              "      <td>0.357258</td>\n",
              "      <td>3</td>\n",
              "      <td>I have facing problems with charging issues wi...</td>\n",
              "      <td>[awsm, look, hangs, display]</td>\n",
              "    </tr>\n",
              "    <tr>\n",
              "      <th>49</th>\n",
              "      <td>0.000000</td>\n",
              "      <td>0.000000</td>\n",
              "      <td>0.000000</td>\n",
              "      <td>0.357258</td>\n",
              "      <td>3</td>\n",
              "      <td>thakarthu</td>\n",
              "      <td>[awsm, look, hangs, display]</td>\n",
              "    </tr>\n",
              "  </tbody>\n",
              "</table>\n",
              "</div>"
            ],
            "text/plain": [
              "     topic_0  ...            dominant_topic_keywords\n",
              "0   0.000000  ...  [delivery, buy, great, excellent]\n",
              "1   0.000000  ...  [delivery, buy, great, excellent]\n",
              "2   0.385215  ...   [loved, battery, camera, awsome]\n",
              "3   0.000000  ...        [bad, good, awsome, backup]\n",
              "4   0.000000  ...       [awsm, look, hangs, display]\n",
              "5   0.000000  ...       [awsm, look, hangs, display]\n",
              "6   0.000000  ...  [delivery, buy, great, excellent]\n",
              "7   0.000000  ...        [bad, good, awsome, backup]\n",
              "8   0.000000  ...        [bad, good, awsome, backup]\n",
              "9   0.000000  ...        [bad, good, awsome, backup]\n",
              "10  0.000000  ...        [bad, good, awsome, backup]\n",
              "11  0.000000  ...       [awsm, look, hangs, display]\n",
              "12  0.000000  ...       [awsm, look, hangs, display]\n",
              "13  0.000000  ...        [bad, good, awsome, backup]\n",
              "14  0.385215  ...   [loved, battery, camera, awsome]\n",
              "15  0.385215  ...   [loved, battery, camera, awsome]\n",
              "16  0.000000  ...  [delivery, buy, great, excellent]\n",
              "17  0.000000  ...       [awsm, look, hangs, display]\n",
              "18  0.000000  ...        [bad, good, awsome, backup]\n",
              "19  0.000000  ...       [awsm, look, hangs, display]\n",
              "20  0.000000  ...       [awsm, look, hangs, display]\n",
              "21  0.385215  ...   [loved, battery, camera, awsome]\n",
              "22  0.000000  ...       [awsm, look, hangs, display]\n",
              "23  0.385215  ...   [loved, battery, camera, awsome]\n",
              "24  0.385215  ...   [loved, battery, camera, awsome]\n",
              "25  0.000000  ...       [awsm, look, hangs, display]\n",
              "26  0.000000  ...       [awsm, look, hangs, display]\n",
              "27  0.000000  ...        [bad, good, awsome, backup]\n",
              "28  0.385215  ...   [loved, battery, camera, awsome]\n",
              "29  0.000000  ...  [delivery, buy, great, excellent]\n",
              "30  0.000000  ...       [awsm, look, hangs, display]\n",
              "31  0.000000  ...  [delivery, buy, great, excellent]\n",
              "32  0.000000  ...       [awsm, look, hangs, display]\n",
              "33  0.000000  ...        [bad, good, awsome, backup]\n",
              "34  0.000000  ...       [awsm, look, hangs, display]\n",
              "35  0.000000  ...       [awsm, look, hangs, display]\n",
              "36  0.000000  ...  [delivery, buy, great, excellent]\n",
              "37  0.000000  ...        [bad, good, awsome, backup]\n",
              "38  0.000000  ...        [bad, good, awsome, backup]\n",
              "39  0.000000  ...       [awsm, look, hangs, display]\n",
              "40  0.000000  ...       [awsm, look, hangs, display]\n",
              "41  0.000000  ...       [awsm, look, hangs, display]\n",
              "42  0.385215  ...   [loved, battery, camera, awsome]\n",
              "43  0.000000  ...       [awsm, look, hangs, display]\n",
              "44  0.385215  ...   [loved, battery, camera, awsome]\n",
              "45  0.385215  ...   [loved, battery, camera, awsome]\n",
              "46  0.000000  ...        [bad, good, awsome, backup]\n",
              "47  0.000000  ...       [awsm, look, hangs, display]\n",
              "48  0.000000  ...       [awsm, look, hangs, display]\n",
              "49  0.000000  ...       [awsm, look, hangs, display]\n",
              "\n",
              "[50 rows x 7 columns]"
            ]
          },
          "metadata": {
            "tags": []
          },
          "execution_count": 89
        }
      ]
    }
  ]
}