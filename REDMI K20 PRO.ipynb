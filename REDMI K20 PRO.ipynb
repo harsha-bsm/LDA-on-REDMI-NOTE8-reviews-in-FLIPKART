{
 "cells": [
  {
   "cell_type": "code",
   "execution_count": 1,
   "metadata": {},
   "outputs": [],
   "source": [
    "import requests as re\n",
    "import pandas as pd\n",
    "from bs4 import BeautifulSoup\n",
    "import re as regex\n",
    "from selenium import webdriver\n",
    "import numpy as np\n",
    "import time"
   ]
  },
  {
   "cell_type": "code",
   "execution_count": 23,
   "metadata": {},
   "outputs": [],
   "source": [
    "data=pd.DataFrame(columns={\"Model\",\"title\",\"review\",\"rating\",\"user\",\"time_of_review\"})\n",
    "review_1=[]\n",
    "title_1=[]\n",
    "rating_1=[]\n",
    "user_1=[]\n",
    "time1=[]\n",
    "user_address=[]\n",
    "model=[]\n",
    "url=\"https://www.flipkart.com/redmi-k20-pro-flame-red-128-gb/product-reviews/itmfg7uysw6gs55a?pid=MOBFG7UYFKHFKBNB&lid=LSTMOBFG7UYFKHFKBNBIBDWWE&marketplace=FLIPKART\"\n",
    "driver = webdriver.Chrome(\"C:/Users/Dell/Downloads/chromedriver_win32/chromedriver\")\n",
    "driver.get(url)\n",
    "html=driver.page_source\n",
    "soup=BeautifulSoup(html,\"lxml\")\n",
    "parent=soup.find( attrs={\"class\":\"_1ypTlJ\"})\n",
    "lastpage=int(parent.find_parent().span.text.split(\" \")[-1]) \n",
    "\n",
    "for j in range(1,lastpage+1):\n",
    "    url=\"https://www.flipkart.com/redmi-k20-pro-flame-red-128-gb/product-reviews/itmfg7uysw6gs55a?pid=MOBFG7UYFKHFKBNB&lid=LSTMOBFG7UYFKHFKBNBIBDWWE&marketplace=FLIPKART&page=\"\n",
    "    url_fin=url+str(j)\n",
    "    driver.get(url_fin)\n",
    "    try:\n",
    "        read_more = driver.find_elements_by_class_name(\"_1EPkIx\")\n",
    "        for i in read_more:\n",
    "            k=np.random.randint(15,20)\n",
    "            time.sleep(k)\n",
    "            i.click()\n",
    "    except:\n",
    "        pass\n",
    "        \n",
    "    html=driver.page_source\n",
    "    soup=BeautifulSoup(html,\"lxml\")\n",
    "    review=soup.find_all(attrs={\"class\":\"qwjRop\"})\n",
    "    title=soup.find_all(\"p\",attrs={\"class\":\"_2xg6Ul\"})\n",
    "    user=soup.find_all(\"p\",attrs={\"class\":\"_3LYOAd _3sxSiS\"})\n",
    "    rating=soup.find_all(attrs={\"class\":\"hGSR34\"})[1:]\n",
    "    address=soup.find_all(attrs={\"class\":\"_19inI8\"})\n",
    "    timer=soup.find_all(attrs={\"class\":\"_3LYOAd\"})[1::2]\n",
    "    timelapse=np.random.randint(10,15)\n",
    "    time.sleep(timelapse)\n",
    "    product=driver.title\n",
    "    try:\n",
    "        nextpage = driver.find_elements_by_class_name(\"_3fVaIS\")\n",
    "        timelapse=np.random.randint(8,14)\n",
    "        z=time.sleep(timelapse)\n",
    "        time.sleep(z)\n",
    "        nextpage.click()\n",
    "    except:\n",
    "        pass\n",
    "    for (i,j,k,u,t,ad) in zip(review,title,rating,user,timer,address):\n",
    "        review_1.append(i.get_text().rstrip(\"READ MORE\"))\n",
    "        title_1.append(j.get_text())\n",
    "        rating_1.append(k.get_text())\n",
    "        user_1.append(u.get_text())\n",
    "        time1.append(t.get_text())\n",
    "        user_address.append(ad.get_text())\n",
    "        model.append(product)\n",
    "data[\"title\"]=title_1\n",
    "data[\"review\"]=review_1\n",
    "data[\"rating\"]=rating_1\n",
    "data[\"user\"]=user_1\n",
    "data[\"time_of_review\"]=time1\n",
    "data[\"user_address\"]=user_address\n",
    "data[\"Model\"]=model\n",
    "data_mi=data\n"
   ]
  },
  {
   "cell_type": "code",
   "execution_count": 24,
   "metadata": {},
   "outputs": [
    {
     "data": {
      "text/plain": [
       "(7830, 7)"
      ]
     },
     "execution_count": 24,
     "metadata": {},
     "output_type": "execute_result"
    }
   ],
   "source": [
    "data.shape"
   ]
  },
  {
   "cell_type": "code",
   "execution_count": 25,
   "metadata": {},
   "outputs": [
    {
     "data": {
      "text/plain": [
       "5    5433\n",
       "4    1390\n",
       "3     449\n",
       "1     415\n",
       "2     143\n",
       "Name: rating, dtype: int64"
      ]
     },
     "execution_count": 25,
     "metadata": {},
     "output_type": "execute_result"
    }
   ],
   "source": [
    "data.rating.value_counts()"
   ]
  },
  {
   "cell_type": "code",
   "execution_count": 27,
   "metadata": {},
   "outputs": [],
   "source": [
    "\n",
    "data_mi.to_csv(\"data_mi7830.csv\", encoding='utf-8', index=False)"
   ]
  },
  {
   "cell_type": "code",
   "execution_count": null,
   "metadata": {},
   "outputs": [],
   "source": []
  }
 ],
 "metadata": {
  "kernelspec": {
   "display_name": "Python 3",
   "language": "python",
   "name": "python3"
  },
  "language_info": {
   "codemirror_mode": {
    "name": "ipython",
    "version": 3
   },
   "file_extension": ".py",
   "mimetype": "text/x-python",
   "name": "python",
   "nbconvert_exporter": "python",
   "pygments_lexer": "ipython3",
   "version": "3.6.5"
  }
 },
 "nbformat": 4,
 "nbformat_minor": 2
}
