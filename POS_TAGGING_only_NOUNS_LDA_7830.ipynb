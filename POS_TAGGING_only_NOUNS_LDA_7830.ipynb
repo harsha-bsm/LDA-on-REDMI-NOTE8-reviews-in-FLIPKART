{
  "nbformat": 4,
  "nbformat_minor": 0,
  "metadata": {
    "colab": {
      "name": "POS TAGGING only NOUNS LDA 7830.ipynb",
      "provenance": [],
      "authorship_tag": "ABX9TyNcu0J6j7Vo/J8pmRmqRMdy",
      "include_colab_link": true
    },
    "kernelspec": {
      "name": "python3",
      "display_name": "Python 3"
    }
  },
  "cells": [
    {
      "cell_type": "markdown",
      "metadata": {
        "id": "view-in-github",
        "colab_type": "text"
      },
      "source": [
        "<a href=\"https://colab.research.google.com/github/harsha-bsm/Topic-Modelling-using-LDA-and-NMF-reviewsflipkart/blob/master/POS_TAGGING_only_NOUNS_LDA_7830.ipynb\" target=\"_parent\"><img src=\"https://colab.research.google.com/assets/colab-badge.svg\" alt=\"Open In Colab\"/></a>"
      ]
    },
    {
      "cell_type": "code",
      "metadata": {
        "id": "SKILHH8iQvAX",
        "colab_type": "code",
        "colab": {}
      },
      "source": [
        "import re\n",
        "import numpy as np\n",
        "import spacy\n",
        "import pandas as pd"
      ],
      "execution_count": 1,
      "outputs": []
    },
    {
      "cell_type": "code",
      "metadata": {
        "id": "JKxaHbb_RD91",
        "colab_type": "code",
        "colab": {}
      },
      "source": [
        "data=pd.read_csv(\"mi7830.csv\")\n",
        "dataoriginal=pd.read_csv(\"mi7830.csv\")"
      ],
      "execution_count": 2,
      "outputs": []
    },
    {
      "cell_type": "code",
      "metadata": {
        "id": "sG6MbHUhwYKB",
        "colab_type": "code",
        "colab": {
          "base_uri": "https://localhost:8080/",
          "height": 82
        },
        "outputId": "4396a30d-6e33-40d2-8dd0-a7354d3e5d29"
      },
      "source": [
        "pip install emot "
      ],
      "execution_count": 3,
      "outputs": [
        {
          "output_type": "stream",
          "text": [
            "Collecting emot\n",
            "  Downloading https://files.pythonhosted.org/packages/49/07/20001ade19873de611b7b66a4d5e5aabbf190d65abea337d5deeaa2bc3de/emot-2.1-py3-none-any.whl\n",
            "Installing collected packages: emot\n",
            "Successfully installed emot-2.1\n"
          ],
          "name": "stdout"
        }
      ]
    },
    {
      "cell_type": "code",
      "metadata": {
        "id": "Tmly-l1OeLL-",
        "colab_type": "code",
        "colab": {}
      },
      "source": [
        "####### Apply emoticons and emojis\n",
        "\n",
        "from emot.emo_unicode import UNICODE_EMO, EMOTICONS # contains english text of emojis and emoticons in dict format \n",
        "def convert_emojis(review):\n",
        "  for x in review:\n",
        "    if x in UNICODE_EMO.keys():\n",
        "      review=review.replace(x,\"\")\n",
        "  return review"
      ],
      "execution_count": 4,
      "outputs": []
    },
    {
      "cell_type": "code",
      "metadata": {
        "id": "Wo1mbD4XSbID",
        "colab_type": "code",
        "colab": {}
      },
      "source": [
        "#converting all basic contracted foms  \n",
        "def decontracted(phrase):\n",
        "    # specific\n",
        "    phrase = re.sub(r\"won't\", \"will not\", phrase)\n",
        "    phrase = re.sub(r\"can\\'t\", \"can not\", phrase)\n",
        "    phrase = re.sub(\"\\S*\\d\\S*\", \"\", phrase).strip()\n",
        "    # general\n",
        "    phrase = re.sub(r\"n\\'t\", \" not\", phrase)\n",
        "    phrase = re.sub(r\"\\'re\", \" are\", phrase)\n",
        "    phrase = re.sub(r\"\\'s\", \" is\", phrase)\n",
        "    phrase = re.sub(r\"\\'d\", \" would\", phrase)\n",
        "    phrase = re.sub(r\"\\'ll\", \" will\", phrase)\n",
        "    phrase = re.sub(r\"\\'t\", \" not\", phrase)\n",
        "    phrase = re.sub(r\"\\'ve\", \" have\", phrase)\n",
        "    phrase = re.sub(r\"\\'m\", \" am\", phrase)\n",
        "    return phrase"
      ],
      "execution_count": 5,
      "outputs": []
    },
    {
      "cell_type": "code",
      "metadata": {
        "id": "9h47xg15Y5cQ",
        "colab_type": "code",
        "colab": {}
      },
      "source": [
        "#removing special characters and tabs ,spaces,new lines etc..\n",
        "def removecharacters(review):\n",
        "  review= re.sub('[^A-Za-z0-9]+',' ',review)  #anything exept numbers and alphabets, replace them with space\n",
        "  review=re.sub(r\"\\n\",\" \",review)  #new lines into space\n",
        "  review=re.sub(r\"\\t\",\" \",review)  #tabs into space\n",
        "  review=re.sub(r\"\\v\",\" \",review)  #vertical tab into space\n",
        "  review=re.sub(r\"\\s\",\" \",review)   #all extra spaces into single space\n",
        "  return review  \n"
      ],
      "execution_count": 6,
      "outputs": []
    },
    {
      "cell_type": "code",
      "metadata": {
        "id": "KqOCmax8PTwB",
        "colab_type": "code",
        "colab": {}
      },
      "source": [
        "# https://gist.github.com/sebleier/554280\n",
        "# we are removing the words from the stop words list: 'no', 'nor', 'not'\n",
        "# <br /><br /> ==> after the above steps, we are getting \"br br\"\n",
        "# we are including them into stop words list\n",
        "# instead of <br /> if we have <br/> these tags would have revmoved in the 1st step\n",
        "# ignore words like won't, haven't etc.. We have already taken care of them\n",
        "\n",
        "stopword= set(['br', 'the', 'i', 'me', 'my', 'myself', 'we', 'our', 'ours', 'ourselves', 'you', \"you're\", \"you've\",\\\n",
        "            \"you'll\", \"you'd\", 'your', 'yours', 'yourself', 'yourselves', 'he', 'him', 'his', 'himself', \\\n",
        "            'she', \"she's\", 'her', 'hers', 'herself', 'it', \"it's\", 'its', 'itself', 'they', 'them', 'their',\\\n",
        "            'theirs', 'themselves', 'what', 'which', 'who', 'whom', 'this', 'that', \"that'll\", 'these', 'those', \\\n",
        "            'am', 'is', 'are', 'was', 'were', 'be', 'been', 'being', 'have', 'has', 'had', 'having', 'do', 'does', \\\n",
        "            'did', 'doing', 'a', 'an', 'the', 'and', 'but', 'if', 'or', 'because', 'as', 'until', 'while', 'of', \\\n",
        "            'at', 'by', 'for', 'with', 'about', 'against', 'between', 'into', 'through', 'during', 'before', 'after',\\\n",
        "            'above', 'below', 'to', 'from', 'up', 'down', 'in', 'out', 'on', 'off', 'over', 'under', 'again', 'further',\\\n",
        "            'then', 'once', 'here', 'there', 'when', 'where', 'why', 'how', 'all', 'any', 'both', 'each', 'few', 'more',\\\n",
        "            'most', 'other', 'some', 'such', 'only', 'own', 'same', 'so', 'than', 'too',\"ok\", 'very', \\\n",
        "            's', 't', 'can', 'will', 'just', 'don', \"don't\", 'should', \"should've\", 'now', 'd', 'll', 'm', 'o', 're', \\\n",
        "            've', 'y', 'ain', 'aren', \"aren't\", 'couldn', \"couldn't\", 'didn', \"didn't\", 'doesn', \"doesn't\", 'hadn',\\\n",
        "            \"hadn't\", 'hasn', \"hasn't\", 'haven', \"haven't\", 'isn', \"isn't\", 'ma', 'mightn', \"mightn't\", 'mustn',\\\n",
        "            \"mustn't\", 'needn', \"needn't\", 'shan', \"shan't\", 'shouldn', \"shouldn't\", 'wasn', \"wasn't\", 'weren', \"weren't\", \\\n",
        "            'won', \"won't\", 'wouldn', \"wouldn't\",\"not\",\"phone\",\"product\",\"mobile\",\"np\",\"pro\",\"k20\"])"
      ],
      "execution_count": 7,
      "outputs": []
    },
    {
      "cell_type": "code",
      "metadata": {
        "id": "dvdqs46FPVHt",
        "colab_type": "code",
        "colab": {}
      },
      "source": [
        "from nltk.corpus import stopwords\n",
        "import nltk"
      ],
      "execution_count": 8,
      "outputs": []
    },
    {
      "cell_type": "code",
      "metadata": {
        "id": "bKJvsyw6biTI",
        "colab_type": "code",
        "colab": {}
      },
      "source": [
        "def removestopwords(review):\n",
        "  return \" \".join([word for word in review.split(\" \") if not word in stopword])\n"
      ],
      "execution_count": 9,
      "outputs": []
    },
    {
      "cell_type": "code",
      "metadata": {
        "id": "thEmkIDeedfW",
        "colab_type": "code",
        "colab": {}
      },
      "source": [
        "def lengthgreaterthantwo(review):\n",
        "  return \" \".join([word for word in review.split(\" \") if  len(word) > 2])"
      ],
      "execution_count": 10,
      "outputs": []
    },
    {
      "cell_type": "code",
      "metadata": {
        "id": "1bhn9-ETgvLb",
        "colab_type": "code",
        "colab": {}
      },
      "source": [
        "from sklearn.feature_extraction.text import TfidfTransformer\n",
        "from sklearn.feature_extraction.text import TfidfVectorizer\n",
        "from sklearn.feature_extraction.text import CountVectorizer\n",
        "from gensim.models import ldamodel\n",
        "import gensim.corpora\n",
        "from sklearn.decomposition import LatentDirichletAllocation,NMF"
      ],
      "execution_count": 11,
      "outputs": []
    },
    {
      "cell_type": "code",
      "metadata": {
        "id": "kd3CmQ9Ng0lG",
        "colab_type": "code",
        "colab": {}
      },
      "source": [
        "#https://scikit-learn.org/stable/auto_examples/applications/plot_topics_extraction_with_nmf_lda.html#sphx-glr-auto-examples-applications-plot-topics-extraction-with-nmf-lda-py\n",
        "def print_top_words(model, feature_names, n_top_words):\n",
        "  topics_cluster=[]\n",
        "  for topic_idx, topic in enumerate(model.components_):\n",
        "      message = \"Topic #%d: \" % topic_idx\n",
        "      message += \",\".join([feature_names[i] for i in topic.argsort()[:-n_top_words - 1:-1]])\n",
        "      topics_cluster.append([feature_names[i] for i in topic.argsort()[:-n_top_words - 1:-1]])\n",
        "  return topics_cluster\n",
        "  "
      ],
      "execution_count": 12,
      "outputs": []
    },
    {
      "cell_type": "markdown",
      "metadata": {
        "id": "OB0HXHKTg3Xs",
        "colab_type": "text"
      },
      "source": [
        "## POS TAGGING taking only nouns"
      ]
    },
    {
      "cell_type": "code",
      "metadata": {
        "id": "YN_uJnfPKGJl",
        "colab_type": "code",
        "colab": {
          "base_uri": "https://localhost:8080/",
          "height": 82
        },
        "outputId": "4ee16da3-31c6-42bf-9e49-a056a33250c5"
      },
      "source": [
        "  import nltk\n",
        "  nltk.download('averaged_perceptron_tagger')"
      ],
      "execution_count": 13,
      "outputs": [
        {
          "output_type": "stream",
          "text": [
            "[nltk_data] Downloading package averaged_perceptron_tagger to\n",
            "[nltk_data]     /root/nltk_data...\n",
            "[nltk_data]   Unzipping taggers/averaged_perceptron_tagger.zip.\n"
          ],
          "name": "stdout"
        },
        {
          "output_type": "execute_result",
          "data": {
            "text/plain": [
              "True"
            ]
          },
          "metadata": {
            "tags": []
          },
          "execution_count": 13
        }
      ]
    },
    {
      "cell_type": "code",
      "metadata": {
        "id": "6NQkYJpdiwfN",
        "colab_type": "code",
        "colab": {
          "base_uri": "https://localhost:8080/",
          "height": 82
        },
        "outputId": "1d5d2d4c-7d8d-45c8-f33b-f8a9e20da492"
      },
      "source": [
        "import nltk\n",
        "nltk.download('averaged_perceptron_tagger')\n",
        "def only_nouns(review):\n",
        "  lis= \" \".join([each.strip(\" \") for each,pos in nltk.pos_tag(review.split()) if pos==\"NN\"])\n",
        "  return lis\n",
        "  \n",
        "data[\"review\"]=data[\"review\"].apply(lambda x:only_nouns(x))"
      ],
      "execution_count": 15,
      "outputs": [
        {
          "output_type": "stream",
          "text": [
            "[nltk_data] Downloading package averaged_perceptron_tagger to\n",
            "[nltk_data]     /root/nltk_data...\n",
            "[nltk_data]   Package averaged_perceptron_tagger is already up-to-\n",
            "[nltk_data]       date!\n"
          ],
          "name": "stdout"
        }
      ]
    },
    {
      "cell_type": "code",
      "metadata": {
        "id": "X074cXQSQ4XH",
        "colab_type": "code",
        "colab": {
          "base_uri": "https://localhost:8080/",
          "height": 212
        },
        "outputId": "a8938d4d-cb16-4aab-cb26-79c853913c7c"
      },
      "source": [
        "data[\"review\"]"
      ],
      "execution_count": 17,
      "outputs": [
        {
          "output_type": "execute_result",
          "data": {
            "text/plain": [
              "0       display type phone camera performance time ama...\n",
              "1       camera performance competition priceVery displ...\n",
              "2       review month budget phone phone hand. phone bu...\n",
              "3       phone battery camera front camera night mode p...\n",
              "4       review use performance charm .not second lag.C...\n",
              "                              ...                        \n",
              "7825                           superb mobile, value money\n",
              "7826                     Camera price segment. weight bit\n",
              "7827                                            SWITCHING\n",
              "7828                                                     \n",
              "7829                                                issue\n",
              "Name: review, Length: 7830, dtype: object"
            ]
          },
          "metadata": {
            "tags": []
          },
          "execution_count": 17
        }
      ]
    },
    {
      "cell_type": "code",
      "metadata": {
        "id": "puxiNY4utGKg",
        "colab_type": "code",
        "colab": {}
      },
      "source": [
        "data[\"review\"]=data[\"review\"].apply(lambda x:convert_emojis(x))\n",
        "data[\"review\"]=data[\"review\"].apply(lambda x:x.lower()) \n",
        "data[\"review\"]=data[\"review\"].apply(lambda x:decontracted(x))\n",
        "data[\"review\"]=data[\"review\"].apply(lambda x:removecharacters(x))\n",
        "data[\"review\"]=pd.DataFrame(data[\"review\"].apply(lambda x:removestopwords(x)))\n",
        "data[\"review\"]=pd.DataFrame(data[\"review\"].apply(lambda x:lengthgreaterthantwo(x)))"
      ],
      "execution_count": 18,
      "outputs": []
    },
    {
      "cell_type": "code",
      "metadata": {
        "id": "-0P-r_10exH9",
        "colab_type": "code",
        "colab": {}
      },
      "source": [
        "data[\"review\"]=pd.DataFrame(data[\"review\"].apply(lambda x:lengthgreaterthantwo(x)))"
      ],
      "execution_count": 19,
      "outputs": []
    },
    {
      "cell_type": "code",
      "metadata": {
        "id": "NE-2wCvyQiVo",
        "colab_type": "code",
        "colab": {
          "base_uri": "https://localhost:8080/",
          "height": 67
        },
        "outputId": "37933c30-f068-4e81-85ac-17760ea9e3d1"
      },
      "source": [
        "data[\"review\"][2]"
      ],
      "execution_count": 20,
      "outputs": [
        {
          "output_type": "execute_result",
          "data": {
            "application/vnd.google.colaboratory.intrinsic+json": {
              "type": "string"
            },
            "text/plain": [
              "'review month budget hand budget difference everything quality display glass body design gorilla glass front divine lags management heating stock android bit segment classy history book time camera sensor everything camera setup bit front camera camera sensor budget image processing note mode average time day use charge charger min information cons fingerprint scanner protector camera bit face irritated notification light time'"
            ]
          },
          "metadata": {
            "tags": []
          },
          "execution_count": 20
        }
      ]
    },
    {
      "cell_type": "markdown",
      "metadata": {
        "id": "L1ufpHGDu18a",
        "colab_type": "text"
      },
      "source": [
        "### LDA BOW ---  (topipc extraction/keyword extraction)"
      ]
    },
    {
      "cell_type": "code",
      "metadata": {
        "id": "djb99Zy4oMIp",
        "colab_type": "code",
        "colab": {
          "base_uri": "https://localhost:8080/",
          "height": 407
        },
        "outputId": "29ac5586-7b5d-4613-e51f-6d4bba37e215"
      },
      "source": [
        "bow=CountVectorizer(ngram_range=(1,2))\n",
        "bow_review=bow.fit_transform(data[\"review\"])\n",
        "df_bow=pd.DataFrame(bow_review.toarray(),columns=bow.get_feature_names())\n",
        "lda = LatentDirichletAllocation(n_components=3,random_state=0)\n",
        "lda.fit_transform(df_bow)\n",
        "print_top_words(lda,bow.get_feature_names(),8)"
      ],
      "execution_count": 21,
      "outputs": [
        {
          "output_type": "execute_result",
          "data": {
            "text/plain": [
              "[['price',\n",
              "  'camera',\n",
              "  'flagship',\n",
              "  'range',\n",
              "  'performance',\n",
              "  'pubg',\n",
              "  'superb',\n",
              "  'display'],\n",
              " ['camera',\n",
              "  'performance',\n",
              "  'battery',\n",
              "  'price',\n",
              "  'display',\n",
              "  'quality',\n",
              "  'backup',\n",
              "  'delivery'],\n",
              " ['money',\n",
              "  'camera',\n",
              "  'value',\n",
              "  'value money',\n",
              "  'quality',\n",
              "  'display',\n",
              "  'performance',\n",
              "  'battery']]"
            ]
          },
          "metadata": {
            "tags": []
          },
          "execution_count": 21
        }
      ]
    },
    {
      "cell_type": "code",
      "metadata": {
        "id": "FbevquzzXrIZ",
        "colab_type": "code",
        "colab": {
          "base_uri": "https://localhost:8080/",
          "height": 391
        },
        "outputId": "e7b2b23c-3c85-4b36-a512-17b9d60b8610"
      },
      "source": [
        " topics=print_top_words(lda,bow.get_feature_names(),6)\n",
        "topic=[\"topic_\"+str(i) for i  in range(0,lda.n_components)]\n",
        "df_doc_topic=pd.DataFrame(lda.fit_transform(df_bow),columns=topic)\n",
        "dominant_topic = np.argmax(df_doc_topic.values, axis=1)\n",
        "df_doc_topic[\"dominant_topic\"] = dominant_topic\n",
        "df_doc_topic[\"review\"]=dataoriginal[\"review\"]\n",
        "df_doc_topic[\"dominant_topic_keywords\"]=[topics[i]  for i in dominant_topic]\n",
        "df_doc_topic"
      ],
      "execution_count": 22,
      "outputs": [
        {
          "output_type": "execute_result",
          "data": {
            "text/html": [
              "<div>\n",
              "<style scoped>\n",
              "    .dataframe tbody tr th:only-of-type {\n",
              "        vertical-align: middle;\n",
              "    }\n",
              "\n",
              "    .dataframe tbody tr th {\n",
              "        vertical-align: top;\n",
              "    }\n",
              "\n",
              "    .dataframe thead th {\n",
              "        text-align: right;\n",
              "    }\n",
              "</style>\n",
              "<table border=\"1\" class=\"dataframe\">\n",
              "  <thead>\n",
              "    <tr style=\"text-align: right;\">\n",
              "      <th></th>\n",
              "      <th>topic_0</th>\n",
              "      <th>topic_1</th>\n",
              "      <th>topic_2</th>\n",
              "      <th>dominant_topic</th>\n",
              "      <th>review</th>\n",
              "      <th>dominant_topic_keywords</th>\n",
              "    </tr>\n",
              "  </thead>\n",
              "  <tbody>\n",
              "    <tr>\n",
              "      <th>0</th>\n",
              "      <td>0.029435</td>\n",
              "      <td>0.927565</td>\n",
              "      <td>0.043000</td>\n",
              "      <td>1</td>\n",
              "      <td>It's awesome display not so new type but phone...</td>\n",
              "      <td>[camera, performance, battery, price, display,...</td>\n",
              "    </tr>\n",
              "    <tr>\n",
              "      <th>1</th>\n",
              "      <td>0.022190</td>\n",
              "      <td>0.147771</td>\n",
              "      <td>0.830039</td>\n",
              "      <td>2</td>\n",
              "      <td>Excellent camera excellent performance ..Redmi...</td>\n",
              "      <td>[money, camera, value, value money, quality, d...</td>\n",
              "    </tr>\n",
              "    <tr>\n",
              "      <th>2</th>\n",
              "      <td>0.002904</td>\n",
              "      <td>0.003126</td>\n",
              "      <td>0.993971</td>\n",
              "      <td>2</td>\n",
              "      <td>Giving my review after 1 month of usage. Hope ...</td>\n",
              "      <td>[money, camera, value, value money, quality, d...</td>\n",
              "    </tr>\n",
              "    <tr>\n",
              "      <th>3</th>\n",
              "      <td>0.029380</td>\n",
              "      <td>0.939151</td>\n",
              "      <td>0.031469</td>\n",
              "      <td>1</td>\n",
              "      <td>nice phone battery is good camera is good fron...</td>\n",
              "      <td>[camera, performance, battery, price, display,...</td>\n",
              "    </tr>\n",
              "    <tr>\n",
              "      <th>4</th>\n",
              "      <td>0.044045</td>\n",
              "      <td>0.002529</td>\n",
              "      <td>0.953426</td>\n",
              "      <td>2</td>\n",
              "      <td>Detailed review after 5 days of use K20 Pro , ...</td>\n",
              "      <td>[money, camera, value, value money, quality, d...</td>\n",
              "    </tr>\n",
              "    <tr>\n",
              "      <th>...</th>\n",
              "      <td>...</td>\n",
              "      <td>...</td>\n",
              "      <td>...</td>\n",
              "      <td>...</td>\n",
              "      <td>...</td>\n",
              "      <td>...</td>\n",
              "    </tr>\n",
              "    <tr>\n",
              "      <th>7825</th>\n",
              "      <td>0.358553</td>\n",
              "      <td>0.056550</td>\n",
              "      <td>0.584897</td>\n",
              "      <td>2</td>\n",
              "      <td>superb mobile, value for money</td>\n",
              "      <td>[money, camera, value, value money, quality, d...</td>\n",
              "    </tr>\n",
              "    <tr>\n",
              "      <th>7826</th>\n",
              "      <td>0.035329</td>\n",
              "      <td>0.929578</td>\n",
              "      <td>0.035093</td>\n",
              "      <td>1</td>\n",
              "      <td>Camera could have been little better with this...</td>\n",
              "      <td>[camera, performance, battery, price, display,...</td>\n",
              "    </tr>\n",
              "    <tr>\n",
              "      <th>7827</th>\n",
              "      <td>0.664827</td>\n",
              "      <td>0.167557</td>\n",
              "      <td>0.167616</td>\n",
              "      <td>0</td>\n",
              "      <td>VERY BAD USER INTERFACE. SAMSUNG GALAXY M10 IS...</td>\n",
              "      <td>[price, camera, flagship, range, performance, ...</td>\n",
              "    </tr>\n",
              "    <tr>\n",
              "      <th>7828</th>\n",
              "      <td>0.333333</td>\n",
              "      <td>0.333333</td>\n",
              "      <td>0.333333</td>\n",
              "      <td>0</td>\n",
              "      <td>Not As Per Acception...</td>\n",
              "      <td>[price, camera, flagship, range, performance, ...</td>\n",
              "    </tr>\n",
              "    <tr>\n",
              "      <th>7829</th>\n",
              "      <td>0.200177</td>\n",
              "      <td>0.605897</td>\n",
              "      <td>0.193927</td>\n",
              "      <td>1</td>\n",
              "      <td>touch issue</td>\n",
              "      <td>[camera, performance, battery, price, display,...</td>\n",
              "    </tr>\n",
              "  </tbody>\n",
              "</table>\n",
              "<p>7830 rows × 6 columns</p>\n",
              "</div>"
            ],
            "text/plain": [
              "       topic_0  ...                            dominant_topic_keywords\n",
              "0     0.029435  ...  [camera, performance, battery, price, display,...\n",
              "1     0.022190  ...  [money, camera, value, value money, quality, d...\n",
              "2     0.002904  ...  [money, camera, value, value money, quality, d...\n",
              "3     0.029380  ...  [camera, performance, battery, price, display,...\n",
              "4     0.044045  ...  [money, camera, value, value money, quality, d...\n",
              "...        ...  ...                                                ...\n",
              "7825  0.358553  ...  [money, camera, value, value money, quality, d...\n",
              "7826  0.035329  ...  [camera, performance, battery, price, display,...\n",
              "7827  0.664827  ...  [price, camera, flagship, range, performance, ...\n",
              "7828  0.333333  ...  [price, camera, flagship, range, performance, ...\n",
              "7829  0.200177  ...  [camera, performance, battery, price, display,...\n",
              "\n",
              "[7830 rows x 6 columns]"
            ]
          },
          "metadata": {
            "tags": []
          },
          "execution_count": 22
        }
      ]
    },
    {
      "cell_type": "code",
      "metadata": {
        "id": "bCD0kZ9tZHws",
        "colab_type": "code",
        "colab": {
          "base_uri": "https://localhost:8080/",
          "height": 197
        },
        "outputId": "9903c63b-2ebe-45c8-fbc3-08ab400e9b15"
      },
      "source": [
        "modelcomponents=lda.components_/(np.sum(lda.components_,axis=1)).reshape(-1,1)\n",
        "pd.DataFrame(modelcomponents,index=topic,columns=bow.get_feature_names())"
      ],
      "execution_count": 23,
      "outputs": [
        {
          "output_type": "execute_result",
          "data": {
            "text/html": [
              "<div>\n",
              "<style scoped>\n",
              "    .dataframe tbody tr th:only-of-type {\n",
              "        vertical-align: middle;\n",
              "    }\n",
              "\n",
              "    .dataframe tbody tr th {\n",
              "        vertical-align: top;\n",
              "    }\n",
              "\n",
              "    .dataframe thead th {\n",
              "        text-align: right;\n",
              "    }\n",
              "</style>\n",
              "<table border=\"1\" class=\"dataframe\">\n",
              "  <thead>\n",
              "    <tr style=\"text-align: right;\">\n",
              "      <th></th>\n",
              "      <th>aap</th>\n",
              "      <th>aap time</th>\n",
              "      <th>ability</th>\n",
              "      <th>ability say</th>\n",
              "      <th>absence</th>\n",
              "      <th>absence blaster</th>\n",
              "      <th>absence marketing</th>\n",
              "      <th>absence memory</th>\n",
              "      <th>absence port</th>\n",
              "      <th>absence slot</th>\n",
              "      <th>absence stabilizing</th>\n",
              "      <th>absence videos</th>\n",
              "      <th>absolute</th>\n",
              "      <th>absolute beast</th>\n",
              "      <th>absolute end</th>\n",
              "      <th>absolute joy</th>\n",
              "      <th>absolute stunner</th>\n",
              "      <th>absolutely</th>\n",
              "      <th>abt</th>\n",
              "      <th>abt abt</th>\n",
              "      <th>abt case</th>\n",
              "      <th>abt unlock</th>\n",
              "      <th>accent</th>\n",
              "      <th>accent battery</th>\n",
              "      <th>accepting</th>\n",
              "      <th>accepting popup</th>\n",
              "      <th>access</th>\n",
              "      <th>access apps</th>\n",
              "      <th>access brother</th>\n",
              "      <th>access case</th>\n",
              "      <th>access wide</th>\n",
              "      <th>accha</th>\n",
              "      <th>accha maza</th>\n",
              "      <th>account</th>\n",
              "      <th>account light</th>\n",
              "      <th>account logout</th>\n",
              "      <th>accuracy</th>\n",
              "      <th>accuracy apps</th>\n",
              "      <th>accuracy battery</th>\n",
              "      <th>accuracy rate</th>\n",
              "      <th>...</th>\n",
              "      <th>yhatsbthe</th>\n",
              "      <th>yhatsbthe part</th>\n",
              "      <th>youtube</th>\n",
              "      <th>youtube automatically</th>\n",
              "      <th>youtube cant</th>\n",
              "      <th>youtube dont</th>\n",
              "      <th>youtube support</th>\n",
              "      <th>yrrr</th>\n",
              "      <th>yrrr result</th>\n",
              "      <th>yrs</th>\n",
              "      <th>yrs camera</th>\n",
              "      <th>yrs releasing</th>\n",
              "      <th>yrs thought</th>\n",
              "      <th>yrs usage</th>\n",
              "      <th>yrs yrs</th>\n",
              "      <th>zabardasstt</th>\n",
              "      <th>zabardasstt camera</th>\n",
              "      <th>zing</th>\n",
              "      <th>zing zing</th>\n",
              "      <th>zone</th>\n",
              "      <th>zone display</th>\n",
              "      <th>zone superb</th>\n",
              "      <th>zoom</th>\n",
              "      <th>zoom angle</th>\n",
              "      <th>zoom camera</th>\n",
              "      <th>zoom clarity</th>\n",
              "      <th>zoom image</th>\n",
              "      <th>zoom modetree</th>\n",
              "      <th>zoom option</th>\n",
              "      <th>zoom popup</th>\n",
              "      <th>zoom portraits</th>\n",
              "      <th>zoom quality</th>\n",
              "      <th>zoom sense</th>\n",
              "      <th>zoom shot</th>\n",
              "      <th>zoom suggest</th>\n",
              "      <th>zoom super</th>\n",
              "      <th>zoom zoom</th>\n",
              "      <th>zooming</th>\n",
              "      <th>zooming delay</th>\n",
              "      <th>zooming range</th>\n",
              "    </tr>\n",
              "  </thead>\n",
              "  <tbody>\n",
              "    <tr>\n",
              "      <th>topic_0</th>\n",
              "      <td>0.000068</td>\n",
              "      <td>0.000068</td>\n",
              "      <td>0.000068</td>\n",
              "      <td>0.000017</td>\n",
              "      <td>0.000251</td>\n",
              "      <td>0.000017</td>\n",
              "      <td>0.000068</td>\n",
              "      <td>0.000017</td>\n",
              "      <td>0.000068</td>\n",
              "      <td>0.000018</td>\n",
              "      <td>0.000068</td>\n",
              "      <td>0.000062</td>\n",
              "      <td>0.000017</td>\n",
              "      <td>0.000017</td>\n",
              "      <td>0.000017</td>\n",
              "      <td>0.000017</td>\n",
              "      <td>0.000017</td>\n",
              "      <td>0.000017</td>\n",
              "      <td>0.000017</td>\n",
              "      <td>0.000017</td>\n",
              "      <td>0.000017</td>\n",
              "      <td>0.000017</td>\n",
              "      <td>0.000017</td>\n",
              "      <td>0.000017</td>\n",
              "      <td>0.000017</td>\n",
              "      <td>0.000017</td>\n",
              "      <td>0.000017</td>\n",
              "      <td>0.000017</td>\n",
              "      <td>0.000017</td>\n",
              "      <td>0.000017</td>\n",
              "      <td>0.000017</td>\n",
              "      <td>0.000017</td>\n",
              "      <td>0.000017</td>\n",
              "      <td>0.000017</td>\n",
              "      <td>0.000017</td>\n",
              "      <td>0.000017</td>\n",
              "      <td>0.000017</td>\n",
              "      <td>0.000017</td>\n",
              "      <td>0.000017</td>\n",
              "      <td>0.000017</td>\n",
              "      <td>...</td>\n",
              "      <td>0.000017</td>\n",
              "      <td>0.000017</td>\n",
              "      <td>0.000017</td>\n",
              "      <td>0.000017</td>\n",
              "      <td>0.000017</td>\n",
              "      <td>0.000017</td>\n",
              "      <td>0.000017</td>\n",
              "      <td>0.000017</td>\n",
              "      <td>0.000017</td>\n",
              "      <td>0.000017</td>\n",
              "      <td>0.000017</td>\n",
              "      <td>0.000017</td>\n",
              "      <td>0.000017</td>\n",
              "      <td>0.000017</td>\n",
              "      <td>0.000017</td>\n",
              "      <td>0.000017</td>\n",
              "      <td>0.000017</td>\n",
              "      <td>0.000120</td>\n",
              "      <td>0.000068</td>\n",
              "      <td>0.000069</td>\n",
              "      <td>0.000017</td>\n",
              "      <td>0.000068</td>\n",
              "      <td>0.000080</td>\n",
              "      <td>0.000017</td>\n",
              "      <td>0.000068</td>\n",
              "      <td>0.000066</td>\n",
              "      <td>0.000017</td>\n",
              "      <td>0.000017</td>\n",
              "      <td>0.000017</td>\n",
              "      <td>0.000017</td>\n",
              "      <td>0.000017</td>\n",
              "      <td>0.000017</td>\n",
              "      <td>0.000017</td>\n",
              "      <td>0.000017</td>\n",
              "      <td>0.000017</td>\n",
              "      <td>0.000017</td>\n",
              "      <td>0.000017</td>\n",
              "      <td>0.000017</td>\n",
              "      <td>0.000017</td>\n",
              "      <td>0.000017</td>\n",
              "    </tr>\n",
              "    <tr>\n",
              "      <th>topic_1</th>\n",
              "      <td>0.000012</td>\n",
              "      <td>0.000012</td>\n",
              "      <td>0.000012</td>\n",
              "      <td>0.000012</td>\n",
              "      <td>0.000097</td>\n",
              "      <td>0.000047</td>\n",
              "      <td>0.000012</td>\n",
              "      <td>0.000047</td>\n",
              "      <td>0.000012</td>\n",
              "      <td>0.000012</td>\n",
              "      <td>0.000012</td>\n",
              "      <td>0.000016</td>\n",
              "      <td>0.000046</td>\n",
              "      <td>0.000048</td>\n",
              "      <td>0.000012</td>\n",
              "      <td>0.000012</td>\n",
              "      <td>0.000012</td>\n",
              "      <td>0.000012</td>\n",
              "      <td>0.000083</td>\n",
              "      <td>0.000047</td>\n",
              "      <td>0.000012</td>\n",
              "      <td>0.000047</td>\n",
              "      <td>0.000047</td>\n",
              "      <td>0.000012</td>\n",
              "      <td>0.000012</td>\n",
              "      <td>0.000012</td>\n",
              "      <td>0.000047</td>\n",
              "      <td>0.000012</td>\n",
              "      <td>0.000012</td>\n",
              "      <td>0.000047</td>\n",
              "      <td>0.000012</td>\n",
              "      <td>0.000012</td>\n",
              "      <td>0.000012</td>\n",
              "      <td>0.000058</td>\n",
              "      <td>0.000012</td>\n",
              "      <td>0.000045</td>\n",
              "      <td>0.000083</td>\n",
              "      <td>0.000012</td>\n",
              "      <td>0.000047</td>\n",
              "      <td>0.000012</td>\n",
              "      <td>...</td>\n",
              "      <td>0.000012</td>\n",
              "      <td>0.000012</td>\n",
              "      <td>0.000048</td>\n",
              "      <td>0.000012</td>\n",
              "      <td>0.000047</td>\n",
              "      <td>0.000012</td>\n",
              "      <td>0.000012</td>\n",
              "      <td>0.000047</td>\n",
              "      <td>0.000047</td>\n",
              "      <td>0.000047</td>\n",
              "      <td>0.000012</td>\n",
              "      <td>0.000012</td>\n",
              "      <td>0.000047</td>\n",
              "      <td>0.000012</td>\n",
              "      <td>0.000012</td>\n",
              "      <td>0.000047</td>\n",
              "      <td>0.000047</td>\n",
              "      <td>0.000012</td>\n",
              "      <td>0.000012</td>\n",
              "      <td>0.000047</td>\n",
              "      <td>0.000047</td>\n",
              "      <td>0.000012</td>\n",
              "      <td>0.000251</td>\n",
              "      <td>0.000012</td>\n",
              "      <td>0.000012</td>\n",
              "      <td>0.000013</td>\n",
              "      <td>0.000047</td>\n",
              "      <td>0.000047</td>\n",
              "      <td>0.000012</td>\n",
              "      <td>0.000047</td>\n",
              "      <td>0.000012</td>\n",
              "      <td>0.000047</td>\n",
              "      <td>0.000012</td>\n",
              "      <td>0.000047</td>\n",
              "      <td>0.000012</td>\n",
              "      <td>0.000047</td>\n",
              "      <td>0.000012</td>\n",
              "      <td>0.000083</td>\n",
              "      <td>0.000047</td>\n",
              "      <td>0.000047</td>\n",
              "    </tr>\n",
              "    <tr>\n",
              "      <th>topic_2</th>\n",
              "      <td>0.000013</td>\n",
              "      <td>0.000013</td>\n",
              "      <td>0.000050</td>\n",
              "      <td>0.000050</td>\n",
              "      <td>0.000015</td>\n",
              "      <td>0.000013</td>\n",
              "      <td>0.000013</td>\n",
              "      <td>0.000013</td>\n",
              "      <td>0.000013</td>\n",
              "      <td>0.000050</td>\n",
              "      <td>0.000013</td>\n",
              "      <td>0.000013</td>\n",
              "      <td>0.000165</td>\n",
              "      <td>0.000050</td>\n",
              "      <td>0.000050</td>\n",
              "      <td>0.000050</td>\n",
              "      <td>0.000050</td>\n",
              "      <td>0.000050</td>\n",
              "      <td>0.000050</td>\n",
              "      <td>0.000013</td>\n",
              "      <td>0.000050</td>\n",
              "      <td>0.000013</td>\n",
              "      <td>0.000051</td>\n",
              "      <td>0.000050</td>\n",
              "      <td>0.000050</td>\n",
              "      <td>0.000050</td>\n",
              "      <td>0.000163</td>\n",
              "      <td>0.000050</td>\n",
              "      <td>0.000050</td>\n",
              "      <td>0.000013</td>\n",
              "      <td>0.000050</td>\n",
              "      <td>0.000050</td>\n",
              "      <td>0.000050</td>\n",
              "      <td>0.000076</td>\n",
              "      <td>0.000050</td>\n",
              "      <td>0.000015</td>\n",
              "      <td>0.000088</td>\n",
              "      <td>0.000050</td>\n",
              "      <td>0.000013</td>\n",
              "      <td>0.000050</td>\n",
              "      <td>...</td>\n",
              "      <td>0.000050</td>\n",
              "      <td>0.000050</td>\n",
              "      <td>0.000163</td>\n",
              "      <td>0.000050</td>\n",
              "      <td>0.000013</td>\n",
              "      <td>0.000050</td>\n",
              "      <td>0.000050</td>\n",
              "      <td>0.000013</td>\n",
              "      <td>0.000013</td>\n",
              "      <td>0.000164</td>\n",
              "      <td>0.000050</td>\n",
              "      <td>0.000050</td>\n",
              "      <td>0.000013</td>\n",
              "      <td>0.000050</td>\n",
              "      <td>0.000050</td>\n",
              "      <td>0.000013</td>\n",
              "      <td>0.000013</td>\n",
              "      <td>0.000013</td>\n",
              "      <td>0.000013</td>\n",
              "      <td>0.000013</td>\n",
              "      <td>0.000013</td>\n",
              "      <td>0.000013</td>\n",
              "      <td>0.000315</td>\n",
              "      <td>0.000050</td>\n",
              "      <td>0.000050</td>\n",
              "      <td>0.000013</td>\n",
              "      <td>0.000013</td>\n",
              "      <td>0.000013</td>\n",
              "      <td>0.000050</td>\n",
              "      <td>0.000013</td>\n",
              "      <td>0.000050</td>\n",
              "      <td>0.000050</td>\n",
              "      <td>0.000050</td>\n",
              "      <td>0.000013</td>\n",
              "      <td>0.000050</td>\n",
              "      <td>0.000013</td>\n",
              "      <td>0.000050</td>\n",
              "      <td>0.000013</td>\n",
              "      <td>0.000013</td>\n",
              "      <td>0.000013</td>\n",
              "    </tr>\n",
              "  </tbody>\n",
              "</table>\n",
              "<p>3 rows × 19502 columns</p>\n",
              "</div>"
            ],
            "text/plain": [
              "              aap  aap time   ability  ...   zooming  zooming delay  zooming range\n",
              "topic_0  0.000068  0.000068  0.000068  ...  0.000017       0.000017       0.000017\n",
              "topic_1  0.000012  0.000012  0.000012  ...  0.000083       0.000047       0.000047\n",
              "topic_2  0.000013  0.000013  0.000050  ...  0.000013       0.000013       0.000013\n",
              "\n",
              "[3 rows x 19502 columns]"
            ]
          },
          "metadata": {
            "tags": []
          },
          "execution_count": 23
        }
      ]
    },
    {
      "cell_type": "markdown",
      "metadata": {
        "id": "k949Le9RVOzg",
        "colab_type": "text"
      },
      "source": [
        ""
      ]
    },
    {
      "cell_type": "markdown",
      "metadata": {
        "id": "ID0gJZw2vJ78",
        "colab_type": "text"
      },
      "source": [
        "### LDA TFIDF"
      ]
    },
    {
      "cell_type": "code",
      "metadata": {
        "id": "0WEDJTe3u-80",
        "colab_type": "code",
        "colab": {}
      },
      "source": [
        "tfidf=TfidfVectorizer(ngram_range=(1,3))\n",
        "tfidf_words=tfidf.fit_transform(data[\"review\"])\n",
        "words=tfidf.get_feature_names()\n",
        "df_bow=pd.DataFrame(tfidf_words.toarray(),columns=words)\n",
        "lda = LatentDirichletAllocation(n_components=4,random_state=0)\n",
        "lda.fit_transform(tfidf_words)\n",
        "topics=print_top_words(lda,words,15)"
      ],
      "execution_count": 24,
      "outputs": []
    },
    {
      "cell_type": "code",
      "metadata": {
        "id": "i6gdF7loARlw",
        "colab_type": "code",
        "colab": {
          "base_uri": "https://localhost:8080/",
          "height": 211
        },
        "outputId": "4ced12ad-3449-4be4-ab22-5621560c7549"
      },
      "source": [
        "pd.DataFrame(topics)"
      ],
      "execution_count": 25,
      "outputs": [
        {
          "output_type": "execute_result",
          "data": {
            "text/html": [
              "<div>\n",
              "<style scoped>\n",
              "    .dataframe tbody tr th:only-of-type {\n",
              "        vertical-align: middle;\n",
              "    }\n",
              "\n",
              "    .dataframe tbody tr th {\n",
              "        vertical-align: top;\n",
              "    }\n",
              "\n",
              "    .dataframe thead th {\n",
              "        text-align: right;\n",
              "    }\n",
              "</style>\n",
              "<table border=\"1\" class=\"dataframe\">\n",
              "  <thead>\n",
              "    <tr style=\"text-align: right;\">\n",
              "      <th></th>\n",
              "      <th>0</th>\n",
              "      <th>1</th>\n",
              "      <th>2</th>\n",
              "      <th>3</th>\n",
              "      <th>4</th>\n",
              "      <th>5</th>\n",
              "      <th>6</th>\n",
              "      <th>7</th>\n",
              "      <th>8</th>\n",
              "      <th>9</th>\n",
              "      <th>10</th>\n",
              "      <th>11</th>\n",
              "      <th>12</th>\n",
              "      <th>13</th>\n",
              "      <th>14</th>\n",
              "    </tr>\n",
              "  </thead>\n",
              "  <tbody>\n",
              "    <tr>\n",
              "      <th>0</th>\n",
              "      <td>price</td>\n",
              "      <td>superb</td>\n",
              "      <td>awesome</td>\n",
              "      <td>camera</td>\n",
              "      <td>battery</td>\n",
              "      <td>quality</td>\n",
              "      <td>camera quality</td>\n",
              "      <td>worth</td>\n",
              "      <td>smartphone</td>\n",
              "      <td>performance</td>\n",
              "      <td>backup</td>\n",
              "      <td>look</td>\n",
              "      <td>good</td>\n",
              "      <td>pubg</td>\n",
              "      <td>battery backup</td>\n",
              "    </tr>\n",
              "    <tr>\n",
              "      <th>1</th>\n",
              "      <td>money</td>\n",
              "      <td>value</td>\n",
              "      <td>value money</td>\n",
              "      <td>excellent</td>\n",
              "      <td>quality</td>\n",
              "      <td>device</td>\n",
              "      <td>issue</td>\n",
              "      <td>delivery</td>\n",
              "      <td>redmi</td>\n",
              "      <td>camera</td>\n",
              "      <td>love</td>\n",
              "      <td>price</td>\n",
              "      <td>wow</td>\n",
              "      <td>display</td>\n",
              "      <td>problem</td>\n",
              "    </tr>\n",
              "    <tr>\n",
              "      <th>2</th>\n",
              "      <td>super</td>\n",
              "      <td>camera</td>\n",
              "      <td>osm</td>\n",
              "      <td>performance</td>\n",
              "      <td>everything</td>\n",
              "      <td>battery</td>\n",
              "      <td>budget</td>\n",
              "      <td>time</td>\n",
              "      <td>quality</td>\n",
              "      <td>word</td>\n",
              "      <td>service</td>\n",
              "      <td>display</td>\n",
              "      <td>mind</td>\n",
              "      <td>price</td>\n",
              "      <td>buy</td>\n",
              "    </tr>\n",
              "    <tr>\n",
              "      <th>3</th>\n",
              "      <td>camera</td>\n",
              "      <td>performance</td>\n",
              "      <td>flagship</td>\n",
              "      <td>nice</td>\n",
              "      <td>range</td>\n",
              "      <td>price</td>\n",
              "      <td>beast</td>\n",
              "      <td>killer</td>\n",
              "      <td>experience</td>\n",
              "      <td>price range</td>\n",
              "      <td>display</td>\n",
              "      <td>camera performance</td>\n",
              "      <td>segment</td>\n",
              "      <td>flagship killer</td>\n",
              "      <td>battery</td>\n",
              "    </tr>\n",
              "  </tbody>\n",
              "</table>\n",
              "</div>"
            ],
            "text/plain": [
              "       0            1            2   ...       12               13              14\n",
              "0   price       superb      awesome  ...     good             pubg  battery backup\n",
              "1   money        value  value money  ...      wow          display         problem\n",
              "2   super       camera          osm  ...     mind            price             buy\n",
              "3  camera  performance     flagship  ...  segment  flagship killer         battery\n",
              "\n",
              "[4 rows x 15 columns]"
            ]
          },
          "metadata": {
            "tags": []
          },
          "execution_count": 25
        }
      ]
    },
    {
      "cell_type": "code",
      "metadata": {
        "id": "uOQSDGms-WPv",
        "colab_type": "code",
        "colab": {}
      },
      "source": [
        "topic=[\"topic_\"+str(i) for i  in range(0,lda.n_components)]\n",
        "df_doc_topic=pd.DataFrame(lda.fit_transform(df_bow),columns=topic)\n",
        "dominant_topic = np.argmax(df_doc_topic.values, axis=1)\n",
        "df_doc_topic[\"dominant_topic\"] = dominant_topic\n",
        "df_doc_topic[\"review\"]=dataoriginal[\"review\"]\n",
        "df_doc_topic[\"proreview\"]=data[\"review\"]\n",
        "df_doc_topic[\"dominant_topic_keywords\"]=[topics[i]  for i in dominant_topic]\n"
      ],
      "execution_count": 26,
      "outputs": []
    },
    {
      "cell_type": "code",
      "metadata": {
        "id": "lcw0b9_EYYeR",
        "colab_type": "code",
        "colab": {
          "base_uri": "https://localhost:8080/",
          "height": 98
        },
        "outputId": "e2d1ad78-63ac-49e6-e890-fefb26d7d647"
      },
      "source": [
        "df_doc_topic[\"review_proc\"]=data[\"review\"]\n",
        "df_doc_topic[\"dominant_topic\"].value_counts()"
      ],
      "execution_count": 27,
      "outputs": [
        {
          "output_type": "execute_result",
          "data": {
            "text/plain": [
              "0    3417\n",
              "3    1853\n",
              "1    1402\n",
              "2    1158\n",
              "Name: dominant_topic, dtype: int64"
            ]
          },
          "metadata": {
            "tags": []
          },
          "execution_count": 27
        }
      ]
    },
    {
      "cell_type": "code",
      "metadata": {
        "id": "uR0PFi_TY2iK",
        "colab_type": "code",
        "colab": {
          "base_uri": "https://localhost:8080/",
          "height": 105
        },
        "outputId": "8613ba71-45da-4c16-b210-34619e8069e2"
      },
      "source": [
        "subtopic0=df_doc_topic.loc[df_doc_topic[\"dominant_topic\"]==0][\"review_proc\"]\n",
        "tfidf=TfidfVectorizer(ngram_range=(1,2))\n",
        "tfidf_words=tfidf.fit_transform(subtopic0)\n",
        "words=tfidf.get_feature_names()\n",
        "df_bow=pd.DataFrame(tfidf_words.toarray(),columns=words)\n",
        "lda = LatentDirichletAllocation(n_components=2,random_state=0)\n",
        "lda.fit_transform(tfidf_words)\n",
        "topics=print_top_words(lda,words,15)\n",
        "pd.DataFrame(topics)"
      ],
      "execution_count": 28,
      "outputs": [
        {
          "output_type": "execute_result",
          "data": {
            "text/html": [
              "<div>\n",
              "<style scoped>\n",
              "    .dataframe tbody tr th:only-of-type {\n",
              "        vertical-align: middle;\n",
              "    }\n",
              "\n",
              "    .dataframe tbody tr th {\n",
              "        vertical-align: top;\n",
              "    }\n",
              "\n",
              "    .dataframe thead th {\n",
              "        text-align: right;\n",
              "    }\n",
              "</style>\n",
              "<table border=\"1\" class=\"dataframe\">\n",
              "  <thead>\n",
              "    <tr style=\"text-align: right;\">\n",
              "      <th></th>\n",
              "      <th>0</th>\n",
              "      <th>1</th>\n",
              "      <th>2</th>\n",
              "      <th>3</th>\n",
              "      <th>4</th>\n",
              "      <th>5</th>\n",
              "      <th>6</th>\n",
              "      <th>7</th>\n",
              "      <th>8</th>\n",
              "      <th>9</th>\n",
              "      <th>10</th>\n",
              "      <th>11</th>\n",
              "      <th>12</th>\n",
              "      <th>13</th>\n",
              "      <th>14</th>\n",
              "    </tr>\n",
              "  </thead>\n",
              "  <tbody>\n",
              "    <tr>\n",
              "      <th>0</th>\n",
              "      <td>price</td>\n",
              "      <td>awesome</td>\n",
              "      <td>worth</td>\n",
              "      <td>look</td>\n",
              "      <td>camera</td>\n",
              "      <td>good</td>\n",
              "      <td>money</td>\n",
              "      <td>worth money</td>\n",
              "      <td>flipkart</td>\n",
              "      <td>flagship</td>\n",
              "      <td>killer</td>\n",
              "      <td>performance</td>\n",
              "      <td>deal</td>\n",
              "      <td>best</td>\n",
              "      <td>value</td>\n",
              "    </tr>\n",
              "    <tr>\n",
              "      <th>1</th>\n",
              "      <td>superb</td>\n",
              "      <td>camera</td>\n",
              "      <td>battery</td>\n",
              "      <td>quality</td>\n",
              "      <td>camera quality</td>\n",
              "      <td>performance</td>\n",
              "      <td>smartphone</td>\n",
              "      <td>backup</td>\n",
              "      <td>display</td>\n",
              "      <td>pubg</td>\n",
              "      <td>battery backup</td>\n",
              "      <td>everything</td>\n",
              "      <td>penny</td>\n",
              "      <td>market</td>\n",
              "      <td>till</td>\n",
              "    </tr>\n",
              "  </tbody>\n",
              "</table>\n",
              "</div>"
            ],
            "text/plain": [
              "       0        1        2        3   ...           11     12      13     14\n",
              "0   price  awesome    worth     look  ...  performance   deal    best  value\n",
              "1  superb   camera  battery  quality  ...   everything  penny  market   till\n",
              "\n",
              "[2 rows x 15 columns]"
            ]
          },
          "metadata": {
            "tags": []
          },
          "execution_count": 28
        }
      ]
    },
    {
      "cell_type": "code",
      "metadata": {
        "id": "gwoYHPlZYYqC",
        "colab_type": "code",
        "colab": {
          "base_uri": "https://localhost:8080/",
          "height": 133
        },
        "outputId": "db19f16f-6031-41e0-ae5c-1faba63b01b8"
      },
      "source": [
        "subtopic1=df_doc_topic.loc[df_doc_topic[\"dominant_topic\"]==1][\"review_proc\"]\n",
        "tfidf=TfidfVectorizer(ngram_range=(1,3))\n",
        "tfidf_words=tfidf.fit_transform(subtopic1)\n",
        "words=tfidf.get_feature_names()\n",
        "df_bow=pd.DataFrame(tfidf_words.toarray(),columns=words)\n",
        "lda = LatentDirichletAllocation(n_components=3,random_state=0)\n",
        "lda.fit_transform(tfidf_words)\n",
        "topics=print_top_words(lda,words,9)\n",
        "pd.DataFrame(topics)"
      ],
      "execution_count": 29,
      "outputs": [
        {
          "output_type": "execute_result",
          "data": {
            "text/html": [
              "<div>\n",
              "<style scoped>\n",
              "    .dataframe tbody tr th:only-of-type {\n",
              "        vertical-align: middle;\n",
              "    }\n",
              "\n",
              "    .dataframe tbody tr th {\n",
              "        vertical-align: top;\n",
              "    }\n",
              "\n",
              "    .dataframe thead th {\n",
              "        text-align: right;\n",
              "    }\n",
              "</style>\n",
              "<table border=\"1\" class=\"dataframe\">\n",
              "  <thead>\n",
              "    <tr style=\"text-align: right;\">\n",
              "      <th></th>\n",
              "      <th>0</th>\n",
              "      <th>1</th>\n",
              "      <th>2</th>\n",
              "      <th>3</th>\n",
              "      <th>4</th>\n",
              "      <th>5</th>\n",
              "      <th>6</th>\n",
              "      <th>7</th>\n",
              "      <th>8</th>\n",
              "    </tr>\n",
              "  </thead>\n",
              "  <tbody>\n",
              "    <tr>\n",
              "      <th>0</th>\n",
              "      <td>issue</td>\n",
              "      <td>perfect</td>\n",
              "      <td>camera</td>\n",
              "      <td>cost</td>\n",
              "      <td>performance</td>\n",
              "      <td>problem</td>\n",
              "      <td>beauty</td>\n",
              "      <td>quality</td>\n",
              "      <td>display</td>\n",
              "    </tr>\n",
              "    <tr>\n",
              "      <th>1</th>\n",
              "      <td>delivery</td>\n",
              "      <td>redmi</td>\n",
              "      <td>wow</td>\n",
              "      <td>purchase</td>\n",
              "      <td>camera</td>\n",
              "      <td>price</td>\n",
              "      <td>buying</td>\n",
              "      <td>day</td>\n",
              "      <td>battery</td>\n",
              "    </tr>\n",
              "    <tr>\n",
              "      <th>2</th>\n",
              "      <td>money</td>\n",
              "      <td>value</td>\n",
              "      <td>value money</td>\n",
              "      <td>excellent</td>\n",
              "      <td>quality</td>\n",
              "      <td>device</td>\n",
              "      <td>love</td>\n",
              "      <td>camera</td>\n",
              "      <td>price</td>\n",
              "    </tr>\n",
              "  </tbody>\n",
              "</table>\n",
              "</div>"
            ],
            "text/plain": [
              "          0        1            2          3  ...        5       6        7        8\n",
              "0     issue  perfect       camera       cost  ...  problem  beauty  quality  display\n",
              "1  delivery    redmi          wow   purchase  ...    price  buying      day  battery\n",
              "2     money    value  value money  excellent  ...   device    love   camera    price\n",
              "\n",
              "[3 rows x 9 columns]"
            ]
          },
          "metadata": {
            "tags": []
          },
          "execution_count": 29
        }
      ]
    },
    {
      "cell_type": "markdown",
      "metadata": {
        "id": "U9D2nNB2vm1W",
        "colab_type": "text"
      },
      "source": [
        "### NMF BOW \n"
      ]
    },
    {
      "cell_type": "code",
      "metadata": {
        "id": "rmQt2f7fvWUs",
        "colab_type": "code",
        "colab": {
          "base_uri": "https://localhost:8080/",
          "height": 133
        },
        "outputId": "e3fc4b30-f408-4d1d-deba-82db25fe63f1"
      },
      "source": [
        "bow=CountVectorizer(ngram_range=(1,3))\n",
        "bow_review=bow.fit_transform(data[\"review\"])\n",
        "\n",
        "nmf = NMF(n_components=3, random_state=1,\n",
        "          beta_loss='kullback-leibler', solver='mu', max_iter=1000, alpha=.1,\n",
        "          l1_ratio=.5).fit(bow_review)\n",
        "bow_words=bow.get_feature_names()\n",
        "pd.DataFrame(print_top_words(nmf,bow_words,8))"
      ],
      "execution_count": 30,
      "outputs": [
        {
          "output_type": "execute_result",
          "data": {
            "text/html": [
              "<div>\n",
              "<style scoped>\n",
              "    .dataframe tbody tr th:only-of-type {\n",
              "        vertical-align: middle;\n",
              "    }\n",
              "\n",
              "    .dataframe tbody tr th {\n",
              "        vertical-align: top;\n",
              "    }\n",
              "\n",
              "    .dataframe thead th {\n",
              "        text-align: right;\n",
              "    }\n",
              "</style>\n",
              "<table border=\"1\" class=\"dataframe\">\n",
              "  <thead>\n",
              "    <tr style=\"text-align: right;\">\n",
              "      <th></th>\n",
              "      <th>0</th>\n",
              "      <th>1</th>\n",
              "      <th>2</th>\n",
              "      <th>3</th>\n",
              "      <th>4</th>\n",
              "      <th>5</th>\n",
              "      <th>6</th>\n",
              "      <th>7</th>\n",
              "    </tr>\n",
              "  </thead>\n",
              "  <tbody>\n",
              "    <tr>\n",
              "      <th>0</th>\n",
              "      <td>camera</td>\n",
              "      <td>performance</td>\n",
              "      <td>quality</td>\n",
              "      <td>battery</td>\n",
              "      <td>display</td>\n",
              "      <td>time</td>\n",
              "      <td>price</td>\n",
              "      <td>screen</td>\n",
              "    </tr>\n",
              "    <tr>\n",
              "      <th>1</th>\n",
              "      <td>price</td>\n",
              "      <td>performance</td>\n",
              "      <td>flagship</td>\n",
              "      <td>battery</td>\n",
              "      <td>range</td>\n",
              "      <td>display</td>\n",
              "      <td>device</td>\n",
              "      <td>killer</td>\n",
              "    </tr>\n",
              "    <tr>\n",
              "      <th>2</th>\n",
              "      <td>camera</td>\n",
              "      <td>money</td>\n",
              "      <td>value</td>\n",
              "      <td>value money</td>\n",
              "      <td>nice</td>\n",
              "      <td>issue</td>\n",
              "      <td>everything</td>\n",
              "      <td>front</td>\n",
              "    </tr>\n",
              "  </tbody>\n",
              "</table>\n",
              "</div>"
            ],
            "text/plain": [
              "        0            1         2  ...        5           6       7\n",
              "0  camera  performance   quality  ...     time       price  screen\n",
              "1   price  performance  flagship  ...  display      device  killer\n",
              "2  camera        money     value  ...    issue  everything   front\n",
              "\n",
              "[3 rows x 8 columns]"
            ]
          },
          "metadata": {
            "tags": []
          },
          "execution_count": 30
        }
      ]
    },
    {
      "cell_type": "code",
      "metadata": {
        "id": "iRDJTqy7UTbF",
        "colab_type": "code",
        "colab": {
          "base_uri": "https://localhost:8080/",
          "height": 391
        },
        "outputId": "c29e2f8f-0441-44d8-b84f-cd467096b3fe"
      },
      "source": [
        "topics=print_top_words(nmf,bow_words,5)\n",
        "topic=[\"topic_\"+str(i) for i  in range(0,nmf.n_components)]\n",
        "df_doc_topic=pd.DataFrame(np.round(nmf.transform(bow_review),2),columns=topic)\n",
        "dominant_topic = np.argmax(df_doc_topic.values, axis=1)\n",
        "df_doc_topic[\"dominant_topic\"] = dominant_topic\n",
        "df_doc_topic[\"review\"]=dataoriginal[\"review\"]\n",
        "df_doc_topic[\"dominant_topic_keywords\"]=[topics[i]  for i in dominant_topic]\n",
        "df_doc_topic"
      ],
      "execution_count": 31,
      "outputs": [
        {
          "output_type": "execute_result",
          "data": {
            "text/html": [
              "<div>\n",
              "<style scoped>\n",
              "    .dataframe tbody tr th:only-of-type {\n",
              "        vertical-align: middle;\n",
              "    }\n",
              "\n",
              "    .dataframe tbody tr th {\n",
              "        vertical-align: top;\n",
              "    }\n",
              "\n",
              "    .dataframe thead th {\n",
              "        text-align: right;\n",
              "    }\n",
              "</style>\n",
              "<table border=\"1\" class=\"dataframe\">\n",
              "  <thead>\n",
              "    <tr style=\"text-align: right;\">\n",
              "      <th></th>\n",
              "      <th>topic_0</th>\n",
              "      <th>topic_1</th>\n",
              "      <th>topic_2</th>\n",
              "      <th>dominant_topic</th>\n",
              "      <th>review</th>\n",
              "      <th>dominant_topic_keywords</th>\n",
              "    </tr>\n",
              "  </thead>\n",
              "  <tbody>\n",
              "    <tr>\n",
              "      <th>0</th>\n",
              "      <td>0.09</td>\n",
              "      <td>0.00</td>\n",
              "      <td>0.00</td>\n",
              "      <td>0</td>\n",
              "      <td>It's awesome display not so new type but phone...</td>\n",
              "      <td>[camera, performance, quality, battery, display]</td>\n",
              "    </tr>\n",
              "    <tr>\n",
              "      <th>1</th>\n",
              "      <td>0.12</td>\n",
              "      <td>0.00</td>\n",
              "      <td>0.04</td>\n",
              "      <td>0</td>\n",
              "      <td>Excellent camera excellent performance ..Redmi...</td>\n",
              "      <td>[camera, performance, quality, battery, display]</td>\n",
              "    </tr>\n",
              "    <tr>\n",
              "      <th>2</th>\n",
              "      <td>1.08</td>\n",
              "      <td>0.00</td>\n",
              "      <td>0.00</td>\n",
              "      <td>0</td>\n",
              "      <td>Giving my review after 1 month of usage. Hope ...</td>\n",
              "      <td>[camera, performance, quality, battery, display]</td>\n",
              "    </tr>\n",
              "    <tr>\n",
              "      <th>3</th>\n",
              "      <td>0.09</td>\n",
              "      <td>0.00</td>\n",
              "      <td>0.00</td>\n",
              "      <td>0</td>\n",
              "      <td>nice phone battery is good camera is good fron...</td>\n",
              "      <td>[camera, performance, quality, battery, display]</td>\n",
              "    </tr>\n",
              "    <tr>\n",
              "      <th>4</th>\n",
              "      <td>0.06</td>\n",
              "      <td>1.64</td>\n",
              "      <td>0.00</td>\n",
              "      <td>1</td>\n",
              "      <td>Detailed review after 5 days of use K20 Pro , ...</td>\n",
              "      <td>[price, performance, flagship, battery, range]</td>\n",
              "    </tr>\n",
              "    <tr>\n",
              "      <th>...</th>\n",
              "      <td>...</td>\n",
              "      <td>...</td>\n",
              "      <td>...</td>\n",
              "      <td>...</td>\n",
              "      <td>...</td>\n",
              "      <td>...</td>\n",
              "    </tr>\n",
              "    <tr>\n",
              "      <th>7825</th>\n",
              "      <td>0.00</td>\n",
              "      <td>0.00</td>\n",
              "      <td>0.07</td>\n",
              "      <td>2</td>\n",
              "      <td>superb mobile, value for money</td>\n",
              "      <td>[camera, money, value, value money, nice]</td>\n",
              "    </tr>\n",
              "    <tr>\n",
              "      <th>7826</th>\n",
              "      <td>0.07</td>\n",
              "      <td>0.01</td>\n",
              "      <td>0.00</td>\n",
              "      <td>0</td>\n",
              "      <td>Camera could have been little better with this...</td>\n",
              "      <td>[camera, performance, quality, battery, display]</td>\n",
              "    </tr>\n",
              "    <tr>\n",
              "      <th>7827</th>\n",
              "      <td>0.00</td>\n",
              "      <td>0.00</td>\n",
              "      <td>0.00</td>\n",
              "      <td>0</td>\n",
              "      <td>VERY BAD USER INTERFACE. SAMSUNG GALAXY M10 IS...</td>\n",
              "      <td>[camera, performance, quality, battery, display]</td>\n",
              "    </tr>\n",
              "    <tr>\n",
              "      <th>7828</th>\n",
              "      <td>0.00</td>\n",
              "      <td>0.00</td>\n",
              "      <td>0.00</td>\n",
              "      <td>0</td>\n",
              "      <td>Not As Per Acception...</td>\n",
              "      <td>[camera, performance, quality, battery, display]</td>\n",
              "    </tr>\n",
              "    <tr>\n",
              "      <th>7829</th>\n",
              "      <td>0.01</td>\n",
              "      <td>0.00</td>\n",
              "      <td>0.00</td>\n",
              "      <td>0</td>\n",
              "      <td>touch issue</td>\n",
              "      <td>[camera, performance, quality, battery, display]</td>\n",
              "    </tr>\n",
              "  </tbody>\n",
              "</table>\n",
              "<p>7830 rows × 6 columns</p>\n",
              "</div>"
            ],
            "text/plain": [
              "      topic_0  ...                           dominant_topic_keywords\n",
              "0        0.09  ...  [camera, performance, quality, battery, display]\n",
              "1        0.12  ...  [camera, performance, quality, battery, display]\n",
              "2        1.08  ...  [camera, performance, quality, battery, display]\n",
              "3        0.09  ...  [camera, performance, quality, battery, display]\n",
              "4        0.06  ...    [price, performance, flagship, battery, range]\n",
              "...       ...  ...                                               ...\n",
              "7825     0.00  ...         [camera, money, value, value money, nice]\n",
              "7826     0.07  ...  [camera, performance, quality, battery, display]\n",
              "7827     0.00  ...  [camera, performance, quality, battery, display]\n",
              "7828     0.00  ...  [camera, performance, quality, battery, display]\n",
              "7829     0.01  ...  [camera, performance, quality, battery, display]\n",
              "\n",
              "[7830 rows x 6 columns]"
            ]
          },
          "metadata": {
            "tags": []
          },
          "execution_count": 31
        }
      ]
    },
    {
      "cell_type": "code",
      "metadata": {
        "id": "sXAW-zNsqfMx",
        "colab_type": "code",
        "colab": {
          "base_uri": "https://localhost:8080/",
          "height": 82
        },
        "outputId": "f6259277-8eff-4f95-8f0d-d79249016768"
      },
      "source": [
        "df_doc_topic[\"review_proc\"]=data[\"review\"]\n",
        "df_doc_topic[\"dominant_topic\"].value_counts()"
      ],
      "execution_count": 32,
      "outputs": [
        {
          "output_type": "execute_result",
          "data": {
            "text/plain": [
              "0    4139\n",
              "1    2392\n",
              "2    1299\n",
              "Name: dominant_topic, dtype: int64"
            ]
          },
          "metadata": {
            "tags": []
          },
          "execution_count": 32
        }
      ]
    },
    {
      "cell_type": "code",
      "metadata": {
        "id": "gC25aEWSplZt",
        "colab_type": "code",
        "colab": {
          "base_uri": "https://localhost:8080/",
          "height": 105
        },
        "outputId": "fb4f5cbb-161f-4ece-a721-66163e68d801"
      },
      "source": [
        "subtopic0=df_doc_topic.loc[df_doc_topic[\"dominant_topic\"]==0][\"review_proc\"]\n",
        "bow=CountVectorizer(ngram_range=(1,2))\n",
        "bow_review=bow.fit_transform(subtopic0)\n",
        "\n",
        "nmf = NMF(n_components=2, random_state=1,\n",
        "          beta_loss='kullback-leibler', solver='mu', max_iter=1000, alpha=.1,\n",
        "          l1_ratio=.5).fit(bow_review)\n",
        "bow_words=bow.get_feature_names()\n",
        "pd.DataFrame(print_top_words(nmf,bow_words,10))"
      ],
      "execution_count": 34,
      "outputs": [
        {
          "output_type": "execute_result",
          "data": {
            "text/html": [
              "<div>\n",
              "<style scoped>\n",
              "    .dataframe tbody tr th:only-of-type {\n",
              "        vertical-align: middle;\n",
              "    }\n",
              "\n",
              "    .dataframe tbody tr th {\n",
              "        vertical-align: top;\n",
              "    }\n",
              "\n",
              "    .dataframe thead th {\n",
              "        text-align: right;\n",
              "    }\n",
              "</style>\n",
              "<table border=\"1\" class=\"dataframe\">\n",
              "  <thead>\n",
              "    <tr style=\"text-align: right;\">\n",
              "      <th></th>\n",
              "      <th>0</th>\n",
              "      <th>1</th>\n",
              "      <th>2</th>\n",
              "      <th>3</th>\n",
              "      <th>4</th>\n",
              "      <th>5</th>\n",
              "      <th>6</th>\n",
              "      <th>7</th>\n",
              "      <th>8</th>\n",
              "      <th>9</th>\n",
              "    </tr>\n",
              "  </thead>\n",
              "  <tbody>\n",
              "    <tr>\n",
              "      <th>0</th>\n",
              "      <td>camera</td>\n",
              "      <td>performance</td>\n",
              "      <td>quality</td>\n",
              "      <td>display</td>\n",
              "      <td>battery</td>\n",
              "      <td>price</td>\n",
              "      <td>camera quality</td>\n",
              "      <td>camera performance</td>\n",
              "      <td>device</td>\n",
              "      <td>superb</td>\n",
              "    </tr>\n",
              "    <tr>\n",
              "      <th>1</th>\n",
              "      <td>battery</td>\n",
              "      <td>issue</td>\n",
              "      <td>time</td>\n",
              "      <td>display</td>\n",
              "      <td>super</td>\n",
              "      <td>screen</td>\n",
              "      <td>fingerprint</td>\n",
              "      <td>mode</td>\n",
              "      <td>life</td>\n",
              "      <td>problem</td>\n",
              "    </tr>\n",
              "  </tbody>\n",
              "</table>\n",
              "</div>"
            ],
            "text/plain": [
              "         0            1        2  ...                   7       8        9\n",
              "0   camera  performance  quality  ...  camera performance  device   superb\n",
              "1  battery        issue     time  ...                mode    life  problem\n",
              "\n",
              "[2 rows x 10 columns]"
            ]
          },
          "metadata": {
            "tags": []
          },
          "execution_count": 34
        }
      ]
    },
    {
      "cell_type": "code",
      "metadata": {
        "id": "qnOQ64XMMTH3",
        "colab_type": "code",
        "colab": {
          "base_uri": "https://localhost:8080/",
          "height": 342
        },
        "outputId": "0abbef71-d66f-42ae-f431-8c4f76196226"
      },
      "source": [
        "subtopic1=df_doc_topic.loc[df_doc_topic[\"dominant_topic\"]==1][\"review_proc\"]\n",
        "bow=CountVectorizer(ngram_range=(1,1))\n",
        "bow_review=bow.fit_transform(subtopic1)\n",
        "\n",
        "nmf = NMF(n_components=2, random_state=1,\n",
        "          beta_loss='kullback-leibler', solver='mu', max_iter=1000, alpha=.1,\n",
        "          l1_ratio=.5).fit(bow_review)\n",
        "bow_words=bow.get_feature_names()\n",
        "print_top_words(nmf,bow_words,10)"
      ],
      "execution_count": 35,
      "outputs": [
        {
          "output_type": "execute_result",
          "data": {
            "text/plain": [
              "[['performance',\n",
              "  'battery',\n",
              "  'flagship',\n",
              "  'display',\n",
              "  'device',\n",
              "  'killer',\n",
              "  'delivery',\n",
              "  'pubg',\n",
              "  'experience',\n",
              "  'smartphone'],\n",
              " ['price',\n",
              "  'range',\n",
              "  'beast',\n",
              "  'segment',\n",
              "  'exchange',\n",
              "  'value',\n",
              "  'buy',\n",
              "  'deal',\n",
              "  'wow',\n",
              "  'date']]"
            ]
          },
          "metadata": {
            "tags": []
          },
          "execution_count": 35
        }
      ]
    },
    {
      "cell_type": "markdown",
      "metadata": {
        "id": "_s55Tj91v5rp",
        "colab_type": "text"
      },
      "source": [
        "### NMF TFIDF"
      ]
    },
    {
      "cell_type": "code",
      "metadata": {
        "id": "-uENT8juPLeF",
        "colab_type": "code",
        "colab": {}
      },
      "source": [
        "tfidf=TfidfVectorizer(ngram_range=(1,2))\n",
        "tfidf_words=tfidf.fit_transform(data[\"review\"])\n",
        "words=tfidf.get_feature_names()"
      ],
      "execution_count": 36,
      "outputs": []
    },
    {
      "cell_type": "code",
      "metadata": {
        "id": "7nkJuoz8vt9p",
        "colab_type": "code",
        "colab": {
          "base_uri": "https://localhost:8080/",
          "height": 191
        },
        "outputId": "deeaeca9-ed65-4fbc-8b35-bb89439de1d2"
      },
      "source": [
        "\n",
        "nmf = NMF(n_components=5, random_state=1,\n",
        "          beta_loss='kullback-leibler', solver='mu', max_iter=1000, alpha=.01,\n",
        "          l1_ratio=.5).fit(tfidf_words)\n",
        "topics=print_top_words(nmf,words,10)\n",
        "pd.DataFrame(topics)"
      ],
      "execution_count": 37,
      "outputs": [
        {
          "output_type": "execute_result",
          "data": {
            "text/html": [
              "<div>\n",
              "<style scoped>\n",
              "    .dataframe tbody tr th:only-of-type {\n",
              "        vertical-align: middle;\n",
              "    }\n",
              "\n",
              "    .dataframe tbody tr th {\n",
              "        vertical-align: top;\n",
              "    }\n",
              "\n",
              "    .dataframe thead th {\n",
              "        text-align: right;\n",
              "    }\n",
              "</style>\n",
              "<table border=\"1\" class=\"dataframe\">\n",
              "  <thead>\n",
              "    <tr style=\"text-align: right;\">\n",
              "      <th></th>\n",
              "      <th>0</th>\n",
              "      <th>1</th>\n",
              "      <th>2</th>\n",
              "      <th>3</th>\n",
              "      <th>4</th>\n",
              "      <th>5</th>\n",
              "      <th>6</th>\n",
              "      <th>7</th>\n",
              "      <th>8</th>\n",
              "      <th>9</th>\n",
              "    </tr>\n",
              "  </thead>\n",
              "  <tbody>\n",
              "    <tr>\n",
              "      <th>0</th>\n",
              "      <td>money</td>\n",
              "      <td>value</td>\n",
              "      <td>value money</td>\n",
              "      <td>excellent</td>\n",
              "      <td>experience</td>\n",
              "      <td>delivery</td>\n",
              "      <td>worth</td>\n",
              "      <td>bit</td>\n",
              "      <td>worth money</td>\n",
              "      <td>xiaomi</td>\n",
              "    </tr>\n",
              "    <tr>\n",
              "      <th>1</th>\n",
              "      <td>camera</td>\n",
              "      <td>quality</td>\n",
              "      <td>battery</td>\n",
              "      <td>awesome</td>\n",
              "      <td>display</td>\n",
              "      <td>issue</td>\n",
              "      <td>camera quality</td>\n",
              "      <td>everything</td>\n",
              "      <td>backup</td>\n",
              "      <td>problem</td>\n",
              "    </tr>\n",
              "    <tr>\n",
              "      <th>2</th>\n",
              "      <td>price</td>\n",
              "      <td>flagship</td>\n",
              "      <td>range</td>\n",
              "      <td>price range</td>\n",
              "      <td>killer</td>\n",
              "      <td>budget</td>\n",
              "      <td>smartphone</td>\n",
              "      <td>segment</td>\n",
              "      <td>flagship killer</td>\n",
              "      <td>price segment</td>\n",
              "    </tr>\n",
              "    <tr>\n",
              "      <th>3</th>\n",
              "      <td>performance</td>\n",
              "      <td>beast</td>\n",
              "      <td>camera performance</td>\n",
              "      <td>redmi</td>\n",
              "      <td>performance camera</td>\n",
              "      <td>battery</td>\n",
              "      <td>penny</td>\n",
              "      <td>battery performance</td>\n",
              "      <td>performance battery</td>\n",
              "      <td>display</td>\n",
              "    </tr>\n",
              "    <tr>\n",
              "      <th>4</th>\n",
              "      <td>super</td>\n",
              "      <td>superb</td>\n",
              "      <td>nice</td>\n",
              "      <td>device</td>\n",
              "      <td>flipkart</td>\n",
              "      <td>service</td>\n",
              "      <td>delivery</td>\n",
              "      <td>till</td>\n",
              "      <td>fast</td>\n",
              "      <td>cost</td>\n",
              "    </tr>\n",
              "  </tbody>\n",
              "</table>\n",
              "</div>"
            ],
            "text/plain": [
              "             0         1  ...                    8              9\n",
              "0        money     value  ...          worth money         xiaomi\n",
              "1       camera   quality  ...               backup        problem\n",
              "2        price  flagship  ...      flagship killer  price segment\n",
              "3  performance     beast  ...  performance battery        display\n",
              "4        super    superb  ...                 fast           cost\n",
              "\n",
              "[5 rows x 10 columns]"
            ]
          },
          "metadata": {
            "tags": []
          },
          "execution_count": 37
        }
      ]
    },
    {
      "cell_type": "code",
      "metadata": {
        "id": "Yh1kISh6GnWb",
        "colab_type": "code",
        "colab": {
          "base_uri": "https://localhost:8080/",
          "height": 191
        },
        "outputId": "e3d8b132-4b03-45b4-a135-e395cc66797b"
      },
      "source": [
        "topic=[\"topic_\"+str(i) for i  in range(0,nmf.n_components)]\n",
        "df_doc_topic=pd.DataFrame(nmf.fit_transform(tfidf_words),columns=topic)\n",
        "dominant_topic = np.argmax(df_doc_topic.values, axis=1)\n",
        "df_doc_topic[\"dominant_topic\"] = dominant_topic\n",
        "df_doc_topic[\"review\"]=dataoriginal[\"review\"]\n",
        "df_doc_topic[\"dominant_topic_keywords\"]=[topics[i]  for i in dominant_topic]\n",
        "df_doc_topic.head()"
      ],
      "execution_count": 38,
      "outputs": [
        {
          "output_type": "execute_result",
          "data": {
            "text/html": [
              "<div>\n",
              "<style scoped>\n",
              "    .dataframe tbody tr th:only-of-type {\n",
              "        vertical-align: middle;\n",
              "    }\n",
              "\n",
              "    .dataframe tbody tr th {\n",
              "        vertical-align: top;\n",
              "    }\n",
              "\n",
              "    .dataframe thead th {\n",
              "        text-align: right;\n",
              "    }\n",
              "</style>\n",
              "<table border=\"1\" class=\"dataframe\">\n",
              "  <thead>\n",
              "    <tr style=\"text-align: right;\">\n",
              "      <th></th>\n",
              "      <th>topic_0</th>\n",
              "      <th>topic_1</th>\n",
              "      <th>topic_2</th>\n",
              "      <th>topic_3</th>\n",
              "      <th>topic_4</th>\n",
              "      <th>dominant_topic</th>\n",
              "      <th>review</th>\n",
              "      <th>dominant_topic_keywords</th>\n",
              "    </tr>\n",
              "  </thead>\n",
              "  <tbody>\n",
              "    <tr>\n",
              "      <th>0</th>\n",
              "      <td>3.937378e-03</td>\n",
              "      <td>0.048384</td>\n",
              "      <td>0.00000</td>\n",
              "      <td>0.179224</td>\n",
              "      <td>0.000000e+00</td>\n",
              "      <td>3</td>\n",
              "      <td>It's awesome display not so new type but phone...</td>\n",
              "      <td>[performance, beast, camera performance, redmi...</td>\n",
              "    </tr>\n",
              "    <tr>\n",
              "      <th>1</th>\n",
              "      <td>2.339830e-01</td>\n",
              "      <td>0.000018</td>\n",
              "      <td>0.00000</td>\n",
              "      <td>0.027924</td>\n",
              "      <td>0.000000e+00</td>\n",
              "      <td>0</td>\n",
              "      <td>Excellent camera excellent performance ..Redmi...</td>\n",
              "      <td>[money, value, value money, excellent, experie...</td>\n",
              "    </tr>\n",
              "    <tr>\n",
              "      <th>2</th>\n",
              "      <td>1.709441e-24</td>\n",
              "      <td>0.434723</td>\n",
              "      <td>0.00000</td>\n",
              "      <td>0.000000</td>\n",
              "      <td>0.000000e+00</td>\n",
              "      <td>1</td>\n",
              "      <td>Giving my review after 1 month of usage. Hope ...</td>\n",
              "      <td>[camera, quality, battery, awesome, display, i...</td>\n",
              "    </tr>\n",
              "    <tr>\n",
              "      <th>3</th>\n",
              "      <td>5.372138e-36</td>\n",
              "      <td>0.135369</td>\n",
              "      <td>0.00000</td>\n",
              "      <td>0.000000</td>\n",
              "      <td>0.000000e+00</td>\n",
              "      <td>1</td>\n",
              "      <td>nice phone battery is good camera is good fron...</td>\n",
              "      <td>[camera, quality, battery, awesome, display, i...</td>\n",
              "    </tr>\n",
              "    <tr>\n",
              "      <th>4</th>\n",
              "      <td>7.346840e-04</td>\n",
              "      <td>0.097673</td>\n",
              "      <td>0.69079</td>\n",
              "      <td>0.052266</td>\n",
              "      <td>3.967854e-18</td>\n",
              "      <td>2</td>\n",
              "      <td>Detailed review after 5 days of use K20 Pro , ...</td>\n",
              "      <td>[price, flagship, range, price range, killer, ...</td>\n",
              "    </tr>\n",
              "  </tbody>\n",
              "</table>\n",
              "</div>"
            ],
            "text/plain": [
              "        topic_0  ...                            dominant_topic_keywords\n",
              "0  3.937378e-03  ...  [performance, beast, camera performance, redmi...\n",
              "1  2.339830e-01  ...  [money, value, value money, excellent, experie...\n",
              "2  1.709441e-24  ...  [camera, quality, battery, awesome, display, i...\n",
              "3  5.372138e-36  ...  [camera, quality, battery, awesome, display, i...\n",
              "4  7.346840e-04  ...  [price, flagship, range, price range, killer, ...\n",
              "\n",
              "[5 rows x 8 columns]"
            ]
          },
          "metadata": {
            "tags": []
          },
          "execution_count": 38
        }
      ]
    },
    {
      "cell_type": "code",
      "metadata": {
        "id": "9JXry1Hn0xIe",
        "colab_type": "code",
        "colab": {
          "base_uri": "https://localhost:8080/",
          "height": 115
        },
        "outputId": "1ec031d5-dc3b-4a83-9ab5-2e812b4d74ee"
      },
      "source": [
        "df_doc_topic[\"review_proc\"]=data[\"review\"]\n",
        "df_doc_topic[\"dominant_topic\"].value_counts()"
      ],
      "execution_count": 39,
      "outputs": [
        {
          "output_type": "execute_result",
          "data": {
            "text/plain": [
              "0    3144\n",
              "1    2213\n",
              "2    1085\n",
              "3     820\n",
              "4     568\n",
              "Name: dominant_topic, dtype: int64"
            ]
          },
          "metadata": {
            "tags": []
          },
          "execution_count": 39
        }
      ]
    },
    {
      "cell_type": "code",
      "metadata": {
        "id": "exXdxuQAyj_g",
        "colab_type": "code",
        "colab": {
          "base_uri": "https://localhost:8080/",
          "height": 105
        },
        "outputId": "45290eba-874c-49a9-a46e-b7b9c6332233"
      },
      "source": [
        "subtopic0=df_doc_topic.loc[df_doc_topic[\"dominant_topic\"]==0][\"review_proc\"]\n",
        "tfidf=TfidfVectorizer(ngram_range=(1,2))\n",
        "tfidf_words=tfidf.fit_transform(subtopic0)\n",
        "nmf = NMF(n_components=2, random_state=1,\n",
        "          beta_loss='kullback-leibler', solver='mu', max_iter=1000, alpha=.1,\n",
        "          l1_ratio=.5).fit(tfidf_words)\n",
        "words=tfidf.get_feature_names()\n",
        "pd.DataFrame(print_top_words(nmf,words,10))"
      ],
      "execution_count": 40,
      "outputs": [
        {
          "output_type": "execute_result",
          "data": {
            "text/html": [
              "<div>\n",
              "<style scoped>\n",
              "    .dataframe tbody tr th:only-of-type {\n",
              "        vertical-align: middle;\n",
              "    }\n",
              "\n",
              "    .dataframe tbody tr th {\n",
              "        vertical-align: top;\n",
              "    }\n",
              "\n",
              "    .dataframe thead th {\n",
              "        text-align: right;\n",
              "    }\n",
              "</style>\n",
              "<table border=\"1\" class=\"dataframe\">\n",
              "  <thead>\n",
              "    <tr style=\"text-align: right;\">\n",
              "      <th></th>\n",
              "      <th>0</th>\n",
              "      <th>1</th>\n",
              "      <th>2</th>\n",
              "      <th>3</th>\n",
              "      <th>4</th>\n",
              "      <th>5</th>\n",
              "      <th>6</th>\n",
              "      <th>7</th>\n",
              "      <th>8</th>\n",
              "      <th>9</th>\n",
              "    </tr>\n",
              "  </thead>\n",
              "  <tbody>\n",
              "    <tr>\n",
              "      <th>0</th>\n",
              "      <td>money</td>\n",
              "      <td>value</td>\n",
              "      <td>value money</td>\n",
              "      <td>experience</td>\n",
              "      <td>worth</td>\n",
              "      <td>camera</td>\n",
              "      <td>battery</td>\n",
              "      <td>performance</td>\n",
              "      <td>worth money</td>\n",
              "      <td>bit</td>\n",
              "    </tr>\n",
              "    <tr>\n",
              "      <th>1</th>\n",
              "      <td>excellent</td>\n",
              "      <td>delivery</td>\n",
              "      <td>time</td>\n",
              "      <td>order</td>\n",
              "      <td>company</td>\n",
              "      <td>today</td>\n",
              "      <td>boy</td>\n",
              "      <td>flipcart</td>\n",
              "      <td>money excellent</td>\n",
              "      <td>time delivery</td>\n",
              "    </tr>\n",
              "  </tbody>\n",
              "</table>\n",
              "</div>"
            ],
            "text/plain": [
              "           0         1  ...                8              9\n",
              "0      money     value  ...      worth money            bit\n",
              "1  excellent  delivery  ...  money excellent  time delivery\n",
              "\n",
              "[2 rows x 10 columns]"
            ]
          },
          "metadata": {
            "tags": []
          },
          "execution_count": 40
        }
      ]
    },
    {
      "cell_type": "code",
      "metadata": {
        "id": "tC0FjVTnykkQ",
        "colab_type": "code",
        "colab": {
          "base_uri": "https://localhost:8080/",
          "height": 105
        },
        "outputId": "e8ba359e-b52c-4950-b1d0-5492ff13128b"
      },
      "source": [
        "subtopic1=df_doc_topic.loc[df_doc_topic[\"dominant_topic\"]==1][\"review_proc\"]\n",
        "tfidf=TfidfVectorizer(ngram_range=(1,2))\n",
        "tfidf_words=tfidf.fit_transform(subtopic1)\n",
        "nmf = NMF(n_components=2, random_state=1,\n",
        "          beta_loss='kullback-leibler', solver='mu', max_iter=1000, alpha=.1,\n",
        "          l1_ratio=.5).fit(tfidf_words)\n",
        "words=tfidf.get_feature_names()\n",
        "pd.DataFrame(print_top_words(nmf,words,10))"
      ],
      "execution_count": 41,
      "outputs": [
        {
          "output_type": "execute_result",
          "data": {
            "text/html": [
              "<div>\n",
              "<style scoped>\n",
              "    .dataframe tbody tr th:only-of-type {\n",
              "        vertical-align: middle;\n",
              "    }\n",
              "\n",
              "    .dataframe tbody tr th {\n",
              "        vertical-align: top;\n",
              "    }\n",
              "\n",
              "    .dataframe thead th {\n",
              "        text-align: right;\n",
              "    }\n",
              "</style>\n",
              "<table border=\"1\" class=\"dataframe\">\n",
              "  <thead>\n",
              "    <tr style=\"text-align: right;\">\n",
              "      <th></th>\n",
              "      <th>0</th>\n",
              "      <th>1</th>\n",
              "      <th>2</th>\n",
              "      <th>3</th>\n",
              "      <th>4</th>\n",
              "      <th>5</th>\n",
              "      <th>6</th>\n",
              "      <th>7</th>\n",
              "      <th>8</th>\n",
              "      <th>9</th>\n",
              "    </tr>\n",
              "  </thead>\n",
              "  <tbody>\n",
              "    <tr>\n",
              "      <th>0</th>\n",
              "      <td>camera</td>\n",
              "      <td>quality</td>\n",
              "      <td>display</td>\n",
              "      <td>everything</td>\n",
              "      <td>camera quality</td>\n",
              "      <td>problem</td>\n",
              "      <td>time</td>\n",
              "      <td>pubg</td>\n",
              "      <td>screen</td>\n",
              "      <td>look</td>\n",
              "    </tr>\n",
              "    <tr>\n",
              "      <th>1</th>\n",
              "      <td>awesome</td>\n",
              "      <td>battery</td>\n",
              "      <td>issue</td>\n",
              "      <td>backup</td>\n",
              "      <td>battery backup</td>\n",
              "      <td>word</td>\n",
              "      <td>life</td>\n",
              "      <td>camera battery</td>\n",
              "      <td>heating</td>\n",
              "      <td>update</td>\n",
              "    </tr>\n",
              "  </tbody>\n",
              "</table>\n",
              "</div>"
            ],
            "text/plain": [
              "         0        1        2           3  ...     6               7        8       9\n",
              "0   camera  quality  display  everything  ...  time            pubg   screen    look\n",
              "1  awesome  battery    issue      backup  ...  life  camera battery  heating  update\n",
              "\n",
              "[2 rows x 10 columns]"
            ]
          },
          "metadata": {
            "tags": []
          },
          "execution_count": 41
        }
      ]
    },
    {
      "cell_type": "code",
      "metadata": {
        "id": "MqQUHAZyZoD6",
        "colab_type": "code",
        "colab": {}
      },
      "source": [
        "data.to_csv(\"mi7830_preprocess.csv\",index=False)"
      ],
      "execution_count": 42,
      "outputs": []
    }
  ]
}